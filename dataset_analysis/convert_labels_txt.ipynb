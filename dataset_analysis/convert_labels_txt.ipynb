{
 "cells": [
  {
   "cell_type": "code",
   "execution_count": 13,
   "id": "6634d50f",
   "metadata": {},
   "outputs": [],
   "source": [
    "# simple code to convert ImageNet Text file to .csv file"
   ]
  },
  {
   "cell_type": "code",
   "execution_count": 14,
   "id": "aac1c91b",
   "metadata": {},
   "outputs": [],
   "source": [
    "ImageNet_text = \"LOC_synset_mapping.txt\""
   ]
  },
  {
   "cell_type": "code",
   "execution_count": 15,
   "id": "a1ac3334",
   "metadata": {},
   "outputs": [],
   "source": [
    "imNet_dict = {}\n",
    "\n",
    "f = open(ImageNet_text, \"r\")\n",
    "for line in f:\n",
    "    # clean and split the line\n",
    "    line = line.replace('\\n', '')\n",
    "    line = line.split(' ')\n",
    "    \n",
    "    # initialize a string to store words\n",
    "    words = ''\n",
    "    \n",
    "    # store the words in the string\n",
    "    for word in line[1:]:\n",
    "        words += word + ' '\n",
    "    \n",
    "    # add an entry to the dictionary\n",
    "    imNet_dict[line[0]] = words"
   ]
  },
  {
   "cell_type": "code",
   "execution_count": 16,
   "id": "1c642a5d",
   "metadata": {},
   "outputs": [],
   "source": [
    "import csv\n",
    "\n",
    "with open('ImageNet_labels.csv', 'w', newline=\"\") as csv_file:  \n",
    "    writer = csv.writer(csv_file)\n",
    "    for key, value in imNet_dict.items():\n",
    "        writer.writerow([key, value])"
   ]
  },
  {
   "cell_type": "code",
   "execution_count": 17,
   "id": "62a83d5d",
   "metadata": {},
   "outputs": [],
   "source": [
    "# simple code to convert MS COCO Text file to .csv file"
   ]
  },
  {
   "cell_type": "code",
   "execution_count": 18,
   "id": "c609ca27",
   "metadata": {},
   "outputs": [],
   "source": [
    "coco_text = \"coco_labels.txt\""
   ]
  },
  {
   "cell_type": "code",
   "execution_count": 19,
   "id": "bbae2af3",
   "metadata": {},
   "outputs": [],
   "source": [
    "coco_dict = {}\n",
    "\n",
    "words = []\n",
    "f = open(coco_text, \"r\")\n",
    "for line in f:\n",
    "    # clean and split the line\n",
    "    line = line.replace('\\n', '')\n",
    "    words.append(line)\n",
    "    \n",
    "    # iterate through the dictionary\n",
    "    for i in range(len(words)):\n",
    "        coco_dict[i+1] = words[i]"
   ]
  },
  {
   "cell_type": "code",
   "execution_count": 20,
   "id": "1b651eab",
   "metadata": {},
   "outputs": [],
   "source": [
    "import csv\n",
    "\n",
    "with open('ms_coco_labels.csv', 'w',  newline=\"\") as csv_file:  \n",
    "    writer = csv.writer(csv_file)\n",
    "    for key, value in coco_dict.items():\n",
    "        writer.writerow([key, value])"
   ]
  },
  {
   "cell_type": "code",
   "execution_count": 21,
   "id": "5cf71901-79ba-400e-814f-9c835b4afc2e",
   "metadata": {},
   "outputs": [],
   "source": [
    "# Simple code to convert manually mapped .csv file to two lists of information"
   ]
  },
  {
   "cell_type": "code",
   "execution_count": 22,
   "id": "db33648a-49b1-475b-b789-91aaf2ac78e1",
   "metadata": {},
   "outputs": [],
   "source": [
    "label_file = \"ImageNet_labels_simple.csv\""
   ]
  },
  {
   "cell_type": "code",
   "execution_count": 23,
   "id": "9019e5ae-c1cd-4ed7-842d-ddc4fb72f14d",
   "metadata": {},
   "outputs": [],
   "source": [
    "import pandas as pd\n",
    "df = pd.read_csv(label_file)"
   ]
  },
  {
   "cell_type": "code",
   "execution_count": 24,
   "id": "aaba1a84-2567-4356-ad78-db298f0507ef",
   "metadata": {},
   "outputs": [],
   "source": [
    "coco_labels_list = []\n",
    "imagenet_map_list = []\n",
    "\n",
    "coco_map_dict = {}\n",
    "for _, row in df.iterrows():\n",
    "    # convert the row to a list\n",
    "    row_list = row.values.flatten().tolist()\n",
    "    \n",
    "    # clean the list\n",
    "    clean_list = []\n",
    "    for element in row_list[2:]:\n",
    "        if element == element:\n",
    "            clean_list.append(element)\n",
    "            \n",
    "    # convert a populated list to a dictionary:\n",
    "    mapping_dict = {}\n",
    "    if len(clean_list) != 0:\n",
    "        values = []\n",
    "        keys = []\n",
    "        for item in clean_list:\n",
    "            if clean_list.index(item) % 2 == 0:\n",
    "                keys.append(item)\n",
    "            else: \n",
    "                values.append(item)\n",
    "\n",
    "        for i in range(len(values)):\n",
    "            mapping_dict[keys[i]] = values[i]\n",
    "        \n",
    "    # append the mapped dictionary\n",
    "    if row[\"coco_lable\"] == row[\"coco_lable\"]:\n",
    "        coco_labels_list.append(row[\"coco_lable\"])\n",
    "        imagenet_map_list.append(mapping_dict)"
   ]
  },
  {
   "cell_type": "code",
   "execution_count": 30,
   "id": "3261a8b9-4d5a-4bc9-81f9-a35dd0f2ad39",
   "metadata": {},
   "outputs": [
    {
     "data": {
      "text/plain": "[{},\n {'n02835271': 'bicycle-built-for-two, tandem bicycle, tandem ',\n  'n03792782': 'mountain bike, all-terrain bike, off-roader '},\n {},\n {},\n {'n02690373': 'airliner ', 'n04552348': 'warplane, military plane '},\n {},\n {},\n {},\n {},\n {},\n {},\n {},\n {'n03891332': 'parking meter '},\n {'n03891251': 'park bench '},\n {'n01560419': 'bulbul ',\n  'n01580077': 'jay ',\n  'n01582220': 'magpie ',\n  'n01592084': 'chickadee ',\n  'n01601694': 'water ouzel, dipper ',\n  'n01531178': 'goldfinch, Carduelis carduelis ',\n  'n01532829': 'house finch, linnet, Carpodacus mexicanus ',\n  'n01534433': 'junco, snowbird ',\n  'n01537544': 'indigo bunting, indigo finch, indigo bird, Passerina cyanea ',\n  'n01558993': 'robin, American robin, Turdus migratorius ',\n  'n01795545': 'black grouse ',\n  'n01796340': 'ptarmigan ',\n  'n01797886': 'ruffed grouse, partridge, Bonasa umbellus ',\n  'n01798484': 'prairie chicken, prairie grouse, prairie fowl ',\n  'n01806143': 'peacock ',\n  'n01806567': 'quail ',\n  'n01807496': 'partridge ',\n  'n01817953': 'African grey, African gray, Psittacus erithacus ',\n  'n01818515': 'macaw ',\n  'n01819313': 'sulphur-crested cockatoo, Kakatoe galerita, Cacatua galerita ',\n  'n01820546': 'lorikeet ',\n  'n01824575': 'coucal ',\n  'n01828970': 'bee eater ',\n  'n01829413': 'hornbill ',\n  'n01833805': 'hummingbird ',\n  'n01843065': 'jacamar ',\n  'n01843383': 'toucan ',\n  'n01847000': 'drake ',\n  'n01855032': 'red-breasted merganser, Mergus serrator ',\n  'n01855672': 'goose ',\n  'n01860187': 'black swan, Cygnus atratus ',\n  'n02002556': 'white stork, Ciconia ciconia ',\n  'n02002724': 'black stork, Ciconia nigra ',\n  'n02006656': 'spoonbill ',\n  'n02007558': 'flamingo ',\n  'n02009229': 'little blue heron, Egretta caerulea ',\n  'n02009912': 'American egret, great white heron, Egretta albus ',\n  'n02011460': 'bittern ',\n  'n02012849': 'crane ',\n  'n02013706': 'limpkin, Aramus pictus ',\n  'n02017213': 'European gallinule, Porphyrio porphyrio ',\n  'n02018207': 'American coot, marsh hen, mud hen, water hen, Fulica americana ',\n  'n02018795': 'bustard ',\n  'n02025239': 'ruddy turnstone, Arenaria interpres ',\n  'n01608432': 'kite ',\n  'n01622779': 'great grey owl, great gray owl, Strix nebulosa ',\n  'n01614925': 'bald eagle, American eagle, Haliaeetus leucocephalus ',\n  'n01530575': 'brambling, Fringilla montifringilla ',\n  'n01616318': 'vulture ',\n  'n01518878': 'ostrich, Struthio camelus ',\n  'n01514859': 'hen ',\n  'n01514668': 'cock ',\n  'n02056570': 'king penguin, Aptenodytes patagonica ',\n  'n02051845': 'pelican ',\n  'n02033041': 'dowitcher ',\n  'n02037110': 'oystercatcher, oyster catcher ',\n  'n02058221': 'albatross, mollymawk '},\n {},\n {'n02085936': 'Maltese dog, Maltese terrier, Maltese ',\n  'n02085620': 'Chihuahua ',\n  'n02085782': 'Japanese spaniel ',\n  'n02086079': 'Pekinese, Pekingese, Peke ',\n  'n02086240': 'Shih-Tzu ',\n  'n02086646': 'Blenheim spaniel ',\n  'n02086910': 'papillon ',\n  'n02087046': 'toy terrier ',\n  'n02087394': 'Rhodesian ridgeback ',\n  'n02095889': 'Sealyham terrier, Sealyham ',\n  'n02088364': 'beagle ',\n  'n02088094': 'Afghan hound, Afghan ',\n  'n02088238': 'basset, basset hound ',\n  'n02088466': 'bloodhound, sleuthhound ',\n  'n02088632': 'bluetick ',\n  'n02089078': 'black-and-tan coonhound ',\n  'n02089867': 'Walker hound, Walker foxhound ',\n  'n02089973': 'English foxhound ',\n  'n02090379': 'redbone ',\n  'n02095570': 'Lakeland terrier ',\n  'n02090721': 'Irish wolfhound ',\n  'n02090622': 'borzoi, Russian wolfhound ',\n  'n02091032': 'Italian greyhound ',\n  'n02091134': 'whippet ',\n  'n02091244': 'Ibizan hound, Ibizan Podenco ',\n  'n02091467': 'Norwegian elkhound, elkhound ',\n  'n02091635': 'otterhound, otter hound ',\n  'n02091831': 'Saluki, gazelle hound ',\n  'n02092002': 'Scottish deerhound, deerhound ',\n  'n02095314': 'wire-haired fox terrier ',\n  'n02092339': 'Weimaraner ',\n  'n02093256': 'Staffordshire bullterrier, Staffordshire bull terrier ',\n  'n02093428': 'American Staffordshire terrier, Staffordshire terrier, American pit bull terrier, pit bull terrier ',\n  'n02093647': 'Bedlington terrier ',\n  'n02093754': 'Border terrier ',\n  'n02093859': 'Kerry blue terrier ',\n  'n02093991': 'Irish terrier ',\n  'n02094114': 'Norfolk terrier ',\n  'n02094258': 'Norwich terrier ',\n  'n02094433': 'Yorkshire terrier ',\n  'n02096051': 'Airedale, Airedale terrier ',\n  'n02096177': 'cairn, cairn terrier ',\n  'n02096294': 'Australian terrier ',\n  'n02096437': 'Dandie Dinmont, Dandie Dinmont terrier ',\n  'n02096585': 'Boston bull, Boston terrier ',\n  'n02097047': 'miniature schnauzer ',\n  'n02097130': 'giant schnauzer ',\n  'n02097209': 'standard schnauzer ',\n  'n02097298': 'Scotch terrier, Scottish terrier, Scottie ',\n  'n02097474': 'Tibetan terrier, chrysanthemum dog ',\n  'n02098105': 'soft-coated wheaten terrier ',\n  'n02097658': 'silky terrier, Sydney silky ',\n  'n02098286': 'West Highland white terrier ',\n  'n02098413': 'Lhasa, Lhasa apso ',\n  'n02099267': 'flat-coated retriever ',\n  'n02099429': 'curly-coated retriever ',\n  'n02099601': 'golden retriever ',\n  'n02099712': 'Labrador retriever ',\n  'n02099849': 'Chesapeake Bay retriever ',\n  'n02100236': 'German short-haired pointer ',\n  'n02106550': 'Rottweiler ',\n  'n02106662': 'German shepherd, German shepherd dog, German police dog, alsatian ',\n  'n02107142': 'Doberman, Doberman pinscher ',\n  'n02107312': 'miniature pinscher ',\n  'n02100735': 'English setter ',\n  'n02100583': 'vizsla, Hungarian pointer ',\n  'n02100877': 'Irish setter, red setter ',\n  'n02101006': 'Gordon setter ',\n  'n02101388': 'Brittany spaniel ',\n  'n02101556': 'clumber, clumber spaniel ',\n  'n02102040': 'English springer, English springer spaniel ',\n  'n02102177': 'Welsh springer spaniel ',\n  'n02102318': 'cocker spaniel, English cocker spaniel, cocker ',\n  'n02102480': 'Sussex spaniel ',\n  'n02104029': 'kuvasz ',\n  'n02102973': 'Irish water spaniel ',\n  'n02104365': 'schipperke ',\n  'n02105056': 'groenendael ',\n  'n02105162': 'malinois ',\n  'n02105251': 'briard ',\n  'n02105412': 'kelpie ',\n  'n02105505': 'komondor ',\n  'n02105641': 'Old English sheepdog, bobtail ',\n  'n02105855': 'Shetland sheepdog, Shetland sheep dog, Shetland ',\n  'n02114367': 'timber wolf, grey wolf, gray wolf, Canis lupus ',\n  'n02113023': 'Pembroke, Pembroke Welsh corgi ',\n  'n02113186': 'Cardigan, Cardigan Welsh corgi ',\n  'n02113624': 'toy poodle ',\n  'n02113712': 'miniature poodle ',\n  'n02113799': 'standard poodle ',\n  'n02113978': 'Mexican hairless ',\n  'n02110627': 'affenpinscher, monkey pinscher, monkey dog ',\n  'n02110806': 'basenji ',\n  'n02111129': 'Leonberg ',\n  'n02111277': 'Newfoundland, Newfoundland dog ',\n  'n02109047': 'Great Dane ',\n  'n02109525': 'Saint Bernard, St Bernard ',\n  'n02108915': 'French bulldog ',\n  'n02108551': 'Tibetan mastiff ',\n  'n02108422': 'bull mastiff ',\n  'n02108089': 'boxer ',\n  'n02108000': 'EntleBucher ',\n  'n02107908': 'Appenzeller ',\n  'n02107574': 'Greater Swiss Mountain dog ',\n  'n02106030': 'collie ',\n  'n02109961': 'Eskimo dog, husky ',\n  'n02110063': 'malamute, malemute, Alaskan malamute ',\n  'n02110185': 'Siberian husky ',\n  'n02110341': 'dalmatian, coach dog, carriage dog ',\n  'n02110958': 'pug, pug-dog ',\n  'n02111500': 'Great Pyrenees ',\n  'n02111889': 'Samoyed, Samoyede ',\n  'n02112018': 'Pomeranian ',\n  'n02107683': 'Bernese mountain dog ',\n  'n02106166': 'Border collie ',\n  'n02116738': 'African hunting dog, hyena dog, Cape hunting dog, Lycaon pictus ',\n  'n02112137': 'chow, chow chow ',\n  'n02115913': 'dhole, Cuon alpinus ',\n  'n02112350': 'keeshond ',\n  'n02112706': 'Brabancon griffon ',\n  'n02115641': 'dingo, warrigal, warragal, Canis dingo ',\n  'n02114855': 'coyote, prairie wolf, brush wolf, Canis latrans ',\n  'n02114712': 'red wolf, maned wolf, Canis rufus, Canis niger ',\n  'n02114548': 'white wolf, Arctic wolf, Canis lupus tundrarum ',\n  'n02106382': 'Bouvier des Flandres, Bouviers des Flandres '},\n {},\n {},\n {},\n {},\n {},\n {'n02391049': 'zebra '},\n {},\n {},\n {},\n {},\n {},\n {},\n {},\n {},\n {},\n {'n02799071': 'baseball ',\n  'n02802426': 'basketball ',\n  'n03134739': 'croquet ball ',\n  'n03445777': 'golf ball ',\n  'n03942813': 'ping-pong ball ',\n  'n04118538': 'rugby ball ',\n  'n04254680': 'soccer ball ',\n  'n04409515': 'tennis ball ',\n  'n04540053': 'volleyball '},\n {},\n {},\n {},\n {},\n {},\n {},\n {},\n {},\n {},\n {},\n {},\n {},\n {},\n {},\n {},\n {},\n {},\n {},\n {},\n {},\n {},\n {},\n {},\n {},\n {},\n {'n03991062': 'pot, flowerpot '},\n {},\n {},\n {},\n {},\n {},\n {'n03793489': 'mouse, computer mouse '},\n {},\n {},\n {},\n {'n03761084': 'microwave, microwave oven '},\n {},\n {'n04442312': 'toaster '},\n {},\n {},\n {},\n {'n02708093': 'analog clock ',\n  'n03196217': 'digital clock ',\n  'n03197337': 'digital watch ',\n  'n04548280': 'wall clock '},\n {'n04522168': 'vase '},\n {},\n {},\n {},\n {},\n {'n01675722': 'banded gecko ',\n  'n01677366': 'common iguana, iguana, Iguana iguana ',\n  'n01682714': 'American chameleon, anole, Anolis carolinensis ',\n  'n01685808': 'whiptail, whiptail lizard ',\n  'n01695060': 'Komodo dragon, Komodo lizard, dragon lizard, giant lizard, Varanus komodoensis ',\n  'n01694178': 'African chameleon, Chamaeleo chamaeleon ',\n  'n01693334': 'green lizard, Lacerta viridis ',\n  'n01692333': 'Gila monster, Heloderma suspectum ',\n  'n01689811': 'alligator lizard ',\n  'n01688243': 'frilled lizard, Chlamydosaurus kingi ',\n  'n01687978': 'agama ',\n  'n01629819': 'European fire salamander, Salamandra salamandra ',\n  'n01630670': 'common newt, Triturus vulgaris ',\n  'n01631663': 'eft ',\n  'n01632458': 'spotted salamander, Ambystoma maculatum ',\n  'n01632777': 'axolotl, mud puppy, Ambystoma mexicanum '},\n {'n01664065': 'loggerhead, loggerhead turtle, Caretta caretta ',\n  'n01665541': 'leatherback turtle, leatherback, leathery turtle, Dermochelys coriacea ',\n  'n01667114': 'mud turtle ',\n  'n01667778': 'terrapin ',\n  'n01669191': 'box turtle, box tortoise '},\n {'n03388183': 'fountain pen ',\n  'n02783161': 'ballpoint, ballpoint pen, ballpen, Biro '},\n {'n03124170': 'cowboy hat, ten-gallon hat '},\n {'n04389033': 'tank, army tank, armored combat vehicle, armoured combat vehicle '}]"
     },
     "execution_count": 30,
     "metadata": {},
     "output_type": "execute_result"
    }
   ],
   "source": [
    "imagenet_map_list"
   ]
  },
  {
   "cell_type": "code",
   "execution_count": 26,
   "id": "2d63a2d4-e4fe-4e8c-8ddc-fb241677b201",
   "metadata": {},
   "outputs": [],
   "source": [
    "# imagenet_map_list"
   ]
  },
  {
   "cell_type": "code",
   "execution_count": 27,
   "id": "156b8e15-5c87-4283-a091-188ffdbb548e",
   "metadata": {},
   "outputs": [],
   "source": [
    "final_mapping = []\n",
    "for i in range(len(coco_labels_list)):\n",
    "    class_list = list(imagenet_map_list[i].keys())\n",
    "    class_map = {c: coco_labels_list[i] for c in class_list}\n",
    "    final_mapping.append(class_map)"
   ]
  },
  {
   "cell_type": "code",
   "execution_count": 28,
   "id": "e10b47f6-668d-4507-9eac-94fb4473826f",
   "metadata": {},
   "outputs": [
    {
     "data": {
      "text/plain": "[{},\n {'n02835271': 'bicycle', 'n03792782': 'bicycle'},\n {},\n {},\n {'n02690373': 'airplane', 'n04552348': 'airplane'},\n {},\n {},\n {},\n {},\n {},\n {},\n {},\n {'n03891332': 'parking meter'},\n {'n03891251': 'bench'},\n {'n01560419': 'bird',\n  'n01580077': 'bird',\n  'n01582220': 'bird',\n  'n01592084': 'bird',\n  'n01601694': 'bird',\n  'n01531178': 'bird',\n  'n01532829': 'bird',\n  'n01534433': 'bird',\n  'n01537544': 'bird',\n  'n01558993': 'bird',\n  'n01795545': 'bird',\n  'n01796340': 'bird',\n  'n01797886': 'bird',\n  'n01798484': 'bird',\n  'n01806143': 'bird',\n  'n01806567': 'bird',\n  'n01807496': 'bird',\n  'n01817953': 'bird',\n  'n01818515': 'bird',\n  'n01819313': 'bird',\n  'n01820546': 'bird',\n  'n01824575': 'bird',\n  'n01828970': 'bird',\n  'n01829413': 'bird',\n  'n01833805': 'bird',\n  'n01843065': 'bird',\n  'n01843383': 'bird',\n  'n01847000': 'bird',\n  'n01855032': 'bird',\n  'n01855672': 'bird',\n  'n01860187': 'bird',\n  'n02002556': 'bird',\n  'n02002724': 'bird',\n  'n02006656': 'bird',\n  'n02007558': 'bird',\n  'n02009229': 'bird',\n  'n02009912': 'bird',\n  'n02011460': 'bird',\n  'n02012849': 'bird',\n  'n02013706': 'bird',\n  'n02017213': 'bird',\n  'n02018207': 'bird',\n  'n02018795': 'bird',\n  'n02025239': 'bird',\n  'n01608432': 'bird',\n  'n01622779': 'bird',\n  'n01614925': 'bird',\n  'n01530575': 'bird',\n  'n01616318': 'bird',\n  'n01518878': 'bird',\n  'n01514859': 'bird',\n  'n01514668': 'bird',\n  'n02056570': 'bird',\n  'n02051845': 'bird',\n  'n02033041': 'bird',\n  'n02037110': 'bird',\n  'n02058221': 'bird'},\n {},\n {'n02085936': 'dog',\n  'n02085620': 'dog',\n  'n02085782': 'dog',\n  'n02086079': 'dog',\n  'n02086240': 'dog',\n  'n02086646': 'dog',\n  'n02086910': 'dog',\n  'n02087046': 'dog',\n  'n02087394': 'dog',\n  'n02095889': 'dog',\n  'n02088364': 'dog',\n  'n02088094': 'dog',\n  'n02088238': 'dog',\n  'n02088466': 'dog',\n  'n02088632': 'dog',\n  'n02089078': 'dog',\n  'n02089867': 'dog',\n  'n02089973': 'dog',\n  'n02090379': 'dog',\n  'n02095570': 'dog',\n  'n02090721': 'dog',\n  'n02090622': 'dog',\n  'n02091032': 'dog',\n  'n02091134': 'dog',\n  'n02091244': 'dog',\n  'n02091467': 'dog',\n  'n02091635': 'dog',\n  'n02091831': 'dog',\n  'n02092002': 'dog',\n  'n02095314': 'dog',\n  'n02092339': 'dog',\n  'n02093256': 'dog',\n  'n02093428': 'dog',\n  'n02093647': 'dog',\n  'n02093754': 'dog',\n  'n02093859': 'dog',\n  'n02093991': 'dog',\n  'n02094114': 'dog',\n  'n02094258': 'dog',\n  'n02094433': 'dog',\n  'n02096051': 'dog',\n  'n02096177': 'dog',\n  'n02096294': 'dog',\n  'n02096437': 'dog',\n  'n02096585': 'dog',\n  'n02097047': 'dog',\n  'n02097130': 'dog',\n  'n02097209': 'dog',\n  'n02097298': 'dog',\n  'n02097474': 'dog',\n  'n02098105': 'dog',\n  'n02097658': 'dog',\n  'n02098286': 'dog',\n  'n02098413': 'dog',\n  'n02099267': 'dog',\n  'n02099429': 'dog',\n  'n02099601': 'dog',\n  'n02099712': 'dog',\n  'n02099849': 'dog',\n  'n02100236': 'dog',\n  'n02106550': 'dog',\n  'n02106662': 'dog',\n  'n02107142': 'dog',\n  'n02107312': 'dog',\n  'n02100735': 'dog',\n  'n02100583': 'dog',\n  'n02100877': 'dog',\n  'n02101006': 'dog',\n  'n02101388': 'dog',\n  'n02101556': 'dog',\n  'n02102040': 'dog',\n  'n02102177': 'dog',\n  'n02102318': 'dog',\n  'n02102480': 'dog',\n  'n02104029': 'dog',\n  'n02102973': 'dog',\n  'n02104365': 'dog',\n  'n02105056': 'dog',\n  'n02105162': 'dog',\n  'n02105251': 'dog',\n  'n02105412': 'dog',\n  'n02105505': 'dog',\n  'n02105641': 'dog',\n  'n02105855': 'dog',\n  'n02114367': 'dog',\n  'n02113023': 'dog',\n  'n02113186': 'dog',\n  'n02113624': 'dog',\n  'n02113712': 'dog',\n  'n02113799': 'dog',\n  'n02113978': 'dog',\n  'n02110627': 'dog',\n  'n02110806': 'dog',\n  'n02111129': 'dog',\n  'n02111277': 'dog',\n  'n02109047': 'dog',\n  'n02109525': 'dog',\n  'n02108915': 'dog',\n  'n02108551': 'dog',\n  'n02108422': 'dog',\n  'n02108089': 'dog',\n  'n02108000': 'dog',\n  'n02107908': 'dog',\n  'n02107574': 'dog',\n  'n02106030': 'dog',\n  'n02109961': 'dog',\n  'n02110063': 'dog',\n  'n02110185': 'dog',\n  'n02110341': 'dog',\n  'n02110958': 'dog',\n  'n02111500': 'dog',\n  'n02111889': 'dog',\n  'n02112018': 'dog',\n  'n02107683': 'dog',\n  'n02106166': 'dog',\n  'n02116738': 'dog',\n  'n02112137': 'dog',\n  'n02115913': 'dog',\n  'n02112350': 'dog',\n  'n02112706': 'dog',\n  'n02115641': 'dog',\n  'n02114855': 'dog',\n  'n02114712': 'dog',\n  'n02114548': 'dog',\n  'n02106382': 'dog'},\n {},\n {},\n {},\n {},\n {},\n {'n02391049': 'zebra'},\n {},\n {},\n {},\n {},\n {},\n {},\n {},\n {},\n {},\n {'n02799071': 'sports ball',\n  'n02802426': 'sports ball',\n  'n03134739': 'sports ball',\n  'n03445777': 'sports ball',\n  'n03942813': 'sports ball',\n  'n04118538': 'sports ball',\n  'n04254680': 'sports ball',\n  'n04409515': 'sports ball',\n  'n04540053': 'sports ball'},\n {},\n {},\n {},\n {},\n {},\n {},\n {},\n {},\n {},\n {},\n {},\n {},\n {},\n {},\n {},\n {},\n {},\n {},\n {},\n {},\n {},\n {},\n {},\n {},\n {},\n {'n03991062': 'potted plant'},\n {},\n {},\n {},\n {},\n {},\n {'n03793489': 'mouse'},\n {},\n {},\n {},\n {'n03761084': 'microwave'},\n {},\n {'n04442312': 'toaster'},\n {},\n {},\n {},\n {'n02708093': 'clock',\n  'n03196217': 'clock',\n  'n03197337': 'clock',\n  'n04548280': 'clock'},\n {'n04522168': 'vase'},\n {},\n {},\n {},\n {},\n {'n01675722': 'lizard',\n  'n01677366': 'lizard',\n  'n01682714': 'lizard',\n  'n01685808': 'lizard',\n  'n01695060': 'lizard',\n  'n01694178': 'lizard',\n  'n01693334': 'lizard',\n  'n01692333': 'lizard',\n  'n01689811': 'lizard',\n  'n01688243': 'lizard',\n  'n01687978': 'lizard',\n  'n01629819': 'lizard',\n  'n01630670': 'lizard',\n  'n01631663': 'lizard',\n  'n01632458': 'lizard',\n  'n01632777': 'lizard'},\n {'n01664065': 'turtle',\n  'n01665541': 'turtle',\n  'n01667114': 'turtle',\n  'n01667778': 'turtle',\n  'n01669191': 'turtle'},\n {'n03388183': 'pen', 'n02783161': 'pen'},\n {'n03124170': 'cowboy hat'},\n {'n04389033': 'tank'}]"
     },
     "execution_count": 28,
     "metadata": {},
     "output_type": "execute_result"
    }
   ],
   "source": [
    "final_mapping"
   ]
  },
  {
   "cell_type": "code",
   "execution_count": 29,
   "id": "72d64356-deb7-4b08-83f5-56128e876d7d",
   "metadata": {},
   "outputs": [],
   "source": [
    "# # map labels to single vehicle class\n",
    "# vehicle_list = ['car', 'bus', 'truck']\n",
    "# vehicles_map = {c: \"vehicle\" for c in vehicle_list}\n",
    "#\n",
    "# train_map_view = train_view.map_labels(\"ground_truth\", vehicles_map)\n",
    "# test_map_view = test_view.map_labels(\"ground_truth\", vehicles_map)\n",
    "#\n",
    "# # use our dataset and defined transformations\n",
    "# torch_map_dataset = FiftyOneTorchDataset(train_map_view, train_transforms)\n",
    "# torch_map_dataset_test = FiftyOneTorchDataset(test_map_view, test_transforms)"
   ]
  },
  {
   "cell_type": "code",
   "execution_count": 31,
   "id": "95a20879-b3dc-4474-b99c-30d28bea132a",
   "metadata": {},
   "outputs": [],
   "source": [
    "all_classes_map = {}\n",
    "for dic in final_mapping:\n",
    "    all_classes_map.update(dic)"
   ]
  },
  {
   "cell_type": "code",
   "execution_count": 32,
   "outputs": [
    {
     "data": {
      "text/plain": "{'n02835271': 'bicycle',\n 'n03792782': 'bicycle',\n 'n02690373': 'airplane',\n 'n04552348': 'airplane',\n 'n03891332': 'parking meter',\n 'n03891251': 'bench',\n 'n01560419': 'bird',\n 'n01580077': 'bird',\n 'n01582220': 'bird',\n 'n01592084': 'bird',\n 'n01601694': 'bird',\n 'n01531178': 'bird',\n 'n01532829': 'bird',\n 'n01534433': 'bird',\n 'n01537544': 'bird',\n 'n01558993': 'bird',\n 'n01795545': 'bird',\n 'n01796340': 'bird',\n 'n01797886': 'bird',\n 'n01798484': 'bird',\n 'n01806143': 'bird',\n 'n01806567': 'bird',\n 'n01807496': 'bird',\n 'n01817953': 'bird',\n 'n01818515': 'bird',\n 'n01819313': 'bird',\n 'n01820546': 'bird',\n 'n01824575': 'bird',\n 'n01828970': 'bird',\n 'n01829413': 'bird',\n 'n01833805': 'bird',\n 'n01843065': 'bird',\n 'n01843383': 'bird',\n 'n01847000': 'bird',\n 'n01855032': 'bird',\n 'n01855672': 'bird',\n 'n01860187': 'bird',\n 'n02002556': 'bird',\n 'n02002724': 'bird',\n 'n02006656': 'bird',\n 'n02007558': 'bird',\n 'n02009229': 'bird',\n 'n02009912': 'bird',\n 'n02011460': 'bird',\n 'n02012849': 'bird',\n 'n02013706': 'bird',\n 'n02017213': 'bird',\n 'n02018207': 'bird',\n 'n02018795': 'bird',\n 'n02025239': 'bird',\n 'n01608432': 'bird',\n 'n01622779': 'bird',\n 'n01614925': 'bird',\n 'n01530575': 'bird',\n 'n01616318': 'bird',\n 'n01518878': 'bird',\n 'n01514859': 'bird',\n 'n01514668': 'bird',\n 'n02056570': 'bird',\n 'n02051845': 'bird',\n 'n02033041': 'bird',\n 'n02037110': 'bird',\n 'n02058221': 'bird',\n 'n02085936': 'dog',\n 'n02085620': 'dog',\n 'n02085782': 'dog',\n 'n02086079': 'dog',\n 'n02086240': 'dog',\n 'n02086646': 'dog',\n 'n02086910': 'dog',\n 'n02087046': 'dog',\n 'n02087394': 'dog',\n 'n02095889': 'dog',\n 'n02088364': 'dog',\n 'n02088094': 'dog',\n 'n02088238': 'dog',\n 'n02088466': 'dog',\n 'n02088632': 'dog',\n 'n02089078': 'dog',\n 'n02089867': 'dog',\n 'n02089973': 'dog',\n 'n02090379': 'dog',\n 'n02095570': 'dog',\n 'n02090721': 'dog',\n 'n02090622': 'dog',\n 'n02091032': 'dog',\n 'n02091134': 'dog',\n 'n02091244': 'dog',\n 'n02091467': 'dog',\n 'n02091635': 'dog',\n 'n02091831': 'dog',\n 'n02092002': 'dog',\n 'n02095314': 'dog',\n 'n02092339': 'dog',\n 'n02093256': 'dog',\n 'n02093428': 'dog',\n 'n02093647': 'dog',\n 'n02093754': 'dog',\n 'n02093859': 'dog',\n 'n02093991': 'dog',\n 'n02094114': 'dog',\n 'n02094258': 'dog',\n 'n02094433': 'dog',\n 'n02096051': 'dog',\n 'n02096177': 'dog',\n 'n02096294': 'dog',\n 'n02096437': 'dog',\n 'n02096585': 'dog',\n 'n02097047': 'dog',\n 'n02097130': 'dog',\n 'n02097209': 'dog',\n 'n02097298': 'dog',\n 'n02097474': 'dog',\n 'n02098105': 'dog',\n 'n02097658': 'dog',\n 'n02098286': 'dog',\n 'n02098413': 'dog',\n 'n02099267': 'dog',\n 'n02099429': 'dog',\n 'n02099601': 'dog',\n 'n02099712': 'dog',\n 'n02099849': 'dog',\n 'n02100236': 'dog',\n 'n02106550': 'dog',\n 'n02106662': 'dog',\n 'n02107142': 'dog',\n 'n02107312': 'dog',\n 'n02100735': 'dog',\n 'n02100583': 'dog',\n 'n02100877': 'dog',\n 'n02101006': 'dog',\n 'n02101388': 'dog',\n 'n02101556': 'dog',\n 'n02102040': 'dog',\n 'n02102177': 'dog',\n 'n02102318': 'dog',\n 'n02102480': 'dog',\n 'n02104029': 'dog',\n 'n02102973': 'dog',\n 'n02104365': 'dog',\n 'n02105056': 'dog',\n 'n02105162': 'dog',\n 'n02105251': 'dog',\n 'n02105412': 'dog',\n 'n02105505': 'dog',\n 'n02105641': 'dog',\n 'n02105855': 'dog',\n 'n02114367': 'dog',\n 'n02113023': 'dog',\n 'n02113186': 'dog',\n 'n02113624': 'dog',\n 'n02113712': 'dog',\n 'n02113799': 'dog',\n 'n02113978': 'dog',\n 'n02110627': 'dog',\n 'n02110806': 'dog',\n 'n02111129': 'dog',\n 'n02111277': 'dog',\n 'n02109047': 'dog',\n 'n02109525': 'dog',\n 'n02108915': 'dog',\n 'n02108551': 'dog',\n 'n02108422': 'dog',\n 'n02108089': 'dog',\n 'n02108000': 'dog',\n 'n02107908': 'dog',\n 'n02107574': 'dog',\n 'n02106030': 'dog',\n 'n02109961': 'dog',\n 'n02110063': 'dog',\n 'n02110185': 'dog',\n 'n02110341': 'dog',\n 'n02110958': 'dog',\n 'n02111500': 'dog',\n 'n02111889': 'dog',\n 'n02112018': 'dog',\n 'n02107683': 'dog',\n 'n02106166': 'dog',\n 'n02116738': 'dog',\n 'n02112137': 'dog',\n 'n02115913': 'dog',\n 'n02112350': 'dog',\n 'n02112706': 'dog',\n 'n02115641': 'dog',\n 'n02114855': 'dog',\n 'n02114712': 'dog',\n 'n02114548': 'dog',\n 'n02106382': 'dog',\n 'n02391049': 'zebra',\n 'n02799071': 'sports ball',\n 'n02802426': 'sports ball',\n 'n03134739': 'sports ball',\n 'n03445777': 'sports ball',\n 'n03942813': 'sports ball',\n 'n04118538': 'sports ball',\n 'n04254680': 'sports ball',\n 'n04409515': 'sports ball',\n 'n04540053': 'sports ball',\n 'n03991062': 'potted plant',\n 'n03793489': 'mouse',\n 'n03761084': 'microwave',\n 'n04442312': 'toaster',\n 'n02708093': 'clock',\n 'n03196217': 'clock',\n 'n03197337': 'clock',\n 'n04548280': 'clock',\n 'n04522168': 'vase',\n 'n01675722': 'lizard',\n 'n01677366': 'lizard',\n 'n01682714': 'lizard',\n 'n01685808': 'lizard',\n 'n01695060': 'lizard',\n 'n01694178': 'lizard',\n 'n01693334': 'lizard',\n 'n01692333': 'lizard',\n 'n01689811': 'lizard',\n 'n01688243': 'lizard',\n 'n01687978': 'lizard',\n 'n01629819': 'lizard',\n 'n01630670': 'lizard',\n 'n01631663': 'lizard',\n 'n01632458': 'lizard',\n 'n01632777': 'lizard',\n 'n01664065': 'turtle',\n 'n01665541': 'turtle',\n 'n01667114': 'turtle',\n 'n01667778': 'turtle',\n 'n01669191': 'turtle',\n 'n03388183': 'pen',\n 'n02783161': 'pen',\n 'n03124170': 'cowboy hat',\n 'n04389033': 'tank'}"
     },
     "execution_count": 32,
     "metadata": {},
     "output_type": "execute_result"
    }
   ],
   "source": [
    "all_classes_map"
   ],
   "metadata": {
    "collapsed": false,
    "pycharm": {
     "name": "#%%\n"
    }
   }
  },
  {
   "cell_type": "code",
   "execution_count": 34,
   "outputs": [],
   "source": [
    "import pickle\n",
    "with open('imagenet_dict_mapping.pkl', 'wb') as f:\n",
    "    pickle.dump(all_classes_map, f)"
   ],
   "metadata": {
    "collapsed": false,
    "pycharm": {
     "name": "#%%\n"
    }
   }
  },
  {
   "cell_type": "code",
   "execution_count": null,
   "outputs": [],
   "source": [],
   "metadata": {
    "collapsed": false,
    "pycharm": {
     "name": "#%%\n"
    }
   }
  }
 ],
 "metadata": {
  "kernelspec": {
   "display_name": "torch-frcnn",
   "language": "python",
   "name": "torch-frcnn"
  },
  "language_info": {
   "codemirror_mode": {
    "name": "ipython",
    "version": 3
   },
   "file_extension": ".py",
   "mimetype": "text/x-python",
   "name": "python",
   "nbconvert_exporter": "python",
   "pygments_lexer": "ipython3",
   "version": "3.9.7"
  },
  "latex_envs": {
   "LaTeX_envs_menu_present": true,
   "autoclose": false,
   "autocomplete": true,
   "bibliofile": "biblio.bib",
   "cite_by": "apalike",
   "current_citInitial": 1,
   "eqLabelWithNumbers": true,
   "eqNumInitial": 1,
   "hotkeys": {
    "equation": "Ctrl-E",
    "itemize": "Ctrl-I"
   },
   "labels_anchors": false,
   "latex_user_defs": false,
   "report_style_numbering": false,
   "user_envs_cfg": false
  }
 },
 "nbformat": 4,
 "nbformat_minor": 5
}