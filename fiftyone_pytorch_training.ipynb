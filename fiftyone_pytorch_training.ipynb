{
 "cells": [
  {
   "cell_type": "markdown",
   "metadata": {
    "pycharm": {
     "name": "#%% md\n"
    }
   },
   "source": [
    "# Code for using FiftyOne to train a Faster RCNN on COCO data"
   ]
  },
  {
   "cell_type": "markdown",
   "metadata": {},
   "source": [
    "###  Imports"
   ]
  },
  {
   "cell_type": "code",
   "execution_count": 1,
   "metadata": {
    "pycharm": {
     "name": "#%%\n"
    }
   },
   "outputs": [
    {
     "data": {
      "text/plain": "<torch._C.Generator at 0x25db96bc8d0>"
     },
     "execution_count": 1,
     "metadata": {},
     "output_type": "execute_result"
    }
   ],
   "source": [
    "import torch\n",
    "import fiftyone as fo\n",
    "import fiftyone.zoo as foz\n",
    "import torchvision.models.detection.roi_heads\n",
    "from fiftyone import ViewField as F\n",
    "\n",
    "from dataset import FiftyOneTorchDataset, get_transforms\n",
    "from model import create_model\n",
    "from utils import add_detections\n",
    "\n",
    "from engine import train_model\n",
    "import config\n",
    "\n",
    "torch.manual_seed(1)"
   ]
  },
  {
   "cell_type": "markdown",
   "metadata": {},
   "source": [
    "### Load full dataset from model zoo"
   ]
  },
  {
   "cell_type": "code",
   "execution_count": 2,
   "metadata": {
    "colab": {
     "base_uri": "https://localhost:8080/"
    },
    "id": "5crNDNsRWdPT",
    "outputId": "4f3ff734-ca0a-4312-a811-7f84db514fac"
   },
   "outputs": [
    {
     "name": "stdout",
     "output_type": "stream",
     "text": [
      "Downloading split 'validation' to 'C:\\Users\\blain\\fiftyone\\coco-2017\\validation' if necessary\n",
      "Found annotations at 'C:\\Users\\blain\\fiftyone\\coco-2017\\raw\\instances_val2017.json'\n",
      "Images already downloaded\n",
      "Existing download of split 'validation' is sufficient\n",
      "Loading 'coco-2017' split 'validation'\n",
      " 100% |███████████████| 5000/5000 [14.7s elapsed, 0s remaining, 359.9 samples/s]      \n",
      "Dataset 'coco-2017-validation' created\n"
     ]
    },
    {
     "data": {
      "text/plain": "<IPython.lib.display.IFrame at 0x25df3e0d910>",
      "text/html": "\n        <iframe\n            width=\"100%\"\n            height=\"800\"\n            src=\"http://localhost:5151/?notebook=true&handleId=c4c4b35e-3a58-4b87-bf4d-b81ac5a02801\"\n            frameborder=\"0\"\n            allowfullscreen\n            \n        ></iframe>\n        "
     },
     "metadata": {},
     "output_type": "display_data"
    }
   ],
   "source": [
    "#Lodad in the dataset from the FiftyOne model Zoo\n",
    "fo_dataset = foz.load_zoo_dataset(\"coco-2017\", \"validation\")\n",
    "\n",
    "#needed to calculate image height and width\n",
    "fo_dataset.compute_metadata()\n",
    "\n",
    "session = fo.launch_app(fo_dataset)"
   ]
  },
  {
   "cell_type": "markdown",
   "metadata": {
    "id": "PqU6Ckq4WKHK"
   },
   "source": [
    "For example, cluttered images make it difficult for models to localize objects. We can use FiftyOne to create a view containing only samples with more than, say, 10 objects. You can perform the same operations on views as datasets, so we can create an instance of our PyTorch dataset from this view:"
   ]
  },
  {
   "cell_type": "code",
   "execution_count": 3,
   "metadata": {
    "id": "kLACOukJFUxd"
   },
   "outputs": [],
   "source": [
    "#if we want to see images with more than 10 items, we can\n",
    "# busy_view = fo_dataset.match(F(\"ground_truth.detections\").length() > 10)\n",
    "# busy_torch_dataset = FiftyOneTorchDataset(busy_view)\n",
    "# session.view = busy_view"
   ]
  },
  {
   "cell_type": "markdown",
   "metadata": {
    "id": "xKsE_7TOWXBE"
   },
   "source": [
    "### Create training and testing views (and corresponding PyTorch datasets) that only contain some items from the full dataset"
   ]
  },
  {
   "cell_type": "code",
   "execution_count": 4,
   "metadata": {
    "colab": {
     "base_uri": "https://localhost:8080/"
    },
    "id": "TELK0NWmWrMT",
    "outputId": "8bf582cf-e483-4643-8f6b-7c664a2d6c5f"
   },
   "outputs": [
    {
     "name": "stdout",
     "output_type": "stream",
     "text": [
      "Traning on 4000 samples\n",
      "Testing on 1000 samples\n"
     ]
    }
   ],
   "source": [
    "subset = False\n",
    "\n",
    "train_transforms, test_transforms = get_transforms()\n",
    "\n",
    "if subset:\n",
    "    # to filter certain items from the dataset we can\n",
    "    item_list = [\"car\", \"dog\", \"bus\", 'fork', 'tie', 'person']\n",
    "    item_list = ['bus', 'dog']\n",
    "    item_view = fo_dataset.filter_labels(\"ground_truth\",\n",
    "            F(\"label\").is_in(item_list))\n",
    "\n",
    "    #session.view = item_view\n",
    "\n",
    "    # split the dataset in train and test set\n",
    "    train_view = item_view.take((len(item_view) * config.TRAIN_TEST_SPLIT), seed=51)\n",
    "    test_view = item_view.exclude([s.id for s in train_view])\n",
    "\n",
    "else:\n",
    "    train_view = fo_dataset.take(len(fo_dataset) * config.TRAIN_TEST_SPLIT)\n",
    "    test_view = fo_dataset.exclude([s.id for s in train_view])\n",
    "    item_list = fo_dataset.distinct(\"ground_truth.detections.label\")\n",
    "\n",
    "print(f'Traning on {len(train_view)} samples')\n",
    "print(f'Testing on {len(test_view)} samples')\n",
    "\n",
    "# use our dataset and defined transformations\n",
    "train_dataset = FiftyOneTorchDataset(train_view, train_transforms,\n",
    "        classes=item_list)\n",
    "evaluation_dataset = FiftyOneTorchDataset(test_view, test_transforms,\n",
    "        classes=item_list)\n",
    "\n",
    "#this is needed for later use, but not for creating the dataset\n",
    "if item_list[0] != 'background':\n",
    "     item_list.insert(0,'background')"
   ]
  },
  {
   "cell_type": "code",
   "execution_count": 5,
   "outputs": [],
   "source": [
    "# # map labels to single vehicle class\n",
    "# vehicle_list = ['car', 'bus', 'truck']\n",
    "# vehicles_map = {c: \"vehicle\" for c in vehicle_list}\n",
    "#\n",
    "# train_map_view = train_view.map_labels(\"ground_truth\", vehicles_map)\n",
    "# test_map_view = test_view.map_labels(\"ground_truth\", vehicles_map)\n",
    "#\n",
    "# # use our dataset and defined transformations\n",
    "# torch_map_dataset = FiftyOneTorchDataset(train_map_view, train_transforms)\n",
    "# torch_map_dataset_test = FiftyOneTorchDataset(test_map_view, test_transforms)"
   ],
   "metadata": {
    "collapsed": false,
    "pycharm": {
     "name": "#%%\n"
    }
   }
  },
  {
   "cell_type": "markdown",
   "metadata": {
    "id": "C5je6lVBWz5r"
   },
   "source": [
    "### Training and Evaluation"
   ]
  },
  {
   "cell_type": "code",
   "execution_count": 6,
   "outputs": [],
   "source": [
    "# #to change the loss function, create a new function and implement like below\n",
    "# import torchvision\n",
    "# torchvision.models.detection.roi_heads.fastrcnn_loss = cliprcnn_loss"
   ],
   "metadata": {
    "collapsed": false,
    "pycharm": {
     "name": "#%%\n"
    }
   }
  },
  {
   "cell_type": "code",
   "execution_count": null,
   "outputs": [
    {
     "name": "stdout",
     "output_type": "stream",
     "text": [
      "Using device cuda\n"
     ]
    },
    {
     "name": "stderr",
     "output_type": "stream",
     "text": [
      "C:\\Users\\blain\\anaconda3\\envs\\torch-frcnn\\lib\\site-packages\\torch\\functional.py:445: UserWarning: torch.meshgrid: in an upcoming release, it will be required to pass the indexing argument. (Triggered internally at  ..\\aten\\src\\ATen\\native\\TensorShape.cpp:2157.)\n",
      "  return _VF.meshgrid(tensors, **kwargs)  # type: ignore[attr-defined]\n"
     ]
    },
    {
     "name": "stdout",
     "output_type": "stream",
     "text": [
      "Training Epoch: [0]  [  0/500]  eta: 0:10:26  lr: 0.000015  loss: 6.6419 (6.6419)  loss_classifier: 5.5420 (5.5420)  loss_box_reg: 0.1103 (0.1103)  loss_objectness: 0.7270 (0.7270)  loss_rpn_box_reg: 0.2627 (0.2627)  time: 1.2525  data: 0.2511  max mem: 8559\n",
      "Training Epoch: [0]  [ 10/500]  eta: 0:05:50  lr: 0.000115  loss: 6.7500 (6.7155)  loss_classifier: 5.6925 (5.7246)  loss_box_reg: 0.0784 (0.0866)  loss_objectness: 0.7258 (0.7247)  loss_rpn_box_reg: 0.1557 (0.1795)  time: 0.7155  data: 0.1595  max mem: 8897\n",
      "Training Epoch: [0]  [ 20/500]  eta: 0:05:30  lr: 0.000215  loss: 6.6348 (6.6396)  loss_classifier: 5.6925 (5.6808)  loss_box_reg: 0.0887 (0.0940)  loss_objectness: 0.7094 (0.7033)  loss_rpn_box_reg: 0.1451 (0.1616)  time: 0.6605  data: 0.1459  max mem: 8897\n",
      "Training Epoch: [0]  [ 30/500]  eta: 0:05:20  lr: 0.000315  loss: 6.5092 (6.5836)  loss_classifier: 5.6345 (5.6711)  loss_box_reg: 0.0983 (0.0972)  loss_objectness: 0.6154 (0.6597)  loss_rpn_box_reg: 0.1132 (0.1556)  time: 0.6623  data: 0.1395  max mem: 8898\n",
      "Training Epoch: [0]  [ 40/500]  eta: 0:05:09  lr: 0.000415  loss: 6.3266 (6.5191)  loss_classifier: 5.5561 (5.6477)  loss_box_reg: 0.1239 (0.1047)  loss_objectness: 0.5080 (0.6114)  loss_rpn_box_reg: 0.1353 (0.1552)  time: 0.6546  data: 0.1388  max mem: 8898\n",
      "Training Epoch: [0]  [ 50/500]  eta: 0:04:56  lr: 0.000516  loss: 6.2073 (6.4673)  loss_classifier: 5.5267 (5.6341)  loss_box_reg: 0.1324 (0.1114)  loss_objectness: 0.4096 (0.5650)  loss_rpn_box_reg: 0.1369 (0.1568)  time: 0.6237  data: 0.1394  max mem: 8898\n",
      "Training Epoch: [0]  [ 60/500]  eta: 0:04:44  lr: 0.000616  loss: 6.1857 (6.4139)  loss_classifier: 5.4517 (5.6104)  loss_box_reg: 0.1469 (0.1210)  loss_objectness: 0.3452 (0.5265)  loss_rpn_box_reg: 0.1362 (0.1560)  time: 0.5915  data: 0.1398  max mem: 8898\n",
      "Training Epoch: [0]  [ 70/500]  eta: 0:04:33  lr: 0.000716  loss: 6.0468 (6.3637)  loss_classifier: 5.3941 (5.5821)  loss_box_reg: 0.1707 (0.1300)  loss_objectness: 0.3152 (0.4956)  loss_rpn_box_reg: 0.1356 (0.1559)  time: 0.5778  data: 0.1399  max mem: 8898\n",
      "Training Epoch: [0]  [ 80/500]  eta: 0:04:24  lr: 0.000816  loss: 5.9983 (6.3385)  loss_classifier: 5.3984 (5.5779)  loss_box_reg: 0.1759 (0.1382)  loss_objectness: 0.2864 (0.4695)  loss_rpn_box_reg: 0.1302 (0.1529)  time: 0.5844  data: 0.1390  max mem: 8898\n",
      "Training Epoch: [0]  [ 90/500]  eta: 0:04:15  lr: 0.000916  loss: 6.0467 (6.3093)  loss_classifier: 5.3984 (5.5631)  loss_box_reg: 0.2072 (0.1477)  loss_objectness: 0.2696 (0.4481)  loss_rpn_box_reg: 0.1199 (0.1504)  time: 0.5735  data: 0.1382  max mem: 8898\n",
      "Training Epoch: [0]  [100/500]  eta: 0:04:06  lr: 0.001016  loss: 6.0133 (6.2761)  loss_classifier: 5.3722 (5.5429)  loss_box_reg: 0.2072 (0.1543)  loss_objectness: 0.2644 (0.4290)  loss_rpn_box_reg: 0.1306 (0.1499)  time: 0.5599  data: 0.1391  max mem: 8898\n",
      "Training Epoch: [0]  [110/500]  eta: 0:03:59  lr: 0.001116  loss: 6.0133 (6.2577)  loss_classifier: 5.4230 (5.5305)  loss_box_reg: 0.2123 (0.1607)  loss_objectness: 0.2620 (0.4156)  loss_rpn_box_reg: 0.1395 (0.1508)  time: 0.5717  data: 0.1395  max mem: 8898\n",
      "Training Epoch: [0]  [120/500]  eta: 0:03:51  lr: 0.001216  loss: 6.1239 (6.2552)  loss_classifier: 5.6086 (5.5401)  loss_box_reg: 0.2066 (0.1638)  loss_objectness: 0.2628 (0.4032)  loss_rpn_box_reg: 0.1300 (0.1481)  time: 0.5743  data: 0.1384  max mem: 8898\n",
      "Training Epoch: [0]  [130/500]  eta: 0:03:45  lr: 0.001316  loss: 6.1222 (6.2406)  loss_classifier: 5.6677 (5.5420)  loss_box_reg: 0.1863 (0.1628)  loss_objectness: 0.2545 (0.3909)  loss_rpn_box_reg: 0.1073 (0.1450)  time: 0.5977  data: 0.1392  max mem: 8898\n",
      "Training Epoch: [0]  [140/500]  eta: 0:03:41  lr: 0.001416  loss: 5.9246 (6.2236)  loss_classifier: 5.2764 (5.5313)  loss_box_reg: 0.1864 (0.1656)  loss_objectness: 0.2419 (0.3817)  loss_rpn_box_reg: 0.1297 (0.1449)  time: 0.6488  data: 0.1386  max mem: 8898\n",
      "Training Epoch: [0]  [150/500]  eta: 0:03:35  lr: 0.001517  loss: 6.0125 (6.2198)  loss_classifier: 5.3803 (5.5365)  loss_box_reg: 0.1907 (0.1678)  loss_objectness: 0.2377 (0.3720)  loss_rpn_box_reg: 0.1232 (0.1435)  time: 0.6390  data: 0.1374  max mem: 8898\n",
      "Training Epoch: [0]  [160/500]  eta: 0:03:29  lr: 0.001617  loss: 6.1313 (6.2111)  loss_classifier: 5.5367 (5.5342)  loss_box_reg: 0.1809 (0.1683)  loss_objectness: 0.2335 (0.3646)  loss_rpn_box_reg: 0.1141 (0.1440)  time: 0.6295  data: 0.1400  max mem: 8898\n",
      "Training Epoch: [0]  [170/500]  eta: 0:03:24  lr: 0.001717  loss: 6.1111 (6.2107)  loss_classifier: 5.3974 (5.5423)  loss_box_reg: 0.1796 (0.1686)  loss_objectness: 0.2335 (0.3566)  loss_rpn_box_reg: 0.1404 (0.1433)  time: 0.6579  data: 0.1392  max mem: 8898\n",
      "Training Epoch: [0]  [180/500]  eta: 0:03:18  lr: 0.001817  loss: 5.9969 (6.1992)  loss_classifier: 5.5012 (5.5402)  loss_box_reg: 0.1750 (0.1688)  loss_objectness: 0.2090 (0.3488)  loss_rpn_box_reg: 0.1119 (0.1413)  time: 0.6575  data: 0.1369  max mem: 8898\n",
      "Training Epoch: [0]  [190/500]  eta: 0:03:13  lr: 0.001917  loss: 5.9136 (6.1837)  loss_classifier: 5.3358 (5.5322)  loss_box_reg: 0.1738 (0.1691)  loss_objectness: 0.2090 (0.3429)  loss_rpn_box_reg: 0.1008 (0.1396)  time: 0.6543  data: 0.1410  max mem: 8898\n",
      "Training Epoch: [0]  [200/500]  eta: 0:03:07  lr: 0.002017  loss: 5.9472 (6.1862)  loss_classifier: 5.4277 (5.5398)  loss_box_reg: 0.1738 (0.1699)  loss_objectness: 0.2213 (0.3379)  loss_rpn_box_reg: 0.1105 (0.1386)  time: 0.6657  data: 0.1433  max mem: 8898\n",
      "Training Epoch: [0]  [210/500]  eta: 0:03:01  lr: 0.002117  loss: 6.0450 (6.1690)  loss_classifier: 5.4892 (5.5281)  loss_box_reg: 0.1875 (0.1708)  loss_objectness: 0.2288 (0.3324)  loss_rpn_box_reg: 0.1078 (0.1376)  time: 0.6581  data: 0.1417  max mem: 8898\n",
      "Training Epoch: [0]  [220/500]  eta: 0:02:55  lr: 0.002217  loss: 5.8998 (6.1592)  loss_classifier: 5.3397 (5.5235)  loss_box_reg: 0.1853 (0.1705)  loss_objectness: 0.2288 (0.3280)  loss_rpn_box_reg: 0.1078 (0.1373)  time: 0.6456  data: 0.1391  max mem: 8898\n",
      "Training Epoch: [0]  [230/500]  eta: 0:02:49  lr: 0.002317  loss: 5.9752 (6.1586)  loss_classifier: 5.3596 (5.5251)  loss_box_reg: 0.1666 (0.1710)  loss_objectness: 0.2332 (0.3242)  loss_rpn_box_reg: 0.1285 (0.1382)  time: 0.6620  data: 0.1378  max mem: 8898\n",
      "Training Epoch: [0]  [240/500]  eta: 0:02:44  lr: 0.002417  loss: 5.8807 (6.1496)  loss_classifier: 5.3596 (5.5194)  loss_box_reg: 0.1666 (0.1715)  loss_objectness: 0.2266 (0.3205)  loss_rpn_box_reg: 0.1295 (0.1382)  time: 0.6697  data: 0.1391  max mem: 8898\n",
      "Training Epoch: [0]  [250/500]  eta: 0:02:37  lr: 0.002518  loss: 5.8418 (6.1412)  loss_classifier: 5.3960 (5.5142)  loss_box_reg: 0.1733 (0.1721)  loss_objectness: 0.2153 (0.3165)  loss_rpn_box_reg: 0.1309 (0.1384)  time: 0.6535  data: 0.1381  max mem: 8898\n",
      "Training Epoch: [0]  [260/500]  eta: 0:02:31  lr: 0.002618  loss: 5.9616 (6.1405)  loss_classifier: 5.4448 (5.5181)  loss_box_reg: 0.1709 (0.1722)  loss_objectness: 0.2060 (0.3122)  loss_rpn_box_reg: 0.1282 (0.1380)  time: 0.6373  data: 0.1361  max mem: 8898\n",
      "Training Epoch: [0]  [270/500]  eta: 0:02:25  lr: 0.002718  loss: 5.9661 (6.1315)  loss_classifier: 5.4448 (5.5158)  loss_box_reg: 0.1398 (0.1706)  loss_objectness: 0.2017 (0.3075)  loss_rpn_box_reg: 0.1148 (0.1375)  time: 0.6568  data: 0.1353  max mem: 8916\n",
      "Training Epoch: [0]  [280/500]  eta: 0:02:19  lr: 0.002818  loss: 5.8430 (6.1268)  loss_classifier: 5.2878 (5.5126)  loss_box_reg: 0.1511 (0.1709)  loss_objectness: 0.2043 (0.3047)  loss_rpn_box_reg: 0.1470 (0.1387)  time: 0.6866  data: 0.1375  max mem: 8916\n",
      "Training Epoch: [0]  [290/500]  eta: 0:02:13  lr: 0.002918  loss: 6.0457 (6.1231)  loss_classifier: 5.4188 (5.5114)  loss_box_reg: 0.1883 (0.1717)  loss_objectness: 0.2046 (0.3013)  loss_rpn_box_reg: 0.1459 (0.1387)  time: 0.6576  data: 0.1389  max mem: 8916\n",
      "Training Epoch: [0]  [300/500]  eta: 0:02:07  lr: 0.003018  loss: 6.0514 (6.1205)  loss_classifier: 5.4632 (5.5103)  loss_box_reg: 0.1869 (0.1726)  loss_objectness: 0.2182 (0.2987)  loss_rpn_box_reg: 0.1103 (0.1389)  time: 0.6412  data: 0.1402  max mem: 8916\n",
      "Training Epoch: [0]  [310/500]  eta: 0:02:00  lr: 0.003118  loss: 6.1489 (6.1225)  loss_classifier: 5.5102 (5.5136)  loss_box_reg: 0.1879 (0.1737)  loss_objectness: 0.2243 (0.2965)  loss_rpn_box_reg: 0.1103 (0.1386)  time: 0.6348  data: 0.1403  max mem: 8916\n",
      "Training Epoch: [0]  [320/500]  eta: 0:01:54  lr: 0.003218  loss: 6.0335 (6.1105)  loss_classifier: 5.6239 (5.5046)  loss_box_reg: 0.2035 (0.1743)  loss_objectness: 0.2003 (0.2931)  loss_rpn_box_reg: 0.1167 (0.1385)  time: 0.6245  data: 0.1366  max mem: 8916\n",
      "Training Epoch: [0]  [330/500]  eta: 0:01:47  lr: 0.003318  loss: 5.9883 (6.1094)  loss_classifier: 5.4106 (5.5073)  loss_box_reg: 0.1652 (0.1740)  loss_objectness: 0.1898 (0.2902)  loss_rpn_box_reg: 0.1028 (0.1378)  time: 0.6376  data: 0.1362  max mem: 8916\n",
      "Training Epoch: [0]  [340/500]  eta: 0:01:41  lr: 0.003418  loss: 5.9763 (6.1038)  loss_classifier: 5.4414 (5.5062)  loss_box_reg: 0.1543 (0.1735)  loss_objectness: 0.1898 (0.2871)  loss_rpn_box_reg: 0.0998 (0.1371)  time: 0.6370  data: 0.1358  max mem: 8916\n",
      "Training Epoch: [0]  [350/500]  eta: 0:01:35  lr: 0.003519  loss: 5.9893 (6.1111)  loss_classifier: 5.4581 (5.5155)  loss_box_reg: 0.1543 (0.1731)  loss_objectness: 0.1876 (0.2846)  loss_rpn_box_reg: 0.1311 (0.1380)  time: 0.6440  data: 0.1334  max mem: 8916\n",
      "Training Epoch: [0]  [360/500]  eta: 0:01:29  lr: 0.003619  loss: 6.2598 (6.1140)  loss_classifier: 5.7492 (5.5206)  loss_box_reg: 0.1755 (0.1736)  loss_objectness: 0.1885 (0.2821)  loss_rpn_box_reg: 0.1311 (0.1378)  time: 0.6472  data: 0.1347  max mem: 8916\n",
      "Training Epoch: [0]  [370/500]  eta: 0:01:22  lr: 0.003719  loss: 6.0494 (6.1142)  loss_classifier: 5.4705 (5.5222)  loss_box_reg: 0.1878 (0.1740)  loss_objectness: 0.1925 (0.2799)  loss_rpn_box_reg: 0.1297 (0.1381)  time: 0.6475  data: 0.1371  max mem: 8916\n",
      "Training Epoch: [0]  [380/500]  eta: 0:01:16  lr: 0.003819  loss: 6.0494 (6.1110)  loss_classifier: 5.4645 (5.5193)  loss_box_reg: 0.1895 (0.1749)  loss_objectness: 0.2159 (0.2789)  loss_rpn_box_reg: 0.1297 (0.1379)  time: 0.6440  data: 0.1388  max mem: 8916\n",
      "Training Epoch: [0]  [390/500]  eta: 0:01:09  lr: 0.003919  loss: 6.2812 (6.1125)  loss_classifier: 5.5043 (5.5209)  loss_box_reg: 0.2216 (0.1764)  loss_objectness: 0.2151 (0.2770)  loss_rpn_box_reg: 0.1237 (0.1382)  time: 0.6361  data: 0.1392  max mem: 8916\n",
      "Training Epoch: [0]  [400/500]  eta: 0:01:03  lr: 0.004019  loss: 6.0397 (6.1066)  loss_classifier: 5.4863 (5.5180)  loss_box_reg: 0.2038 (0.1768)  loss_objectness: 0.1949 (0.2747)  loss_rpn_box_reg: 0.1028 (0.1371)  time: 0.6410  data: 0.1372  max mem: 8916\n",
      "Training Epoch: [0]  [410/500]  eta: 0:00:57  lr: 0.004119  loss: 6.0457 (6.1121)  loss_classifier: 5.5471 (5.5250)  loss_box_reg: 0.1868 (0.1775)  loss_objectness: 0.2027 (0.2729)  loss_rpn_box_reg: 0.1004 (0.1367)  time: 0.6430  data: 0.1354  max mem: 8916\n",
      "Training Epoch: [0]  [420/500]  eta: 0:00:50  lr: 0.004219  loss: 6.2380 (6.1174)  loss_classifier: 5.6571 (5.5314)  loss_box_reg: 0.2049 (0.1785)  loss_objectness: 0.2027 (0.2714)  loss_rpn_box_reg: 0.1036 (0.1361)  time: 0.6429  data: 0.1358  max mem: 8916\n",
      "Training Epoch: [0]  [430/500]  eta: 0:00:44  lr: 0.004319  loss: 6.1339 (6.1140)  loss_classifier: 5.5425 (5.5284)  loss_box_reg: 0.2330 (0.1802)  loss_objectness: 0.1993 (0.2695)  loss_rpn_box_reg: 0.1092 (0.1359)  time: 0.6409  data: 0.1373  max mem: 8916\n",
      "Training Epoch: [0]  [440/500]  eta: 0:00:38  lr: 0.004419  loss: 6.0663 (6.1134)  loss_classifier: 5.5425 (5.5288)  loss_box_reg: 0.2286 (0.1808)  loss_objectness: 0.1984 (0.2682)  loss_rpn_box_reg: 0.1128 (0.1356)  time: 0.6335  data: 0.1378  max mem: 8916\n",
      "Training Epoch: [0]  [450/500]  eta: 0:00:31  lr: 0.004520  loss: 5.9857 (6.1088)  loss_classifier: 5.5027 (5.5247)  loss_box_reg: 0.2252 (0.1821)  loss_objectness: 0.2036 (0.2669)  loss_rpn_box_reg: 0.1105 (0.1351)  time: 0.6157  data: 0.1371  max mem: 8916\n",
      "Training Epoch: [0]  [460/500]  eta: 0:00:25  lr: 0.004620  loss: 5.8971 (6.1045)  loss_classifier: 5.3664 (5.5229)  loss_box_reg: 0.1962 (0.1820)  loss_objectness: 0.1894 (0.2652)  loss_rpn_box_reg: 0.1072 (0.1344)  time: 0.6136  data: 0.1350  max mem: 8916\n",
      "Training Epoch: [0]  [470/500]  eta: 0:00:19  lr: 0.004720  loss: 5.8971 (6.1012)  loss_classifier: 5.5736 (5.5215)  loss_box_reg: 0.1674 (0.1820)  loss_objectness: 0.1882 (0.2637)  loss_rpn_box_reg: 0.0934 (0.1339)  time: 0.6257  data: 0.1350  max mem: 8916\n",
      "Training Epoch: [0]  [480/500]  eta: 0:00:12  lr: 0.004820  loss: 6.2455 (6.1064)  loss_classifier: 5.6430 (5.5281)  loss_box_reg: 0.1766 (0.1821)  loss_objectness: 0.1869 (0.2626)  loss_rpn_box_reg: 0.1073 (0.1336)  time: 0.6276  data: 0.1371  max mem: 8916\n",
      "Training Epoch: [0]  [490/500]  eta: 0:00:06  lr: 0.004920  loss: 5.9245 (6.1033)  loss_classifier: 5.4977 (5.5267)  loss_box_reg: 0.1851 (0.1825)  loss_objectness: 0.1860 (0.2608)  loss_rpn_box_reg: 0.1073 (0.1333)  time: 0.6439  data: 0.1369  max mem: 8916\n",
      "Training Epoch: [0]  [499/500]  eta: 0:00:00  lr: 0.005000  loss: 6.0113 (6.1031)  loss_classifier: 5.4977 (5.5285)  loss_box_reg: 0.1851 (0.1824)  loss_objectness: 0.1813 (0.2595)  loss_rpn_box_reg: 0.1058 (0.1327)  time: 0.6395  data: 0.1361  max mem: 8916\n",
      "Training Epoch: [0] Total time: 0:05:17 (0.6357 s / it)\n",
      "creating index...\n",
      "index created!\n",
      "Test:  [  0/125]  eta: 0:01:37  model_time: 0.5991 (0.5991)  evaluator_time: 0.0320 (0.0320)  time: 0.7832  data: 0.1420  max mem: 8916\n",
      "Test:  [100/125]  eta: 0:00:14  model_time: 0.3891 (0.3953)  evaluator_time: 0.0310 (0.0319)  time: 0.5740  data: 0.1502  max mem: 8916\n",
      "Test:  [124/125]  eta: 0:00:00  model_time: 0.3981 (0.3958)  evaluator_time: 0.0330 (0.0324)  time: 0.5881  data: 0.1510  max mem: 8916\n",
      "Test: Total time: 0:01:13 (0.5844 s / it)\n",
      "Averaged stats: model_time: 0.3981 (0.3958)  evaluator_time: 0.0330 (0.0324)\n",
      "Accumulating evaluation results...\n",
      "DONE (t=1.29s).\n",
      "IoU metric: bbox\n",
      " Average Precision  (AP) @[ IoU=0.50:0.95 | area=   all | maxDets=100 ] = 0.005\n",
      " Average Precision  (AP) @[ IoU=0.50      | area=   all | maxDets=100 ] = 0.017\n",
      " Average Precision  (AP) @[ IoU=0.75      | area=   all | maxDets=100 ] = 0.000\n",
      " Average Precision  (AP) @[ IoU=0.50:0.95 | area= small | maxDets=100 ] = 0.002\n",
      " Average Precision  (AP) @[ IoU=0.50:0.95 | area=medium | maxDets=100 ] = 0.002\n",
      " Average Precision  (AP) @[ IoU=0.50:0.95 | area= large | maxDets=100 ] = 0.010\n",
      " Average Recall     (AR) @[ IoU=0.50:0.95 | area=   all | maxDets=  1 ] = 0.009\n",
      " Average Recall     (AR) @[ IoU=0.50:0.95 | area=   all | maxDets= 10 ] = 0.039\n",
      " Average Recall     (AR) @[ IoU=0.50:0.95 | area=   all | maxDets=100 ] = 0.071\n",
      " Average Recall     (AR) @[ IoU=0.50:0.95 | area= small | maxDets=100 ] = 0.008\n",
      " Average Recall     (AR) @[ IoU=0.50:0.95 | area=medium | maxDets=100 ] = 0.025\n",
      " Average Recall     (AR) @[ IoU=0.50:0.95 | area= large | maxDets=100 ] = 0.129\n",
      "Testing Epoch: [0]  [  0/125]  eta: 0:01:22  lr: 0.005000  loss: 6.0960 (6.0960)  loss_classifier: 5.5084 (5.5084)  loss_box_reg: 0.2137 (0.2137)  loss_objectness: 0.1658 (0.1658)  loss_rpn_box_reg: 0.2081 (0.2081)  time: 0.6611  data: 0.1410  max mem: 8916\n",
      "Testing Epoch: [0]  [100/125]  eta: 0:00:15  lr: 0.005000  loss: 5.8183 (6.0145)  loss_classifier: 5.2493 (5.4933)  loss_box_reg: 0.2073 (0.2280)  loss_objectness: 0.1730 (0.1753)  loss_rpn_box_reg: 0.0989 (0.1178)  time: 0.6034  data: 0.1549  max mem: 9296\n",
      "Testing Epoch: [0]  [124/125]  eta: 0:00:00  lr: 0.005000  loss: 5.9626 (6.0437)  loss_classifier: 5.5031 (5.5252)  loss_box_reg: 0.1925 (0.2256)  loss_objectness: 0.1649 (0.1756)  loss_rpn_box_reg: 0.0837 (0.1173)  time: 0.5975  data: 0.1470  max mem: 9296\n",
      "Testing Epoch: [0] Total time: 0:01:16 (0.6086 s / it)\n",
      "Training Epoch: [1]  [  0/500]  eta: 0:06:29  lr: 0.005000  loss: 5.7350 (5.7350)  loss_classifier: 5.1440 (5.1440)  loss_box_reg: 0.2564 (0.2564)  loss_objectness: 0.2209 (0.2209)  loss_rpn_box_reg: 0.1138 (0.1138)  time: 0.7782  data: 0.1550  max mem: 9296\n",
      "Training Epoch: [1]  [ 10/500]  eta: 0:05:17  lr: 0.005000  loss: 5.9316 (6.0379)  loss_classifier: 5.3347 (5.4687)  loss_box_reg: 0.2564 (0.2548)  loss_objectness: 0.1855 (0.1994)  loss_rpn_box_reg: 0.1180 (0.1151)  time: 0.6485  data: 0.1470  max mem: 9296\n",
      "Training Epoch: [1]  [ 20/500]  eta: 0:05:02  lr: 0.005000  loss: 5.9316 (6.0716)  loss_classifier: 5.4410 (5.5272)  loss_box_reg: 0.2104 (0.2301)  loss_objectness: 0.1855 (0.2047)  loss_rpn_box_reg: 0.1055 (0.1096)  time: 0.6238  data: 0.1429  max mem: 9296\n",
      "Training Epoch: [1]  [ 30/500]  eta: 0:04:54  lr: 0.005000  loss: 6.1378 (6.1653)  loss_classifier: 5.6603 (5.6417)  loss_box_reg: 0.1847 (0.2135)  loss_objectness: 0.1843 (0.1976)  loss_rpn_box_reg: 0.0901 (0.1125)  time: 0.6156  data: 0.1384  max mem: 9296\n",
      "Training Epoch: [1]  [ 40/500]  eta: 0:04:51  lr: 0.005000  loss: 6.0957 (6.0969)  loss_classifier: 5.6552 (5.5847)  loss_box_reg: 0.1850 (0.2076)  loss_objectness: 0.1810 (0.1944)  loss_rpn_box_reg: 0.0919 (0.1102)  time: 0.6351  data: 0.1426  max mem: 9296\n",
      "Training Epoch: [1]  [ 50/500]  eta: 0:04:47  lr: 0.005000  loss: 5.6754 (6.0931)  loss_classifier: 5.1477 (5.5799)  loss_box_reg: 0.1951 (0.2073)  loss_objectness: 0.1842 (0.1948)  loss_rpn_box_reg: 0.1038 (0.1112)  time: 0.6545  data: 0.1434  max mem: 9296\n",
      "Training Epoch: [1]  [ 60/500]  eta: 0:04:39  lr: 0.005000  loss: 6.1369 (6.1009)  loss_classifier: 5.5710 (5.5833)  loss_box_reg: 0.2079 (0.2067)  loss_objectness: 0.1963 (0.1969)  loss_rpn_box_reg: 0.1241 (0.1139)  time: 0.6377  data: 0.1399  max mem: 9296\n",
      "Training Epoch: [1]  [ 70/500]  eta: 0:04:33  lr: 0.005000  loss: 6.1369 (6.1382)  loss_classifier: 5.5780 (5.6281)  loss_box_reg: 0.1861 (0.2048)  loss_objectness: 0.1940 (0.1929)  loss_rpn_box_reg: 0.1144 (0.1124)  time: 0.6340  data: 0.1385  max mem: 9296\n",
      "Training Epoch: [1]  [ 80/500]  eta: 0:04:25  lr: 0.005000  loss: 6.0842 (6.1410)  loss_classifier: 5.5823 (5.6282)  loss_box_reg: 0.1987 (0.2083)  loss_objectness: 0.1630 (0.1923)  loss_rpn_box_reg: 0.1021 (0.1123)  time: 0.6286  data: 0.1350  max mem: 9296\n",
      "Training Epoch: [1]  [ 90/500]  eta: 0:04:17  lr: 0.005000  loss: 5.8870 (6.1301)  loss_classifier: 5.3859 (5.6149)  loss_box_reg: 0.2168 (0.2086)  loss_objectness: 0.1891 (0.1942)  loss_rpn_box_reg: 0.0876 (0.1124)  time: 0.6006  data: 0.1365  max mem: 9296\n",
      "Training Epoch: [1]  [100/500]  eta: 0:04:11  lr: 0.005000  loss: 6.0041 (6.1309)  loss_classifier: 5.3859 (5.6122)  loss_box_reg: 0.1959 (0.2090)  loss_objectness: 0.2022 (0.1966)  loss_rpn_box_reg: 0.0916 (0.1130)  time: 0.6109  data: 0.1406  max mem: 9296\n",
      "Training Epoch: [1]  [110/500]  eta: 0:04:05  lr: 0.005000  loss: 6.2267 (6.1371)  loss_classifier: 5.5980 (5.6234)  loss_box_reg: 0.1959 (0.2078)  loss_objectness: 0.1889 (0.1950)  loss_rpn_box_reg: 0.0916 (0.1109)  time: 0.6346  data: 0.1388  max mem: 9296\n",
      "Training Epoch: [1]  [120/500]  eta: 0:03:59  lr: 0.005000  loss: 6.1870 (6.1323)  loss_classifier: 5.6180 (5.6143)  loss_box_reg: 0.2010 (0.2117)  loss_objectness: 0.1824 (0.1961)  loss_rpn_box_reg: 0.0902 (0.1103)  time: 0.6321  data: 0.1381  max mem: 9296\n",
      "Training Epoch: [1]  [130/500]  eta: 0:03:52  lr: 0.005000  loss: 6.0833 (6.1303)  loss_classifier: 5.5765 (5.6161)  loss_box_reg: 0.2006 (0.2096)  loss_objectness: 0.1794 (0.1936)  loss_rpn_box_reg: 0.1080 (0.1110)  time: 0.6230  data: 0.1389  max mem: 9296\n",
      "Training Epoch: [1]  [140/500]  eta: 0:03:46  lr: 0.005000  loss: 5.9914 (6.1349)  loss_classifier: 5.5367 (5.6219)  loss_box_reg: 0.1824 (0.2099)  loss_objectness: 0.1742 (0.1935)  loss_rpn_box_reg: 0.0967 (0.1097)  time: 0.6242  data: 0.1398  max mem: 9296\n",
      "Training Epoch: [1]  [150/500]  eta: 0:03:41  lr: 0.005000  loss: 5.9990 (6.1295)  loss_classifier: 5.5934 (5.6166)  loss_box_reg: 0.2073 (0.2105)  loss_objectness: 0.1869 (0.1930)  loss_rpn_box_reg: 0.0967 (0.1093)  time: 0.6494  data: 0.1435  max mem: 9296\n",
      "Training Epoch: [1]  [160/500]  eta: 0:03:34  lr: 0.005000  loss: 6.0588 (6.1226)  loss_classifier: 5.6067 (5.6159)  loss_box_reg: 0.1798 (0.2078)  loss_objectness: 0.1727 (0.1905)  loss_rpn_box_reg: 0.0887 (0.1084)  time: 0.6573  data: 0.1392  max mem: 9296\n",
      "Training Epoch: [1]  [170/500]  eta: 0:03:28  lr: 0.005000  loss: 6.0731 (6.1333)  loss_classifier: 5.6287 (5.6273)  loss_box_reg: 0.1698 (0.2070)  loss_objectness: 0.1657 (0.1901)  loss_rpn_box_reg: 0.1042 (0.1089)  time: 0.6422  data: 0.1362  max mem: 9296\n",
      "Training Epoch: [1]  [180/500]  eta: 0:03:23  lr: 0.005000  loss: 6.1635 (6.1364)  loss_classifier: 5.6687 (5.6307)  loss_box_reg: 0.2078 (0.2077)  loss_objectness: 0.1847 (0.1895)  loss_rpn_box_reg: 0.1067 (0.1085)  time: 0.6543  data: 0.1403  max mem: 9296\n",
      "Training Epoch: [1]  [190/500]  eta: 0:03:17  lr: 0.005000  loss: 5.9161 (6.1221)  loss_classifier: 5.3931 (5.6162)  loss_box_reg: 0.2225 (0.2078)  loss_objectness: 0.1847 (0.1895)  loss_rpn_box_reg: 0.0943 (0.1085)  time: 0.6650  data: 0.1410  max mem: 9296\n",
      "Training Epoch: [1]  [200/500]  eta: 0:03:10  lr: 0.005000  loss: 5.9424 (6.1301)  loss_classifier: 5.4444 (5.6243)  loss_box_reg: 0.2025 (0.2082)  loss_objectness: 0.1853 (0.1898)  loss_rpn_box_reg: 0.0942 (0.1077)  time: 0.6451  data: 0.1403  max mem: 9296\n",
      "Training Epoch: [1]  [210/500]  eta: 0:03:04  lr: 0.005000  loss: 6.1545 (6.1302)  loss_classifier: 5.6163 (5.6254)  loss_box_reg: 0.2025 (0.2084)  loss_objectness: 0.1911 (0.1896)  loss_rpn_box_reg: 0.1008 (0.1069)  time: 0.6354  data: 0.1407  max mem: 9296\n",
      "Training Epoch: [1]  [220/500]  eta: 0:02:57  lr: 0.005000  loss: 6.1820 (6.1373)  loss_classifier: 5.6698 (5.6322)  loss_box_reg: 0.2316 (0.2094)  loss_objectness: 0.1771 (0.1892)  loss_rpn_box_reg: 0.1014 (0.1065)  time: 0.6283  data: 0.1399  max mem: 9296\n",
      "Training Epoch: [1]  [230/500]  eta: 0:02:51  lr: 0.005000  loss: 6.0215 (6.1327)  loss_classifier: 5.6031 (5.6303)  loss_box_reg: 0.2266 (0.2085)  loss_objectness: 0.1670 (0.1883)  loss_rpn_box_reg: 0.0740 (0.1056)  time: 0.6288  data: 0.1381  max mem: 9296\n",
      "Training Epoch: [1]  [240/500]  eta: 0:02:45  lr: 0.005000  loss: 6.0177 (6.1385)  loss_classifier: 5.6031 (5.6369)  loss_box_reg: 0.1856 (0.2079)  loss_objectness: 0.1703 (0.1883)  loss_rpn_box_reg: 0.0781 (0.1054)  time: 0.6367  data: 0.1370  max mem: 9296\n",
      "Training Epoch: [1]  [250/500]  eta: 0:02:38  lr: 0.005000  loss: 6.3139 (6.1469)  loss_classifier: 5.8833 (5.6449)  loss_box_reg: 0.2007 (0.2083)  loss_objectness: 0.1799 (0.1881)  loss_rpn_box_reg: 0.1023 (0.1055)  time: 0.6195  data: 0.1368  max mem: 9296\n",
      "Training Epoch: [1]  [260/500]  eta: 0:02:31  lr: 0.005000  loss: 6.2677 (6.1488)  loss_classifier: 5.6637 (5.6457)  loss_box_reg: 0.2008 (0.2092)  loss_objectness: 0.1843 (0.1887)  loss_rpn_box_reg: 0.1023 (0.1052)  time: 0.6117  data: 0.1369  max mem: 9296\n",
      "Training Epoch: [1]  [270/500]  eta: 0:02:25  lr: 0.005000  loss: 5.9907 (6.1473)  loss_classifier: 5.4681 (5.6444)  loss_box_reg: 0.2008 (0.2089)  loss_objectness: 0.1864 (0.1886)  loss_rpn_box_reg: 0.0903 (0.1055)  time: 0.6298  data: 0.1389  max mem: 9296\n",
      "Training Epoch: [1]  [280/500]  eta: 0:02:19  lr: 0.005000  loss: 6.0362 (6.1547)  loss_classifier: 5.4681 (5.6529)  loss_box_reg: 0.1969 (0.2087)  loss_objectness: 0.1757 (0.1882)  loss_rpn_box_reg: 0.0931 (0.1050)  time: 0.6276  data: 0.1397  max mem: 9296\n",
      "Training Epoch: [1]  [290/500]  eta: 0:02:13  lr: 0.005000  loss: 6.5127 (6.1713)  loss_classifier: 6.0010 (5.6709)  loss_box_reg: 0.1832 (0.2071)  loss_objectness: 0.1670 (0.1881)  loss_rpn_box_reg: 0.0994 (0.1053)  time: 0.6372  data: 0.1410  max mem: 9296\n",
      "Training Epoch: [1]  [300/500]  eta: 0:02:06  lr: 0.005000  loss: 6.3169 (6.1651)  loss_classifier: 5.9344 (5.6648)  loss_box_reg: 0.1782 (0.2074)  loss_objectness: 0.1790 (0.1881)  loss_rpn_box_reg: 0.0822 (0.1048)  time: 0.6454  data: 0.1413  max mem: 9296\n",
      "Training Epoch: [1]  [310/500]  eta: 0:02:00  lr: 0.005000  loss: 5.9444 (6.1575)  loss_classifier: 5.3796 (5.6580)  loss_box_reg: 0.1975 (0.2078)  loss_objectness: 0.1708 (0.1874)  loss_rpn_box_reg: 0.0715 (0.1043)  time: 0.6244  data: 0.1379  max mem: 9296\n",
      "Training Epoch: [1]  [320/500]  eta: 0:01:53  lr: 0.005000  loss: 5.9769 (6.1572)  loss_classifier: 5.4409 (5.6573)  loss_box_reg: 0.2107 (0.2081)  loss_objectness: 0.1708 (0.1874)  loss_rpn_box_reg: 0.1023 (0.1044)  time: 0.6159  data: 0.1369  max mem: 9296\n",
      "Training Epoch: [1]  [330/500]  eta: 0:01:47  lr: 0.005000  loss: 5.9769 (6.1570)  loss_classifier: 5.4409 (5.6581)  loss_box_reg: 0.2099 (0.2083)  loss_objectness: 0.1671 (0.1867)  loss_rpn_box_reg: 0.0870 (0.1038)  time: 0.6221  data: 0.1391  max mem: 9296\n",
      "Training Epoch: [1]  [340/500]  eta: 0:01:41  lr: 0.005000  loss: 6.1861 (6.1568)  loss_classifier: 5.6992 (5.6570)  loss_box_reg: 0.2096 (0.2086)  loss_objectness: 0.1587 (0.1872)  loss_rpn_box_reg: 0.0907 (0.1040)  time: 0.6239  data: 0.1399  max mem: 9296\n",
      "Training Epoch: [1]  [350/500]  eta: 0:01:34  lr: 0.005000  loss: 6.1026 (6.1501)  loss_classifier: 5.4900 (5.6496)  loss_box_reg: 0.2242 (0.2091)  loss_objectness: 0.1705 (0.1872)  loss_rpn_box_reg: 0.1120 (0.1042)  time: 0.6108  data: 0.1377  max mem: 9296\n",
      "Training Epoch: [1]  [360/500]  eta: 0:01:28  lr: 0.005000  loss: 6.1026 (6.1498)  loss_classifier: 5.6030 (5.6514)  loss_box_reg: 0.1961 (0.2082)  loss_objectness: 0.1685 (0.1867)  loss_rpn_box_reg: 0.0800 (0.1034)  time: 0.6265  data: 0.1377  max mem: 9296\n",
      "Training Epoch: [1]  [370/500]  eta: 0:01:22  lr: 0.005000  loss: 6.2388 (6.1546)  loss_classifier: 5.7781 (5.6568)  loss_box_reg: 0.2067 (0.2086)  loss_objectness: 0.1719 (0.1864)  loss_rpn_box_reg: 0.0696 (0.1029)  time: 0.6437  data: 0.1401  max mem: 9296\n",
      "Training Epoch: [1]  [380/500]  eta: 0:01:15  lr: 0.005000  loss: 6.1114 (6.1503)  loss_classifier: 5.6568 (5.6531)  loss_box_reg: 0.2106 (0.2084)  loss_objectness: 0.1772 (0.1864)  loss_rpn_box_reg: 0.0792 (0.1023)  time: 0.6461  data: 0.1401  max mem: 9296\n",
      "Training Epoch: [1]  [390/500]  eta: 0:01:09  lr: 0.005000  loss: 6.1029 (6.1564)  loss_classifier: 5.6446 (5.6604)  loss_box_reg: 0.1824 (0.2079)  loss_objectness: 0.1789 (0.1862)  loss_rpn_box_reg: 0.0792 (0.1019)  time: 0.6351  data: 0.1378  max mem: 9296\n",
      "Training Epoch: [1]  [400/500]  eta: 0:01:03  lr: 0.005000  loss: 6.0236 (6.1533)  loss_classifier: 5.5715 (5.6578)  loss_box_reg: 0.1824 (0.2076)  loss_objectness: 0.1673 (0.1859)  loss_rpn_box_reg: 0.0925 (0.1019)  time: 0.6163  data: 0.1384  max mem: 9296\n",
      "Training Epoch: [1]  [410/500]  eta: 0:00:56  lr: 0.005000  loss: 5.9052 (6.1538)  loss_classifier: 5.5503 (5.6597)  loss_box_reg: 0.1897 (0.2069)  loss_objectness: 0.1679 (0.1859)  loss_rpn_box_reg: 0.0925 (0.1014)  time: 0.6239  data: 0.1419  max mem: 9296\n",
      "Training Epoch: [1]  [420/500]  eta: 0:00:50  lr: 0.005000  loss: 6.0883 (6.1528)  loss_classifier: 5.6340 (5.6586)  loss_box_reg: 0.2079 (0.2076)  loss_objectness: 0.1679 (0.1856)  loss_rpn_box_reg: 0.0739 (0.1010)  time: 0.6450  data: 0.1418  max mem: 9296\n",
      "Training Epoch: [1]  [430/500]  eta: 0:00:44  lr: 0.005000  loss: 6.1864 (6.1578)  loss_classifier: 5.7202 (5.6635)  loss_box_reg: 0.2131 (0.2080)  loss_objectness: 0.1725 (0.1856)  loss_rpn_box_reg: 0.0726 (0.1007)  time: 0.6328  data: 0.1405  max mem: 9296\n",
      "Training Epoch: [1]  [440/500]  eta: 0:00:37  lr: 0.005000  loss: 6.1864 (6.1592)  loss_classifier: 5.6901 (5.6636)  loss_box_reg: 0.2235 (0.2094)  loss_objectness: 0.1732 (0.1854)  loss_rpn_box_reg: 0.0809 (0.1009)  time: 0.6205  data: 0.1417  max mem: 9296\n",
      "Training Epoch: [1]  [450/500]  eta: 0:00:31  lr: 0.005000  loss: 6.0371 (6.1616)  loss_classifier: 5.5116 (5.6663)  loss_box_reg: 0.2255 (0.2095)  loss_objectness: 0.1681 (0.1850)  loss_rpn_box_reg: 0.0969 (0.1008)  time: 0.6305  data: 0.1399  max mem: 9296\n",
      "Training Epoch: [1]  [460/500]  eta: 0:00:25  lr: 0.005000  loss: 6.0121 (6.1594)  loss_classifier: 5.4852 (5.6645)  loss_box_reg: 0.1983 (0.2092)  loss_objectness: 0.1684 (0.1847)  loss_rpn_box_reg: 0.0996 (0.1011)  time: 0.6300  data: 0.1381  max mem: 9296\n",
      "Training Epoch: [1]  [470/500]  eta: 0:00:18  lr: 0.005000  loss: 5.8973 (6.1593)  loss_classifier: 5.5281 (5.6657)  loss_box_reg: 0.1928 (0.2088)  loss_objectness: 0.1461 (0.1838)  loss_rpn_box_reg: 0.0930 (0.1010)  time: 0.6303  data: 0.1378  max mem: 9296\n",
      "Training Epoch: [1]  [480/500]  eta: 0:00:12  lr: 0.005000  loss: 6.0258 (6.1582)  loss_classifier: 5.5535 (5.6650)  loss_box_reg: 0.1939 (0.2088)  loss_objectness: 0.1511 (0.1834)  loss_rpn_box_reg: 0.0939 (0.1010)  time: 0.6206  data: 0.1369  max mem: 9296\n",
      "Training Epoch: [1]  [490/500]  eta: 0:00:06  lr: 0.005000  loss: 6.0258 (6.1562)  loss_classifier: 5.5168 (5.6642)  loss_box_reg: 0.1936 (0.2085)  loss_objectness: 0.1605 (0.1828)  loss_rpn_box_reg: 0.0889 (0.1007)  time: 0.6290  data: 0.1372  max mem: 9296\n",
      "Training Epoch: [1]  [499/500]  eta: 0:00:00  lr: 0.005000  loss: 5.9271 (6.1565)  loss_classifier: 5.4775 (5.6652)  loss_box_reg: 0.1884 (0.2084)  loss_objectness: 0.1564 (0.1824)  loss_rpn_box_reg: 0.0855 (0.1005)  time: 0.6524  data: 0.1376  max mem: 9296\n",
      "Training Epoch: [1] Total time: 0:05:16 (0.6322 s / it)\n",
      "creating index...\n",
      "index created!\n",
      "Test:  [  0/125]  eta: 0:01:56  model_time: 0.6531 (0.6531)  evaluator_time: 0.0330 (0.0330)  time: 0.9312  data: 0.2341  max mem: 9296\n",
      "Test:  [100/125]  eta: 0:00:15  model_time: 0.4061 (0.4138)  evaluator_time: 0.0330 (0.0343)  time: 0.6079  data: 0.1571  max mem: 9318\n",
      "Test:  [124/125]  eta: 0:00:00  model_time: 0.4191 (0.4145)  evaluator_time: 0.0340 (0.0356)  time: 0.6087  data: 0.1439  max mem: 9318\n",
      "Test: Total time: 0:01:15 (0.6048 s / it)\n",
      "Averaged stats: model_time: 0.4191 (0.4145)  evaluator_time: 0.0340 (0.0356)\n",
      "Accumulating evaluation results...\n",
      "DONE (t=1.28s).\n",
      "IoU metric: bbox\n",
      " Average Precision  (AP) @[ IoU=0.50:0.95 | area=   all | maxDets=100 ] = 0.004\n",
      " Average Precision  (AP) @[ IoU=0.50      | area=   all | maxDets=100 ] = 0.019\n",
      " Average Precision  (AP) @[ IoU=0.75      | area=   all | maxDets=100 ] = 0.001\n",
      " Average Precision  (AP) @[ IoU=0.50:0.95 | area= small | maxDets=100 ] = 0.001\n",
      " Average Precision  (AP) @[ IoU=0.50:0.95 | area=medium | maxDets=100 ] = 0.003\n",
      " Average Precision  (AP) @[ IoU=0.50:0.95 | area= large | maxDets=100 ] = 0.010\n",
      " Average Recall     (AR) @[ IoU=0.50:0.95 | area=   all | maxDets=  1 ] = 0.013\n",
      " Average Recall     (AR) @[ IoU=0.50:0.95 | area=   all | maxDets= 10 ] = 0.047\n",
      " Average Recall     (AR) @[ IoU=0.50:0.95 | area=   all | maxDets=100 ] = 0.080\n",
      " Average Recall     (AR) @[ IoU=0.50:0.95 | area= small | maxDets=100 ] = 0.011\n",
      " Average Recall     (AR) @[ IoU=0.50:0.95 | area=medium | maxDets=100 ] = 0.025\n",
      " Average Recall     (AR) @[ IoU=0.50:0.95 | area= large | maxDets=100 ] = 0.152\n",
      "Testing Epoch: [1]  [  0/125]  eta: 0:01:21  lr: 0.005000  loss: 6.1694 (6.1694)  loss_classifier: 5.6365 (5.6365)  loss_box_reg: 0.2300 (0.2300)  loss_objectness: 0.1515 (0.1515)  loss_rpn_box_reg: 0.1514 (0.1514)  time: 0.6541  data: 0.1450  max mem: 9318\n",
      "Testing Epoch: [1]  [100/125]  eta: 0:00:14  lr: 0.005000  loss: 5.8960 (6.0836)  loss_classifier: 5.4039 (5.5878)  loss_box_reg: 0.2248 (0.2440)  loss_objectness: 0.1483 (0.1527)  loss_rpn_box_reg: 0.0842 (0.0991)  time: 0.5862  data: 0.1482  max mem: 9318\n",
      "Testing Epoch: [1]  [124/125]  eta: 0:00:00  lr: 0.005000  loss: 6.0863 (6.1147)  loss_classifier: 5.6199 (5.6226)  loss_box_reg: 0.2002 (0.2399)  loss_objectness: 0.1426 (0.1528)  loss_rpn_box_reg: 0.0844 (0.0994)  time: 0.6036  data: 0.1486  max mem: 9356\n",
      "Testing Epoch: [1] Total time: 0:01:15 (0.6001 s / it)\n",
      "Training Epoch: [2]  [  0/500]  eta: 0:05:21  lr: 0.005000  loss: 7.1242 (7.1242)  loss_classifier: 6.6485 (6.6485)  loss_box_reg: 0.1832 (0.1832)  loss_objectness: 0.1814 (0.1814)  loss_rpn_box_reg: 0.1111 (0.1111)  time: 0.6431  data: 0.1360  max mem: 9356\n",
      "Training Epoch: [2]  [ 10/500]  eta: 0:05:17  lr: 0.005000  loss: 6.2778 (6.1688)  loss_classifier: 5.8229 (5.7027)  loss_box_reg: 0.1737 (0.2019)  loss_objectness: 0.1814 (0.1741)  loss_rpn_box_reg: 0.0917 (0.0900)  time: 0.6479  data: 0.1383  max mem: 9356\n",
      "Training Epoch: [2]  [ 20/500]  eta: 0:05:09  lr: 0.005000  loss: 6.0710 (6.2003)  loss_classifier: 5.6425 (5.7177)  loss_box_reg: 0.1972 (0.2100)  loss_objectness: 0.1771 (0.1758)  loss_rpn_box_reg: 0.0926 (0.0968)  time: 0.6450  data: 0.1396  max mem: 9356\n",
      "Training Epoch: [2]  [ 30/500]  eta: 0:05:02  lr: 0.005000  loss: 6.0529 (6.1734)  loss_classifier: 5.5803 (5.6920)  loss_box_reg: 0.2071 (0.2127)  loss_objectness: 0.1736 (0.1757)  loss_rpn_box_reg: 0.0908 (0.0930)  time: 0.6411  data: 0.1401  max mem: 9356\n",
      "Training Epoch: [2]  [ 40/500]  eta: 0:04:54  lr: 0.005000  loss: 6.1349 (6.1775)  loss_classifier: 5.6938 (5.6899)  loss_box_reg: 0.2191 (0.2209)  loss_objectness: 0.1621 (0.1726)  loss_rpn_box_reg: 0.0867 (0.0942)  time: 0.6363  data: 0.1412  max mem: 9356\n",
      "Training Epoch: [2]  [ 50/500]  eta: 0:04:49  lr: 0.005000  loss: 6.1349 (6.2047)  loss_classifier: 5.6938 (5.7182)  loss_box_reg: 0.2145 (0.2190)  loss_objectness: 0.1621 (0.1732)  loss_rpn_box_reg: 0.0867 (0.0943)  time: 0.6404  data: 0.1450  max mem: 9356\n",
      "Training Epoch: [2]  [ 60/500]  eta: 0:04:44  lr: 0.005000  loss: 5.8857 (6.1385)  loss_classifier: 5.4322 (5.6592)  loss_box_reg: 0.2145 (0.2183)  loss_objectness: 0.1579 (0.1704)  loss_rpn_box_reg: 0.0809 (0.0906)  time: 0.6568  data: 0.1477  max mem: 9356\n",
      "Training Epoch: [2]  [ 70/500]  eta: 0:04:37  lr: 0.005000  loss: 5.8614 (6.1167)  loss_classifier: 5.3898 (5.6392)  loss_box_reg: 0.2177 (0.2180)  loss_objectness: 0.1476 (0.1697)  loss_rpn_box_reg: 0.0628 (0.0898)  time: 0.6571  data: 0.1463  max mem: 9356\n",
      "Training Epoch: [2]  [ 80/500]  eta: 0:04:31  lr: 0.005000  loss: 6.0758 (6.1224)  loss_classifier: 5.6251 (5.6502)  loss_box_reg: 0.2063 (0.2180)  loss_objectness: 0.1476 (0.1674)  loss_rpn_box_reg: 0.0624 (0.0868)  time: 0.6430  data: 0.1435  max mem: 9356\n",
      "Training Epoch: [2]  [ 90/500]  eta: 0:04:25  lr: 0.005000  loss: 6.0054 (6.0979)  loss_classifier: 5.5959 (5.6249)  loss_box_reg: 0.2019 (0.2170)  loss_objectness: 0.1504 (0.1677)  loss_rpn_box_reg: 0.0669 (0.0884)  time: 0.6558  data: 0.1416  max mem: 9356\n",
      "Training Epoch: [2]  [100/500]  eta: 0:04:18  lr: 0.005000  loss: 6.1195 (6.1146)  loss_classifier: 5.7020 (5.6459)  loss_box_reg: 0.1891 (0.2139)  loss_objectness: 0.1610 (0.1669)  loss_rpn_box_reg: 0.0798 (0.0880)  time: 0.6508  data: 0.1386  max mem: 9356\n",
      "Training Epoch: [2]  [110/500]  eta: 0:04:10  lr: 0.005000  loss: 6.2393 (6.1164)  loss_classifier: 5.7747 (5.6422)  loss_box_reg: 0.1844 (0.2146)  loss_objectness: 0.1610 (0.1674)  loss_rpn_box_reg: 0.0945 (0.0922)  time: 0.6191  data: 0.1399  max mem: 9356\n",
      "Training Epoch: [2]  [120/500]  eta: 0:04:04  lr: 0.005000  loss: 5.9934 (6.1188)  loss_classifier: 5.5028 (5.6459)  loss_box_reg: 0.1938 (0.2110)  loss_objectness: 0.1742 (0.1686)  loss_rpn_box_reg: 0.1070 (0.0933)  time: 0.6247  data: 0.1422  max mem: 9356\n",
      "Training Epoch: [2]  [130/500]  eta: 0:03:56  lr: 0.005000  loss: 6.0051 (6.1318)  loss_classifier: 5.5818 (5.6572)  loss_box_reg: 0.1879 (0.2113)  loss_objectness: 0.1759 (0.1694)  loss_rpn_box_reg: 0.0899 (0.0939)  time: 0.6223  data: 0.1416  max mem: 9356\n",
      "Training Epoch: [2]  [140/500]  eta: 0:03:49  lr: 0.005000  loss: 6.0051 (6.1247)  loss_classifier: 5.5532 (5.6490)  loss_box_reg: 0.2279 (0.2126)  loss_objectness: 0.1816 (0.1703)  loss_rpn_box_reg: 0.0790 (0.0928)  time: 0.6148  data: 0.1439  max mem: 9356\n",
      "Training Epoch: [2]  [150/500]  eta: 0:03:43  lr: 0.005000  loss: 6.0682 (6.1283)  loss_classifier: 5.4994 (5.6530)  loss_box_reg: 0.2279 (0.2124)  loss_objectness: 0.1837 (0.1709)  loss_rpn_box_reg: 0.0776 (0.0920)  time: 0.6370  data: 0.1463  max mem: 9356\n",
      "Training Epoch: [2]  [160/500]  eta: 0:03:36  lr: 0.005000  loss: 6.1947 (6.1320)  loss_classifier: 5.6627 (5.6554)  loss_box_reg: 0.2194 (0.2126)  loss_objectness: 0.1690 (0.1713)  loss_rpn_box_reg: 0.0809 (0.0927)  time: 0.6288  data: 0.1434  max mem: 9356\n",
      "Training Epoch: [2]  [170/500]  eta: 0:03:29  lr: 0.005000  loss: 6.3664 (6.1501)  loss_classifier: 5.7433 (5.6727)  loss_box_reg: 0.2056 (0.2133)  loss_objectness: 0.1695 (0.1710)  loss_rpn_box_reg: 0.0959 (0.0932)  time: 0.6092  data: 0.1397  max mem: 9356\n",
      "Training Epoch: [2]  [180/500]  eta: 0:03:24  lr: 0.005000  loss: 6.2224 (6.1487)  loss_classifier: 5.7433 (5.6723)  loss_box_reg: 0.2014 (0.2126)  loss_objectness: 0.1674 (0.1704)  loss_rpn_box_reg: 0.0803 (0.0933)  time: 0.6383  data: 0.1476  max mem: 9356\n",
      "Training Epoch: [2]  [190/500]  eta: 0:03:18  lr: 0.005000  loss: 5.9859 (6.1489)  loss_classifier: 5.4650 (5.6722)  loss_box_reg: 0.2014 (0.2123)  loss_objectness: 0.1608 (0.1702)  loss_rpn_box_reg: 0.0874 (0.0943)  time: 0.6658  data: 0.1470  max mem: 9356\n",
      "Training Epoch: [2]  [200/500]  eta: 0:03:11  lr: 0.005000  loss: 6.0559 (6.1492)  loss_classifier: 5.5354 (5.6738)  loss_box_reg: 0.2068 (0.2119)  loss_objectness: 0.1608 (0.1701)  loss_rpn_box_reg: 0.0818 (0.0934)  time: 0.6458  data: 0.1407  max mem: 9356\n",
      "Training Epoch: [2]  [210/500]  eta: 0:03:05  lr: 0.005000  loss: 6.0699 (6.1415)  loss_classifier: 5.5697 (5.6654)  loss_box_reg: 0.2139 (0.2122)  loss_objectness: 0.1652 (0.1701)  loss_rpn_box_reg: 0.0796 (0.0938)  time: 0.6342  data: 0.1479  max mem: 9356\n",
      "Training Epoch: [2]  [220/500]  eta: 0:02:58  lr: 0.005000  loss: 6.0831 (6.1399)  loss_classifier: 5.5927 (5.6649)  loss_box_reg: 0.2225 (0.2121)  loss_objectness: 0.1710 (0.1699)  loss_rpn_box_reg: 0.0780 (0.0931)  time: 0.6440  data: 0.1454  max mem: 9356\n",
      "Training Epoch: [2]  [230/500]  eta: 0:02:52  lr: 0.005000  loss: 6.0831 (6.1379)  loss_classifier: 5.5608 (5.6618)  loss_box_reg: 0.2197 (0.2129)  loss_objectness: 0.1656 (0.1698)  loss_rpn_box_reg: 0.0753 (0.0933)  time: 0.6354  data: 0.1382  max mem: 9356\n",
      "Training Epoch: [2]  [240/500]  eta: 0:02:46  lr: 0.005000  loss: 6.0996 (6.1415)  loss_classifier: 5.5608 (5.6668)  loss_box_reg: 0.2197 (0.2125)  loss_objectness: 0.1656 (0.1695)  loss_rpn_box_reg: 0.0865 (0.0927)  time: 0.6354  data: 0.1405  max mem: 9356\n",
      "Training Epoch: [2]  [250/500]  eta: 0:02:39  lr: 0.005000  loss: 6.2699 (6.1477)  loss_classifier: 5.7727 (5.6738)  loss_box_reg: 0.2147 (0.2128)  loss_objectness: 0.1582 (0.1694)  loss_rpn_box_reg: 0.0736 (0.0917)  time: 0.6443  data: 0.1447  max mem: 9356\n",
      "Training Epoch: [2]  [260/500]  eta: 0:02:33  lr: 0.005000  loss: 6.1912 (6.1500)  loss_classifier: 5.7132 (5.6737)  loss_box_reg: 0.2366 (0.2142)  loss_objectness: 0.1680 (0.1694)  loss_rpn_box_reg: 0.0879 (0.0927)  time: 0.6413  data: 0.1475  max mem: 9356\n",
      "Training Epoch: [2]  [270/500]  eta: 0:02:27  lr: 0.005000  loss: 6.1064 (6.1477)  loss_classifier: 5.5815 (5.6710)  loss_box_reg: 0.2271 (0.2147)  loss_objectness: 0.1680 (0.1693)  loss_rpn_box_reg: 0.0973 (0.0927)  time: 0.6430  data: 0.1473  max mem: 9356\n",
      "Training Epoch: [2]  [280/500]  eta: 0:02:20  lr: 0.005000  loss: 6.0614 (6.1424)  loss_classifier: 5.5481 (5.6641)  loss_box_reg: 0.2347 (0.2162)  loss_objectness: 0.1752 (0.1696)  loss_rpn_box_reg: 0.0793 (0.0925)  time: 0.6350  data: 0.1448  max mem: 9356\n",
      "Training Epoch: [2]  [290/500]  eta: 0:02:14  lr: 0.005000  loss: 6.1170 (6.1537)  loss_classifier: 5.5612 (5.6735)  loss_box_reg: 0.2514 (0.2174)  loss_objectness: 0.1740 (0.1700)  loss_rpn_box_reg: 0.0867 (0.0928)  time: 0.6239  data: 0.1432  max mem: 9356\n",
      "Training Epoch: [2]  [300/500]  eta: 0:02:07  lr: 0.005000  loss: 6.4500 (6.1639)  loss_classifier: 5.9333 (5.6855)  loss_box_reg: 0.1994 (0.2163)  loss_objectness: 0.1614 (0.1698)  loss_rpn_box_reg: 0.0741 (0.0924)  time: 0.6353  data: 0.1405  max mem: 9356\n",
      "Training Epoch: [2]  [310/500]  eta: 0:02:01  lr: 0.005000  loss: 6.2269 (6.1664)  loss_classifier: 5.7755 (5.6882)  loss_box_reg: 0.1699 (0.2162)  loss_objectness: 0.1518 (0.1693)  loss_rpn_box_reg: 0.0741 (0.0927)  time: 0.6382  data: 0.1372  max mem: 9356\n",
      "Training Epoch: [2]  [320/500]  eta: 0:01:54  lr: 0.005000  loss: 6.1074 (6.1682)  loss_classifier: 5.5470 (5.6890)  loss_box_reg: 0.2097 (0.2166)  loss_objectness: 0.1635 (0.1694)  loss_rpn_box_reg: 0.0996 (0.0932)  time: 0.6303  data: 0.1410  max mem: 9356\n",
      "Training Epoch: [2]  [330/500]  eta: 0:01:48  lr: 0.005000  loss: 6.0866 (6.1708)  loss_classifier: 5.6532 (5.6918)  loss_box_reg: 0.2035 (0.2161)  loss_objectness: 0.1686 (0.1695)  loss_rpn_box_reg: 0.0904 (0.0933)  time: 0.6261  data: 0.1429  max mem: 9356\n",
      "Training Epoch: [2]  [340/500]  eta: 0:01:42  lr: 0.005000  loss: 6.2818 (6.1744)  loss_classifier: 5.7906 (5.6973)  loss_box_reg: 0.1957 (0.2155)  loss_objectness: 0.1625 (0.1690)  loss_rpn_box_reg: 0.0714 (0.0926)  time: 0.6391  data: 0.1411  max mem: 9356\n",
      "Training Epoch: [2]  [350/500]  eta: 0:01:35  lr: 0.005000  loss: 6.2749 (6.1757)  loss_classifier: 5.8166 (5.6989)  loss_box_reg: 0.1957 (0.2152)  loss_objectness: 0.1501 (0.1689)  loss_rpn_box_reg: 0.0769 (0.0927)  time: 0.6476  data: 0.1430  max mem: 9356\n",
      "Training Epoch: [2]  [360/500]  eta: 0:01:29  lr: 0.005000  loss: 6.2268 (6.1748)  loss_classifier: 5.8166 (5.6976)  loss_box_reg: 0.2252 (0.2155)  loss_objectness: 0.1547 (0.1686)  loss_rpn_box_reg: 0.0962 (0.0931)  time: 0.6318  data: 0.1446  max mem: 9356\n",
      "Training Epoch: [2]  [370/500]  eta: 0:01:22  lr: 0.005000  loss: 6.0005 (6.1721)  loss_classifier: 5.5087 (5.6952)  loss_box_reg: 0.2168 (0.2151)  loss_objectness: 0.1616 (0.1684)  loss_rpn_box_reg: 0.0930 (0.0934)  time: 0.6448  data: 0.1468  max mem: 9356\n",
      "Training Epoch: [2]  [380/500]  eta: 0:01:16  lr: 0.005000  loss: 6.1491 (6.1800)  loss_classifier: 5.7320 (5.7030)  loss_box_reg: 0.2168 (0.2153)  loss_objectness: 0.1751 (0.1684)  loss_rpn_box_reg: 0.0828 (0.0933)  time: 0.6630  data: 0.1471  max mem: 9356\n",
      "Training Epoch: [2]  [390/500]  eta: 0:01:10  lr: 0.005000  loss: 6.3262 (6.1791)  loss_classifier: 5.8408 (5.7029)  loss_box_reg: 0.1906 (0.2147)  loss_objectness: 0.1751 (0.1683)  loss_rpn_box_reg: 0.0828 (0.0932)  time: 0.6653  data: 0.1468  max mem: 9356\n",
      "Training Epoch: [2]  [400/500]  eta: 0:01:03  lr: 0.005000  loss: 6.3262 (6.1869)  loss_classifier: 5.8408 (5.7105)  loss_box_reg: 0.1906 (0.2146)  loss_objectness: 0.1601 (0.1687)  loss_rpn_box_reg: 0.0791 (0.0931)  time: 0.6575  data: 0.1461  max mem: 9356\n",
      "Training Epoch: [2]  [410/500]  eta: 0:00:57  lr: 0.005000  loss: 6.2506 (6.1863)  loss_classifier: 5.8397 (5.7096)  loss_box_reg: 0.2074 (0.2144)  loss_objectness: 0.1739 (0.1692)  loss_rpn_box_reg: 0.0781 (0.0931)  time: 0.6386  data: 0.1442  max mem: 9356\n",
      "Training Epoch: [2]  [420/500]  eta: 0:00:51  lr: 0.005000  loss: 6.0564 (6.1850)  loss_classifier: 5.6003 (5.7086)  loss_box_reg: 0.2226 (0.2145)  loss_objectness: 0.1755 (0.1689)  loss_rpn_box_reg: 0.0781 (0.0931)  time: 0.6370  data: 0.1449  max mem: 9356\n",
      "Training Epoch: [2]  [430/500]  eta: 0:00:44  lr: 0.005000  loss: 5.9718 (6.1788)  loss_classifier: 5.5379 (5.7032)  loss_box_reg: 0.1976 (0.2140)  loss_objectness: 0.1539 (0.1687)  loss_rpn_box_reg: 0.0835 (0.0929)  time: 0.6568  data: 0.1449  max mem: 9356\n",
      "Training Epoch: [2]  [440/500]  eta: 0:00:38  lr: 0.005000  loss: 5.9106 (6.1767)  loss_classifier: 5.4957 (5.7007)  loss_box_reg: 0.1909 (0.2141)  loss_objectness: 0.1539 (0.1686)  loss_rpn_box_reg: 0.0969 (0.0933)  time: 0.6480  data: 0.1426  max mem: 9356\n",
      "Training Epoch: [2]  [450/500]  eta: 0:00:32  lr: 0.005000  loss: 6.1936 (6.1796)  loss_classifier: 5.7238 (5.7029)  loss_box_reg: 0.2284 (0.2147)  loss_objectness: 0.1663 (0.1686)  loss_rpn_box_reg: 0.1015 (0.0934)  time: 0.6298  data: 0.1436  max mem: 9356\n",
      "Training Epoch: [2]  [460/500]  eta: 0:00:25  lr: 0.005000  loss: 6.5093 (6.1920)  loss_classifier: 6.0875 (5.7156)  loss_box_reg: 0.2284 (0.2146)  loss_objectness: 0.1612 (0.1684)  loss_rpn_box_reg: 0.0802 (0.0933)  time: 0.6218  data: 0.1429  max mem: 9356\n",
      "Training Epoch: [2]  [470/500]  eta: 0:00:19  lr: 0.005000  loss: 6.5216 (6.1967)  loss_classifier: 6.0007 (5.7195)  loss_box_reg: 0.2209 (0.2149)  loss_objectness: 0.1712 (0.1689)  loss_rpn_box_reg: 0.0792 (0.0934)  time: 0.6458  data: 0.1424  max mem: 9356\n",
      "Training Epoch: [2]  [480/500]  eta: 0:00:12  lr: 0.005000  loss: 6.2215 (6.1960)  loss_classifier: 5.7880 (5.7190)  loss_box_reg: 0.2091 (0.2146)  loss_objectness: 0.1867 (0.1690)  loss_rpn_box_reg: 0.0817 (0.0934)  time: 0.6649  data: 0.1451  max mem: 9356\n",
      "Training Epoch: [2]  [490/500]  eta: 0:00:06  lr: 0.005000  loss: 6.0531 (6.1930)  loss_classifier: 5.5595 (5.7143)  loss_box_reg: 0.2023 (0.2152)  loss_objectness: 0.1836 (0.1697)  loss_rpn_box_reg: 0.0982 (0.0938)  time: 0.6456  data: 0.1464  max mem: 9356\n",
      "Training Epoch: [2]  [499/500]  eta: 0:00:00  lr: 0.005000  loss: 6.0513 (6.1913)  loss_classifier: 5.6515 (5.7120)  loss_box_reg: 0.2431 (0.2153)  loss_objectness: 0.1858 (0.1699)  loss_rpn_box_reg: 0.1128 (0.0940)  time: 0.6472  data: 0.1445  max mem: 9356\n",
      "Training Epoch: [2] Total time: 0:05:20 (0.6406 s / it)\n",
      "creating index...\n",
      "index created!\n",
      "Test:  [  0/125]  eta: 0:02:07  model_time: 0.8182 (0.8182)  evaluator_time: 0.0330 (0.0330)  time: 1.0162  data: 0.1560  max mem: 9356\n",
      "Test:  [100/125]  eta: 0:00:16  model_time: 0.4691 (0.4797)  evaluator_time: 0.0340 (0.0362)  time: 0.6640  data: 0.1556  max mem: 10017\n",
      "Test:  [124/125]  eta: 0:00:00  model_time: 0.4721 (0.4786)  evaluator_time: 0.0350 (0.0377)  time: 0.6679  data: 0.1503  max mem: 10017\n",
      "Test: Total time: 0:01:24 (0.6750 s / it)\n",
      "Averaged stats: model_time: 0.4721 (0.4786)  evaluator_time: 0.0350 (0.0377)\n",
      "Accumulating evaluation results...\n",
      "DONE (t=1.24s).\n",
      "IoU metric: bbox\n",
      " Average Precision  (AP) @[ IoU=0.50:0.95 | area=   all | maxDets=100 ] = 0.005\n",
      " Average Precision  (AP) @[ IoU=0.50      | area=   all | maxDets=100 ] = 0.019\n",
      " Average Precision  (AP) @[ IoU=0.75      | area=   all | maxDets=100 ] = 0.001\n",
      " Average Precision  (AP) @[ IoU=0.50:0.95 | area= small | maxDets=100 ] = 0.002\n",
      " Average Precision  (AP) @[ IoU=0.50:0.95 | area=medium | maxDets=100 ] = 0.006\n",
      " Average Precision  (AP) @[ IoU=0.50:0.95 | area= large | maxDets=100 ] = 0.011\n",
      " Average Recall     (AR) @[ IoU=0.50:0.95 | area=   all | maxDets=  1 ] = 0.008\n",
      " Average Recall     (AR) @[ IoU=0.50:0.95 | area=   all | maxDets= 10 ] = 0.043\n",
      " Average Recall     (AR) @[ IoU=0.50:0.95 | area=   all | maxDets=100 ] = 0.083\n",
      " Average Recall     (AR) @[ IoU=0.50:0.95 | area= small | maxDets=100 ] = 0.014\n",
      " Average Recall     (AR) @[ IoU=0.50:0.95 | area=medium | maxDets=100 ] = 0.043\n",
      " Average Recall     (AR) @[ IoU=0.50:0.95 | area= large | maxDets=100 ] = 0.150\n",
      "Testing Epoch: [2]  [  0/125]  eta: 0:01:25  lr: 0.005000  loss: 6.1563 (6.1563)  loss_classifier: 5.6403 (5.6403)  loss_box_reg: 0.2173 (0.2173)  loss_objectness: 0.1424 (0.1424)  loss_rpn_box_reg: 0.1562 (0.1562)  time: 0.6842  data: 0.1510  max mem: 10017\n",
      "Testing Epoch: [2]  [100/125]  eta: 0:00:15  lr: 0.005000  loss: 5.9440 (6.0688)  loss_classifier: 5.3779 (5.5796)  loss_box_reg: 0.2290 (0.2416)  loss_objectness: 0.1454 (0.1484)  loss_rpn_box_reg: 0.0800 (0.0992)  time: 0.6011  data: 0.1457  max mem: 10017\n",
      "Testing Epoch: [2]  [124/125]  eta: 0:00:00  lr: 0.005000  loss: 6.0567 (6.1007)  loss_classifier: 5.6225 (5.6147)  loss_box_reg: 0.2118 (0.2392)  loss_objectness: 0.1360 (0.1483)  loss_rpn_box_reg: 0.0761 (0.0984)  time: 0.6118  data: 0.1477  max mem: 10017\n",
      "Testing Epoch: [2] Total time: 0:01:16 (0.6146 s / it)\n",
      "Training Epoch: [3]  [  0/500]  eta: 0:05:11  lr: 0.005000  loss: 6.0528 (6.0528)  loss_classifier: 5.6962 (5.6962)  loss_box_reg: 0.1789 (0.1789)  loss_objectness: 0.1268 (0.1268)  loss_rpn_box_reg: 0.0510 (0.0510)  time: 0.6221  data: 0.1390  max mem: 10017\n",
      "Training Epoch: [3]  [ 10/500]  eta: 0:05:13  lr: 0.005000  loss: 6.1397 (6.3333)  loss_classifier: 5.7483 (5.9109)  loss_box_reg: 0.1789 (0.1777)  loss_objectness: 0.1475 (0.1570)  loss_rpn_box_reg: 0.0821 (0.0878)  time: 0.6401  data: 0.1363  max mem: 10017\n",
      "Training Epoch: [3]  [ 20/500]  eta: 0:04:59  lr: 0.005000  loss: 6.4016 (6.3815)  loss_classifier: 5.8346 (5.9143)  loss_box_reg: 0.2061 (0.2044)  loss_objectness: 0.1632 (0.1659)  loss_rpn_box_reg: 0.0821 (0.0969)  time: 0.6238  data: 0.1378  max mem: 10017\n",
      "Training Epoch: [3]  [ 30/500]  eta: 0:04:54  lr: 0.005000  loss: 6.3515 (6.3646)  loss_classifier: 5.8611 (5.8952)  loss_box_reg: 0.2333 (0.2084)  loss_objectness: 0.1812 (0.1680)  loss_rpn_box_reg: 0.0750 (0.0929)  time: 0.6191  data: 0.1413  max mem: 10017\n",
      "Training Epoch: [3]  [ 40/500]  eta: 0:04:49  lr: 0.005000  loss: 6.3515 (6.3696)  loss_classifier: 5.7122 (5.8892)  loss_box_reg: 0.2142 (0.2099)  loss_objectness: 0.1778 (0.1724)  loss_rpn_box_reg: 0.0896 (0.0981)  time: 0.6352  data: 0.1447  max mem: 10017\n",
      "Training Epoch: [3]  [ 50/500]  eta: 0:04:43  lr: 0.005000  loss: 6.0131 (6.2891)  loss_classifier: 5.4720 (5.8026)  loss_box_reg: 0.2206 (0.2166)  loss_objectness: 0.1699 (0.1696)  loss_rpn_box_reg: 0.0993 (0.1002)  time: 0.6370  data: 0.1423  max mem: 10017\n",
      "Training Epoch: [3]  [ 60/500]  eta: 0:04:37  lr: 0.005000  loss: 6.0344 (6.2848)  loss_classifier: 5.4720 (5.7908)  loss_box_reg: 0.2561 (0.2213)  loss_objectness: 0.1666 (0.1715)  loss_rpn_box_reg: 0.1007 (0.1014)  time: 0.6303  data: 0.1388  max mem: 10017\n",
      "Training Epoch: [3]  [ 70/500]  eta: 0:04:30  lr: 0.005000  loss: 6.1789 (6.2738)  loss_classifier: 5.7636 (5.7842)  loss_box_reg: 0.2418 (0.2226)  loss_objectness: 0.1501 (0.1670)  loss_rpn_box_reg: 0.0902 (0.0999)  time: 0.6250  data: 0.1378  max mem: 10017\n",
      "Training Epoch: [3]  [ 80/500]  eta: 0:04:25  lr: 0.005000  loss: 6.1529 (6.2800)  loss_classifier: 5.6541 (5.7906)  loss_box_reg: 0.2193 (0.2231)  loss_objectness: 0.1503 (0.1668)  loss_rpn_box_reg: 0.0886 (0.0995)  time: 0.6361  data: 0.1393  max mem: 10017\n",
      "Training Epoch: [3]  [ 90/500]  eta: 0:04:21  lr: 0.005000  loss: 6.1605 (6.2732)  loss_classifier: 5.6392 (5.7912)  loss_box_reg: 0.2028 (0.2204)  loss_objectness: 0.1586 (0.1653)  loss_rpn_box_reg: 0.0726 (0.0964)  time: 0.6695  data: 0.1446  max mem: 10017\n",
      "Training Epoch: [3]  [100/500]  eta: 0:04:17  lr: 0.005000  loss: 6.0477 (6.2459)  loss_classifier: 5.7276 (5.7689)  loss_box_reg: 0.2023 (0.2178)  loss_objectness: 0.1439 (0.1640)  loss_rpn_box_reg: 0.0714 (0.0951)  time: 0.6892  data: 0.1492  max mem: 10017\n",
      "Training Epoch: [3]  [110/500]  eta: 0:04:11  lr: 0.005000  loss: 6.1367 (6.2464)  loss_classifier: 5.7380 (5.7725)  loss_box_reg: 0.1862 (0.2154)  loss_objectness: 0.1439 (0.1643)  loss_rpn_box_reg: 0.0792 (0.0943)  time: 0.6730  data: 0.1494  max mem: 10017\n",
      "Training Epoch: [3]  [120/500]  eta: 0:04:05  lr: 0.005000  loss: 6.1376 (6.2374)  loss_classifier: 5.7482 (5.7631)  loss_box_reg: 0.2066 (0.2171)  loss_objectness: 0.1446 (0.1632)  loss_rpn_box_reg: 0.0824 (0.0939)  time: 0.6577  data: 0.1483  max mem: 10017\n",
      "Training Epoch: [3]  [130/500]  eta: 0:03:58  lr: 0.005000  loss: 6.0868 (6.2440)  loss_classifier: 5.5934 (5.7700)  loss_box_reg: 0.2111 (0.2168)  loss_objectness: 0.1534 (0.1639)  loss_rpn_box_reg: 0.0779 (0.0934)  time: 0.6482  data: 0.1486  max mem: 10017\n",
      "Training Epoch: [3]  [140/500]  eta: 0:03:51  lr: 0.005000  loss: 6.2723 (6.2566)  loss_classifier: 5.7930 (5.7795)  loss_box_reg: 0.2262 (0.2182)  loss_objectness: 0.1704 (0.1652)  loss_rpn_box_reg: 0.0780 (0.0936)  time: 0.6324  data: 0.1453  max mem: 10017\n",
      "Training Epoch: [3]  [150/500]  eta: 0:03:44  lr: 0.005000  loss: 6.2052 (6.2485)  loss_classifier: 5.6239 (5.7683)  loss_box_reg: 0.2525 (0.2199)  loss_objectness: 0.1731 (0.1665)  loss_rpn_box_reg: 0.0842 (0.0939)  time: 0.6241  data: 0.1450  max mem: 10017\n",
      "Training Epoch: [3]  [160/500]  eta: 0:03:38  lr: 0.005000  loss: 6.1958 (6.2460)  loss_classifier: 5.6239 (5.7669)  loss_box_reg: 0.2178 (0.2193)  loss_objectness: 0.1688 (0.1667)  loss_rpn_box_reg: 0.0857 (0.0930)  time: 0.6285  data: 0.1524  max mem: 10017\n",
      "Training Epoch: [3]  [170/500]  eta: 0:03:32  lr: 0.005000  loss: 6.2394 (6.2489)  loss_classifier: 5.7895 (5.7687)  loss_box_reg: 0.2173 (0.2196)  loss_objectness: 0.1560 (0.1666)  loss_rpn_box_reg: 0.0865 (0.0940)  time: 0.6493  data: 0.1536  max mem: 10017\n",
      "Training Epoch: [3]  [180/500]  eta: 0:03:25  lr: 0.005000  loss: 6.1799 (6.2402)  loss_classifier: 5.6229 (5.7611)  loss_box_reg: 0.2026 (0.2195)  loss_objectness: 0.1576 (0.1661)  loss_rpn_box_reg: 0.0818 (0.0934)  time: 0.6612  data: 0.1497  max mem: 10017\n",
      "Training Epoch: [3]  [190/500]  eta: 0:03:19  lr: 0.005000  loss: 6.0557 (6.2259)  loss_classifier: 5.5048 (5.7503)  loss_box_reg: 0.1794 (0.2181)  loss_objectness: 0.1501 (0.1649)  loss_rpn_box_reg: 0.0733 (0.0926)  time: 0.6561  data: 0.1451  max mem: 10017\n",
      "Training Epoch: [3]  [200/500]  eta: 0:03:13  lr: 0.005000  loss: 6.0557 (6.2174)  loss_classifier: 5.6162 (5.7433)  loss_box_reg: 0.1885 (0.2165)  loss_objectness: 0.1445 (0.1654)  loss_rpn_box_reg: 0.0728 (0.0923)  time: 0.6545  data: 0.1404  max mem: 10017\n",
      "Training Epoch: [3]  [210/500]  eta: 0:03:07  lr: 0.005000  loss: 6.1305 (6.2138)  loss_classifier: 5.6927 (5.7424)  loss_box_reg: 0.2051 (0.2160)  loss_objectness: 0.1605 (0.1645)  loss_rpn_box_reg: 0.0639 (0.0909)  time: 0.6678  data: 0.1417  max mem: 10017\n",
      "Training Epoch: [3]  [220/500]  eta: 0:03:00  lr: 0.005000  loss: 6.1459 (6.2024)  loss_classifier: 5.6842 (5.7305)  loss_box_reg: 0.2163 (0.2170)  loss_objectness: 0.1544 (0.1644)  loss_rpn_box_reg: 0.0652 (0.0905)  time: 0.6561  data: 0.1434  max mem: 10017\n",
      "Training Epoch: [3]  [230/500]  eta: 0:02:54  lr: 0.005000  loss: 5.9950 (6.2022)  loss_classifier: 5.4528 (5.7313)  loss_box_reg: 0.2281 (0.2167)  loss_objectness: 0.1539 (0.1640)  loss_rpn_box_reg: 0.0711 (0.0902)  time: 0.6444  data: 0.1459  max mem: 10017\n",
      "Training Epoch: [3]  [240/500]  eta: 0:02:47  lr: 0.005000  loss: 6.3903 (6.2145)  loss_classifier: 5.8391 (5.7415)  loss_box_reg: 0.1991 (0.2175)  loss_objectness: 0.1679 (0.1649)  loss_rpn_box_reg: 0.0764 (0.0906)  time: 0.6402  data: 0.1491  max mem: 10017\n",
      "Training Epoch: [3]  [250/500]  eta: 0:02:41  lr: 0.005000  loss: 6.3069 (6.2072)  loss_classifier: 5.7405 (5.7335)  loss_box_reg: 0.2332 (0.2183)  loss_objectness: 0.1786 (0.1650)  loss_rpn_box_reg: 0.0864 (0.0904)  time: 0.6167  data: 0.1496  max mem: 10017\n",
      "Training Epoch: [3]  [260/500]  eta: 0:02:34  lr: 0.005000  loss: 6.0251 (6.2049)  loss_classifier: 5.5705 (5.7328)  loss_box_reg: 0.2183 (0.2177)  loss_objectness: 0.1453 (0.1643)  loss_rpn_box_reg: 0.0823 (0.0902)  time: 0.6426  data: 0.1489  max mem: 10017\n",
      "Training Epoch: [3]  [270/500]  eta: 0:02:28  lr: 0.005000  loss: 6.3239 (6.2082)  loss_classifier: 5.8502 (5.7358)  loss_box_reg: 0.2048 (0.2180)  loss_objectness: 0.1452 (0.1639)  loss_rpn_box_reg: 0.0823 (0.0906)  time: 0.6624  data: 0.1491  max mem: 10017\n",
      "Training Epoch: [3]  [280/500]  eta: 0:02:22  lr: 0.005000  loss: 6.2509 (6.2065)  loss_classifier: 5.8021 (5.7337)  loss_box_reg: 0.2078 (0.2184)  loss_objectness: 0.1624 (0.1643)  loss_rpn_box_reg: 0.0775 (0.0901)  time: 0.6541  data: 0.1499  max mem: 10017\n",
      "Training Epoch: [3]  [290/500]  eta: 0:02:15  lr: 0.005000  loss: 6.2282 (6.2083)  loss_classifier: 5.7944 (5.7361)  loss_box_reg: 0.2149 (0.2182)  loss_objectness: 0.1642 (0.1642)  loss_rpn_box_reg: 0.0638 (0.0898)  time: 0.6542  data: 0.1503  max mem: 10017\n",
      "Training Epoch: [3]  [300/500]  eta: 0:02:09  lr: 0.005000  loss: 6.3018 (6.2110)  loss_classifier: 5.8490 (5.7399)  loss_box_reg: 0.2089 (0.2181)  loss_objectness: 0.1462 (0.1635)  loss_rpn_box_reg: 0.0657 (0.0896)  time: 0.6674  data: 0.1481  max mem: 10017\n",
      "Training Epoch: [3]  [310/500]  eta: 0:02:02  lr: 0.005000  loss: 6.1789 (6.2079)  loss_classifier: 5.7496 (5.7355)  loss_box_reg: 0.2189 (0.2194)  loss_objectness: 0.1631 (0.1636)  loss_rpn_box_reg: 0.0657 (0.0894)  time: 0.6658  data: 0.1528  max mem: 10017\n",
      "Training Epoch: [3]  [320/500]  eta: 0:01:56  lr: 0.005000  loss: 6.1059 (6.2089)  loss_classifier: 5.6515 (5.7369)  loss_box_reg: 0.2233 (0.2186)  loss_objectness: 0.1700 (0.1636)  loss_rpn_box_reg: 0.0800 (0.0897)  time: 0.6545  data: 0.1536  max mem: 10017\n"
     ]
    }
   ],
   "source": [
    "MODEL_TYPE='CLIP-FRCNN'\n",
    "# CLIP-Backbone-FRCNN creates a FRCNN using CLIP features as the model backbone\n",
    "# CLIP-FRCNN creates a FRCNN using CLIP features as the model backbone, and embeds the rois using CLIP's embedding\n",
    "# Fully custom vanilla uses a pre-trained resnet50 backbone, and generates new anchor generator and roi pooling\n",
    "# Custom-Vanilla uses the pre-trained FRCNN from pytorch and replaces the roi heads only\n",
    "#\n",
    "import clip\n",
    "text_tokens = clip.tokenize([\"This is \" + desc for desc in item_list]).cuda()\n",
    "\n",
    "model = create_model(MODEL_TYPE, text_tokens)\n",
    "test = False\n",
    "#\n",
    "#\n",
    "# for i in range(1):\n",
    "#     test_image = [torch.rand(3, 224, 224).cuda()]\n",
    "#     model.eval()\n",
    "#     out = model(test_image)\n",
    "#     print(out[0]['labels'].shape)\n",
    "#torch.autograd.set_detect_anomaly(True)\n",
    "\n",
    "if test:\n",
    "    train_model(model, evaluation_dataset, evaluation_dataset, num_epochs=config.NUM_EPOCHS, MODEL_TYPE=MODEL_TYPE, batch_size=8)\n",
    "else:\n",
    "    train_model(model, train_dataset, evaluation_dataset, num_epochs=config.NUM_EPOCHS, MODEL_TYPE=MODEL_TYPE, batch_size=8)"
   ],
   "metadata": {
    "collapsed": false,
    "pycharm": {
     "name": "#%%\n",
     "is_executing": true
    }
   }
  },
  {
   "cell_type": "code",
   "execution_count": null,
   "metadata": {
    "pycharm": {
     "name": "#%%\n",
     "is_executing": true
    }
   },
   "outputs": [],
   "source": [
    "MODEL_TYPE='CLIP-Backbone-FRCNN'\n",
    "\n",
    "model = create_model(MODEL_TYPE, classes=item_list)\n",
    "test = False\n",
    "\n",
    "if test:\n",
    "    train_model(model, evaluation_dataset, evaluation_dataset, num_epochs=config.NUM_EPOCHS, MODEL_TYPE=MODEL_TYPE, batch_size=2)\n",
    "else:\n",
    "    train_model(model, train_dataset, evaluation_dataset, num_epochs=config.NUM_EPOCHS, MODEL_TYPE=MODEL_TYPE, batch_size=2)"
   ]
  },
  {
   "cell_type": "code",
   "execution_count": null,
   "metadata": {
    "colab": {
     "base_uri": "https://localhost:8080/",
     "height": 103,
     "referenced_widgets": [
      "acbb3df601244291b8b2fb9ea1137573",
      "32b6ec3046e64d04b4134553dc434fe0",
      "d8c6a316609d4ca5bfee139b93177ef5",
      "a1645bdfb02b42fba268f7000f183639",
      "4a4788a4fd6841788b20cfbf54a3d10b",
      "5d836b94d13e459d82429606496e4d4f",
      "a410071b34034a91aeda7ef1114969c2",
      "c063e7d90f6a4027b53d1b70c8c07742"
     ]
    },
    "id": "bHa6KRbEWuxz",
    "outputId": "3b4ebd0b-aa69-4a4d-b73c-b8cf24d8b461",
    "pycharm": {
     "is_executing": true
    }
   },
   "outputs": [],
   "source": [
    "#train a custom vanilla model so that we can compare and make sure the CLIP FRCNN is comparable\n",
    "# Fully-Custom-Vanilla is most appropriate as it generates the model in a similar fashion\n",
    "MODEL_TYPE = 'Fully-Custom-Vanilla'\n",
    "\n",
    "vanilla_model = create_model(MODEL_TYPE, classes=item_list)\n",
    "train_model(vanilla_model, train_dataset, evaluation_dataset, num_epochs=10, MODEL_TYPE=MODEL_TYPE)"
   ]
  },
  {
   "cell_type": "markdown",
   "metadata": {
    "id": "Lj3vLT1eXFnk"
   },
   "source": [
    "### Evaluate the model"
   ]
  },
  {
   "cell_type": "code",
   "execution_count": null,
   "metadata": {
    "colab": {
     "base_uri": "https://localhost:8080/"
    },
    "id": "CkzG1i3AW1O7",
    "outputId": "ec7971c3-66ef-4a57-e710-248cb53dee8e",
    "pycharm": {
     "is_executing": true
    }
   },
   "outputs": [],
   "source": [
    "add_detections(model, evaluation_dataset, fo_dataset, field_name=\"predictions\")\n",
    "\n",
    "results = fo.evaluate_detections(\n",
    "    test_view,\n",
    "    \"predictions\",\n",
    "    classes=item_list,\n",
    "    eval_key=\"eval\",\n",
    "    compute_mAP=True\n",
    ")"
   ]
  },
  {
   "cell_type": "code",
   "execution_count": null,
   "metadata": {
    "colab": {
     "base_uri": "https://localhost:8080/"
    },
    "id": "7uYdXrhgYdJ_",
    "outputId": "2eb792e9-342f-4dc8-f6c0-e1503d8bf193",
    "pycharm": {
     "is_executing": true
    }
   },
   "outputs": [],
   "source": [
    "results.mAP()"
   ]
  },
  {
   "cell_type": "code",
   "execution_count": null,
   "metadata": {
    "colab": {
     "base_uri": "https://localhost:8080/"
    },
    "id": "VcJBOM76aJPR",
    "outputId": "ac452527-7608-4e8d-f57e-18a0470acd30",
    "pycharm": {
     "is_executing": true
    }
   },
   "outputs": [],
   "source": [
    "results.print_report()"
   ]
  },
  {
   "cell_type": "markdown",
   "metadata": {
    "id": "nddFfGSnXo7i"
   },
   "source": [
    "By default, objects are only matched with other objects of the same class. In order to get an interesting confusion matrix, we need to match interclass objects by setting `classwise=False`."
   ]
  },
  {
   "cell_type": "code",
   "execution_count": null,
   "metadata": {
    "colab": {
     "base_uri": "https://localhost:8080/"
    },
    "id": "4_53aCMna2Vt",
    "outputId": "4db71f31-73e3-4036-f623-efd8e2ac85bf",
    "pycharm": {
     "is_executing": true
    }
   },
   "outputs": [],
   "source": [
    "results_interclass = fo.evaluate_detections(\n",
    "    test_view, \n",
    "    \"predictions\", \n",
    "    classes=item_list,\n",
    "    compute_mAP=True, \n",
    "    classwise=False\n",
    ")"
   ]
  },
  {
   "cell_type": "code",
   "execution_count": null,
   "metadata": {
    "pycharm": {
     "name": "#%%\n",
     "is_executing": true
    }
   },
   "outputs": [],
   "source": [
    "plot = results.plot_pr_curves(classes=item_list)\n",
    "plot.show()"
   ]
  },
  {
   "cell_type": "code",
   "execution_count": null,
   "metadata": {
    "colab": {
     "base_uri": "https://localhost:8080/",
     "height": 297
    },
    "id": "Nbqf-NuAZ7Ps",
    "outputId": "571cd947-c94a-4b9a-ed93-2330fbddea7e",
    "pycharm": {
     "is_executing": true
    }
   },
   "outputs": [],
   "source": [
    "results_interclass.plot_confusion_matrix(classes=item_list, include_other=False, include_missing=False)"
   ]
  },
  {
   "cell_type": "markdown",
   "metadata": {
    "id": "ElSV7tTbYKLr"
   },
   "source": [
    "The [detection evaluation](https://voxel51.com/docs/fiftyone/user_guide/evaluation.html#detections) also added the attributes `eval_fp`, `eval_tp`, and `eval_fn` to every predicted detection indicating if it is a false positive, true positive, or false negative. \n",
    "Let's create a view to find the worst samples by sorting by `eval_fp` using the [FiftyOne App](https://voxel51.com/docs/fiftyone/user_guide/app.html) to visualize the results. "
   ]
  },
  {
   "cell_type": "code",
   "execution_count": null,
   "metadata": {
    "colab": {
     "base_uri": "https://localhost:8080/",
     "height": 786,
     "resources": {
      "https://localhost:5151/polling?sessionId=de0b710e-15f8-4c57-ba46-ae7955f716b1": {
       "data": "eyJtZXNzYWdlcyI6IFtdfQ==",
       "headers": [
        [
         "access-control-allow-headers",
         "x-requested-with"
        ],
        [
         "content-type",
         "text/html; charset=UTF-8"
        ]
       ],
       "ok": true,
       "status": 200,
       "status_text": ""
      }
     }
    },
    "id": "Pm4Z52rd8AC1",
    "outputId": "62d39076-7ef3-4fe3-95ae-500d0f8f8a3f",
    "pycharm": {
     "is_executing": true
    }
   },
   "outputs": [],
   "source": [
    "session.view = test_view.sort_by(\"eval_fp\", reverse=True)"
   ]
  },
  {
   "cell_type": "code",
   "execution_count": null,
   "metadata": {
    "colab": {
     "base_uri": "https://localhost:8080/",
     "height": 786,
     "resources": {
      "https://localhost:5151/polling?sessionId=ebbc318d-3578-4fb1-9ae7-68596117572b": {
       "data": "eyJtZXNzYWdlcyI6IFtdfQ==",
       "headers": [
        [
         "access-control-allow-headers",
         "x-requested-with"
        ],
        [
         "content-type",
         "text/html; charset=UTF-8"
        ]
       ],
       "ok": true,
       "status": 200,
       "status_text": ""
      }
     }
    },
    "id": "njLG0l5K-ucV",
    "outputId": "bda6f02d-d8fe-49be-d212-31e0e70779e3",
    "pycharm": {
     "is_executing": true
    }
   },
   "outputs": [],
   "source": [
    "session.view = test_view.sort_by(\"eval_fp\", reverse=True)"
   ]
  },
  {
   "cell_type": "markdown",
   "metadata": {
    "id": "ReXDVFgLZLtf"
   },
   "source": [
    "It would be best to get this [data reannotated to fix these mistakes](https://towardsdatascience.com/managing-annotation-mistakes-with-fiftyone-and-labelbox-fc6e87b51102), but in the meantime, we can easily remedy this by simply creating a new view that remaps the labels `car`, `truck`, and `bus` all to `vehicle` and then retraining the model with that. This is only possible because we are backing our data in FiftyOne and loading views into PyTorch as needed. Without FiftyOne, the PyTorch dataset class or the underlying data would need to be changed to remap these classes."
   ]
  },
  {
   "cell_type": "code",
   "execution_count": null,
   "metadata": {
    "pycharm": {
     "name": "#%%\n",
     "is_executing": true
    }
   },
   "outputs": [],
   "source": [
    "# map labels to single vehicle class\n",
    "vehicle_list = ['car', 'bus', 'truck']\n",
    "vehicles_map = {c: \"vehicle\" for c in vehicle_list}\n",
    "\n",
    "train_map_view = train_view.map_labels(\"ground_truth\", vehicles_map)\n",
    "test_map_view = test_view.map_labels(\"ground_truth\", vehicles_map)\n",
    "\n",
    "# use our dataset and defined transformations\n",
    "torch_map_dataset = FiftyOneTorchDataset(train_map_view, train_transforms)\n",
    "torch_map_dataset_test = FiftyOneTorchDataset(test_map_view, test_transforms)"
   ]
  },
  {
   "cell_type": "code",
   "execution_count": null,
   "metadata": {
    "id": "ynRCHQv8XB_v",
    "pycharm": {
     "is_executing": true
    }
   },
   "outputs": [],
   "source": [
    "# Only 2 classes (background and vehicle)\n",
    "MODEL_TYPE = 'Vanilla-FRCNN'\n",
    "vehicle_model = create_model(MODEL_TYPE, num_classes=(len(vehicles_map)+1))\n",
    "train_model(vehicle_model, torch_map_dataset, torch_map_dataset_test, num_epochs=2, MODEL_TYPE=MODEL_TYPE)"
   ]
  },
  {
   "cell_type": "code",
   "execution_count": null,
   "metadata": {
    "colab": {
     "base_uri": "https://localhost:8080/"
    },
    "id": "Y-mrVOl4XFbp",
    "outputId": "6d8bec76-ebe8-4a36-959a-52bb1aab8498",
    "pycharm": {
     "is_executing": true
    }
   },
   "outputs": [],
   "source": [
    "add_detections(vehicle_model, torch_map_dataset_test, test_map_view, field_name=\"vehicle_predictions\")"
   ]
  },
  {
   "cell_type": "code",
   "execution_count": null,
   "metadata": {
    "colab": {
     "base_uri": "https://localhost:8080/"
    },
    "id": "hfd3xvhaXhl_",
    "outputId": "d9c4a2fe-538a-4979-c3f8-f5ede0c98aa1",
    "pycharm": {
     "is_executing": true
    }
   },
   "outputs": [],
   "source": [
    "vehicle_results = fo.evaluate_detections(\n",
    "    test_map_view, \n",
    "    \"vehicle_predictions\", \n",
    "    classes=[\"vehicle\"], \n",
    "    eval_key=\"vehicle_eval\", \n",
    "    compute_mAP=True\n",
    ")"
   ]
  },
  {
   "cell_type": "code",
   "execution_count": null,
   "metadata": {
    "colab": {
     "base_uri": "https://localhost:8080/"
    },
    "id": "kFvddH3rk0NR",
    "outputId": "59572ba2-f9ad-4dd2-e9ac-90877190ff99",
    "pycharm": {
     "is_executing": true
    }
   },
   "outputs": [],
   "source": [
    "vehicle_results.mAP()"
   ]
  },
  {
   "cell_type": "code",
   "execution_count": null,
   "metadata": {
    "colab": {
     "base_uri": "https://localhost:8080/"
    },
    "id": "rwbhq18sk1PL",
    "outputId": "d6985867-5049-4678-cc88-d5041a0079ed",
    "pycharm": {
     "is_executing": true
    }
   },
   "outputs": [],
   "source": [
    "vehicle_results.print_report()"
   ]
  },
  {
   "cell_type": "markdown",
   "metadata": {
    "id": "gJMAkJbWZ_u1",
    "pycharm": {
     "name": "#%% md\n"
    }
   },
   "source": [
    "Due to our ability to easily visualize and manage our dataset with FiftyOne, we were able to spot and take action on a dataset issue that would otherwise have gone unnoticed if we only concerned ourselves with dataset-wide evaluation metrics and fixed dataset representations. Through these efforts, we managed to increase the mAP of the model to 43%.\n",
    "\n",
    "Even though this example workflow may not work in all situations, this kind of class-merging strategy can be effective in cases where more fine-grained discrimination is not called for."
   ]
  }
 ],
 "metadata": {
  "accelerator": "GPU",
  "colab": {
   "name": "fiftyone_pytorch_training.ipynb",
   "provenance": []
  },
  "kernelspec": {
   "name": "torch-frcnn",
   "language": "python",
   "display_name": "torch-frcnn"
  },
  "language_info": {
   "codemirror_mode": {
    "name": "ipython",
    "version": 3
   },
   "file_extension": ".py",
   "mimetype": "text/x-python",
   "name": "python",
   "nbconvert_exporter": "python",
   "pygments_lexer": "ipython3",
   "version": "3.8.12"
  },
  "widgets": {
   "application/vnd.jupyter.widget-state+json": {
    "32b6ec3046e64d04b4134553dc434fe0": {
     "model_module": "@jupyter-widgets/base",
     "model_module_version": "1.2.0",
     "model_name": "LayoutModel",
     "state": {
      "_model_module": "@jupyter-widgets/base",
      "_model_module_version": "1.2.0",
      "_model_name": "LayoutModel",
      "_view_count": null,
      "_view_module": "@jupyter-widgets/base",
      "_view_module_version": "1.2.0",
      "_view_name": "LayoutView",
      "align_content": null,
      "align_items": null,
      "align_self": null,
      "border": null,
      "bottom": null,
      "display": null,
      "flex": null,
      "flex_flow": null,
      "grid_area": null,
      "grid_auto_columns": null,
      "grid_auto_flow": null,
      "grid_auto_rows": null,
      "grid_column": null,
      "grid_gap": null,
      "grid_row": null,
      "grid_template_areas": null,
      "grid_template_columns": null,
      "grid_template_rows": null,
      "height": null,
      "justify_content": null,
      "justify_items": null,
      "left": null,
      "margin": null,
      "max_height": null,
      "max_width": null,
      "min_height": null,
      "min_width": null,
      "object_fit": null,
      "object_position": null,
      "order": null,
      "overflow": null,
      "overflow_x": null,
      "overflow_y": null,
      "padding": null,
      "right": null,
      "top": null,
      "visibility": null,
      "width": null
     }
    },
    "4a4788a4fd6841788b20cfbf54a3d10b": {
     "model_module": "@jupyter-widgets/controls",
     "model_module_version": "1.5.0",
     "model_name": "ProgressStyleModel",
     "state": {
      "_model_module": "@jupyter-widgets/controls",
      "_model_module_version": "1.5.0",
      "_model_name": "ProgressStyleModel",
      "_view_count": null,
      "_view_module": "@jupyter-widgets/base",
      "_view_module_version": "1.2.0",
      "_view_name": "StyleView",
      "bar_color": null,
      "description_width": "initial"
     }
    },
    "5d836b94d13e459d82429606496e4d4f": {
     "model_module": "@jupyter-widgets/base",
     "model_module_version": "1.2.0",
     "model_name": "LayoutModel",
     "state": {
      "_model_module": "@jupyter-widgets/base",
      "_model_module_version": "1.2.0",
      "_model_name": "LayoutModel",
      "_view_count": null,
      "_view_module": "@jupyter-widgets/base",
      "_view_module_version": "1.2.0",
      "_view_name": "LayoutView",
      "align_content": null,
      "align_items": null,
      "align_self": null,
      "border": null,
      "bottom": null,
      "display": null,
      "flex": null,
      "flex_flow": null,
      "grid_area": null,
      "grid_auto_columns": null,
      "grid_auto_flow": null,
      "grid_auto_rows": null,
      "grid_column": null,
      "grid_gap": null,
      "grid_row": null,
      "grid_template_areas": null,
      "grid_template_columns": null,
      "grid_template_rows": null,
      "height": null,
      "justify_content": null,
      "justify_items": null,
      "left": null,
      "margin": null,
      "max_height": null,
      "max_width": null,
      "min_height": null,
      "min_width": null,
      "object_fit": null,
      "object_position": null,
      "order": null,
      "overflow": null,
      "overflow_x": null,
      "overflow_y": null,
      "padding": null,
      "right": null,
      "top": null,
      "visibility": null,
      "width": null
     }
    },
    "a1645bdfb02b42fba268f7000f183639": {
     "model_module": "@jupyter-widgets/controls",
     "model_module_version": "1.5.0",
     "model_name": "HTMLModel",
     "state": {
      "_dom_classes": [],
      "_model_module": "@jupyter-widgets/controls",
      "_model_module_version": "1.5.0",
      "_model_name": "HTMLModel",
      "_view_count": null,
      "_view_module": "@jupyter-widgets/controls",
      "_view_module_version": "1.5.0",
      "_view_name": "HTMLView",
      "description": "",
      "description_tooltip": null,
      "layout": "IPY_MODEL_c063e7d90f6a4027b53d1b70c8c07742",
      "placeholder": "​",
      "style": "IPY_MODEL_a410071b34034a91aeda7ef1114969c2",
      "value": " 160M/160M [01:05&lt;00:00, 2.55MB/s]"
     }
    },
    "a410071b34034a91aeda7ef1114969c2": {
     "model_module": "@jupyter-widgets/controls",
     "model_module_version": "1.5.0",
     "model_name": "DescriptionStyleModel",
     "state": {
      "_model_module": "@jupyter-widgets/controls",
      "_model_module_version": "1.5.0",
      "_model_name": "DescriptionStyleModel",
      "_view_count": null,
      "_view_module": "@jupyter-widgets/base",
      "_view_module_version": "1.2.0",
      "_view_name": "StyleView",
      "description_width": ""
     }
    },
    "acbb3df601244291b8b2fb9ea1137573": {
     "model_module": "@jupyter-widgets/controls",
     "model_module_version": "1.5.0",
     "model_name": "HBoxModel",
     "state": {
      "_dom_classes": [],
      "_model_module": "@jupyter-widgets/controls",
      "_model_module_version": "1.5.0",
      "_model_name": "HBoxModel",
      "_view_count": null,
      "_view_module": "@jupyter-widgets/controls",
      "_view_module_version": "1.5.0",
      "_view_name": "HBoxView",
      "box_style": "",
      "children": [
       "IPY_MODEL_d8c6a316609d4ca5bfee139b93177ef5",
       "IPY_MODEL_a1645bdfb02b42fba268f7000f183639"
      ],
      "layout": "IPY_MODEL_32b6ec3046e64d04b4134553dc434fe0"
     }
    },
    "c063e7d90f6a4027b53d1b70c8c07742": {
     "model_module": "@jupyter-widgets/base",
     "model_module_version": "1.2.0",
     "model_name": "LayoutModel",
     "state": {
      "_model_module": "@jupyter-widgets/base",
      "_model_module_version": "1.2.0",
      "_model_name": "LayoutModel",
      "_view_count": null,
      "_view_module": "@jupyter-widgets/base",
      "_view_module_version": "1.2.0",
      "_view_name": "LayoutView",
      "align_content": null,
      "align_items": null,
      "align_self": null,
      "border": null,
      "bottom": null,
      "display": null,
      "flex": null,
      "flex_flow": null,
      "grid_area": null,
      "grid_auto_columns": null,
      "grid_auto_flow": null,
      "grid_auto_rows": null,
      "grid_column": null,
      "grid_gap": null,
      "grid_row": null,
      "grid_template_areas": null,
      "grid_template_columns": null,
      "grid_template_rows": null,
      "height": null,
      "justify_content": null,
      "justify_items": null,
      "left": null,
      "margin": null,
      "max_height": null,
      "max_width": null,
      "min_height": null,
      "min_width": null,
      "object_fit": null,
      "object_position": null,
      "order": null,
      "overflow": null,
      "overflow_x": null,
      "overflow_y": null,
      "padding": null,
      "right": null,
      "top": null,
      "visibility": null,
      "width": null
     }
    },
    "d8c6a316609d4ca5bfee139b93177ef5": {
     "model_module": "@jupyter-widgets/controls",
     "model_module_version": "1.5.0",
     "model_name": "FloatProgressModel",
     "state": {
      "_dom_classes": [],
      "_model_module": "@jupyter-widgets/controls",
      "_model_module_version": "1.5.0",
      "_model_name": "FloatProgressModel",
      "_view_count": null,
      "_view_module": "@jupyter-widgets/controls",
      "_view_module_version": "1.5.0",
      "_view_name": "ProgressView",
      "bar_style": "success",
      "description": "100%",
      "description_tooltip": null,
      "layout": "IPY_MODEL_5d836b94d13e459d82429606496e4d4f",
      "max": 167502836,
      "min": 0,
      "orientation": "horizontal",
      "style": "IPY_MODEL_4a4788a4fd6841788b20cfbf54a3d10b",
      "value": 167502836
     }
    }
   }
  }
 },
 "nbformat": 4,
 "nbformat_minor": 1
}