{
 "cells": [
  {
   "cell_type": "markdown",
   "id": "c7c64404",
   "metadata": {},
   "source": [
    "# References:\n",
    "- https://colab.research.google.com/drive/1yFphU6PW9Uo6lmDly_ud9a6c4RCYlwdX#scrollTo=lJEnBJ3gHTsQ\n",
    "-https://towardsdatascience.com/bert-for-measuring-text-similarity-eec91c6bf9e1"
   ]
  },
  {
   "cell_type": "code",
   "execution_count": 1,
   "id": "4ae1423d",
   "metadata": {},
   "outputs": [
    {
     "name": "stderr",
     "output_type": "stream",
     "text": [
      "WARNING:root:No sentence-transformers model found with name C:\\Users\\jingr/.cache\\torch\\sentence_transformers\\bert-base-uncased. Creating a new one with MEAN pooling.\n",
      "Some weights of the model checkpoint at C:\\Users\\jingr/.cache\\torch\\sentence_transformers\\bert-base-uncased were not used when initializing BertModel: ['cls.predictions.transform.dense.bias', 'cls.predictions.transform.LayerNorm.weight', 'cls.predictions.decoder.weight', 'cls.predictions.bias', 'cls.predictions.transform.LayerNorm.bias', 'cls.seq_relationship.bias', 'cls.seq_relationship.weight', 'cls.predictions.transform.dense.weight']\n",
      "- This IS expected if you are initializing BertModel from the checkpoint of a model trained on another task or with another architecture (e.g. initializing a BertForSequenceClassification model from a BertForPreTraining model).\n",
      "- This IS NOT expected if you are initializing BertModel from the checkpoint of a model that you expect to be exactly identical (initializing a BertForSequenceClassification model from a BertForSequenceClassification model).\n"
     ]
    }
   ],
   "source": [
    "from sentence_transformers import SentenceTransformer\n",
    "from sklearn.metrics.pairwise import cosine_similarity\n",
    "import numpy as np\n",
    "\n",
    "model = SentenceTransformer('bert-base-uncased')"
   ]
  },
  {
   "cell_type": "code",
   "execution_count": 2,
   "id": "df86ce5b",
   "metadata": {},
   "outputs": [],
   "source": [
    "# ref: https://www.tutorialexample.com/compute-cosine-similarity-matrix-of-two-numpy-array-numpy-tutorial/\n",
    "\n",
    "def cos_sim_2d(x, y):\n",
    "    norm_x = x / np.linalg.norm(x, axis=1, keepdims=True)\n",
    "    norm_y = y / np.linalg.norm(y, axis=1, keepdims=True)\n",
    "    return np.matmul(norm_x, norm_y.T)"
   ]
  },
  {
   "cell_type": "code",
   "execution_count": 3,
   "id": "84f9c5aa",
   "metadata": {},
   "outputs": [],
   "source": [
    "# ref: https://gist.github.com/braingineer/d801735dac07ff3ac4d746e1f218ab75\n",
    "def matprint(mat, fmt=\"g\"):\n",
    "    col_maxes = [max([len((\"{:\"+fmt+\"}\").format(x)) for x in col]) for col in mat.T]\n",
    "    for x in mat:\n",
    "        for i, y in enumerate(x):\n",
    "            print((\"{:\"+str(col_maxes[i])+fmt+\"}\").format(y), end=\"  \")\n",
    "        print(\"\")"
   ]
  },
  {
   "cell_type": "code",
   "execution_count": 4,
   "id": "965057dd",
   "metadata": {},
   "outputs": [],
   "source": [
    "sample_text_list_1 = ['army tank',\n",
    "                    'helicopter',\n",
    "                    'fish', \n",
    "                    'sea turtle',\n",
    "                    'green grass',\n",
    "                    'baby in swing',\n",
    "                    'man reading a newspaper']"
   ]
  },
  {
   "cell_type": "code",
   "execution_count": 5,
   "id": "63361a64",
   "metadata": {},
   "outputs": [],
   "source": [
    "sample_text_list_2 = ['an army tank in a field',\n",
    "                    'a helicopter flying over a field',\n",
    "                    'a fish swimming in the ocean',\n",
    "                    'a sea turtle swimming in the ocean',\n",
    "                    'green grass in a park',\n",
    "                    'a baby in swing',\n",
    "                    'man reading a newspaper']"
   ]
  },
  {
   "cell_type": "code",
   "execution_count": 6,
   "id": "7aa7255a",
   "metadata": {},
   "outputs": [
    {
     "name": "stdout",
     "output_type": "stream",
     "text": [
      "Sample Text List 1:\n",
      "       1  0.711347  0.632074  0.615401  0.613269  0.580779  0.575531  \n",
      "0.711347         1  0.815083  0.618262  0.652992  0.632828  0.512321  \n",
      "0.632074  0.815083         1  0.688987  0.665352  0.586994  0.527765  \n",
      "0.615401  0.618262  0.688987         1  0.673754  0.562414  0.616043  \n",
      "0.613269  0.652992  0.665352  0.673754         1  0.578069  0.650873  \n",
      "0.580779  0.632828  0.586994  0.562414  0.578069         1  0.591791  \n",
      "0.575531  0.512321  0.527765  0.616043  0.650873  0.591791         1  \n"
     ]
    }
   ],
   "source": [
    "sentence_embeddings_1 = model.encode(sample_text_list_1)\n",
    "print(\"Sample Text List 1:\")\n",
    "matprint(cos_sim_2d(sentence_embeddings_1, sentence_embeddings_1))"
   ]
  },
  {
   "cell_type": "code",
   "execution_count": 7,
   "id": "f7f658e3",
   "metadata": {},
   "outputs": [
    {
     "name": "stdout",
     "output_type": "stream",
     "text": [
      "Sample Text List 2:\n",
      "       1  0.807386   0.71773  0.700994   0.71938  0.676134  0.738751  \n",
      "0.807386         1  0.815257  0.788962  0.747355  0.746229  0.810593  \n",
      " 0.71773  0.815257         1  0.959656  0.725631   0.72972   0.76767  \n",
      "0.700994  0.788962  0.959656         1  0.702018  0.720259  0.742989  \n",
      " 0.71938  0.747355  0.725631  0.702018         1  0.717947  0.750024  \n",
      "0.676134  0.746229   0.72972  0.720259  0.717947         1  0.726282  \n",
      "0.738751  0.810593   0.76767  0.742989  0.750024  0.726282         1  \n"
     ]
    }
   ],
   "source": [
    "sentence_embeddings_2 = model.encode(sample_text_list_2)\n",
    "print(\"Sample Text List 2:\")\n",
    "matprint(cos_sim_2d(sentence_embeddings_2, sentence_embeddings_2))"
   ]
  },
  {
   "cell_type": "code",
   "execution_count": null,
   "id": "c44f5a16",
   "metadata": {},
   "outputs": [],
   "source": []
  }
 ],
 "metadata": {
  "kernelspec": {
   "display_name": "jarek_testing_envir",
   "language": "python",
   "name": "jarek_testing_envir"
  },
  "language_info": {
   "codemirror_mode": {
    "name": "ipython",
    "version": 3
   },
   "file_extension": ".py",
   "mimetype": "text/x-python",
   "name": "python",
   "nbconvert_exporter": "python",
   "pygments_lexer": "ipython3",
   "version": "3.8.8"
  },
  "latex_envs": {
   "LaTeX_envs_menu_present": true,
   "autoclose": false,
   "autocomplete": true,
   "bibliofile": "biblio.bib",
   "cite_by": "apalike",
   "current_citInitial": 1,
   "eqLabelWithNumbers": true,
   "eqNumInitial": 1,
   "hotkeys": {
    "equation": "Ctrl-E",
    "itemize": "Ctrl-I"
   },
   "labels_anchors": false,
   "latex_user_defs": false,
   "report_style_numbering": false,
   "user_envs_cfg": false
  }
 },
 "nbformat": 4,
 "nbformat_minor": 5
}
