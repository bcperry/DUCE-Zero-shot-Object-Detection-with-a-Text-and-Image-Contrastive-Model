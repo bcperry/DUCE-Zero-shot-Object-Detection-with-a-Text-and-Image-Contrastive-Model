{
 "cells": [
  {
   "cell_type": "markdown",
   "metadata": {
    "pycharm": {
     "name": "#%% md\n"
    }
   },
   "source": [
    "# Code for using FiftyOne to train a Faster RCNN on COCO data"
   ]
  },
  {
   "cell_type": "markdown",
   "metadata": {},
   "source": [
    "###  Imports"
   ]
  },
  {
   "cell_type": "code",
   "execution_count": 1,
   "metadata": {
    "pycharm": {
     "name": "#%%\n"
    }
   },
   "outputs": [
    {
     "data": {
      "text/plain": "<torch._C.Generator at 0x262307188d0>"
     },
     "execution_count": 1,
     "metadata": {},
     "output_type": "execute_result"
    }
   ],
   "source": [
    "import torch\n",
    "import fiftyone as fo\n",
    "import fiftyone.zoo as foz\n",
    "import torchvision.models.detection.roi_heads\n",
    "from fiftyone import ViewField as F\n",
    "\n",
    "from dataset import FiftyOneTorchDataset, get_transforms\n",
    "from model import create_model\n",
    "from utils import add_detections\n",
    "\n",
    "from engine import train_model\n",
    "import config\n",
    "\n",
    "torch.manual_seed(1)"
   ]
  },
  {
   "cell_type": "markdown",
   "metadata": {},
   "source": [
    "### Load full dataset from model zoo"
   ]
  },
  {
   "cell_type": "code",
   "execution_count": 2,
   "metadata": {
    "colab": {
     "base_uri": "https://localhost:8080/"
    },
    "id": "5crNDNsRWdPT",
    "outputId": "4f3ff734-ca0a-4312-a811-7f84db514fac"
   },
   "outputs": [
    {
     "name": "stdout",
     "output_type": "stream",
     "text": [
      "Downloading split 'validation' to 'C:\\Users\\blain\\fiftyone\\coco-2017\\validation' if necessary\n",
      "Found annotations at 'C:\\Users\\blain\\fiftyone\\coco-2017\\raw\\instances_val2017.json'\n",
      "Images already downloaded\n",
      "Existing download of split 'validation' is sufficient\n",
      "Loading 'coco-2017' split 'validation'\n",
      " 100% |███████████████| 5000/5000 [14.8s elapsed, 0s remaining, 350.5 samples/s]      \n",
      "Dataset 'coco-2017-validation' created\n"
     ]
    },
    {
     "data": {
      "text/plain": "<IPython.lib.display.IFrame at 0x2626de9e190>",
      "text/html": "\n        <iframe\n            width=\"100%\"\n            height=\"800\"\n            src=\"http://localhost:5151/?notebook=true&handleId=48dbb522-0190-4123-a137-263f3a265a28\"\n            frameborder=\"0\"\n            allowfullscreen\n            \n        ></iframe>\n        "
     },
     "metadata": {},
     "output_type": "display_data"
    }
   ],
   "source": [
    "#Lodad in the dataset from the FiftyOne model Zoo\n",
    "fo_dataset = foz.load_zoo_dataset(\"coco-2017\", \"validation\")\n",
    "\n",
    "#needed to calculate image height and width\n",
    "fo_dataset.compute_metadata()\n",
    "\n",
    "session = fo.launch_app(fo_dataset)"
   ]
  },
  {
   "cell_type": "markdown",
   "metadata": {
    "id": "PqU6Ckq4WKHK"
   },
   "source": [
    "For example, cluttered images make it difficult for models to localize objects. We can use FiftyOne to create a view containing only samples with more than, say, 10 objects. You can perform the same operations on views as datasets, so we can create an instance of our PyTorch dataset from this view:"
   ]
  },
  {
   "cell_type": "code",
   "execution_count": 3,
   "metadata": {
    "id": "kLACOukJFUxd"
   },
   "outputs": [],
   "source": [
    "#if we want to see images with more than 10 items, we can\n",
    "# busy_view = fo_dataset.match(F(\"ground_truth.detections\").length() > 10)\n",
    "# busy_torch_dataset = FiftyOneTorchDataset(busy_view)\n",
    "# session.view = busy_view"
   ]
  },
  {
   "cell_type": "markdown",
   "metadata": {
    "id": "xKsE_7TOWXBE"
   },
   "source": [
    "### Create training and testing views (and corresponding PyTorch datasets) that only contain some items from the full dataset"
   ]
  },
  {
   "cell_type": "code",
   "execution_count": 4,
   "metadata": {
    "colab": {
     "base_uri": "https://localhost:8080/"
    },
    "id": "TELK0NWmWrMT",
    "outputId": "8bf582cf-e483-4643-8f6b-7c664a2d6c5f"
   },
   "outputs": [
    {
     "name": "stdout",
     "output_type": "stream",
     "text": [
      "Traning on 4000 samples\n",
      "Testing on 1000 samples\n"
     ]
    },
    {
     "data": {
      "text/plain": "<IPython.lib.display.IFrame at 0x2626be1d7f0>",
      "text/html": "\n        <iframe\n            width=\"100%\"\n            height=\"800\"\n            src=\"http://localhost:5151/?notebook=true&handleId=da1c0a60-c01c-4cd5-af66-cd5c6c90e3f0\"\n            frameborder=\"0\"\n            allowfullscreen\n            \n        ></iframe>\n        "
     },
     "metadata": {},
     "output_type": "display_data"
    }
   ],
   "source": [
    "subset = False\n",
    "\n",
    "train_transforms, test_transforms = get_transforms()\n",
    "\n",
    "if subset:\n",
    "    # to filter certain items from the dataset we can\n",
    "    item_list = [\"car\", \"dog\", \"bus\", 'fork', 'airplane']\n",
    "    #item_list = ['airplane', 'cat']\n",
    "    item_view = fo_dataset.filter_labels(\"ground_truth\",\n",
    "            F(\"label\").is_in(item_list))\n",
    "\n",
    "    #session.view = item_view\n",
    "\n",
    "    # split the dataset in train and test set\n",
    "    train_view = item_view.take((len(item_view) * config.TRAIN_TEST_SPLIT), seed=51)\n",
    "    test_view = item_view.exclude([s.id for s in train_view])\n",
    "\n",
    "else:\n",
    "    train_view = fo_dataset.take(len(fo_dataset) * config.TRAIN_TEST_SPLIT)\n",
    "    test_view = fo_dataset.exclude([s.id for s in train_view])\n",
    "    item_list = fo_dataset.distinct(\"ground_truth.detections.label\")\n",
    "\n",
    "print(f'Traning on {len(train_view)} samples')\n",
    "print(f'Testing on {len(test_view)} samples')\n",
    "\n",
    "# use our dataset and defined transformations\n",
    "train_dataset = FiftyOneTorchDataset(train_view, train_transforms,\n",
    "        classes=item_list)\n",
    "evaluation_dataset = FiftyOneTorchDataset(test_view, test_transforms,\n",
    "        classes=item_list)\n",
    "\n",
    "session.view = train_view\n",
    "\n",
    "#this is needed for later use, but not for creating the dataset\n",
    "if item_list[0] != 'background':\n",
    "     item_list.insert(0,'background')"
   ]
  },
  {
   "cell_type": "code",
   "execution_count": 5,
   "outputs": [],
   "source": [
    "# # map labels to single vehicle class\n",
    "# vehicle_list = ['car', 'bus', 'truck']\n",
    "# vehicles_map = {c: \"vehicle\" for c in vehicle_list}\n",
    "#\n",
    "# train_map_view = train_view.map_labels(\"ground_truth\", vehicles_map)\n",
    "# test_map_view = test_view.map_labels(\"ground_truth\", vehicles_map)\n",
    "#\n",
    "# # use our dataset and defined transformations\n",
    "# torch_map_dataset = FiftyOneTorchDataset(train_map_view, train_transforms)\n",
    "# torch_map_dataset_test = FiftyOneTorchDataset(test_map_view, test_transforms)"
   ],
   "metadata": {
    "collapsed": false,
    "pycharm": {
     "name": "#%%\n"
    }
   }
  },
  {
   "cell_type": "markdown",
   "metadata": {
    "id": "C5je6lVBWz5r"
   },
   "source": [
    "### Training and Evaluation"
   ]
  },
  {
   "cell_type": "code",
   "execution_count": null,
   "outputs": [
    {
     "name": "stdout",
     "output_type": "stream",
     "text": [
      "Using device cuda\n"
     ]
    },
    {
     "name": "stderr",
     "output_type": "stream",
     "text": [
      "C:\\Users\\blain\\anaconda3\\envs\\torch-frcnn\\lib\\site-packages\\torch\\functional.py:445: UserWarning: torch.meshgrid: in an upcoming release, it will be required to pass the indexing argument. (Triggered internally at  ..\\aten\\src\\ATen\\native\\TensorShape.cpp:2157.)\n",
      "  return _VF.meshgrid(tensors, **kwargs)  # type: ignore[attr-defined]\n"
     ]
    },
    {
     "name": "stdout",
     "output_type": "stream",
     "text": [
      "Training Epoch: [0]  [  0/250]  eta: 0:06:21  lr: 0.000002  loss: 0.9070 (0.9070)  loss_box_reg: 0.0815 (0.0815)  loss_objectness: 0.7441 (0.7441)  loss_rpn_box_reg: 0.0815 (0.0815)  time: 1.5249  data: 0.3861  max mem: 3685\n",
      "Training Epoch: [0]  [ 10/250]  eta: 0:03:34  lr: 0.000014  loss: 0.8932 (0.8783)  loss_box_reg: 0.0687 (0.0711)  loss_objectness: 0.7104 (0.6986)  loss_rpn_box_reg: 0.0897 (0.1086)  time: 0.8954  data: 0.3031  max mem: 5880\n",
      "Training Epoch: [0]  [ 20/250]  eta: 0:03:16  lr: 0.000026  loss: 0.7615 (0.7730)  loss_box_reg: 0.0336 (0.0496)  loss_objectness: 0.5917 (0.5995)  loss_rpn_box_reg: 0.1214 (0.1240)  time: 0.8210  data: 0.2902  max mem: 5880\n",
      "Training Epoch: [0]  [ 30/250]  eta: 0:03:05  lr: 0.000038  loss: 0.5886 (0.7375)  loss_box_reg: 0.0346 (0.0991)  loss_objectness: 0.3823 (0.5095)  loss_rpn_box_reg: 0.1353 (0.1289)  time: 0.8129  data: 0.2880  max mem: 5880\n",
      "Training Epoch: [0]  [ 40/250]  eta: 0:02:56  lr: 0.000050  loss: 0.7392 (0.7668)  loss_box_reg: 0.3900 (0.1922)  loss_objectness: 0.2745 (0.4441)  loss_rpn_box_reg: 0.1329 (0.1306)  time: 0.8268  data: 0.2849  max mem: 5880\n",
      "Training Epoch: [0]  [ 50/250]  eta: 0:02:47  lr: 0.000062  loss: 0.8451 (0.7740)  loss_box_reg: 0.4649 (0.2397)  loss_objectness: 0.2417 (0.4046)  loss_rpn_box_reg: 0.1240 (0.1298)  time: 0.8307  data: 0.2832  max mem: 5880\n",
      "Training Epoch: [0]  [ 60/250]  eta: 0:02:39  lr: 0.000074  loss: 0.8151 (0.7721)  loss_box_reg: 0.4026 (0.2686)  loss_objectness: 0.2335 (0.3738)  loss_rpn_box_reg: 0.1240 (0.1298)  time: 0.8291  data: 0.2879  max mem: 5880\n",
      "Training Epoch: [0]  [ 70/250]  eta: 0:02:30  lr: 0.000086  loss: 0.7940 (0.7814)  loss_box_reg: 0.4534 (0.2987)  loss_objectness: 0.2176 (0.3526)  loss_rpn_box_reg: 0.1346 (0.1301)  time: 0.8304  data: 0.2898  max mem: 5881\n",
      "Training Epoch: [0]  [ 80/250]  eta: 0:02:22  lr: 0.000098  loss: 0.7708 (0.7735)  loss_box_reg: 0.4064 (0.3105)  loss_objectness: 0.1957 (0.3320)  loss_rpn_box_reg: 0.1248 (0.1310)  time: 0.8339  data: 0.2884  max mem: 5881\n",
      "Training Epoch: [0]  [ 90/250]  eta: 0:02:13  lr: 0.000110  loss: 0.7418 (0.7820)  loss_box_reg: 0.4187 (0.3325)  loss_objectness: 0.1886 (0.3183)  loss_rpn_box_reg: 0.1248 (0.1312)  time: 0.8311  data: 0.2872  max mem: 5881\n",
      "Training Epoch: [0]  [100/250]  eta: 0:02:05  lr: 0.000122  loss: 0.8507 (0.7864)  loss_box_reg: 0.5211 (0.3490)  loss_objectness: 0.1983 (0.3071)  loss_rpn_box_reg: 0.1254 (0.1302)  time: 0.8375  data: 0.2883  max mem: 5881\n",
      "Training Epoch: [0]  [110/250]  eta: 0:01:56  lr: 0.000134  loss: 0.8141 (0.7903)  loss_box_reg: 0.5399 (0.3655)  loss_objectness: 0.1954 (0.2965)  loss_rpn_box_reg: 0.1116 (0.1283)  time: 0.8348  data: 0.2849  max mem: 5881\n",
      "Training Epoch: [0]  [120/250]  eta: 0:01:48  lr: 0.000146  loss: 0.8642 (0.7997)  loss_box_reg: 0.5432 (0.3829)  loss_objectness: 0.1860 (0.2883)  loss_rpn_box_reg: 0.1246 (0.1285)  time: 0.8104  data: 0.2840  max mem: 5881\n",
      "Training Epoch: [0]  [130/250]  eta: 0:01:39  lr: 0.000158  loss: 0.8847 (0.8042)  loss_box_reg: 0.5489 (0.3955)  loss_objectness: 0.1924 (0.2813)  loss_rpn_box_reg: 0.1077 (0.1274)  time: 0.8154  data: 0.2923  max mem: 5881\n",
      "Training Epoch: [0]  [140/250]  eta: 0:01:31  lr: 0.000170  loss: 0.8698 (0.8130)  loss_box_reg: 0.6230 (0.4127)  loss_objectness: 0.1885 (0.2740)  loss_rpn_box_reg: 0.0977 (0.1262)  time: 0.8208  data: 0.2947  max mem: 5881\n",
      "Training Epoch: [0]  [150/250]  eta: 0:01:22  lr: 0.000182  loss: 0.7332 (0.8086)  loss_box_reg: 0.4802 (0.4153)  loss_objectness: 0.1777 (0.2682)  loss_rpn_box_reg: 0.0939 (0.1251)  time: 0.8122  data: 0.2887  max mem: 5890\n",
      "Training Epoch: [0]  [160/250]  eta: 0:01:14  lr: 0.000194  loss: 0.6817 (0.8049)  loss_box_reg: 0.4259 (0.4187)  loss_objectness: 0.1802 (0.2627)  loss_rpn_box_reg: 0.0887 (0.1235)  time: 0.8019  data: 0.2861  max mem: 5890\n",
      "Training Epoch: [0]  [170/250]  eta: 0:01:05  lr: 0.000206  loss: 0.6283 (0.7918)  loss_box_reg: 0.3267 (0.4119)  loss_objectness: 0.1842 (0.2578)  loss_rpn_box_reg: 0.0905 (0.1221)  time: 0.7885  data: 0.2848  max mem: 5890\n",
      "Training Epoch: [0]  [180/250]  eta: 0:00:57  lr: 0.000218  loss: 0.6575 (0.7953)  loss_box_reg: 0.3703 (0.4200)  loss_objectness: 0.1842 (0.2539)  loss_rpn_box_reg: 0.1004 (0.1215)  time: 0.8109  data: 0.2860  max mem: 5895\n",
      "Training Epoch: [0]  [190/250]  eta: 0:00:49  lr: 0.000230  loss: 0.7468 (0.7939)  loss_box_reg: 0.4188 (0.4231)  loss_objectness: 0.1758 (0.2499)  loss_rpn_box_reg: 0.1056 (0.1209)  time: 0.8348  data: 0.2876  max mem: 5895\n",
      "Training Epoch: [0]  [200/250]  eta: 0:00:41  lr: 0.000242  loss: 0.8390 (0.8048)  loss_box_reg: 0.5048 (0.4362)  loss_objectness: 0.1918 (0.2472)  loss_rpn_box_reg: 0.1110 (0.1213)  time: 0.8234  data: 0.2882  max mem: 5895\n",
      "Training Epoch: [0]  [210/250]  eta: 0:00:33  lr: 0.000254  loss: 0.8670 (0.8075)  loss_box_reg: 0.5667 (0.4427)  loss_objectness: 0.1743 (0.2438)  loss_rpn_box_reg: 0.1189 (0.1209)  time: 0.8263  data: 0.2884  max mem: 5895\n",
      "Training Epoch: [0]  [220/250]  eta: 0:00:24  lr: 0.000266  loss: 0.8017 (0.8108)  loss_box_reg: 0.5475 (0.4502)  loss_objectness: 0.1698 (0.2408)  loss_rpn_box_reg: 0.1029 (0.1198)  time: 0.8149  data: 0.2868  max mem: 5895\n",
      "Training Epoch: [0]  [230/250]  eta: 0:00:16  lr: 0.000278  loss: 0.7689 (0.8075)  loss_box_reg: 0.4869 (0.4505)  loss_objectness: 0.1720 (0.2380)  loss_rpn_box_reg: 0.0887 (0.1189)  time: 0.8126  data: 0.2901  max mem: 5895\n",
      "Training Epoch: [0]  [240/250]  eta: 0:00:08  lr: 0.000290  loss: 0.7459 (0.8085)  loss_box_reg: 0.4525 (0.4564)  loss_objectness: 0.1752 (0.2348)  loss_rpn_box_reg: 0.0808 (0.1173)  time: 0.8315  data: 0.2943  max mem: 5895\n",
      "Training Epoch: [0]  [249/250]  eta: 0:00:00  lr: 0.000300  loss: 0.7689 (0.8071)  loss_box_reg: 0.5357 (0.4585)  loss_objectness: 0.1664 (0.2325)  loss_rpn_box_reg: 0.0802 (0.1161)  time: 0.8269  data: 0.2911  max mem: 5895\n",
      "Training Epoch: [0] Total time: 0:03:26 (0.8246 s / it)\n",
      "creating index...\n",
      "index created!\n",
      "Test:  [ 0/62]  eta: 0:01:00  model_time: 0.5501 (0.5501)  evaluator_time: 0.0240 (0.0240)  time: 0.9772  data: 0.3871  max mem: 5895\n",
      "Test:  [61/62]  eta: 0:00:00  model_time: 0.2971 (0.2994)  evaluator_time: 0.0190 (0.0238)  time: 0.6174  data: 0.2901  max mem: 5895\n",
      "Test: Total time: 0:00:38 (0.6279 s / it)\n",
      "Averaged stats: model_time: 0.2971 (0.2994)  evaluator_time: 0.0190 (0.0238)\n",
      "Accumulating evaluation results...\n",
      "DONE (t=0.54s).\n",
      "IoU metric: bbox\n",
      " Average Precision  (AP) @[ IoU=0.50:0.95 | area=   all | maxDets=100 ] = 0.006\n",
      " Average Precision  (AP) @[ IoU=0.50      | area=   all | maxDets=100 ] = 0.024\n",
      " Average Precision  (AP) @[ IoU=0.75      | area=   all | maxDets=100 ] = 0.001\n",
      " Average Precision  (AP) @[ IoU=0.50:0.95 | area= small | maxDets=100 ] = 0.000\n",
      " Average Precision  (AP) @[ IoU=0.50:0.95 | area=medium | maxDets=100 ] = 0.000\n",
      " Average Precision  (AP) @[ IoU=0.50:0.95 | area= large | maxDets=100 ] = 0.011\n",
      " Average Recall     (AR) @[ IoU=0.50:0.95 | area=   all | maxDets=  1 ] = 0.011\n",
      " Average Recall     (AR) @[ IoU=0.50:0.95 | area=   all | maxDets= 10 ] = 0.021\n",
      " Average Recall     (AR) @[ IoU=0.50:0.95 | area=   all | maxDets=100 ] = 0.021\n",
      " Average Recall     (AR) @[ IoU=0.50:0.95 | area= small | maxDets=100 ] = 0.000\n",
      " Average Recall     (AR) @[ IoU=0.50:0.95 | area=medium | maxDets=100 ] = 0.000\n",
      " Average Recall     (AR) @[ IoU=0.50:0.95 | area= large | maxDets=100 ] = 0.044\n",
      "Testing Epoch: [0]  [ 0/62]  eta: 0:00:53  lr: 0.000300  loss: 0.8470 (0.8470)  loss_box_reg: 0.5680 (0.5680)  loss_objectness: 0.1773 (0.1773)  loss_rpn_box_reg: 0.1017 (0.1017)  time: 0.8632  data: 0.3921  max mem: 5895\n",
      "Testing Epoch: [0]  [61/62]  eta: 0:00:00  lr: 0.000300  loss: 0.9750 (0.9449)  loss_box_reg: 0.7439 (0.7017)  loss_objectness: 0.1441 (0.1499)  loss_rpn_box_reg: 0.0743 (0.0933)  time: 0.7463  data: 0.3043  max mem: 6104\n",
      "Testing Epoch: [0] Total time: 0:00:46 (0.7487 s / it)\n",
      "Training Epoch: [1]  [  0/250]  eta: 0:04:36  lr: 0.000300  loss: 1.1624 (1.1624)  loss_box_reg: 0.9438 (0.9438)  loss_objectness: 0.1432 (0.1432)  loss_rpn_box_reg: 0.0755 (0.0755)  time: 1.1062  data: 0.2861  max mem: 6104\n",
      "Training Epoch: [1]  [ 10/250]  eta: 0:03:27  lr: 0.000300  loss: 1.0312 (0.9464)  loss_box_reg: 0.7321 (0.7028)  loss_objectness: 0.1517 (0.1601)  loss_rpn_box_reg: 0.0755 (0.0834)  time: 0.8644  data: 0.2933  max mem: 6104\n",
      "Training Epoch: [1]  [ 20/250]  eta: 0:03:17  lr: 0.000300  loss: 0.7992 (0.8853)  loss_box_reg: 0.5920 (0.6343)  loss_objectness: 0.1658 (0.1666)  loss_rpn_box_reg: 0.0845 (0.0844)  time: 0.8471  data: 0.3015  max mem: 6104\n",
      "Training Epoch: [1]  [ 30/250]  eta: 0:03:06  lr: 0.000300  loss: 0.7814 (0.8808)  loss_box_reg: 0.5164 (0.6223)  loss_objectness: 0.1762 (0.1721)  loss_rpn_box_reg: 0.0845 (0.0864)  time: 0.8363  data: 0.3077  max mem: 6104\n",
      "Training Epoch: [1]  [ 40/250]  eta: 0:02:59  lr: 0.000300  loss: 0.8024 (0.8612)  loss_box_reg: 0.5251 (0.6018)  loss_objectness: 0.1774 (0.1726)  loss_rpn_box_reg: 0.0850 (0.0868)  time: 0.8500  data: 0.3144  max mem: 6104\n",
      "Training Epoch: [1]  [ 50/250]  eta: 0:02:49  lr: 0.000300  loss: 0.8378 (0.8693)  loss_box_reg: 0.5713 (0.6123)  loss_objectness: 0.1638 (0.1697)  loss_rpn_box_reg: 0.0967 (0.0874)  time: 0.8557  data: 0.3097  max mem: 6104\n",
      "Training Epoch: [1]  [ 60/250]  eta: 0:02:41  lr: 0.000300  loss: 0.8944 (0.8838)  loss_box_reg: 0.6257 (0.6269)  loss_objectness: 0.1536 (0.1694)  loss_rpn_box_reg: 0.0949 (0.0875)  time: 0.8370  data: 0.3036  max mem: 6104\n",
      "Training Epoch: [1]  [ 70/250]  eta: 0:02:33  lr: 0.000300  loss: 0.8144 (0.8695)  loss_box_reg: 0.5714 (0.6111)  loss_objectness: 0.1631 (0.1697)  loss_rpn_box_reg: 0.0914 (0.0887)  time: 0.8526  data: 0.3078  max mem: 6104\n",
      "Training Epoch: [1]  [ 80/250]  eta: 0:02:24  lr: 0.000300  loss: 0.7139 (0.8437)  loss_box_reg: 0.4442 (0.5873)  loss_objectness: 0.1574 (0.1681)  loss_rpn_box_reg: 0.0851 (0.0882)  time: 0.8476  data: 0.3016  max mem: 6104\n",
      "Training Epoch: [1]  [ 90/250]  eta: 0:02:15  lr: 0.000300  loss: 0.7808 (0.8602)  loss_box_reg: 0.5395 (0.6032)  loss_objectness: 0.1619 (0.1682)  loss_rpn_box_reg: 0.0765 (0.0888)  time: 0.8357  data: 0.2951  max mem: 6104\n",
      "Training Epoch: [1]  [100/250]  eta: 0:02:06  lr: 0.000300  loss: 0.8652 (0.8588)  loss_box_reg: 0.6062 (0.6009)  loss_objectness: 0.1737 (0.1691)  loss_rpn_box_reg: 0.0959 (0.0888)  time: 0.8288  data: 0.2931  max mem: 6104\n",
      "Training Epoch: [1]  [110/250]  eta: 0:01:57  lr: 0.000300  loss: 0.8256 (0.8487)  loss_box_reg: 0.5563 (0.5950)  loss_objectness: 0.1563 (0.1668)  loss_rpn_box_reg: 0.0784 (0.0869)  time: 0.8194  data: 0.2927  max mem: 6104\n",
      "Training Epoch: [1]  [120/250]  eta: 0:01:49  lr: 0.000300  loss: 0.9181 (0.8584)  loss_box_reg: 0.6269 (0.6047)  loss_objectness: 0.1518 (0.1671)  loss_rpn_box_reg: 0.0756 (0.0867)  time: 0.8295  data: 0.3007  max mem: 6104\n",
      "Training Epoch: [1]  [130/250]  eta: 0:01:41  lr: 0.000300  loss: 0.9181 (0.8566)  loss_box_reg: 0.6601 (0.6028)  loss_objectness: 0.1675 (0.1674)  loss_rpn_box_reg: 0.0907 (0.0865)  time: 0.8408  data: 0.3081  max mem: 6104\n",
      "Training Epoch: [1]  [140/250]  eta: 0:01:32  lr: 0.000300  loss: 0.7552 (0.8555)  loss_box_reg: 0.5294 (0.6024)  loss_objectness: 0.1575 (0.1665)  loss_rpn_box_reg: 0.0871 (0.0865)  time: 0.8333  data: 0.3024  max mem: 6104\n",
      "Training Epoch: [1]  [150/250]  eta: 0:01:24  lr: 0.000300  loss: 0.9754 (0.8675)  loss_box_reg: 0.6666 (0.6122)  loss_objectness: 0.1575 (0.1670)  loss_rpn_box_reg: 0.0963 (0.0884)  time: 0.8412  data: 0.3040  max mem: 6104\n",
      "Training Epoch: [1]  [160/250]  eta: 0:01:15  lr: 0.000300  loss: 0.9754 (0.8694)  loss_box_reg: 0.7016 (0.6145)  loss_objectness: 0.1732 (0.1667)  loss_rpn_box_reg: 0.0973 (0.0882)  time: 0.8141  data: 0.2972  max mem: 6104\n",
      "Training Epoch: [1]  [170/250]  eta: 0:01:06  lr: 0.000300  loss: 0.8502 (0.8714)  loss_box_reg: 0.5814 (0.6153)  loss_objectness: 0.1687 (0.1667)  loss_rpn_box_reg: 0.0973 (0.0894)  time: 0.7998  data: 0.2831  max mem: 6104\n",
      "Training Epoch: [1]  [180/250]  eta: 0:00:58  lr: 0.000300  loss: 0.7972 (0.8710)  loss_box_reg: 0.5672 (0.6151)  loss_objectness: 0.1584 (0.1664)  loss_rpn_box_reg: 0.1009 (0.0895)  time: 0.8182  data: 0.2812  max mem: 6104\n",
      "Training Epoch: [1]  [190/250]  eta: 0:00:50  lr: 0.000300  loss: 0.8261 (0.8720)  loss_box_reg: 0.5828 (0.6165)  loss_objectness: 0.1579 (0.1666)  loss_rpn_box_reg: 0.0756 (0.0889)  time: 0.8022  data: 0.2822  max mem: 6104\n",
      "Training Epoch: [1]  [200/250]  eta: 0:00:41  lr: 0.000300  loss: 0.8536 (0.8678)  loss_box_reg: 0.5831 (0.6133)  loss_objectness: 0.1648 (0.1664)  loss_rpn_box_reg: 0.0704 (0.0881)  time: 0.7880  data: 0.2808  max mem: 6104\n",
      "Training Epoch: [1]  [210/250]  eta: 0:00:33  lr: 0.000300  loss: 0.8431 (0.8686)  loss_box_reg: 0.5831 (0.6155)  loss_objectness: 0.1648 (0.1658)  loss_rpn_box_reg: 0.0676 (0.0873)  time: 0.7739  data: 0.2819  max mem: 6104\n",
      "Training Epoch: [1]  [220/250]  eta: 0:00:24  lr: 0.000300  loss: 0.8106 (0.8660)  loss_box_reg: 0.5875 (0.6132)  loss_objectness: 0.1609 (0.1658)  loss_rpn_box_reg: 0.0712 (0.0870)  time: 0.7849  data: 0.2842  max mem: 6104\n",
      "Training Epoch: [1]  [230/250]  eta: 0:00:16  lr: 0.000300  loss: 0.7036 (0.8600)  loss_box_reg: 0.4882 (0.6081)  loss_objectness: 0.1575 (0.1654)  loss_rpn_box_reg: 0.0680 (0.0865)  time: 0.8096  data: 0.2835  max mem: 6104\n",
      "Training Epoch: [1]  [240/250]  eta: 0:00:08  lr: 0.000300  loss: 0.8171 (0.8609)  loss_box_reg: 0.5667 (0.6088)  loss_objectness: 0.1553 (0.1653)  loss_rpn_box_reg: 0.0785 (0.0868)  time: 0.8006  data: 0.2822  max mem: 6104\n",
      "Training Epoch: [1]  [249/250]  eta: 0:00:00  lr: 0.000300  loss: 0.8729 (0.8630)  loss_box_reg: 0.5842 (0.6101)  loss_objectness: 0.1579 (0.1657)  loss_rpn_box_reg: 0.0872 (0.0872)  time: 0.7896  data: 0.2837  max mem: 6104\n",
      "Training Epoch: [1] Total time: 0:03:25 (0.8234 s / it)\n",
      "Testing Epoch: [1]  [ 0/62]  eta: 0:00:47  lr: 0.000300  loss: 0.8633 (0.8633)  loss_box_reg: 0.5839 (0.5839)  loss_objectness: 0.1795 (0.1795)  loss_rpn_box_reg: 0.1000 (0.1000)  time: 0.7687  data: 0.3137  max mem: 6104\n",
      "Testing Epoch: [1]  [61/62]  eta: 0:00:00  lr: 0.000300  loss: 0.8784 (0.8659)  loss_box_reg: 0.6567 (0.6328)  loss_objectness: 0.1370 (0.1450)  loss_rpn_box_reg: 0.0687 (0.0881)  time: 0.7417  data: 0.3098  max mem: 6104\n",
      "Testing Epoch: [1] Total time: 0:00:46 (0.7449 s / it)\n",
      "Training Epoch: [2]  [  0/250]  eta: 0:04:30  lr: 0.000300  loss: 0.6505 (0.6505)  loss_box_reg: 0.4025 (0.4025)  loss_objectness: 0.1666 (0.1666)  loss_rpn_box_reg: 0.0813 (0.0813)  time: 1.0819  data: 0.2981  max mem: 6104\n",
      "Training Epoch: [2]  [ 10/250]  eta: 0:03:23  lr: 0.000300  loss: 0.6867 (0.8086)  loss_box_reg: 0.4445 (0.5736)  loss_objectness: 0.1561 (0.1515)  loss_rpn_box_reg: 0.0813 (0.0836)  time: 0.8468  data: 0.2877  max mem: 6104\n",
      "Training Epoch: [2]  [ 20/250]  eta: 0:03:12  lr: 0.000300  loss: 0.8524 (0.8745)  loss_box_reg: 0.6252 (0.6334)  loss_objectness: 0.1545 (0.1510)  loss_rpn_box_reg: 0.0827 (0.0901)  time: 0.8257  data: 0.2853  max mem: 6104\n",
      "Training Epoch: [2]  [ 30/250]  eta: 0:03:01  lr: 0.000300  loss: 0.9009 (0.8550)  loss_box_reg: 0.6759 (0.6263)  loss_objectness: 0.1446 (0.1498)  loss_rpn_box_reg: 0.0661 (0.0790)  time: 0.8155  data: 0.2831  max mem: 6104\n",
      "Training Epoch: [2]  [ 40/250]  eta: 0:02:52  lr: 0.000300  loss: 0.8888 (0.8566)  loss_box_reg: 0.6421 (0.6255)  loss_objectness: 0.1452 (0.1519)  loss_rpn_box_reg: 0.0572 (0.0791)  time: 0.8045  data: 0.2836  max mem: 6104\n",
      "Training Epoch: [2]  [ 50/250]  eta: 0:02:43  lr: 0.000300  loss: 0.7957 (0.8539)  loss_box_reg: 0.5461 (0.6219)  loss_objectness: 0.1521 (0.1528)  loss_rpn_box_reg: 0.0769 (0.0791)  time: 0.8053  data: 0.2820  max mem: 6104\n",
      "Training Epoch: [2]  [ 60/250]  eta: 0:02:35  lr: 0.000300  loss: 0.7977 (0.8650)  loss_box_reg: 0.5461 (0.6308)  loss_objectness: 0.1521 (0.1537)  loss_rpn_box_reg: 0.0728 (0.0805)  time: 0.8178  data: 0.2849  max mem: 6104\n",
      "Training Epoch: [2]  [ 70/250]  eta: 0:02:27  lr: 0.000300  loss: 0.9396 (0.8837)  loss_box_reg: 0.6990 (0.6447)  loss_objectness: 0.1666 (0.1563)  loss_rpn_box_reg: 0.0862 (0.0827)  time: 0.8147  data: 0.2880  max mem: 6104\n",
      "Training Epoch: [2]  [ 80/250]  eta: 0:02:18  lr: 0.000300  loss: 0.9720 (0.8866)  loss_box_reg: 0.7108 (0.6475)  loss_objectness: 0.1599 (0.1565)  loss_rpn_box_reg: 0.0848 (0.0825)  time: 0.7888  data: 0.2831  max mem: 6104\n",
      "Training Epoch: [2]  [ 90/250]  eta: 0:02:09  lr: 0.000300  loss: 0.9754 (0.8912)  loss_box_reg: 0.6886 (0.6522)  loss_objectness: 0.1500 (0.1566)  loss_rpn_box_reg: 0.0737 (0.0824)  time: 0.7880  data: 0.2826  max mem: 6104\n",
      "Training Epoch: [2]  [100/250]  eta: 0:02:01  lr: 0.000300  loss: 0.8960 (0.8932)  loss_box_reg: 0.6492 (0.6524)  loss_objectness: 0.1608 (0.1581)  loss_rpn_box_reg: 0.0792 (0.0827)  time: 0.8021  data: 0.2812  max mem: 6104\n",
      "Training Epoch: [2]  [110/250]  eta: 0:01:52  lr: 0.000300  loss: 0.8653 (0.9060)  loss_box_reg: 0.6120 (0.6649)  loss_objectness: 0.1561 (0.1577)  loss_rpn_box_reg: 0.0837 (0.0834)  time: 0.7723  data: 0.2809  max mem: 6104\n",
      "Training Epoch: [2]  [120/250]  eta: 0:01:44  lr: 0.000300  loss: 0.8653 (0.8999)  loss_box_reg: 0.6183 (0.6604)  loss_objectness: 0.1496 (0.1569)  loss_rpn_box_reg: 0.0786 (0.0826)  time: 0.7669  data: 0.2836  max mem: 6104\n",
      "Training Epoch: [2]  [130/250]  eta: 0:01:36  lr: 0.000300  loss: 0.8100 (0.8990)  loss_box_reg: 0.6183 (0.6601)  loss_objectness: 0.1480 (0.1566)  loss_rpn_box_reg: 0.0752 (0.0823)  time: 0.8144  data: 0.2875  max mem: 6104\n",
      "Training Epoch: [2]  [140/250]  eta: 0:01:28  lr: 0.000300  loss: 0.8358 (0.8970)  loss_box_reg: 0.6186 (0.6576)  loss_objectness: 0.1573 (0.1571)  loss_rpn_box_reg: 0.0779 (0.0823)  time: 0.8293  data: 0.2870  max mem: 6104\n",
      "Training Epoch: [2]  [150/250]  eta: 0:01:20  lr: 0.000300  loss: 0.8925 (0.9003)  loss_box_reg: 0.6689 (0.6612)  loss_objectness: 0.1581 (0.1566)  loss_rpn_box_reg: 0.0806 (0.0825)  time: 0.8261  data: 0.2833  max mem: 6104\n",
      "Training Epoch: [2]  [160/250]  eta: 0:01:12  lr: 0.000300  loss: 0.8955 (0.9005)  loss_box_reg: 0.6946 (0.6625)  loss_objectness: 0.1454 (0.1566)  loss_rpn_box_reg: 0.0806 (0.0815)  time: 0.8086  data: 0.2821  max mem: 6104\n",
      "Training Epoch: [2]  [170/250]  eta: 0:01:04  lr: 0.000300  loss: 0.8834 (0.8970)  loss_box_reg: 0.6653 (0.6580)  loss_objectness: 0.1552 (0.1577)  loss_rpn_box_reg: 0.0729 (0.0813)  time: 0.7785  data: 0.2829  max mem: 6104\n",
      "Training Epoch: [2]  [180/250]  eta: 0:00:56  lr: 0.000300  loss: 0.8801 (0.8992)  loss_box_reg: 0.6472 (0.6598)  loss_objectness: 0.1714 (0.1580)  loss_rpn_box_reg: 0.0778 (0.0814)  time: 0.7912  data: 0.2877  max mem: 6104\n",
      "Training Epoch: [2]  [190/250]  eta: 0:00:48  lr: 0.000300  loss: 0.8563 (0.8948)  loss_box_reg: 0.6246 (0.6556)  loss_objectness: 0.1548 (0.1581)  loss_rpn_box_reg: 0.0808 (0.0811)  time: 0.8139  data: 0.2879  max mem: 6104\n",
      "Training Epoch: [2]  [200/250]  eta: 0:00:40  lr: 0.000300  loss: 0.8417 (0.8989)  loss_box_reg: 0.5874 (0.6595)  loss_objectness: 0.1550 (0.1586)  loss_rpn_box_reg: 0.0767 (0.0809)  time: 0.8018  data: 0.2876  max mem: 6104\n",
      "Training Epoch: [2]  [210/250]  eta: 0:00:32  lr: 0.000300  loss: 0.9317 (0.9017)  loss_box_reg: 0.6870 (0.6625)  loss_objectness: 0.1521 (0.1581)  loss_rpn_box_reg: 0.0784 (0.0811)  time: 0.8045  data: 0.2845  max mem: 6104\n",
      "Training Epoch: [2]  [220/250]  eta: 0:00:24  lr: 0.000300  loss: 0.9087 (0.9063)  loss_box_reg: 0.6833 (0.6665)  loss_objectness: 0.1483 (0.1584)  loss_rpn_box_reg: 0.0843 (0.0814)  time: 0.8127  data: 0.2826  max mem: 6104\n",
      "Training Epoch: [2]  [230/250]  eta: 0:00:16  lr: 0.000300  loss: 0.9233 (0.9050)  loss_box_reg: 0.6666 (0.6652)  loss_objectness: 0.1501 (0.1583)  loss_rpn_box_reg: 0.0827 (0.0816)  time: 0.7927  data: 0.2837  max mem: 6104\n",
      "Training Epoch: [2]  [240/250]  eta: 0:00:08  lr: 0.000300  loss: 0.8142 (0.9022)  loss_box_reg: 0.6206 (0.6635)  loss_objectness: 0.1486 (0.1578)  loss_rpn_box_reg: 0.0733 (0.0808)  time: 0.7982  data: 0.2810  max mem: 6104\n",
      "Training Epoch: [2]  [249/250]  eta: 0:00:00  lr: 0.000300  loss: 0.7771 (0.8982)  loss_box_reg: 0.5748 (0.6597)  loss_objectness: 0.1523 (0.1581)  loss_rpn_box_reg: 0.0730 (0.0805)  time: 0.8155  data: 0.2832  max mem: 6104\n",
      "Training Epoch: [2] Total time: 0:03:21 (0.8054 s / it)\n",
      "Testing Epoch: [2]  [ 0/62]  eta: 0:00:48  lr: 0.000300  loss: 0.6890 (0.6890)  loss_box_reg: 0.4287 (0.4287)  loss_objectness: 0.1658 (0.1658)  loss_rpn_box_reg: 0.0945 (0.0945)  time: 0.7844  data: 0.3137  max mem: 6104\n",
      "Testing Epoch: [2]  [61/62]  eta: 0:00:00  lr: 0.000300  loss: 0.8334 (0.8893)  loss_box_reg: 0.6533 (0.6742)  loss_objectness: 0.1213 (0.1340)  loss_rpn_box_reg: 0.0634 (0.0810)  time: 0.7425  data: 0.3052  max mem: 6104\n",
      "Testing Epoch: [2] Total time: 0:00:46 (0.7472 s / it)\n",
      "Training Epoch: [3]  [  0/250]  eta: 0:04:17  lr: 0.000300  loss: 0.4835 (0.4835)  loss_box_reg: 0.2494 (0.2494)  loss_objectness: 0.1691 (0.1691)  loss_rpn_box_reg: 0.0650 (0.0650)  time: 1.0281  data: 0.3006  max mem: 6104\n",
      "Training Epoch: [3]  [ 10/250]  eta: 0:03:26  lr: 0.000300  loss: 0.7945 (0.7615)  loss_box_reg: 0.5472 (0.5436)  loss_objectness: 0.1442 (0.1455)  loss_rpn_box_reg: 0.0687 (0.0724)  time: 0.8604  data: 0.2884  max mem: 6104\n",
      "Training Epoch: [3]  [ 20/250]  eta: 0:03:11  lr: 0.000300  loss: 0.8773 (0.8477)  loss_box_reg: 0.6509 (0.6164)  loss_objectness: 0.1456 (0.1548)  loss_rpn_box_reg: 0.0697 (0.0764)  time: 0.8225  data: 0.2874  max mem: 6104\n",
      "Training Epoch: [3]  [ 30/250]  eta: 0:03:01  lr: 0.000300  loss: 0.8938 (0.8547)  loss_box_reg: 0.6509 (0.6249)  loss_objectness: 0.1540 (0.1535)  loss_rpn_box_reg: 0.0775 (0.0763)  time: 0.8069  data: 0.2851  max mem: 6104\n",
      "Training Epoch: [3]  [ 40/250]  eta: 0:02:54  lr: 0.000300  loss: 0.9226 (0.8885)  loss_box_reg: 0.7125 (0.6604)  loss_objectness: 0.1438 (0.1517)  loss_rpn_box_reg: 0.0747 (0.0764)  time: 0.8296  data: 0.2853  max mem: 6104\n",
      "Training Epoch: [3]  [ 50/250]  eta: 0:02:45  lr: 0.000300  loss: 0.8524 (0.8805)  loss_box_reg: 0.6413 (0.6535)  loss_objectness: 0.1437 (0.1512)  loss_rpn_box_reg: 0.0703 (0.0759)  time: 0.8264  data: 0.2896  max mem: 6104\n",
      "Training Epoch: [3]  [ 60/250]  eta: 0:02:35  lr: 0.000300  loss: 0.8374 (0.8846)  loss_box_reg: 0.6301 (0.6535)  loss_objectness: 0.1563 (0.1542)  loss_rpn_box_reg: 0.0763 (0.0769)  time: 0.7958  data: 0.2908  max mem: 6104\n",
      "Training Epoch: [3]  [ 70/250]  eta: 0:02:27  lr: 0.000300  loss: 0.8350 (0.8703)  loss_box_reg: 0.5837 (0.6407)  loss_objectness: 0.1563 (0.1540)  loss_rpn_box_reg: 0.0758 (0.0755)  time: 0.8021  data: 0.2894  max mem: 6104\n",
      "Training Epoch: [3]  [ 80/250]  eta: 0:02:19  lr: 0.000300  loss: 0.7704 (0.8581)  loss_box_reg: 0.5458 (0.6298)  loss_objectness: 0.1485 (0.1531)  loss_rpn_box_reg: 0.0712 (0.0752)  time: 0.8163  data: 0.2863  max mem: 6104\n",
      "Training Epoch: [3]  [ 90/250]  eta: 0:02:10  lr: 0.000300  loss: 0.7704 (0.8592)  loss_box_reg: 0.5458 (0.6262)  loss_objectness: 0.1555 (0.1560)  loss_rpn_box_reg: 0.0818 (0.0769)  time: 0.8076  data: 0.2853  max mem: 6104\n",
      "Training Epoch: [3]  [100/250]  eta: 0:02:02  lr: 0.000300  loss: 0.7755 (0.8501)  loss_box_reg: 0.4967 (0.6178)  loss_objectness: 0.1571 (0.1553)  loss_rpn_box_reg: 0.0735 (0.0770)  time: 0.8014  data: 0.2860  max mem: 6104\n",
      "Training Epoch: [3]  [110/250]  eta: 0:01:53  lr: 0.000300  loss: 0.7755 (0.8552)  loss_box_reg: 0.5661 (0.6232)  loss_objectness: 0.1514 (0.1550)  loss_rpn_box_reg: 0.0682 (0.0770)  time: 0.7982  data: 0.2862  max mem: 6104\n",
      "Training Epoch: [3]  [120/250]  eta: 0:01:45  lr: 0.000300  loss: 0.8278 (0.8510)  loss_box_reg: 0.5787 (0.6165)  loss_objectness: 0.1581 (0.1565)  loss_rpn_box_reg: 0.0826 (0.0779)  time: 0.8061  data: 0.2907  max mem: 6104\n",
      "Training Epoch: [3]  [130/250]  eta: 0:01:37  lr: 0.000300  loss: 0.8218 (0.8505)  loss_box_reg: 0.5895 (0.6163)  loss_objectness: 0.1651 (0.1566)  loss_rpn_box_reg: 0.0717 (0.0776)  time: 0.8272  data: 0.2915  max mem: 6104\n",
      "Training Epoch: [3]  [140/250]  eta: 0:01:29  lr: 0.000300  loss: 0.7797 (0.8394)  loss_box_reg: 0.5748 (0.6071)  loss_objectness: 0.1468 (0.1554)  loss_rpn_box_reg: 0.0673 (0.0769)  time: 0.8288  data: 0.2884  max mem: 6104\n",
      "Training Epoch: [3]  [150/250]  eta: 0:01:21  lr: 0.000300  loss: 0.8812 (0.8535)  loss_box_reg: 0.6402 (0.6198)  loss_objectness: 0.1400 (0.1560)  loss_rpn_box_reg: 0.0688 (0.0776)  time: 0.8006  data: 0.2856  max mem: 6104\n",
      "Training Epoch: [3]  [160/250]  eta: 0:01:13  lr: 0.000300  loss: 1.0687 (0.8622)  loss_box_reg: 0.8380 (0.6285)  loss_objectness: 0.1554 (0.1556)  loss_rpn_box_reg: 0.0753 (0.0780)  time: 0.7778  data: 0.2806  max mem: 6104\n",
      "Training Epoch: [3]  [170/250]  eta: 0:01:04  lr: 0.000300  loss: 0.9682 (0.8628)  loss_box_reg: 0.7400 (0.6287)  loss_objectness: 0.1544 (0.1556)  loss_rpn_box_reg: 0.0765 (0.0786)  time: 0.7793  data: 0.2802  max mem: 6104\n",
      "Training Epoch: [3]  [180/250]  eta: 0:00:56  lr: 0.000300  loss: 0.8569 (0.8686)  loss_box_reg: 0.6441 (0.6344)  loss_objectness: 0.1540 (0.1551)  loss_rpn_box_reg: 0.0877 (0.0791)  time: 0.7942  data: 0.2816  max mem: 6104\n",
      "Training Epoch: [3]  [190/250]  eta: 0:00:48  lr: 0.000300  loss: 0.8097 (0.8661)  loss_box_reg: 0.5955 (0.6318)  loss_objectness: 0.1522 (0.1555)  loss_rpn_box_reg: 0.0792 (0.0788)  time: 0.8029  data: 0.2847  max mem: 6104\n",
      "Training Epoch: [3]  [200/250]  eta: 0:00:40  lr: 0.000300  loss: 0.7556 (0.8678)  loss_box_reg: 0.5309 (0.6327)  loss_objectness: 0.1665 (0.1560)  loss_rpn_box_reg: 0.0784 (0.0791)  time: 0.8014  data: 0.2855  max mem: 6104\n",
      "Training Epoch: [3]  [210/250]  eta: 0:00:32  lr: 0.000300  loss: 0.7483 (0.8614)  loss_box_reg: 0.5018 (0.6272)  loss_objectness: 0.1576 (0.1558)  loss_rpn_box_reg: 0.0734 (0.0784)  time: 0.7865  data: 0.2859  max mem: 6104\n",
      "Training Epoch: [3]  [220/250]  eta: 0:00:24  lr: 0.000300  loss: 0.7510 (0.8645)  loss_box_reg: 0.5372 (0.6313)  loss_objectness: 0.1453 (0.1550)  loss_rpn_box_reg: 0.0723 (0.0783)  time: 0.7982  data: 0.2837  max mem: 6104\n",
      "Training Epoch: [3]  [230/250]  eta: 0:00:16  lr: 0.000300  loss: 0.9258 (0.8682)  loss_box_reg: 0.6972 (0.6350)  loss_objectness: 0.1417 (0.1548)  loss_rpn_box_reg: 0.0749 (0.0784)  time: 0.8217  data: 0.2801  max mem: 6104\n",
      "Training Epoch: [3]  [240/250]  eta: 0:00:08  lr: 0.000300  loss: 0.8909 (0.8682)  loss_box_reg: 0.6502 (0.6349)  loss_objectness: 0.1450 (0.1545)  loss_rpn_box_reg: 0.0756 (0.0787)  time: 0.8194  data: 0.2836  max mem: 6104\n",
      "Training Epoch: [3]  [249/250]  eta: 0:00:00  lr: 0.000300  loss: 0.8800 (0.8681)  loss_box_reg: 0.6490 (0.6351)  loss_objectness: 0.1493 (0.1546)  loss_rpn_box_reg: 0.0713 (0.0784)  time: 0.8210  data: 0.2872  max mem: 6104\n",
      "Training Epoch: [3] Total time: 0:03:22 (0.8093 s / it)\n",
      "Testing Epoch: [3]  [ 0/62]  eta: 0:00:54  lr: 0.000300  loss: 0.9666 (0.9666)  loss_box_reg: 0.7197 (0.7197)  loss_objectness: 0.1610 (0.1610)  loss_rpn_box_reg: 0.0859 (0.0859)  time: 0.8785  data: 0.4078  max mem: 6104\n",
      "Testing Epoch: [3]  [61/62]  eta: 0:00:00  lr: 0.000300  loss: 0.9510 (0.9815)  loss_box_reg: 0.7758 (0.7718)  loss_objectness: 0.1253 (0.1290)  loss_rpn_box_reg: 0.0699 (0.0807)  time: 0.7512  data: 0.3097  max mem: 6107\n",
      "Testing Epoch: [3] Total time: 0:00:46 (0.7530 s / it)\n",
      "Training Epoch: [4]  [  0/250]  eta: 0:05:01  lr: 0.000300  loss: 0.9950 (0.9950)  loss_box_reg: 0.8035 (0.8035)  loss_objectness: 0.1234 (0.1234)  loss_rpn_box_reg: 0.0680 (0.0680)  time: 1.2078  data: 0.2821  max mem: 6107\n",
      "Training Epoch: [4]  [ 10/250]  eta: 0:03:31  lr: 0.000300  loss: 0.8049 (0.8099)  loss_box_reg: 0.5684 (0.5842)  loss_objectness: 0.1593 (0.1555)  loss_rpn_box_reg: 0.0698 (0.0702)  time: 0.8825  data: 0.2881  max mem: 6107\n",
      "Training Epoch: [4]  [ 20/250]  eta: 0:03:12  lr: 0.000300  loss: 0.8035 (0.8473)  loss_box_reg: 0.5684 (0.6239)  loss_objectness: 0.1487 (0.1505)  loss_rpn_box_reg: 0.0705 (0.0730)  time: 0.8202  data: 0.2861  max mem: 6107\n",
      "Training Epoch: [4]  [ 30/250]  eta: 0:03:02  lr: 0.000300  loss: 0.9186 (0.8820)  loss_box_reg: 0.6629 (0.6504)  loss_objectness: 0.1477 (0.1549)  loss_rpn_box_reg: 0.0735 (0.0767)  time: 0.7974  data: 0.2825  max mem: 6107\n",
      "Training Epoch: [4]  [ 40/250]  eta: 0:02:51  lr: 0.000300  loss: 0.9050 (0.8697)  loss_box_reg: 0.6629 (0.6386)  loss_objectness: 0.1565 (0.1538)  loss_rpn_box_reg: 0.0803 (0.0772)  time: 0.7975  data: 0.2855  max mem: 6107\n",
      "Training Epoch: [4]  [ 50/250]  eta: 0:02:44  lr: 0.000300  loss: 0.8613 (0.8793)  loss_box_reg: 0.6275 (0.6495)  loss_objectness: 0.1421 (0.1519)  loss_rpn_box_reg: 0.0814 (0.0779)  time: 0.8163  data: 0.2881  max mem: 6107\n",
      "Training Epoch: [4]  [ 60/250]  eta: 0:02:36  lr: 0.000300  loss: 0.8374 (0.8751)  loss_box_reg: 0.6297 (0.6435)  loss_objectness: 0.1389 (0.1523)  loss_rpn_box_reg: 0.0814 (0.0793)  time: 0.8304  data: 0.2860  max mem: 6107\n",
      "Training Epoch: [4]  [ 70/250]  eta: 0:02:27  lr: 0.000300  loss: 0.8868 (0.8741)  loss_box_reg: 0.6461 (0.6414)  loss_objectness: 0.1538 (0.1547)  loss_rpn_box_reg: 0.0783 (0.0781)  time: 0.8045  data: 0.2878  max mem: 6107\n",
      "Training Epoch: [4]  [ 80/250]  eta: 0:02:18  lr: 0.000300  loss: 0.8819 (0.8700)  loss_box_reg: 0.6116 (0.6352)  loss_objectness: 0.1580 (0.1557)  loss_rpn_box_reg: 0.0790 (0.0791)  time: 0.8014  data: 0.2867  max mem: 6107\n",
      "Training Epoch: [4]  [ 90/250]  eta: 0:02:09  lr: 0.000300  loss: 0.8607 (0.8769)  loss_box_reg: 0.6256 (0.6452)  loss_objectness: 0.1438 (0.1535)  loss_rpn_box_reg: 0.0809 (0.0781)  time: 0.7849  data: 0.2824  max mem: 6107\n",
      "Training Epoch: [4]  [100/250]  eta: 0:02:01  lr: 0.000300  loss: 0.8866 (0.8815)  loss_box_reg: 0.6586 (0.6485)  loss_objectness: 0.1494 (0.1546)  loss_rpn_box_reg: 0.0759 (0.0784)  time: 0.7898  data: 0.2847  max mem: 6107\n",
      "Training Epoch: [4]  [110/250]  eta: 0:01:53  lr: 0.000300  loss: 0.9020 (0.8871)  loss_box_reg: 0.6586 (0.6547)  loss_objectness: 0.1567 (0.1546)  loss_rpn_box_reg: 0.0758 (0.0778)  time: 0.8142  data: 0.2854  max mem: 6107\n",
      "Training Epoch: [4]  [120/250]  eta: 0:01:45  lr: 0.000300  loss: 0.9020 (0.8831)  loss_box_reg: 0.6345 (0.6505)  loss_objectness: 0.1501 (0.1546)  loss_rpn_box_reg: 0.0669 (0.0780)  time: 0.8003  data: 0.2847  max mem: 6107\n",
      "Training Epoch: [4]  [130/250]  eta: 0:01:37  lr: 0.000300  loss: 0.9353 (0.8933)  loss_box_reg: 0.6248 (0.6607)  loss_objectness: 0.1490 (0.1545)  loss_rpn_box_reg: 0.0731 (0.0781)  time: 0.8103  data: 0.2908  max mem: 6107\n",
      "Training Epoch: [4]  [140/250]  eta: 0:01:29  lr: 0.000300  loss: 0.9373 (0.8924)  loss_box_reg: 0.7063 (0.6613)  loss_objectness: 0.1481 (0.1536)  loss_rpn_box_reg: 0.0696 (0.0775)  time: 0.8406  data: 0.2939  max mem: 6107\n",
      "Training Epoch: [4]  [150/250]  eta: 0:01:21  lr: 0.000300  loss: 0.9179 (0.8954)  loss_box_reg: 0.7046 (0.6637)  loss_objectness: 0.1507 (0.1537)  loss_rpn_box_reg: 0.0769 (0.0780)  time: 0.8398  data: 0.2931  max mem: 6107\n",
      "Training Epoch: [4]  [160/250]  eta: 0:01:13  lr: 0.000300  loss: 0.9037 (0.8931)  loss_box_reg: 0.6474 (0.6621)  loss_objectness: 0.1485 (0.1532)  loss_rpn_box_reg: 0.0769 (0.0778)  time: 0.7957  data: 0.2882  max mem: 6107\n",
      "Training Epoch: [4]  [170/250]  eta: 0:01:04  lr: 0.000300  loss: 0.8010 (0.8842)  loss_box_reg: 0.5338 (0.6534)  loss_objectness: 0.1478 (0.1530)  loss_rpn_box_reg: 0.0634 (0.0778)  time: 0.7912  data: 0.2911  max mem: 6107\n",
      "Training Epoch: [4]  [180/250]  eta: 0:00:56  lr: 0.000300  loss: 0.7715 (0.8867)  loss_box_reg: 0.5115 (0.6558)  loss_objectness: 0.1478 (0.1526)  loss_rpn_box_reg: 0.0674 (0.0782)  time: 0.8305  data: 0.2983  max mem: 6107\n",
      "Training Epoch: [4]  [190/250]  eta: 0:00:48  lr: 0.000300  loss: 0.9105 (0.8888)  loss_box_reg: 0.6755 (0.6577)  loss_objectness: 0.1510 (0.1534)  loss_rpn_box_reg: 0.0707 (0.0777)  time: 0.8280  data: 0.2931  max mem: 6107\n",
      "Training Epoch: [4]  [200/250]  eta: 0:00:40  lr: 0.000300  loss: 0.9105 (0.8894)  loss_box_reg: 0.6965 (0.6595)  loss_objectness: 0.1417 (0.1528)  loss_rpn_box_reg: 0.0684 (0.0772)  time: 0.8108  data: 0.2902  max mem: 6107\n",
      "Training Epoch: [4]  [210/250]  eta: 0:00:32  lr: 0.000300  loss: 0.9066 (0.8918)  loss_box_reg: 0.6965 (0.6613)  loss_objectness: 0.1417 (0.1528)  loss_rpn_box_reg: 0.0769 (0.0777)  time: 0.8166  data: 0.2882  max mem: 6107\n",
      "Training Epoch: [4]  [220/250]  eta: 0:00:24  lr: 0.000300  loss: 0.8270 (0.8855)  loss_box_reg: 0.5739 (0.6569)  loss_objectness: 0.1421 (0.1518)  loss_rpn_box_reg: 0.0681 (0.0768)  time: 0.8032  data: 0.2846  max mem: 6107\n",
      "Training Epoch: [4]  [230/250]  eta: 0:00:16  lr: 0.000300  loss: 0.8283 (0.8849)  loss_box_reg: 0.6212 (0.6564)  loss_objectness: 0.1339 (0.1516)  loss_rpn_box_reg: 0.0623 (0.0769)  time: 0.8014  data: 0.2855  max mem: 6107\n",
      "Training Epoch: [4]  [240/250]  eta: 0:00:08  lr: 0.000300  loss: 0.8586 (0.8829)  loss_box_reg: 0.6212 (0.6545)  loss_objectness: 0.1434 (0.1515)  loss_rpn_box_reg: 0.0697 (0.0770)  time: 0.7982  data: 0.2857  max mem: 6107\n",
      "Training Epoch: [4]  [249/250]  eta: 0:00:00  lr: 0.000300  loss: 0.9041 (0.8891)  loss_box_reg: 0.6502 (0.6596)  loss_objectness: 0.1529 (0.1518)  loss_rpn_box_reg: 0.0841 (0.0777)  time: 0.7893  data: 0.2829  max mem: 6107\n",
      "Training Epoch: [4] Total time: 0:03:22 (0.8111 s / it)\n",
      "Testing Epoch: [4]  [ 0/62]  eta: 0:00:48  lr: 0.000300  loss: 0.7927 (0.7927)  loss_box_reg: 0.5418 (0.5418)  loss_objectness: 0.1683 (0.1683)  loss_rpn_box_reg: 0.0826 (0.0826)  time: 0.7744  data: 0.3041  max mem: 6107\n",
      "Testing Epoch: [4]  [61/62]  eta: 0:00:00  lr: 0.000300  loss: 0.9106 (0.9118)  loss_box_reg: 0.7196 (0.6991)  loss_objectness: 0.1259 (0.1302)  loss_rpn_box_reg: 0.0746 (0.0825)  time: 0.7598  data: 0.3133  max mem: 6111\n",
      "Testing Epoch: [4] Total time: 0:00:46 (0.7576 s / it)\n",
      "Training Epoch: [5]  [  0/250]  eta: 0:04:46  lr: 0.000300  loss: 1.0299 (1.0299)  loss_box_reg: 0.7870 (0.7870)  loss_objectness: 0.1366 (0.1366)  loss_rpn_box_reg: 0.1063 (0.1063)  time: 1.1443  data: 0.2911  max mem: 6111\n",
      "Training Epoch: [5]  [ 10/250]  eta: 0:03:27  lr: 0.000300  loss: 1.0299 (0.9871)  loss_box_reg: 0.7556 (0.7423)  loss_objectness: 0.1529 (0.1475)  loss_rpn_box_reg: 0.0971 (0.0974)  time: 0.8661  data: 0.2978  max mem: 6111\n",
      "Training Epoch: [5]  [ 20/250]  eta: 0:03:10  lr: 0.000300  loss: 0.8591 (0.9452)  loss_box_reg: 0.6406 (0.7127)  loss_objectness: 0.1469 (0.1440)  loss_rpn_box_reg: 0.0841 (0.0884)  time: 0.8131  data: 0.2905  max mem: 6111\n",
      "Training Epoch: [5]  [ 30/250]  eta: 0:03:02  lr: 0.000300  loss: 0.7912 (0.8768)  loss_box_reg: 0.5587 (0.6508)  loss_objectness: 0.1458 (0.1438)  loss_rpn_box_reg: 0.0707 (0.0822)  time: 0.8119  data: 0.2852  max mem: 6111\n",
      "Training Epoch: [5]  [ 40/250]  eta: 0:02:54  lr: 0.000300  loss: 0.8232 (0.8906)  loss_box_reg: 0.5948 (0.6630)  loss_objectness: 0.1458 (0.1472)  loss_rpn_box_reg: 0.0746 (0.0804)  time: 0.8288  data: 0.2896  max mem: 6111\n",
      "Training Epoch: [5]  [ 50/250]  eta: 0:02:44  lr: 0.000300  loss: 0.8807 (0.8943)  loss_box_reg: 0.6614 (0.6670)  loss_objectness: 0.1426 (0.1473)  loss_rpn_box_reg: 0.0743 (0.0800)  time: 0.8029  data: 0.2892  max mem: 6111\n",
      "Training Epoch: [5]  [ 60/250]  eta: 0:02:36  lr: 0.000300  loss: 0.9035 (0.8890)  loss_box_reg: 0.6645 (0.6613)  loss_objectness: 0.1390 (0.1478)  loss_rpn_box_reg: 0.0728 (0.0799)  time: 0.8108  data: 0.2864  max mem: 6111\n",
      "Training Epoch: [5]  [ 70/250]  eta: 0:02:27  lr: 0.000300  loss: 0.9035 (0.8891)  loss_box_reg: 0.6328 (0.6583)  loss_objectness: 0.1491 (0.1502)  loss_rpn_box_reg: 0.0803 (0.0806)  time: 0.8131  data: 0.2870  max mem: 6111\n",
      "Training Epoch: [5]  [ 80/250]  eta: 0:02:18  lr: 0.000300  loss: 0.8099 (0.8784)  loss_box_reg: 0.5802 (0.6490)  loss_objectness: 0.1614 (0.1498)  loss_rpn_box_reg: 0.0726 (0.0796)  time: 0.7952  data: 0.2879  max mem: 6111\n",
      "Training Epoch: [5]  [ 90/250]  eta: 0:02:10  lr: 0.000300  loss: 0.8099 (0.8801)  loss_box_reg: 0.5802 (0.6528)  loss_objectness: 0.1457 (0.1490)  loss_rpn_box_reg: 0.0657 (0.0782)  time: 0.7943  data: 0.2877  max mem: 6111\n",
      "Training Epoch: [5]  [100/250]  eta: 0:02:01  lr: 0.000300  loss: 0.8629 (0.8801)  loss_box_reg: 0.6436 (0.6512)  loss_objectness: 0.1457 (0.1499)  loss_rpn_box_reg: 0.0696 (0.0791)  time: 0.7973  data: 0.2899  max mem: 6111\n",
      "Training Epoch: [5]  [110/250]  eta: 0:01:53  lr: 0.000300  loss: 0.8268 (0.8686)  loss_box_reg: 0.5872 (0.6399)  loss_objectness: 0.1460 (0.1506)  loss_rpn_box_reg: 0.0794 (0.0782)  time: 0.8006  data: 0.2864  max mem: 6111\n",
      "Training Epoch: [5]  [120/250]  eta: 0:01:45  lr: 0.000300  loss: 0.7816 (0.8665)  loss_box_reg: 0.5872 (0.6380)  loss_objectness: 0.1416 (0.1505)  loss_rpn_box_reg: 0.0714 (0.0780)  time: 0.8123  data: 0.2841  max mem: 6111\n",
      "Training Epoch: [5]  [130/250]  eta: 0:01:37  lr: 0.000300  loss: 0.7816 (0.8579)  loss_box_reg: 0.5782 (0.6314)  loss_objectness: 0.1384 (0.1495)  loss_rpn_box_reg: 0.0693 (0.0769)  time: 0.8162  data: 0.2839  max mem: 6111\n",
      "Training Epoch: [5]  [140/250]  eta: 0:01:29  lr: 0.000300  loss: 0.7699 (0.8566)  loss_box_reg: 0.5535 (0.6306)  loss_objectness: 0.1385 (0.1499)  loss_rpn_box_reg: 0.0638 (0.0761)  time: 0.7935  data: 0.2855  max mem: 6111\n",
      "Training Epoch: [5]  [150/250]  eta: 0:01:20  lr: 0.000300  loss: 0.7837 (0.8580)  loss_box_reg: 0.5815 (0.6316)  loss_objectness: 0.1543 (0.1503)  loss_rpn_box_reg: 0.0673 (0.0761)  time: 0.7842  data: 0.2839  max mem: 6111\n",
      "Training Epoch: [5]  [160/250]  eta: 0:01:12  lr: 0.000300  loss: 0.8521 (0.8611)  loss_box_reg: 0.6090 (0.6340)  loss_objectness: 0.1543 (0.1504)  loss_rpn_box_reg: 0.0809 (0.0767)  time: 0.8115  data: 0.2822  max mem: 6111\n",
      "Training Epoch: [5]  [170/250]  eta: 0:01:04  lr: 0.000300  loss: 0.8651 (0.8631)  loss_box_reg: 0.6608 (0.6359)  loss_objectness: 0.1488 (0.1504)  loss_rpn_box_reg: 0.0732 (0.0768)  time: 0.8122  data: 0.2865  max mem: 6111\n",
      "Training Epoch: [5]  [180/250]  eta: 0:00:56  lr: 0.000300  loss: 0.9168 (0.8749)  loss_box_reg: 0.7093 (0.6472)  loss_objectness: 0.1428 (0.1500)  loss_rpn_box_reg: 0.0717 (0.0776)  time: 0.7959  data: 0.2835  max mem: 6111\n",
      "Training Epoch: [5]  [190/250]  eta: 0:00:48  lr: 0.000300  loss: 0.8889 (0.8749)  loss_box_reg: 0.7093 (0.6477)  loss_objectness: 0.1427 (0.1497)  loss_rpn_box_reg: 0.0717 (0.0775)  time: 0.8259  data: 0.2852  max mem: 6111\n",
      "Training Epoch: [5]  [200/250]  eta: 0:00:40  lr: 0.000300  loss: 0.8155 (0.8741)  loss_box_reg: 0.5611 (0.6451)  loss_objectness: 0.1542 (0.1513)  loss_rpn_box_reg: 0.0698 (0.0777)  time: 0.8147  data: 0.2935  max mem: 6111\n",
      "Training Epoch: [5]  [210/250]  eta: 0:00:32  lr: 0.000300  loss: 0.8327 (0.8713)  loss_box_reg: 0.5831 (0.6425)  loss_objectness: 0.1670 (0.1515)  loss_rpn_box_reg: 0.0668 (0.0773)  time: 0.7940  data: 0.2936  max mem: 6111\n",
      "Training Epoch: [5]  [220/250]  eta: 0:00:24  lr: 0.000300  loss: 0.7801 (0.8663)  loss_box_reg: 0.5764 (0.6385)  loss_objectness: 0.1513 (0.1508)  loss_rpn_box_reg: 0.0668 (0.0770)  time: 0.7943  data: 0.2862  max mem: 6111\n",
      "Training Epoch: [5]  [230/250]  eta: 0:00:16  lr: 0.000300  loss: 0.8853 (0.8704)  loss_box_reg: 0.6280 (0.6420)  loss_objectness: 0.1521 (0.1512)  loss_rpn_box_reg: 0.0772 (0.0772)  time: 0.7943  data: 0.2828  max mem: 6111\n",
      "Training Epoch: [5]  [240/250]  eta: 0:00:08  lr: 0.000300  loss: 0.9342 (0.8743)  loss_box_reg: 0.6968 (0.6461)  loss_objectness: 0.1521 (0.1507)  loss_rpn_box_reg: 0.0776 (0.0776)  time: 0.8068  data: 0.2837  max mem: 6111\n",
      "Training Epoch: [5]  [249/250]  eta: 0:00:00  lr: 0.000300  loss: 0.8566 (0.8699)  loss_box_reg: 0.6528 (0.6421)  loss_objectness: 0.1398 (0.1507)  loss_rpn_box_reg: 0.0699 (0.0771)  time: 0.8162  data: 0.2906  max mem: 6111\n",
      "Training Epoch: [5] Total time: 0:03:22 (0.8084 s / it)\n",
      "creating index...\n",
      "index created!\n",
      "Test:  [ 0/62]  eta: 0:00:57  model_time: 0.5956 (0.5956)  evaluator_time: 0.0316 (0.0316)  time: 0.9253  data: 0.2824  max mem: 6111\n",
      "Test:  [61/62]  eta: 0:00:00  model_time: 0.2980 (0.3012)  evaluator_time: 0.0156 (0.0243)  time: 0.6262  data: 0.3101  max mem: 6111\n",
      "Test: Total time: 0:00:39 (0.6371 s / it)\n",
      "Averaged stats: model_time: 0.2980 (0.3012)  evaluator_time: 0.0156 (0.0243)\n",
      "Accumulating evaluation results...\n",
      "DONE (t=0.56s).\n",
      "IoU metric: bbox\n",
      " Average Precision  (AP) @[ IoU=0.50:0.95 | area=   all | maxDets=100 ] = 0.009\n",
      " Average Precision  (AP) @[ IoU=0.50      | area=   all | maxDets=100 ] = 0.034\n",
      " Average Precision  (AP) @[ IoU=0.75      | area=   all | maxDets=100 ] = 0.002\n",
      " Average Precision  (AP) @[ IoU=0.50:0.95 | area= small | maxDets=100 ] = 0.000\n",
      " Average Precision  (AP) @[ IoU=0.50:0.95 | area=medium | maxDets=100 ] = 0.002\n",
      " Average Precision  (AP) @[ IoU=0.50:0.95 | area= large | maxDets=100 ] = 0.017\n",
      " Average Recall     (AR) @[ IoU=0.50:0.95 | area=   all | maxDets=  1 ] = 0.017\n",
      " Average Recall     (AR) @[ IoU=0.50:0.95 | area=   all | maxDets= 10 ] = 0.026\n",
      " Average Recall     (AR) @[ IoU=0.50:0.95 | area=   all | maxDets=100 ] = 0.026\n",
      " Average Recall     (AR) @[ IoU=0.50:0.95 | area= small | maxDets=100 ] = 0.001\n",
      " Average Recall     (AR) @[ IoU=0.50:0.95 | area=medium | maxDets=100 ] = 0.003\n",
      " Average Recall     (AR) @[ IoU=0.50:0.95 | area= large | maxDets=100 ] = 0.051\n",
      "Testing Epoch: [5]  [ 0/62]  eta: 0:00:48  lr: 0.000300  loss: 0.7479 (0.7479)  loss_box_reg: 0.5042 (0.5042)  loss_objectness: 0.1558 (0.1558)  loss_rpn_box_reg: 0.0879 (0.0879)  time: 0.7840  data: 0.3137  max mem: 6111\n",
      "Testing Epoch: [5]  [61/62]  eta: 0:00:00  lr: 0.000300  loss: 0.9043 (0.9481)  loss_box_reg: 0.7164 (0.7393)  loss_objectness: 0.1207 (0.1288)  loss_rpn_box_reg: 0.0678 (0.0800)  time: 0.7410  data: 0.3047  max mem: 6111\n",
      "Testing Epoch: [5] Total time: 0:00:46 (0.7469 s / it)\n",
      "Training Epoch: [6]  [  0/250]  eta: 0:04:49  lr: 0.000300  loss: 0.7640 (0.7640)  loss_box_reg: 0.5931 (0.5931)  loss_objectness: 0.1168 (0.1168)  loss_rpn_box_reg: 0.0541 (0.0541)  time: 1.1580  data: 0.3111  max mem: 6111\n",
      "Training Epoch: [6]  [ 10/250]  eta: 0:03:20  lr: 0.000300  loss: 0.8620 (0.8971)  loss_box_reg: 0.5931 (0.6715)  loss_objectness: 0.1455 (0.1494)  loss_rpn_box_reg: 0.0751 (0.0762)  time: 0.8352  data: 0.2878  max mem: 6111\n",
      "Training Epoch: [6]  [ 20/250]  eta: 0:03:12  lr: 0.000300  loss: 0.8687 (0.9223)  loss_box_reg: 0.6756 (0.6912)  loss_objectness: 0.1500 (0.1515)  loss_rpn_box_reg: 0.0745 (0.0796)  time: 0.8188  data: 0.2914  max mem: 6111\n",
      "Training Epoch: [6]  [ 30/250]  eta: 0:03:05  lr: 0.000300  loss: 0.9155 (0.9303)  loss_box_reg: 0.6861 (0.6965)  loss_objectness: 0.1467 (0.1493)  loss_rpn_box_reg: 0.0751 (0.0845)  time: 0.8453  data: 0.2928  max mem: 6111\n",
      "Training Epoch: [6]  [ 40/250]  eta: 0:02:55  lr: 0.000300  loss: 0.8719 (0.9040)  loss_box_reg: 0.6415 (0.6691)  loss_objectness: 0.1441 (0.1487)  loss_rpn_box_reg: 0.0873 (0.0861)  time: 0.8333  data: 0.2885  max mem: 6111\n",
      "Training Epoch: [6]  [ 50/250]  eta: 0:02:45  lr: 0.000300  loss: 0.7856 (0.8789)  loss_box_reg: 0.5192 (0.6482)  loss_objectness: 0.1377 (0.1479)  loss_rpn_box_reg: 0.0739 (0.0829)  time: 0.8076  data: 0.2889  max mem: 6111\n",
      "Training Epoch: [6]  [ 60/250]  eta: 0:02:36  lr: 0.000300  loss: 0.7427 (0.8728)  loss_box_reg: 0.5334 (0.6433)  loss_objectness: 0.1429 (0.1477)  loss_rpn_box_reg: 0.0631 (0.0818)  time: 0.7967  data: 0.2863  max mem: 6111\n",
      "Training Epoch: [6]  [ 70/250]  eta: 0:02:26  lr: 0.000300  loss: 0.8099 (0.8679)  loss_box_reg: 0.5707 (0.6414)  loss_objectness: 0.1372 (0.1465)  loss_rpn_box_reg: 0.0695 (0.0800)  time: 0.7708  data: 0.2830  max mem: 6111\n",
      "Training Epoch: [6]  [ 80/250]  eta: 0:02:17  lr: 0.000300  loss: 0.8789 (0.8730)  loss_box_reg: 0.6688 (0.6479)  loss_objectness: 0.1375 (0.1456)  loss_rpn_box_reg: 0.0667 (0.0794)  time: 0.7794  data: 0.2839  max mem: 6111\n",
      "Training Epoch: [6]  [ 90/250]  eta: 0:02:09  lr: 0.000300  loss: 0.9365 (0.8782)  loss_box_reg: 0.7339 (0.6540)  loss_objectness: 0.1375 (0.1444)  loss_rpn_box_reg: 0.0684 (0.0797)  time: 0.8084  data: 0.2856  max mem: 6111\n",
      "Training Epoch: [6]  [100/250]  eta: 0:02:02  lr: 0.000300  loss: 0.9826 (0.8905)  loss_box_reg: 0.7571 (0.6660)  loss_objectness: 0.1360 (0.1447)  loss_rpn_box_reg: 0.0790 (0.0798)  time: 0.8225  data: 0.2850  max mem: 6111\n",
      "Training Epoch: [6]  [110/250]  eta: 0:01:53  lr: 0.000300  loss: 1.0162 (0.9052)  loss_box_reg: 0.7763 (0.6796)  loss_objectness: 0.1443 (0.1449)  loss_rpn_box_reg: 0.0780 (0.0807)  time: 0.8249  data: 0.2858  max mem: 6111\n",
      "Training Epoch: [6]  [120/250]  eta: 0:01:45  lr: 0.000300  loss: 0.8935 (0.9041)  loss_box_reg: 0.6980 (0.6785)  loss_objectness: 0.1443 (0.1456)  loss_rpn_box_reg: 0.0749 (0.0799)  time: 0.8037  data: 0.2865  max mem: 6111\n",
      "Training Epoch: [6]  [130/250]  eta: 0:01:37  lr: 0.000300  loss: 0.8679 (0.9006)  loss_box_reg: 0.6677 (0.6756)  loss_objectness: 0.1431 (0.1459)  loss_rpn_box_reg: 0.0636 (0.0791)  time: 0.8013  data: 0.2873  max mem: 6111\n",
      "Training Epoch: [6]  [140/250]  eta: 0:01:29  lr: 0.000300  loss: 0.8822 (0.8990)  loss_box_reg: 0.6839 (0.6741)  loss_objectness: 0.1428 (0.1457)  loss_rpn_box_reg: 0.0658 (0.0792)  time: 0.8229  data: 0.2866  max mem: 6111\n",
      "Training Epoch: [6]  [150/250]  eta: 0:01:21  lr: 0.000300  loss: 0.7734 (0.8878)  loss_box_reg: 0.5883 (0.6639)  loss_objectness: 0.1495 (0.1457)  loss_rpn_box_reg: 0.0689 (0.0782)  time: 0.8147  data: 0.2847  max mem: 6111\n",
      "Training Epoch: [6]  [160/250]  eta: 0:01:12  lr: 0.000300  loss: 0.7529 (0.8873)  loss_box_reg: 0.5772 (0.6637)  loss_objectness: 0.1495 (0.1461)  loss_rpn_box_reg: 0.0562 (0.0776)  time: 0.7877  data: 0.2852  max mem: 6111\n",
      "Training Epoch: [6]  [170/250]  eta: 0:01:04  lr: 0.000300  loss: 0.7666 (0.8821)  loss_box_reg: 0.5653 (0.6583)  loss_objectness: 0.1424 (0.1463)  loss_rpn_box_reg: 0.0671 (0.0775)  time: 0.8045  data: 0.2861  max mem: 6111\n",
      "Training Epoch: [6]  [180/250]  eta: 0:00:56  lr: 0.000300  loss: 0.8534 (0.8885)  loss_box_reg: 0.5969 (0.6622)  loss_objectness: 0.1583 (0.1480)  loss_rpn_box_reg: 0.0835 (0.0783)  time: 0.8257  data: 0.2869  max mem: 6111\n",
      "Training Epoch: [6]  [190/250]  eta: 0:00:48  lr: 0.000300  loss: 0.9784 (0.8909)  loss_box_reg: 0.7558 (0.6647)  loss_objectness: 0.1509 (0.1478)  loss_rpn_box_reg: 0.0850 (0.0784)  time: 0.8139  data: 0.2942  max mem: 6111\n",
      "Training Epoch: [6]  [200/250]  eta: 0:00:40  lr: 0.000300  loss: 0.9369 (0.8928)  loss_box_reg: 0.6919 (0.6665)  loss_objectness: 0.1411 (0.1482)  loss_rpn_box_reg: 0.0725 (0.0782)  time: 0.8169  data: 0.2999  max mem: 6111\n",
      "Training Epoch: [6]  [210/250]  eta: 0:00:32  lr: 0.000300  loss: 0.8961 (0.8916)  loss_box_reg: 0.6392 (0.6647)  loss_objectness: 0.1517 (0.1486)  loss_rpn_box_reg: 0.0725 (0.0784)  time: 0.8376  data: 0.2987  max mem: 6111\n",
      "Training Epoch: [6]  [220/250]  eta: 0:00:24  lr: 0.000300  loss: 0.8773 (0.8907)  loss_box_reg: 0.6114 (0.6644)  loss_objectness: 0.1498 (0.1486)  loss_rpn_box_reg: 0.0699 (0.0778)  time: 0.8315  data: 0.3009  max mem: 6111\n",
      "Training Epoch: [6]  [230/250]  eta: 0:00:16  lr: 0.000300  loss: 0.8387 (0.8865)  loss_box_reg: 0.6401 (0.6613)  loss_objectness: 0.1453 (0.1483)  loss_rpn_box_reg: 0.0541 (0.0769)  time: 0.8202  data: 0.2983  max mem: 6111\n",
      "Training Epoch: [6]  [240/250]  eta: 0:00:08  lr: 0.000300  loss: 0.8244 (0.8859)  loss_box_reg: 0.6146 (0.6608)  loss_objectness: 0.1402 (0.1482)  loss_rpn_box_reg: 0.0578 (0.0768)  time: 0.8296  data: 0.2942  max mem: 6111\n",
      "Training Epoch: [6]  [249/250]  eta: 0:00:00  lr: 0.000300  loss: 0.8721 (0.8874)  loss_box_reg: 0.6301 (0.6621)  loss_objectness: 0.1462 (0.1485)  loss_rpn_box_reg: 0.0782 (0.0768)  time: 0.8491  data: 0.3070  max mem: 6111\n",
      "Training Epoch: [6] Total time: 0:03:24 (0.8177 s / it)\n",
      "Testing Epoch: [6]  [ 0/62]  eta: 0:00:49  lr: 0.000300  loss: 0.9068 (0.9068)  loss_box_reg: 0.6712 (0.6712)  loss_objectness: 0.1493 (0.1493)  loss_rpn_box_reg: 0.0863 (0.0863)  time: 0.8000  data: 0.3137  max mem: 6111\n",
      "Testing Epoch: [6]  [61/62]  eta: 0:00:00  lr: 0.000300  loss: 0.9917 (1.0290)  loss_box_reg: 0.8320 (0.8200)  loss_objectness: 0.1271 (0.1292)  loss_rpn_box_reg: 0.0713 (0.0798)  time: 0.7630  data: 0.3113  max mem: 6140\n",
      "Testing Epoch: [6] Total time: 0:00:47 (0.7632 s / it)\n",
      "Training Epoch: [7]  [  0/250]  eta: 0:04:40  lr: 0.000300  loss: 1.2603 (1.2603)  loss_box_reg: 1.0219 (1.0219)  loss_objectness: 0.1238 (0.1238)  loss_rpn_box_reg: 0.1145 (0.1145)  time: 1.1233  data: 0.2661  max mem: 6140\n",
      "Training Epoch: [7]  [ 10/250]  eta: 0:03:25  lr: 0.000300  loss: 0.8664 (0.9140)  loss_box_reg: 0.6536 (0.6925)  loss_objectness: 0.1363 (0.1376)  loss_rpn_box_reg: 0.0909 (0.0838)  time: 0.8542  data: 0.2861  max mem: 6140\n",
      "Training Epoch: [7]  [ 20/250]  eta: 0:03:09  lr: 0.000300  loss: 0.8664 (0.9400)  loss_box_reg: 0.6418 (0.7184)  loss_objectness: 0.1419 (0.1406)  loss_rpn_box_reg: 0.0755 (0.0809)  time: 0.8102  data: 0.2881  max mem: 6140\n",
      "Training Epoch: [7]  [ 30/250]  eta: 0:03:01  lr: 0.000300  loss: 0.8904 (0.9162)  loss_box_reg: 0.6327 (0.6932)  loss_objectness: 0.1423 (0.1437)  loss_rpn_box_reg: 0.0749 (0.0792)  time: 0.8078  data: 0.2916  max mem: 6140\n",
      "Training Epoch: [7]  [ 40/250]  eta: 0:02:51  lr: 0.000300  loss: 0.7966 (0.8755)  loss_box_reg: 0.5579 (0.6547)  loss_objectness: 0.1449 (0.1441)  loss_rpn_box_reg: 0.0693 (0.0767)  time: 0.8045  data: 0.2897  max mem: 6140\n",
      "Training Epoch: [7]  [ 50/250]  eta: 0:02:42  lr: 0.000300  loss: 0.7298 (0.8640)  loss_box_reg: 0.5668 (0.6463)  loss_objectness: 0.1329 (0.1432)  loss_rpn_box_reg: 0.0661 (0.0744)  time: 0.8002  data: 0.2859  max mem: 6140\n",
      "Training Epoch: [7]  [ 60/250]  eta: 0:02:36  lr: 0.000300  loss: 0.7298 (0.8563)  loss_box_reg: 0.5762 (0.6360)  loss_objectness: 0.1399 (0.1447)  loss_rpn_box_reg: 0.0661 (0.0757)  time: 0.8430  data: 0.2897  max mem: 6140\n",
      "Training Epoch: [7]  [ 70/250]  eta: 0:02:28  lr: 0.000300  loss: 0.7859 (0.8541)  loss_box_reg: 0.5770 (0.6344)  loss_objectness: 0.1456 (0.1447)  loss_rpn_box_reg: 0.0687 (0.0751)  time: 0.8482  data: 0.2912  max mem: 6140\n",
      "Training Epoch: [7]  [ 80/250]  eta: 0:02:19  lr: 0.000300  loss: 0.9063 (0.8677)  loss_box_reg: 0.7002 (0.6473)  loss_objectness: 0.1456 (0.1449)  loss_rpn_box_reg: 0.0789 (0.0755)  time: 0.8207  data: 0.2894  max mem: 6140\n",
      "Training Epoch: [7]  [ 90/250]  eta: 0:02:11  lr: 0.000300  loss: 0.8360 (0.8581)  loss_box_reg: 0.6451 (0.6390)  loss_objectness: 0.1350 (0.1446)  loss_rpn_box_reg: 0.0692 (0.0746)  time: 0.8203  data: 0.2861  max mem: 6140\n",
      "Training Epoch: [7]  [100/250]  eta: 0:02:03  lr: 0.000300  loss: 0.8119 (0.8756)  loss_box_reg: 0.6451 (0.6556)  loss_objectness: 0.1389 (0.1452)  loss_rpn_box_reg: 0.0630 (0.0749)  time: 0.8069  data: 0.2831  max mem: 6140\n",
      "Training Epoch: [7]  [110/250]  eta: 0:01:55  lr: 0.000300  loss: 0.9353 (0.8726)  loss_box_reg: 0.7034 (0.6512)  loss_objectness: 0.1559 (0.1463)  loss_rpn_box_reg: 0.0708 (0.0751)  time: 0.8288  data: 0.2852  max mem: 6140\n",
      "Training Epoch: [7]  [120/250]  eta: 0:01:47  lr: 0.000300  loss: 0.7877 (0.8697)  loss_box_reg: 0.5952 (0.6497)  loss_objectness: 0.1388 (0.1459)  loss_rpn_box_reg: 0.0661 (0.0742)  time: 0.8433  data: 0.2877  max mem: 6140\n",
      "Training Epoch: [7]  [130/250]  eta: 0:01:38  lr: 0.000300  loss: 0.9082 (0.8749)  loss_box_reg: 0.6440 (0.6525)  loss_objectness: 0.1450 (0.1471)  loss_rpn_box_reg: 0.0704 (0.0752)  time: 0.7906  data: 0.2886  max mem: 6140\n",
      "Training Epoch: [7]  [140/250]  eta: 0:01:30  lr: 0.000300  loss: 0.9344 (0.8771)  loss_box_reg: 0.6494 (0.6545)  loss_objectness: 0.1388 (0.1471)  loss_rpn_box_reg: 0.0778 (0.0755)  time: 0.7967  data: 0.2894  max mem: 6140\n",
      "Training Epoch: [7]  [150/250]  eta: 0:01:21  lr: 0.000300  loss: 0.8406 (0.8664)  loss_box_reg: 0.6364 (0.6446)  loss_objectness: 0.1387 (0.1469)  loss_rpn_box_reg: 0.0708 (0.0750)  time: 0.8171  data: 0.2879  max mem: 6140\n",
      "Training Epoch: [7]  [160/250]  eta: 0:01:13  lr: 0.000300  loss: 0.7560 (0.8666)  loss_box_reg: 0.5365 (0.6446)  loss_objectness: 0.1480 (0.1474)  loss_rpn_box_reg: 0.0664 (0.0745)  time: 0.8264  data: 0.2960  max mem: 6140\n",
      "Training Epoch: [7]  [170/250]  eta: 0:01:05  lr: 0.000300  loss: 0.8502 (0.8650)  loss_box_reg: 0.6423 (0.6428)  loss_objectness: 0.1476 (0.1472)  loss_rpn_box_reg: 0.0690 (0.0749)  time: 0.8442  data: 0.3028  max mem: 6140\n",
      "Training Epoch: [7]  [180/250]  eta: 0:00:57  lr: 0.000300  loss: 0.8427 (0.8652)  loss_box_reg: 0.6308 (0.6428)  loss_objectness: 0.1430 (0.1473)  loss_rpn_box_reg: 0.0796 (0.0750)  time: 0.8417  data: 0.2952  max mem: 6140\n",
      "Training Epoch: [7]  [190/250]  eta: 0:00:49  lr: 0.000300  loss: 0.8427 (0.8646)  loss_box_reg: 0.6308 (0.6421)  loss_objectness: 0.1434 (0.1475)  loss_rpn_box_reg: 0.0713 (0.0749)  time: 0.8280  data: 0.2885  max mem: 6140\n",
      "Training Epoch: [7]  [200/250]  eta: 0:00:41  lr: 0.000300  loss: 0.8964 (0.8693)  loss_box_reg: 0.6482 (0.6463)  loss_objectness: 0.1514 (0.1477)  loss_rpn_box_reg: 0.0701 (0.0754)  time: 0.8100  data: 0.2853  max mem: 6140\n",
      "Training Epoch: [7]  [210/250]  eta: 0:00:32  lr: 0.000300  loss: 0.8964 (0.8729)  loss_box_reg: 0.6482 (0.6502)  loss_objectness: 0.1514 (0.1474)  loss_rpn_box_reg: 0.0740 (0.0753)  time: 0.8053  data: 0.2845  max mem: 6140\n",
      "Training Epoch: [7]  [220/250]  eta: 0:00:24  lr: 0.000300  loss: 0.9795 (0.8757)  loss_box_reg: 0.7356 (0.6533)  loss_objectness: 0.1392 (0.1470)  loss_rpn_box_reg: 0.0782 (0.0754)  time: 0.8281  data: 0.2846  max mem: 6140\n",
      "Training Epoch: [7]  [230/250]  eta: 0:00:16  lr: 0.000300  loss: 0.8898 (0.8725)  loss_box_reg: 0.6345 (0.6502)  loss_objectness: 0.1434 (0.1469)  loss_rpn_box_reg: 0.0771 (0.0754)  time: 0.8343  data: 0.2849  max mem: 6140\n",
      "Training Epoch: [7]  [240/250]  eta: 0:00:08  lr: 0.000300  loss: 0.8232 (0.8707)  loss_box_reg: 0.5702 (0.6472)  loss_objectness: 0.1565 (0.1479)  loss_rpn_box_reg: 0.0771 (0.0756)  time: 0.8059  data: 0.2890  max mem: 6140\n",
      "Training Epoch: [7]  [249/250]  eta: 0:00:00  lr: 0.000300  loss: 0.8480 (0.8669)  loss_box_reg: 0.5702 (0.6431)  loss_objectness: 0.1637 (0.1483)  loss_rpn_box_reg: 0.0751 (0.0755)  time: 0.8014  data: 0.2902  max mem: 6140\n",
      "Training Epoch: [7] Total time: 0:03:25 (0.8210 s / it)\n",
      "Testing Epoch: [7]  [ 0/62]  eta: 0:00:47  lr: 0.000300  loss: 0.8254 (0.8254)  loss_box_reg: 0.5838 (0.5838)  loss_objectness: 0.1583 (0.1583)  loss_rpn_box_reg: 0.0833 (0.0833)  time: 0.7729  data: 0.2981  max mem: 6140\n",
      "Testing Epoch: [7]  [61/62]  eta: 0:00:00  lr: 0.000300  loss: 0.9058 (0.9093)  loss_box_reg: 0.7184 (0.6978)  loss_objectness: 0.1208 (0.1300)  loss_rpn_box_reg: 0.0687 (0.0816)  time: 0.7520  data: 0.3106  max mem: 6140\n",
      "Testing Epoch: [7] Total time: 0:00:46 (0.7555 s / it)\n",
      "Training Epoch: [8]  [  0/250]  eta: 0:04:57  lr: 0.000300  loss: 0.8894 (0.8894)  loss_box_reg: 0.7328 (0.7328)  loss_objectness: 0.1278 (0.1278)  loss_rpn_box_reg: 0.0287 (0.0287)  time: 1.1917  data: 0.2824  max mem: 6140\n",
      "Training Epoch: [8]  [ 10/250]  eta: 0:03:38  lr: 0.000300  loss: 0.8083 (0.8853)  loss_box_reg: 0.6327 (0.6696)  loss_objectness: 0.1494 (0.1472)  loss_rpn_box_reg: 0.0768 (0.0684)  time: 0.9087  data: 0.3012  max mem: 6140\n",
      "Training Epoch: [8]  [ 20/250]  eta: 0:03:18  lr: 0.000300  loss: 0.8659 (0.9224)  loss_box_reg: 0.6702 (0.7093)  loss_objectness: 0.1416 (0.1430)  loss_rpn_box_reg: 0.0715 (0.0700)  time: 0.8445  data: 0.2937  max mem: 6140\n",
      "Training Epoch: [8]  [ 30/250]  eta: 0:03:07  lr: 0.000300  loss: 0.9104 (0.9286)  loss_box_reg: 0.6865 (0.7126)  loss_objectness: 0.1326 (0.1441)  loss_rpn_box_reg: 0.0724 (0.0719)  time: 0.8246  data: 0.2865  max mem: 6140\n",
      "Training Epoch: [8]  [ 40/250]  eta: 0:02:57  lr: 0.000300  loss: 0.8432 (0.8993)  loss_box_reg: 0.6090 (0.6808)  loss_objectness: 0.1456 (0.1459)  loss_rpn_box_reg: 0.0724 (0.0726)  time: 0.8312  data: 0.2892  max mem: 6140\n",
      "Training Epoch: [8]  [ 50/250]  eta: 0:02:48  lr: 0.000300  loss: 0.8130 (0.8879)  loss_box_reg: 0.5830 (0.6712)  loss_objectness: 0.1428 (0.1451)  loss_rpn_box_reg: 0.0679 (0.0716)  time: 0.8241  data: 0.2857  max mem: 6140\n",
      "Training Epoch: [8]  [ 60/250]  eta: 0:02:39  lr: 0.000300  loss: 0.8864 (0.8946)  loss_box_reg: 0.6507 (0.6748)  loss_objectness: 0.1371 (0.1458)  loss_rpn_box_reg: 0.0679 (0.0739)  time: 0.8194  data: 0.2850  max mem: 6140\n",
      "Training Epoch: [8]  [ 70/250]  eta: 0:02:29  lr: 0.000300  loss: 0.9428 (0.8942)  loss_box_reg: 0.7263 (0.6744)  loss_objectness: 0.1371 (0.1457)  loss_rpn_box_reg: 0.0697 (0.0741)  time: 0.8002  data: 0.2876  max mem: 6140\n",
      "Training Epoch: [8]  [ 80/250]  eta: 0:02:20  lr: 0.000300  loss: 0.9389 (0.8959)  loss_box_reg: 0.6823 (0.6739)  loss_objectness: 0.1522 (0.1476)  loss_rpn_box_reg: 0.0697 (0.0743)  time: 0.7912  data: 0.2848  max mem: 6140\n",
      "Training Epoch: [8]  [ 90/250]  eta: 0:02:12  lr: 0.000300  loss: 0.8427 (0.8914)  loss_box_reg: 0.6148 (0.6696)  loss_objectness: 0.1522 (0.1474)  loss_rpn_box_reg: 0.0643 (0.0743)  time: 0.8095  data: 0.2845  max mem: 6140\n",
      "Training Epoch: [8]  [100/250]  eta: 0:02:03  lr: 0.000300  loss: 0.8972 (0.8963)  loss_box_reg: 0.6648 (0.6749)  loss_objectness: 0.1414 (0.1468)  loss_rpn_box_reg: 0.0722 (0.0746)  time: 0.8272  data: 0.2836  max mem: 6140\n",
      "Training Epoch: [8]  [110/250]  eta: 0:01:55  lr: 0.000300  loss: 0.8972 (0.8903)  loss_box_reg: 0.6741 (0.6698)  loss_objectness: 0.1414 (0.1463)  loss_rpn_box_reg: 0.0705 (0.0742)  time: 0.8288  data: 0.2862  max mem: 6140\n",
      "Training Epoch: [8]  [120/250]  eta: 0:01:47  lr: 0.000300  loss: 0.7871 (0.8824)  loss_box_reg: 0.6244 (0.6630)  loss_objectness: 0.1483 (0.1462)  loss_rpn_box_reg: 0.0648 (0.0732)  time: 0.8155  data: 0.2893  max mem: 6140\n",
      "Training Epoch: [8]  [130/250]  eta: 0:01:39  lr: 0.000300  loss: 0.7549 (0.8762)  loss_box_reg: 0.5517 (0.6569)  loss_objectness: 0.1464 (0.1458)  loss_rpn_box_reg: 0.0652 (0.0735)  time: 0.8217  data: 0.2924  max mem: 6140\n",
      "Training Epoch: [8]  [140/250]  eta: 0:01:30  lr: 0.000300  loss: 0.8081 (0.8743)  loss_box_reg: 0.5788 (0.6533)  loss_objectness: 0.1478 (0.1462)  loss_rpn_box_reg: 0.0866 (0.0748)  time: 0.8358  data: 0.2954  max mem: 6140\n",
      "Training Epoch: [8]  [150/250]  eta: 0:01:22  lr: 0.000300  loss: 0.8985 (0.8744)  loss_box_reg: 0.6517 (0.6535)  loss_objectness: 0.1516 (0.1464)  loss_rpn_box_reg: 0.0775 (0.0745)  time: 0.8257  data: 0.2886  max mem: 6140\n",
      "Training Epoch: [8]  [160/250]  eta: 0:01:14  lr: 0.000300  loss: 0.8543 (0.8779)  loss_box_reg: 0.6585 (0.6573)  loss_objectness: 0.1425 (0.1464)  loss_rpn_box_reg: 0.0704 (0.0743)  time: 0.8037  data: 0.2841  max mem: 6140\n",
      "Training Epoch: [8]  [170/250]  eta: 0:01:05  lr: 0.000300  loss: 0.8301 (0.8747)  loss_box_reg: 0.6273 (0.6536)  loss_objectness: 0.1351 (0.1461)  loss_rpn_box_reg: 0.0704 (0.0750)  time: 0.7856  data: 0.2828  max mem: 6140\n",
      "Training Epoch: [8]  [180/250]  eta: 0:00:57  lr: 0.000300  loss: 0.7155 (0.8695)  loss_box_reg: 0.5256 (0.6500)  loss_objectness: 0.1333 (0.1454)  loss_rpn_box_reg: 0.0650 (0.0742)  time: 0.7865  data: 0.2813  max mem: 6140\n",
      "Training Epoch: [8]  [190/250]  eta: 0:00:49  lr: 0.000300  loss: 0.7986 (0.8689)  loss_box_reg: 0.5626 (0.6490)  loss_objectness: 0.1304 (0.1457)  loss_rpn_box_reg: 0.0623 (0.0742)  time: 0.7921  data: 0.2809  max mem: 6140\n",
      "Training Epoch: [8]  [200/250]  eta: 0:00:40  lr: 0.000300  loss: 0.8405 (0.8652)  loss_box_reg: 0.5648 (0.6448)  loss_objectness: 0.1387 (0.1461)  loss_rpn_box_reg: 0.0707 (0.0743)  time: 0.7807  data: 0.2831  max mem: 6140\n",
      "Training Epoch: [8]  [210/250]  eta: 0:00:32  lr: 0.000300  loss: 0.8538 (0.8660)  loss_box_reg: 0.5971 (0.6446)  loss_objectness: 0.1464 (0.1466)  loss_rpn_box_reg: 0.0870 (0.0748)  time: 0.7904  data: 0.2871  max mem: 6140\n",
      "Training Epoch: [8]  [220/250]  eta: 0:00:24  lr: 0.000300  loss: 0.8263 (0.8628)  loss_box_reg: 0.5971 (0.6403)  loss_objectness: 0.1507 (0.1472)  loss_rpn_box_reg: 0.0806 (0.0754)  time: 0.8257  data: 0.2899  max mem: 6140\n",
      "Training Epoch: [8]  [230/250]  eta: 0:00:16  lr: 0.000300  loss: 0.8361 (0.8637)  loss_box_reg: 0.6126 (0.6406)  loss_objectness: 0.1492 (0.1473)  loss_rpn_box_reg: 0.0716 (0.0758)  time: 0.8393  data: 0.2888  max mem: 6140\n",
      "Training Epoch: [8]  [240/250]  eta: 0:00:08  lr: 0.000300  loss: 0.8578 (0.8634)  loss_box_reg: 0.6282 (0.6398)  loss_objectness: 0.1494 (0.1477)  loss_rpn_box_reg: 0.0730 (0.0758)  time: 0.8343  data: 0.2883  max mem: 6140\n",
      "Training Epoch: [8]  [249/250]  eta: 0:00:00  lr: 0.000300  loss: 0.8043 (0.8617)  loss_box_reg: 0.5766 (0.6384)  loss_objectness: 0.1494 (0.1476)  loss_rpn_box_reg: 0.0721 (0.0757)  time: 0.8170  data: 0.2880  max mem: 6140\n",
      "Training Epoch: [8] Total time: 0:03:24 (0.8176 s / it)\n",
      "Testing Epoch: [8]  [ 0/62]  eta: 0:00:48  lr: 0.000300  loss: 0.6849 (0.6849)  loss_box_reg: 0.4316 (0.4316)  loss_objectness: 0.1653 (0.1653)  loss_rpn_box_reg: 0.0880 (0.0880)  time: 0.7839  data: 0.2976  max mem: 6140\n",
      "Testing Epoch: [8]  [61/62]  eta: 0:00:00  lr: 0.000300  loss: 0.8144 (0.8823)  loss_box_reg: 0.6730 (0.6735)  loss_objectness: 0.1216 (0.1303)  loss_rpn_box_reg: 0.0661 (0.0785)  time: 0.7481  data: 0.3094  max mem: 6140\n",
      "Testing Epoch: [8] Total time: 0:00:46 (0.7527 s / it)\n",
      "Training Epoch: [9]  [  0/250]  eta: 0:04:18  lr: 0.000300  loss: 0.8403 (0.8403)  loss_box_reg: 0.6002 (0.6002)  loss_objectness: 0.1499 (0.1499)  loss_rpn_box_reg: 0.0903 (0.0903)  time: 1.0354  data: 0.2825  max mem: 6140\n",
      "Training Epoch: [9]  [ 10/250]  eta: 0:03:25  lr: 0.000300  loss: 0.8403 (0.8513)  loss_box_reg: 0.6002 (0.6050)  loss_objectness: 0.1568 (0.1617)  loss_rpn_box_reg: 0.0851 (0.0846)  time: 0.8555  data: 0.2951  max mem: 6140\n",
      "Training Epoch: [9]  [ 20/250]  eta: 0:03:10  lr: 0.000300  loss: 0.7820 (0.7896)  loss_box_reg: 0.5508 (0.5618)  loss_objectness: 0.1476 (0.1503)  loss_rpn_box_reg: 0.0741 (0.0774)  time: 0.8202  data: 0.2926  max mem: 6140\n",
      "Training Epoch: [9]  [ 30/250]  eta: 0:03:03  lr: 0.000300  loss: 0.8055 (0.8363)  loss_box_reg: 0.6028 (0.6139)  loss_objectness: 0.1327 (0.1449)  loss_rpn_box_reg: 0.0717 (0.0776)  time: 0.8202  data: 0.2870  max mem: 6140\n",
      "Training Epoch: [9]  [ 40/250]  eta: 0:02:53  lr: 0.000300  loss: 0.8886 (0.8454)  loss_box_reg: 0.6398 (0.6269)  loss_objectness: 0.1274 (0.1422)  loss_rpn_box_reg: 0.0733 (0.0763)  time: 0.8249  data: 0.2851  max mem: 6140\n",
      "Training Epoch: [9]  [ 50/250]  eta: 0:02:44  lr: 0.000300  loss: 0.9110 (0.8691)  loss_box_reg: 0.6732 (0.6489)  loss_objectness: 0.1365 (0.1455)  loss_rpn_box_reg: 0.0670 (0.0747)  time: 0.8108  data: 0.2844  max mem: 6140\n",
      "Training Epoch: [9]  [ 60/250]  eta: 0:02:36  lr: 0.000300  loss: 0.8939 (0.8456)  loss_box_reg: 0.6276 (0.6289)  loss_objectness: 0.1378 (0.1446)  loss_rpn_box_reg: 0.0539 (0.0721)  time: 0.8092  data: 0.2836  max mem: 6140\n",
      "Training Epoch: [9]  [ 70/250]  eta: 0:02:27  lr: 0.000300  loss: 0.8282 (0.8492)  loss_box_reg: 0.5457 (0.6287)  loss_objectness: 0.1447 (0.1468)  loss_rpn_box_reg: 0.0605 (0.0737)  time: 0.8084  data: 0.2849  max mem: 6140\n",
      "Training Epoch: [9]  [ 80/250]  eta: 0:02:19  lr: 0.000300  loss: 0.8470 (0.8514)  loss_box_reg: 0.5933 (0.6319)  loss_objectness: 0.1399 (0.1451)  loss_rpn_box_reg: 0.0782 (0.0744)  time: 0.8084  data: 0.2816  max mem: 6140\n",
      "Training Epoch: [9]  [ 90/250]  eta: 0:02:11  lr: 0.000300  loss: 0.8920 (0.8654)  loss_box_reg: 0.6724 (0.6439)  loss_objectness: 0.1341 (0.1448)  loss_rpn_box_reg: 0.0813 (0.0768)  time: 0.8209  data: 0.2827  max mem: 6140\n",
      "Training Epoch: [9]  [100/250]  eta: 0:02:03  lr: 0.000300  loss: 0.8832 (0.8668)  loss_box_reg: 0.6724 (0.6446)  loss_objectness: 0.1487 (0.1459)  loss_rpn_box_reg: 0.0748 (0.0764)  time: 0.8366  data: 0.2879  max mem: 6140\n",
      "Training Epoch: [9]  [110/250]  eta: 0:01:54  lr: 0.000300  loss: 0.8832 (0.8686)  loss_box_reg: 0.6648 (0.6457)  loss_objectness: 0.1487 (0.1458)  loss_rpn_box_reg: 0.0731 (0.0771)  time: 0.8092  data: 0.2879  max mem: 6140\n",
      "Training Epoch: [9]  [120/250]  eta: 0:01:46  lr: 0.000300  loss: 0.8810 (0.8686)  loss_box_reg: 0.6636 (0.6462)  loss_objectness: 0.1403 (0.1458)  loss_rpn_box_reg: 0.0758 (0.0766)  time: 0.8008  data: 0.2885  max mem: 6140\n",
      "Training Epoch: [9]  [130/250]  eta: 0:01:38  lr: 0.000300  loss: 0.8575 (0.8717)  loss_box_reg: 0.6309 (0.6493)  loss_objectness: 0.1401 (0.1460)  loss_rpn_box_reg: 0.0767 (0.0764)  time: 0.8139  data: 0.2897  max mem: 6140\n",
      "Training Epoch: [9]  [140/250]  eta: 0:01:29  lr: 0.000300  loss: 0.8930 (0.8755)  loss_box_reg: 0.6470 (0.6538)  loss_objectness: 0.1440 (0.1461)  loss_rpn_box_reg: 0.0681 (0.0755)  time: 0.7909  data: 0.2890  max mem: 6140\n",
      "Training Epoch: [9]  [150/250]  eta: 0:01:21  lr: 0.000300  loss: 0.8902 (0.8745)  loss_box_reg: 0.6469 (0.6520)  loss_objectness: 0.1547 (0.1471)  loss_rpn_box_reg: 0.0681 (0.0754)  time: 0.7920  data: 0.2855  max mem: 6140\n",
      "Training Epoch: [9]  [160/250]  eta: 0:01:13  lr: 0.000300  loss: 0.8256 (0.8683)  loss_box_reg: 0.5871 (0.6451)  loss_objectness: 0.1559 (0.1477)  loss_rpn_box_reg: 0.0722 (0.0755)  time: 0.8171  data: 0.2839  max mem: 6140\n",
      "Training Epoch: [9]  [170/250]  eta: 0:01:05  lr: 0.000300  loss: 0.7455 (0.8645)  loss_box_reg: 0.5310 (0.6410)  loss_objectness: 0.1500 (0.1481)  loss_rpn_box_reg: 0.0722 (0.0753)  time: 0.8194  data: 0.2863  max mem: 6140\n",
      "Training Epoch: [9]  [180/250]  eta: 0:00:56  lr: 0.000300  loss: 0.7962 (0.8625)  loss_box_reg: 0.6060 (0.6390)  loss_objectness: 0.1436 (0.1483)  loss_rpn_box_reg: 0.0731 (0.0752)  time: 0.8068  data: 0.2895  max mem: 6140\n",
      "Training Epoch: [9]  [190/250]  eta: 0:00:48  lr: 0.000300  loss: 0.9051 (0.8642)  loss_box_reg: 0.6984 (0.6407)  loss_objectness: 0.1492 (0.1484)  loss_rpn_box_reg: 0.0731 (0.0752)  time: 0.8076  data: 0.2881  max mem: 6140\n",
      "Training Epoch: [9]  [200/250]  eta: 0:00:40  lr: 0.000300  loss: 0.9749 (0.8708)  loss_box_reg: 0.7487 (0.6471)  loss_objectness: 0.1492 (0.1481)  loss_rpn_box_reg: 0.0764 (0.0756)  time: 0.8092  data: 0.2858  max mem: 6140\n",
      "Training Epoch: [9]  [210/250]  eta: 0:00:32  lr: 0.000300  loss: 0.9469 (0.8721)  loss_box_reg: 0.7487 (0.6485)  loss_objectness: 0.1384 (0.1475)  loss_rpn_box_reg: 0.0764 (0.0760)  time: 0.8108  data: 0.2849  max mem: 6140\n",
      "Training Epoch: [9]  [220/250]  eta: 0:00:24  lr: 0.000300  loss: 0.8481 (0.8686)  loss_box_reg: 0.6187 (0.6450)  loss_objectness: 0.1406 (0.1477)  loss_rpn_box_reg: 0.0705 (0.0759)  time: 0.8194  data: 0.2874  max mem: 6140\n",
      "Training Epoch: [9]  [230/250]  eta: 0:00:16  lr: 0.000300  loss: 0.8708 (0.8718)  loss_box_reg: 0.6187 (0.6488)  loss_objectness: 0.1408 (0.1472)  loss_rpn_box_reg: 0.0684 (0.0758)  time: 0.8100  data: 0.2912  max mem: 6140\n",
      "Training Epoch: [9]  [240/250]  eta: 0:00:08  lr: 0.000300  loss: 0.8708 (0.8698)  loss_box_reg: 0.6257 (0.6469)  loss_objectness: 0.1390 (0.1475)  loss_rpn_box_reg: 0.0682 (0.0754)  time: 0.8084  data: 0.2883  max mem: 6140\n",
      "Training Epoch: [9]  [249/250]  eta: 0:00:00  lr: 0.000300  loss: 0.7765 (0.8687)  loss_box_reg: 0.5780 (0.6469)  loss_objectness: 0.1390 (0.1470)  loss_rpn_box_reg: 0.0531 (0.0748)  time: 0.8241  data: 0.2838  max mem: 6140\n",
      "Training Epoch: [9] Total time: 0:03:23 (0.8145 s / it)\n",
      "Testing Epoch: [9]  [ 0/62]  eta: 0:00:53  lr: 0.000300  loss: 0.6464 (0.6464)  loss_box_reg: 0.3979 (0.3979)  loss_objectness: 0.1632 (0.1632)  loss_rpn_box_reg: 0.0853 (0.0853)  time: 0.8624  data: 0.3917  max mem: 6140\n",
      "Testing Epoch: [9]  [61/62]  eta: 0:00:00  lr: 0.000300  loss: 0.7518 (0.8096)  loss_box_reg: 0.5715 (0.6014)  loss_objectness: 0.1183 (0.1289)  loss_rpn_box_reg: 0.0642 (0.0793)  time: 0.7543  data: 0.3155  max mem: 6140\n",
      "Testing Epoch: [9] Total time: 0:00:46 (0.7525 s / it)\n",
      "Training Epoch: [10]  [  0/250]  eta: 0:03:51  lr: 0.000300  loss: 0.5015 (0.5015)  loss_box_reg: 0.2118 (0.2118)  loss_objectness: 0.1802 (0.1802)  loss_rpn_box_reg: 0.1094 (0.1094)  time: 0.9249  data: 0.2981  max mem: 6140\n",
      "Training Epoch: [10]  [ 10/250]  eta: 0:03:20  lr: 0.000300  loss: 0.6000 (0.6475)  loss_box_reg: 0.3896 (0.4199)  loss_objectness: 0.1563 (0.1613)  loss_rpn_box_reg: 0.0654 (0.0664)  time: 0.8340  data: 0.2896  max mem: 6140\n",
      "Training Epoch: [10]  [ 20/250]  eta: 0:03:09  lr: 0.000300  loss: 0.8215 (0.7504)  loss_box_reg: 0.6056 (0.5353)  loss_objectness: 0.1462 (0.1488)  loss_rpn_box_reg: 0.0624 (0.0663)  time: 0.8210  data: 0.2847  max mem: 6140\n",
      "Training Epoch: [10]  [ 30/250]  eta: 0:03:01  lr: 0.000300  loss: 0.8266 (0.7670)  loss_box_reg: 0.6132 (0.5541)  loss_objectness: 0.1290 (0.1447)  loss_rpn_box_reg: 0.0676 (0.0682)  time: 0.8210  data: 0.2849  max mem: 6140\n",
      "Training Epoch: [10]  [ 40/250]  eta: 0:02:53  lr: 0.000300  loss: 0.8140 (0.7859)  loss_box_reg: 0.6041 (0.5716)  loss_objectness: 0.1327 (0.1438)  loss_rpn_box_reg: 0.0677 (0.0705)  time: 0.8265  data: 0.2856  max mem: 6140\n",
      "Training Epoch: [10]  [ 50/250]  eta: 0:02:45  lr: 0.000300  loss: 0.8140 (0.8068)  loss_box_reg: 0.6374 (0.5919)  loss_objectness: 0.1391 (0.1440)  loss_rpn_box_reg: 0.0728 (0.0708)  time: 0.8304  data: 0.2835  max mem: 6140\n",
      "Training Epoch: [10]  [ 60/250]  eta: 0:02:37  lr: 0.000300  loss: 0.8098 (0.8089)  loss_box_reg: 0.5961 (0.5975)  loss_objectness: 0.1348 (0.1419)  loss_rpn_box_reg: 0.0681 (0.0695)  time: 0.8276  data: 0.2861  max mem: 6140\n",
      "Training Epoch: [10]  [ 70/250]  eta: 0:02:28  lr: 0.000300  loss: 0.7944 (0.8173)  loss_box_reg: 0.5811 (0.6044)  loss_objectness: 0.1270 (0.1415)  loss_rpn_box_reg: 0.0722 (0.0715)  time: 0.8108  data: 0.2828  max mem: 6140\n",
      "Training Epoch: [10]  [ 80/250]  eta: 0:02:19  lr: 0.000300  loss: 0.8182 (0.8262)  loss_box_reg: 0.6010 (0.6128)  loss_objectness: 0.1399 (0.1418)  loss_rpn_box_reg: 0.0744 (0.0716)  time: 0.7955  data: 0.2802  max mem: 6140\n",
      "Training Epoch: [10]  [ 90/250]  eta: 0:02:10  lr: 0.000300  loss: 0.8873 (0.8402)  loss_box_reg: 0.6177 (0.6247)  loss_objectness: 0.1445 (0.1424)  loss_rpn_box_reg: 0.0774 (0.0732)  time: 0.7943  data: 0.2831  max mem: 6140\n",
      "Training Epoch: [10]  [100/250]  eta: 0:02:02  lr: 0.000300  loss: 0.8873 (0.8401)  loss_box_reg: 0.6238 (0.6252)  loss_objectness: 0.1397 (0.1418)  loss_rpn_box_reg: 0.0745 (0.0731)  time: 0.8069  data: 0.2871  max mem: 6140\n",
      "Training Epoch: [10]  [110/250]  eta: 0:01:54  lr: 0.000300  loss: 0.7711 (0.8340)  loss_box_reg: 0.5643 (0.6194)  loss_objectness: 0.1353 (0.1416)  loss_rpn_box_reg: 0.0708 (0.0730)  time: 0.8076  data: 0.2887  max mem: 6140\n",
      "Training Epoch: [10]  [120/250]  eta: 0:01:46  lr: 0.000300  loss: 0.7711 (0.8359)  loss_box_reg: 0.5710 (0.6221)  loss_objectness: 0.1332 (0.1416)  loss_rpn_box_reg: 0.0662 (0.0722)  time: 0.8202  data: 0.2861  max mem: 6140\n",
      "Training Epoch: [10]  [130/250]  eta: 0:01:38  lr: 0.000300  loss: 0.8911 (0.8472)  loss_box_reg: 0.6621 (0.6336)  loss_objectness: 0.1354 (0.1409)  loss_rpn_box_reg: 0.0681 (0.0727)  time: 0.8398  data: 0.2851  max mem: 6140\n",
      "Training Epoch: [10]  [140/250]  eta: 0:01:30  lr: 0.000300  loss: 0.9038 (0.8372)  loss_box_reg: 0.6621 (0.6231)  loss_objectness: 0.1375 (0.1413)  loss_rpn_box_reg: 0.0681 (0.0728)  time: 0.8351  data: 0.2901  max mem: 6140\n",
      "Training Epoch: [10]  [150/250]  eta: 0:01:22  lr: 0.000300  loss: 0.8237 (0.8394)  loss_box_reg: 0.5915 (0.6246)  loss_objectness: 0.1446 (0.1419)  loss_rpn_box_reg: 0.0715 (0.0729)  time: 0.8390  data: 0.2881  max mem: 6140\n",
      "Training Epoch: [10]  [160/250]  eta: 0:01:13  lr: 0.000300  loss: 0.8155 (0.8370)  loss_box_reg: 0.5915 (0.6216)  loss_objectness: 0.1413 (0.1423)  loss_rpn_box_reg: 0.0727 (0.0731)  time: 0.8194  data: 0.2830  max mem: 6140\n",
      "Training Epoch: [10]  [170/250]  eta: 0:01:05  lr: 0.000300  loss: 0.8261 (0.8412)  loss_box_reg: 0.6081 (0.6252)  loss_objectness: 0.1407 (0.1425)  loss_rpn_box_reg: 0.0724 (0.0735)  time: 0.8053  data: 0.2846  max mem: 6140\n",
      "Training Epoch: [10]  [180/250]  eta: 0:00:57  lr: 0.000300  loss: 0.8261 (0.8372)  loss_box_reg: 0.5618 (0.6208)  loss_objectness: 0.1447 (0.1428)  loss_rpn_box_reg: 0.0864 (0.0736)  time: 0.8123  data: 0.2852  max mem: 6140\n",
      "Training Epoch: [10]  [190/250]  eta: 0:00:49  lr: 0.000300  loss: 0.7946 (0.8410)  loss_box_reg: 0.5558 (0.6229)  loss_objectness: 0.1638 (0.1440)  loss_rpn_box_reg: 0.0872 (0.0741)  time: 0.8233  data: 0.2874  max mem: 6140\n",
      "Training Epoch: [10]  [200/250]  eta: 0:00:40  lr: 0.000300  loss: 0.7896 (0.8378)  loss_box_reg: 0.5108 (0.6184)  loss_objectness: 0.1657 (0.1450)  loss_rpn_box_reg: 0.0826 (0.0744)  time: 0.8210  data: 0.2878  max mem: 6140\n",
      "Training Epoch: [10]  [210/250]  eta: 0:00:32  lr: 0.000300  loss: 0.8351 (0.8417)  loss_box_reg: 0.5646 (0.6219)  loss_objectness: 0.1613 (0.1454)  loss_rpn_box_reg: 0.0741 (0.0744)  time: 0.8156  data: 0.2858  max mem: 6140\n",
      "Training Epoch: [10]  [220/250]  eta: 0:00:24  lr: 0.000300  loss: 0.9043 (0.8442)  loss_box_reg: 0.6694 (0.6242)  loss_objectness: 0.1567 (0.1458)  loss_rpn_box_reg: 0.0734 (0.0742)  time: 0.8163  data: 0.2875  max mem: 6140\n",
      "Training Epoch: [10]  [230/250]  eta: 0:00:16  lr: 0.000300  loss: 0.8850 (0.8470)  loss_box_reg: 0.6342 (0.6255)  loss_objectness: 0.1567 (0.1466)  loss_rpn_box_reg: 0.0796 (0.0750)  time: 0.7997  data: 0.2881  max mem: 6140\n",
      "Training Epoch: [10]  [240/250]  eta: 0:00:08  lr: 0.000300  loss: 0.9738 (0.8501)  loss_box_reg: 0.6928 (0.6281)  loss_objectness: 0.1549 (0.1467)  loss_rpn_box_reg: 0.0875 (0.0753)  time: 0.7951  data: 0.2871  max mem: 6140\n",
      "Training Epoch: [10]  [249/250]  eta: 0:00:00  lr: 0.000300  loss: 0.8837 (0.8494)  loss_box_reg: 0.6875 (0.6276)  loss_objectness: 0.1500 (0.1466)  loss_rpn_box_reg: 0.0786 (0.0752)  time: 0.8092  data: 0.2865  max mem: 6140\n",
      "Training Epoch: [10] Total time: 0:03:24 (0.8174 s / it)\n",
      "creating index...\n",
      "index created!\n",
      "Test:  [ 0/62]  eta: 0:01:02  model_time: 0.6586 (0.6586)  evaluator_time: 0.0316 (0.0316)  time: 1.0035  data: 0.2975  max mem: 6140\n",
      "Test:  [61/62]  eta: 0:00:00  model_time: 0.2980 (0.3021)  evaluator_time: 0.0313 (0.0280)  time: 0.6281  data: 0.2966  max mem: 6140\n",
      "Test: Total time: 0:00:39 (0.6399 s / it)\n",
      "Averaged stats: model_time: 0.2980 (0.3021)  evaluator_time: 0.0313 (0.0280)\n",
      "Accumulating evaluation results...\n",
      "DONE (t=0.72s).\n",
      "IoU metric: bbox\n",
      " Average Precision  (AP) @[ IoU=0.50:0.95 | area=   all | maxDets=100 ] = 0.012\n",
      " Average Precision  (AP) @[ IoU=0.50      | area=   all | maxDets=100 ] = 0.042\n",
      " Average Precision  (AP) @[ IoU=0.75      | area=   all | maxDets=100 ] = 0.003\n",
      " Average Precision  (AP) @[ IoU=0.50:0.95 | area= small | maxDets=100 ] = 0.001\n",
      " Average Precision  (AP) @[ IoU=0.50:0.95 | area=medium | maxDets=100 ] = 0.005\n",
      " Average Precision  (AP) @[ IoU=0.50:0.95 | area= large | maxDets=100 ] = 0.021\n",
      " Average Recall     (AR) @[ IoU=0.50:0.95 | area=   all | maxDets=  1 ] = 0.022\n",
      " Average Recall     (AR) @[ IoU=0.50:0.95 | area=   all | maxDets= 10 ] = 0.034\n",
      " Average Recall     (AR) @[ IoU=0.50:0.95 | area=   all | maxDets=100 ] = 0.034\n",
      " Average Recall     (AR) @[ IoU=0.50:0.95 | area= small | maxDets=100 ] = 0.001\n",
      " Average Recall     (AR) @[ IoU=0.50:0.95 | area=medium | maxDets=100 ] = 0.010\n",
      " Average Recall     (AR) @[ IoU=0.50:0.95 | area= large | maxDets=100 ] = 0.058\n",
      "Testing Epoch: [10]  [ 0/62]  eta: 0:00:47  lr: 0.000300  loss: 0.9416 (0.9416)  loss_box_reg: 0.6934 (0.6934)  loss_objectness: 0.1623 (0.1623)  loss_rpn_box_reg: 0.0859 (0.0859)  time: 0.7688  data: 0.2981  max mem: 6140\n",
      "Testing Epoch: [10]  [61/62]  eta: 0:00:00  lr: 0.000300  loss: 0.9912 (0.9865)  loss_box_reg: 0.7673 (0.7787)  loss_objectness: 0.1223 (0.1278)  loss_rpn_box_reg: 0.0708 (0.0801)  time: 0.7496  data: 0.3092  max mem: 6140\n",
      "Testing Epoch: [10] Total time: 0:00:46 (0.7522 s / it)\n",
      "Training Epoch: [11]  [  0/250]  eta: 0:04:53  lr: 0.000300  loss: 0.8573 (0.8573)  loss_box_reg: 0.6476 (0.6476)  loss_objectness: 0.1462 (0.1462)  loss_rpn_box_reg: 0.0635 (0.0635)  time: 1.1741  data: 0.3006  max mem: 6140\n",
      "Training Epoch: [11]  [ 10/250]  eta: 0:03:35  lr: 0.000300  loss: 0.8573 (0.8727)  loss_box_reg: 0.6510 (0.6604)  loss_objectness: 0.1428 (0.1413)  loss_rpn_box_reg: 0.0645 (0.0710)  time: 0.8980  data: 0.2964  max mem: 6140\n",
      "Training Epoch: [11]  [ 20/250]  eta: 0:03:16  lr: 0.000300  loss: 0.8529 (0.8646)  loss_box_reg: 0.6510 (0.6509)  loss_objectness: 0.1368 (0.1415)  loss_rpn_box_reg: 0.0687 (0.0722)  time: 0.8380  data: 0.2930  max mem: 6140\n",
      "Training Epoch: [11]  [ 30/250]  eta: 0:03:06  lr: 0.000300  loss: 0.8282 (0.8661)  loss_box_reg: 0.6208 (0.6490)  loss_objectness: 0.1414 (0.1424)  loss_rpn_box_reg: 0.0707 (0.0747)  time: 0.8202  data: 0.2901  max mem: 6140\n",
      "Training Epoch: [11]  [ 40/250]  eta: 0:02:55  lr: 0.000300  loss: 0.8108 (0.8431)  loss_box_reg: 0.6168 (0.6269)  loss_objectness: 0.1428 (0.1424)  loss_rpn_box_reg: 0.0684 (0.0737)  time: 0.8133  data: 0.2918  max mem: 6140\n",
      "Training Epoch: [11]  [ 50/250]  eta: 0:02:46  lr: 0.000300  loss: 0.7932 (0.8549)  loss_box_reg: 0.5968 (0.6396)  loss_objectness: 0.1360 (0.1409)  loss_rpn_box_reg: 0.0679 (0.0744)  time: 0.8084  data: 0.2889  max mem: 6140\n",
      "Training Epoch: [11]  [ 60/250]  eta: 0:02:37  lr: 0.000300  loss: 0.8492 (0.8439)  loss_box_reg: 0.6129 (0.6289)  loss_objectness: 0.1357 (0.1423)  loss_rpn_box_reg: 0.0660 (0.0727)  time: 0.8131  data: 0.2845  max mem: 6140\n",
      "Training Epoch: [11]  [ 70/250]  eta: 0:02:28  lr: 0.000300  loss: 0.8201 (0.8384)  loss_box_reg: 0.6083 (0.6245)  loss_objectness: 0.1447 (0.1413)  loss_rpn_box_reg: 0.0552 (0.0727)  time: 0.8021  data: 0.2872  max mem: 6140\n",
      "Training Epoch: [11]  [ 80/250]  eta: 0:02:19  lr: 0.000300  loss: 0.8569 (0.8406)  loss_box_reg: 0.6292 (0.6278)  loss_objectness: 0.1422 (0.1401)  loss_rpn_box_reg: 0.0642 (0.0727)  time: 0.8021  data: 0.2885  max mem: 6140\n",
      "Training Epoch: [11]  [ 90/250]  eta: 0:02:11  lr: 0.000300  loss: 0.8569 (0.8401)  loss_box_reg: 0.6292 (0.6260)  loss_objectness: 0.1425 (0.1410)  loss_rpn_box_reg: 0.0660 (0.0730)  time: 0.8123  data: 0.2860  max mem: 6140\n",
      "Training Epoch: [11]  [100/250]  eta: 0:02:02  lr: 0.000300  loss: 0.8718 (0.8489)  loss_box_reg: 0.6373 (0.6346)  loss_objectness: 0.1414 (0.1408)  loss_rpn_box_reg: 0.0698 (0.0735)  time: 0.8013  data: 0.2845  max mem: 6140\n",
      "Training Epoch: [11]  [110/250]  eta: 0:01:54  lr: 0.000300  loss: 0.8747 (0.8489)  loss_box_reg: 0.6207 (0.6340)  loss_objectness: 0.1467 (0.1416)  loss_rpn_box_reg: 0.0698 (0.0734)  time: 0.8006  data: 0.2847  max mem: 6140\n",
      "Training Epoch: [11]  [120/250]  eta: 0:01:46  lr: 0.000300  loss: 0.8199 (0.8489)  loss_box_reg: 0.6145 (0.6334)  loss_objectness: 0.1464 (0.1419)  loss_rpn_box_reg: 0.0688 (0.0736)  time: 0.8233  data: 0.2870  max mem: 6140\n",
      "Training Epoch: [11]  [130/250]  eta: 0:01:38  lr: 0.000300  loss: 0.8199 (0.8510)  loss_box_reg: 0.6182 (0.6344)  loss_objectness: 0.1435 (0.1426)  loss_rpn_box_reg: 0.0821 (0.0740)  time: 0.8178  data: 0.2885  max mem: 6140\n",
      "Training Epoch: [11]  [140/250]  eta: 0:01:29  lr: 0.000300  loss: 0.7693 (0.8440)  loss_box_reg: 0.5613 (0.6273)  loss_objectness: 0.1543 (0.1434)  loss_rpn_box_reg: 0.0707 (0.0732)  time: 0.7974  data: 0.2878  max mem: 6140\n",
      "Training Epoch: [11]  [150/250]  eta: 0:01:21  lr: 0.000300  loss: 0.7595 (0.8468)  loss_box_reg: 0.5800 (0.6297)  loss_objectness: 0.1422 (0.1433)  loss_rpn_box_reg: 0.0694 (0.0738)  time: 0.8037  data: 0.2884  max mem: 6140\n",
      "Training Epoch: [11]  [160/250]  eta: 0:01:13  lr: 0.000300  loss: 0.9044 (0.8513)  loss_box_reg: 0.6437 (0.6340)  loss_objectness: 0.1349 (0.1434)  loss_rpn_box_reg: 0.0717 (0.0740)  time: 0.8108  data: 0.2880  max mem: 6140\n",
      "Training Epoch: [11]  [170/250]  eta: 0:01:05  lr: 0.000300  loss: 0.9215 (0.8510)  loss_box_reg: 0.6235 (0.6330)  loss_objectness: 0.1431 (0.1435)  loss_rpn_box_reg: 0.0761 (0.0745)  time: 0.8115  data: 0.2859  max mem: 6140\n",
      "Training Epoch: [11]  [180/250]  eta: 0:00:56  lr: 0.000300  loss: 0.7382 (0.8436)  loss_box_reg: 0.5093 (0.6258)  loss_objectness: 0.1435 (0.1438)  loss_rpn_box_reg: 0.0773 (0.0740)  time: 0.7998  data: 0.2870  max mem: 6140\n",
      "Training Epoch: [11]  [190/250]  eta: 0:00:48  lr: 0.000300  loss: 0.7950 (0.8458)  loss_box_reg: 0.5670 (0.6268)  loss_objectness: 0.1502 (0.1445)  loss_rpn_box_reg: 0.0744 (0.0745)  time: 0.7959  data: 0.2880  max mem: 6140\n",
      "Training Epoch: [11]  [200/250]  eta: 0:00:40  lr: 0.000300  loss: 0.8624 (0.8451)  loss_box_reg: 0.5707 (0.6263)  loss_objectness: 0.1470 (0.1446)  loss_rpn_box_reg: 0.0742 (0.0742)  time: 0.8155  data: 0.2848  max mem: 6140\n",
      "Training Epoch: [11]  [210/250]  eta: 0:00:32  lr: 0.000300  loss: 0.7394 (0.8435)  loss_box_reg: 0.5446 (0.6243)  loss_objectness: 0.1449 (0.1451)  loss_rpn_box_reg: 0.0700 (0.0741)  time: 0.8335  data: 0.2909  max mem: 6140\n",
      "Training Epoch: [11]  [220/250]  eta: 0:00:24  lr: 0.000300  loss: 0.7554 (0.8425)  loss_box_reg: 0.5509 (0.6233)  loss_objectness: 0.1470 (0.1453)  loss_rpn_box_reg: 0.0647 (0.0739)  time: 0.8374  data: 0.2933  max mem: 6140\n",
      "Training Epoch: [11]  [230/250]  eta: 0:00:16  lr: 0.000300  loss: 0.7599 (0.8417)  loss_box_reg: 0.5769 (0.6225)  loss_objectness: 0.1441 (0.1452)  loss_rpn_box_reg: 0.0706 (0.0739)  time: 0.8045  data: 0.2887  max mem: 6140\n",
      "Training Epoch: [11]  [240/250]  eta: 0:00:08  lr: 0.000300  loss: 0.8347 (0.8418)  loss_box_reg: 0.5870 (0.6213)  loss_objectness: 0.1533 (0.1460)  loss_rpn_box_reg: 0.0775 (0.0745)  time: 0.7951  data: 0.2880  max mem: 6140\n",
      "Training Epoch: [11]  [249/250]  eta: 0:00:00  lr: 0.000300  loss: 0.8347 (0.8413)  loss_box_reg: 0.5870 (0.6213)  loss_objectness: 0.1512 (0.1459)  loss_rpn_box_reg: 0.0681 (0.0741)  time: 0.8131  data: 0.2849  max mem: 6140\n",
      "Training Epoch: [11] Total time: 0:03:23 (0.8140 s / it)\n",
      "Testing Epoch: [11]  [ 0/62]  eta: 0:00:48  lr: 0.000300  loss: 0.7684 (0.7684)  loss_box_reg: 0.5223 (0.5223)  loss_objectness: 0.1582 (0.1582)  loss_rpn_box_reg: 0.0879 (0.0879)  time: 0.7850  data: 0.2981  max mem: 6140\n",
      "Testing Epoch: [11]  [61/62]  eta: 0:00:00  lr: 0.000300  loss: 0.9903 (1.0246)  loss_box_reg: 0.8144 (0.8177)  loss_objectness: 0.1209 (0.1268)  loss_rpn_box_reg: 0.0660 (0.0801)  time: 0.7629  data: 0.3151  max mem: 6140\n",
      "Testing Epoch: [11] Total time: 0:00:47 (0.7623 s / it)\n",
      "Training Epoch: [12]  [  0/250]  eta: 0:04:34  lr: 0.000300  loss: 0.8196 (0.8196)  loss_box_reg: 0.5796 (0.5796)  loss_objectness: 0.1617 (0.1617)  loss_rpn_box_reg: 0.0783 (0.0783)  time: 1.0976  data: 0.2981  max mem: 6140\n",
      "Training Epoch: [12]  [ 10/250]  eta: 0:03:21  lr: 0.000300  loss: 0.8550 (0.8223)  loss_box_reg: 0.6523 (0.6091)  loss_objectness: 0.1426 (0.1421)  loss_rpn_box_reg: 0.0783 (0.0711)  time: 0.8397  data: 0.2940  max mem: 6140\n",
      "Training Epoch: [12]  [ 20/250]  eta: 0:03:10  lr: 0.000300  loss: 0.8624 (0.8614)  loss_box_reg: 0.6569 (0.6515)  loss_objectness: 0.1387 (0.1410)  loss_rpn_box_reg: 0.0667 (0.0690)  time: 0.8148  data: 0.2912  max mem: 6140\n",
      "Training Epoch: [12]  [ 30/250]  eta: 0:03:03  lr: 0.000300  loss: 0.8555 (0.8576)  loss_box_reg: 0.6329 (0.6451)  loss_objectness: 0.1387 (0.1411)  loss_rpn_box_reg: 0.0668 (0.0714)  time: 0.8280  data: 0.2893  max mem: 6140\n",
      "Training Epoch: [12]  [ 40/250]  eta: 0:02:53  lr: 0.000300  loss: 0.7854 (0.8437)  loss_box_reg: 0.5304 (0.6304)  loss_objectness: 0.1386 (0.1417)  loss_rpn_box_reg: 0.0646 (0.0715)  time: 0.8256  data: 0.2861  max mem: 6140\n",
      "Training Epoch: [12]  [ 50/250]  eta: 0:02:45  lr: 0.000300  loss: 0.8321 (0.8488)  loss_box_reg: 0.6093 (0.6348)  loss_objectness: 0.1428 (0.1426)  loss_rpn_box_reg: 0.0646 (0.0713)  time: 0.8249  data: 0.2827  max mem: 6140\n",
      "Training Epoch: [12]  [ 60/250]  eta: 0:02:36  lr: 0.000300  loss: 0.8120 (0.8361)  loss_box_reg: 0.5963 (0.6238)  loss_objectness: 0.1449 (0.1421)  loss_rpn_box_reg: 0.0644 (0.0702)  time: 0.8131  data: 0.2837  max mem: 6140\n",
      "Training Epoch: [12]  [ 70/250]  eta: 0:02:27  lr: 0.000300  loss: 0.8561 (0.8559)  loss_box_reg: 0.7182 (0.6444)  loss_objectness: 0.1317 (0.1411)  loss_rpn_box_reg: 0.0632 (0.0704)  time: 0.8013  data: 0.2791  max mem: 6140\n",
      "Training Epoch: [12]  [ 80/250]  eta: 0:02:19  lr: 0.000300  loss: 0.8896 (0.8489)  loss_box_reg: 0.7188 (0.6374)  loss_objectness: 0.1369 (0.1408)  loss_rpn_box_reg: 0.0687 (0.0707)  time: 0.8170  data: 0.2765  max mem: 6140\n",
      "Training Epoch: [12]  [ 90/250]  eta: 0:02:11  lr: 0.000300  loss: 0.7982 (0.8403)  loss_box_reg: 0.5970 (0.6294)  loss_objectness: 0.1399 (0.1405)  loss_rpn_box_reg: 0.0704 (0.0704)  time: 0.8264  data: 0.2842  max mem: 6140\n",
      "Training Epoch: [12]  [100/250]  eta: 0:02:03  lr: 0.000300  loss: 0.7982 (0.8415)  loss_box_reg: 0.6057 (0.6297)  loss_objectness: 0.1409 (0.1402)  loss_rpn_box_reg: 0.0751 (0.0716)  time: 0.8257  data: 0.2905  max mem: 6140\n",
      "Training Epoch: [12]  [110/250]  eta: 0:01:54  lr: 0.000300  loss: 0.9217 (0.8555)  loss_box_reg: 0.7085 (0.6415)  loss_objectness: 0.1442 (0.1409)  loss_rpn_box_reg: 0.0814 (0.0730)  time: 0.7982  data: 0.2902  max mem: 6140\n",
      "Training Epoch: [12]  [120/250]  eta: 0:01:46  lr: 0.000300  loss: 0.9105 (0.8552)  loss_box_reg: 0.6893 (0.6392)  loss_objectness: 0.1442 (0.1420)  loss_rpn_box_reg: 0.0722 (0.0740)  time: 0.8100  data: 0.2900  max mem: 6140\n",
      "Training Epoch: [12]  [130/250]  eta: 0:01:38  lr: 0.000300  loss: 0.8002 (0.8547)  loss_box_reg: 0.5868 (0.6372)  loss_objectness: 0.1464 (0.1426)  loss_rpn_box_reg: 0.0799 (0.0749)  time: 0.8241  data: 0.2885  max mem: 6140\n",
      "Training Epoch: [12]  [140/250]  eta: 0:01:30  lr: 0.000300  loss: 0.7905 (0.8482)  loss_box_reg: 0.5492 (0.6307)  loss_objectness: 0.1517 (0.1429)  loss_rpn_box_reg: 0.0799 (0.0746)  time: 0.8217  data: 0.2857  max mem: 6140\n",
      "Training Epoch: [12]  [150/250]  eta: 0:01:22  lr: 0.000300  loss: 0.7800 (0.8469)  loss_box_reg: 0.5492 (0.6284)  loss_objectness: 0.1466 (0.1437)  loss_rpn_box_reg: 0.0799 (0.0748)  time: 0.8280  data: 0.2949  max mem: 6140\n",
      "Training Epoch: [12]  [160/250]  eta: 0:01:13  lr: 0.000300  loss: 0.8282 (0.8437)  loss_box_reg: 0.5816 (0.6246)  loss_objectness: 0.1560 (0.1444)  loss_rpn_box_reg: 0.0731 (0.0746)  time: 0.8312  data: 0.3044  max mem: 6140\n",
      "Training Epoch: [12]  [170/250]  eta: 0:01:05  lr: 0.000300  loss: 0.7550 (0.8410)  loss_box_reg: 0.5628 (0.6211)  loss_objectness: 0.1602 (0.1454)  loss_rpn_box_reg: 0.0703 (0.0745)  time: 0.8462  data: 0.3010  max mem: 6140\n",
      "Training Epoch: [12]  [180/250]  eta: 0:00:57  lr: 0.000300  loss: 0.7735 (0.8406)  loss_box_reg: 0.5612 (0.6204)  loss_objectness: 0.1499 (0.1458)  loss_rpn_box_reg: 0.0643 (0.0744)  time: 0.8309  data: 0.2965  max mem: 6140\n",
      "Training Epoch: [12]  [190/250]  eta: 0:00:49  lr: 0.000300  loss: 0.8525 (0.8423)  loss_box_reg: 0.6272 (0.6218)  loss_objectness: 0.1437 (0.1461)  loss_rpn_box_reg: 0.0660 (0.0744)  time: 0.8081  data: 0.2939  max mem: 6140\n",
      "Training Epoch: [12]  [200/250]  eta: 0:00:41  lr: 0.000300  loss: 0.8756 (0.8442)  loss_box_reg: 0.6761 (0.6237)  loss_objectness: 0.1430 (0.1461)  loss_rpn_box_reg: 0.0700 (0.0744)  time: 0.8143  data: 0.2912  max mem: 6140\n",
      "Training Epoch: [12]  [210/250]  eta: 0:00:32  lr: 0.000300  loss: 0.8756 (0.8459)  loss_box_reg: 0.6638 (0.6265)  loss_objectness: 0.1320 (0.1452)  loss_rpn_box_reg: 0.0693 (0.0742)  time: 0.8241  data: 0.2867  max mem: 6140\n",
      "Training Epoch: [12]  [220/250]  eta: 0:00:24  lr: 0.000300  loss: 0.8164 (0.8409)  loss_box_reg: 0.5982 (0.6220)  loss_objectness: 0.1372 (0.1449)  loss_rpn_box_reg: 0.0681 (0.0740)  time: 0.8303  data: 0.2870  max mem: 6140\n",
      "Training Epoch: [12]  [230/250]  eta: 0:00:16  lr: 0.000300  loss: 0.7552 (0.8382)  loss_box_reg: 0.5526 (0.6194)  loss_objectness: 0.1447 (0.1450)  loss_rpn_box_reg: 0.0710 (0.0739)  time: 0.8366  data: 0.2908  max mem: 6140\n",
      "Training Epoch: [12]  [240/250]  eta: 0:00:08  lr: 0.000300  loss: 0.7857 (0.8406)  loss_box_reg: 0.5715 (0.6213)  loss_objectness: 0.1415 (0.1450)  loss_rpn_box_reg: 0.0747 (0.0742)  time: 0.8297  data: 0.2902  max mem: 6140\n",
      "Training Epoch: [12]  [249/250]  eta: 0:00:00  lr: 0.000300  loss: 0.9070 (0.8410)  loss_box_reg: 0.6096 (0.6221)  loss_objectness: 0.1313 (0.1446)  loss_rpn_box_reg: 0.0750 (0.0742)  time: 0.8291  data: 0.2892  max mem: 6140\n",
      "Training Epoch: [12] Total time: 0:03:25 (0.8236 s / it)\n",
      "Testing Epoch: [12]  [ 0/62]  eta: 0:00:48  lr: 0.000300  loss: 0.8029 (0.8029)  loss_box_reg: 0.5648 (0.5648)  loss_objectness: 0.1624 (0.1624)  loss_rpn_box_reg: 0.0757 (0.0757)  time: 0.7862  data: 0.3031  max mem: 6140\n",
      "Testing Epoch: [12]  [61/62]  eta: 0:00:00  lr: 0.000300  loss: 0.9342 (0.9770)  loss_box_reg: 0.7446 (0.7717)  loss_objectness: 0.1211 (0.1252)  loss_rpn_box_reg: 0.0645 (0.0801)  time: 0.7618  data: 0.3092  max mem: 6140\n",
      "Testing Epoch: [12] Total time: 0:00:47 (0.7636 s / it)\n",
      "Training Epoch: [13]  [  0/250]  eta: 0:04:43  lr: 0.000300  loss: 0.6097 (0.6097)  loss_box_reg: 0.3524 (0.3524)  loss_objectness: 0.1494 (0.1494)  loss_rpn_box_reg: 0.1079 (0.1079)  time: 1.1353  data: 0.2931  max mem: 6140\n",
      "Training Epoch: [13]  [ 10/250]  eta: 0:03:27  lr: 0.000300  loss: 0.9690 (0.9283)  loss_box_reg: 0.7302 (0.6972)  loss_objectness: 0.1449 (0.1459)  loss_rpn_box_reg: 0.0900 (0.0852)  time: 0.8663  data: 0.2870  max mem: 6140\n",
      "Training Epoch: [13]  [ 20/250]  eta: 0:03:16  lr: 0.000300  loss: 0.9572 (0.9204)  loss_box_reg: 0.7200 (0.6898)  loss_objectness: 0.1449 (0.1474)  loss_rpn_box_reg: 0.0819 (0.0832)  time: 0.8395  data: 0.2882  max mem: 6140\n",
      "Training Epoch: [13]  [ 30/250]  eta: 0:03:07  lr: 0.000300  loss: 0.9404 (0.9215)  loss_box_reg: 0.7079 (0.6912)  loss_objectness: 0.1437 (0.1484)  loss_rpn_box_reg: 0.0800 (0.0819)  time: 0.8442  data: 0.2916  max mem: 6140\n",
      "Training Epoch: [13]  [ 40/250]  eta: 0:02:57  lr: 0.000300  loss: 0.8300 (0.8815)  loss_box_reg: 0.6033 (0.6569)  loss_objectness: 0.1409 (0.1454)  loss_rpn_box_reg: 0.0695 (0.0792)  time: 0.8405  data: 0.2922  max mem: 6140\n",
      "Training Epoch: [13]  [ 50/250]  eta: 0:02:48  lr: 0.000300  loss: 0.7745 (0.8727)  loss_box_reg: 0.5823 (0.6548)  loss_objectness: 0.1374 (0.1426)  loss_rpn_box_reg: 0.0635 (0.0753)  time: 0.8277  data: 0.2912  max mem: 6140\n",
      "Training Epoch: [13]  [ 60/250]  eta: 0:02:40  lr: 0.000300  loss: 0.8462 (0.8747)  loss_box_reg: 0.6403 (0.6559)  loss_objectness: 0.1331 (0.1418)  loss_rpn_box_reg: 0.0608 (0.0769)  time: 0.8319  data: 0.2881  max mem: 6140\n",
      "Training Epoch: [13]  [ 70/250]  eta: 0:02:30  lr: 0.000300  loss: 0.8685 (0.8775)  loss_box_reg: 0.6550 (0.6593)  loss_objectness: 0.1373 (0.1425)  loss_rpn_box_reg: 0.0655 (0.0757)  time: 0.8229  data: 0.2855  max mem: 6140\n",
      "Training Epoch: [13]  [ 80/250]  eta: 0:02:21  lr: 0.000300  loss: 0.8685 (0.8720)  loss_box_reg: 0.6810 (0.6580)  loss_objectness: 0.1380 (0.1403)  loss_rpn_box_reg: 0.0631 (0.0736)  time: 0.8098  data: 0.2839  max mem: 6140\n",
      "Training Epoch: [13]  [ 90/250]  eta: 0:02:13  lr: 0.000300  loss: 0.7961 (0.8661)  loss_box_reg: 0.6147 (0.6519)  loss_objectness: 0.1283 (0.1401)  loss_rpn_box_reg: 0.0631 (0.0741)  time: 0.8143  data: 0.2860  max mem: 6140\n",
      "Training Epoch: [13]  [100/250]  eta: 0:02:04  lr: 0.000300  loss: 0.7961 (0.8596)  loss_box_reg: 0.6070 (0.6468)  loss_objectness: 0.1296 (0.1395)  loss_rpn_box_reg: 0.0633 (0.0733)  time: 0.8140  data: 0.2876  max mem: 6140\n",
      "Training Epoch: [13]  [110/250]  eta: 0:01:56  lr: 0.000300  loss: 0.8038 (0.8643)  loss_box_reg: 0.6070 (0.6501)  loss_objectness: 0.1447 (0.1406)  loss_rpn_box_reg: 0.0689 (0.0736)  time: 0.8309  data: 0.2895  max mem: 6140\n",
      "Training Epoch: [13]  [120/250]  eta: 0:01:47  lr: 0.000300  loss: 0.8353 (0.8621)  loss_box_reg: 0.6348 (0.6477)  loss_objectness: 0.1453 (0.1410)  loss_rpn_box_reg: 0.0716 (0.0734)  time: 0.8254  data: 0.2928  max mem: 6140\n",
      "Training Epoch: [13]  [130/250]  eta: 0:01:39  lr: 0.000300  loss: 0.8440 (0.8644)  loss_box_reg: 0.6348 (0.6493)  loss_objectness: 0.1427 (0.1412)  loss_rpn_box_reg: 0.0678 (0.0739)  time: 0.8142  data: 0.2910  max mem: 6140\n",
      "Training Epoch: [13]  [140/250]  eta: 0:01:31  lr: 0.000300  loss: 0.9463 (0.8697)  loss_box_reg: 0.6538 (0.6542)  loss_objectness: 0.1313 (0.1406)  loss_rpn_box_reg: 0.0763 (0.0749)  time: 0.8145  data: 0.2871  max mem: 6140\n",
      "Training Epoch: [13]  [150/250]  eta: 0:01:22  lr: 0.000300  loss: 0.8580 (0.8659)  loss_box_reg: 0.6531 (0.6512)  loss_objectness: 0.1418 (0.1408)  loss_rpn_box_reg: 0.0606 (0.0739)  time: 0.8057  data: 0.2845  max mem: 6140\n",
      "Training Epoch: [13]  [160/250]  eta: 0:01:14  lr: 0.000300  loss: 0.7600 (0.8581)  loss_box_reg: 0.5528 (0.6444)  loss_objectness: 0.1418 (0.1407)  loss_rpn_box_reg: 0.0534 (0.0730)  time: 0.8071  data: 0.2856  max mem: 6140\n",
      "Training Epoch: [13]  [170/250]  eta: 0:01:06  lr: 0.000300  loss: 0.8187 (0.8599)  loss_box_reg: 0.5996 (0.6474)  loss_objectness: 0.1265 (0.1399)  loss_rpn_box_reg: 0.0577 (0.0726)  time: 0.8236  data: 0.2935  max mem: 6140\n",
      "Training Epoch: [13]  [180/250]  eta: 0:00:57  lr: 0.000300  loss: 0.8498 (0.8591)  loss_box_reg: 0.6207 (0.6460)  loss_objectness: 0.1384 (0.1405)  loss_rpn_box_reg: 0.0689 (0.0727)  time: 0.8535  data: 0.2983  max mem: 6140\n",
      "Training Epoch: [13]  [190/250]  eta: 0:00:49  lr: 0.000300  loss: 0.8498 (0.8587)  loss_box_reg: 0.6207 (0.6456)  loss_objectness: 0.1424 (0.1407)  loss_rpn_box_reg: 0.0611 (0.0724)  time: 0.8389  data: 0.2954  max mem: 6140\n",
      "Training Epoch: [13]  [200/250]  eta: 0:00:41  lr: 0.000300  loss: 0.7923 (0.8574)  loss_box_reg: 0.5831 (0.6436)  loss_objectness: 0.1415 (0.1410)  loss_rpn_box_reg: 0.0659 (0.0728)  time: 0.8181  data: 0.2880  max mem: 6140\n",
      "Training Epoch: [13]  [210/250]  eta: 0:00:33  lr: 0.000300  loss: 0.8539 (0.8574)  loss_box_reg: 0.6094 (0.6424)  loss_objectness: 0.1490 (0.1417)  loss_rpn_box_reg: 0.0719 (0.0732)  time: 0.8098  data: 0.2866  max mem: 6140\n",
      "Training Epoch: [13]  [220/250]  eta: 0:00:24  lr: 0.000300  loss: 0.8539 (0.8572)  loss_box_reg: 0.6094 (0.6413)  loss_objectness: 0.1554 (0.1424)  loss_rpn_box_reg: 0.0702 (0.0735)  time: 0.7900  data: 0.2915  max mem: 6140\n",
      "Training Epoch: [13]  [230/250]  eta: 0:00:16  lr: 0.000300  loss: 0.8199 (0.8531)  loss_box_reg: 0.5424 (0.6358)  loss_objectness: 0.1622 (0.1435)  loss_rpn_box_reg: 0.0799 (0.0738)  time: 0.7912  data: 0.2931  max mem: 6140\n",
      "Training Epoch: [13]  [240/250]  eta: 0:00:08  lr: 0.000300  loss: 0.6837 (0.8498)  loss_box_reg: 0.4671 (0.6329)  loss_objectness: 0.1499 (0.1433)  loss_rpn_box_reg: 0.0691 (0.0736)  time: 0.7994  data: 0.2898  max mem: 6140\n",
      "Training Epoch: [13]  [249/250]  eta: 0:00:00  lr: 0.000300  loss: 0.8043 (0.8504)  loss_box_reg: 0.5267 (0.6331)  loss_objectness: 0.1364 (0.1435)  loss_rpn_box_reg: 0.0738 (0.0738)  time: 0.8155  data: 0.2886  max mem: 6140\n",
      "Training Epoch: [13] Total time: 0:03:25 (0.8219 s / it)\n",
      "Testing Epoch: [13]  [ 0/62]  eta: 0:00:47  lr: 0.000300  loss: 0.8774 (0.8774)  loss_box_reg: 0.6401 (0.6401)  loss_objectness: 0.1572 (0.1572)  loss_rpn_box_reg: 0.0802 (0.0802)  time: 0.7684  data: 0.2824  max mem: 6140\n",
      "Testing Epoch: [13]  [61/62]  eta: 0:00:00  lr: 0.000300  loss: 0.9306 (1.0047)  loss_box_reg: 0.7723 (0.7981)  loss_objectness: 0.1195 (0.1266)  loss_rpn_box_reg: 0.0627 (0.0799)  time: 0.7500  data: 0.3091  max mem: 6140\n",
      "Testing Epoch: [13] Total time: 0:00:47 (0.7584 s / it)\n",
      "Training Epoch: [14]  [  0/250]  eta: 0:04:42  lr: 0.000300  loss: 0.6877 (0.6877)  loss_box_reg: 0.3941 (0.3941)  loss_objectness: 0.1773 (0.1773)  loss_rpn_box_reg: 0.1163 (0.1163)  time: 1.1293  data: 0.3137  max mem: 6140\n",
      "Training Epoch: [14]  [ 10/250]  eta: 0:03:20  lr: 0.000300  loss: 0.6877 (0.7118)  loss_box_reg: 0.5506 (0.5161)  loss_objectness: 0.1280 (0.1289)  loss_rpn_box_reg: 0.0503 (0.0668)  time: 0.8356  data: 0.2821  max mem: 6140\n",
      "Training Epoch: [14]  [ 20/250]  eta: 0:03:11  lr: 0.000300  loss: 0.7216 (0.7222)  loss_box_reg: 0.5405 (0.5237)  loss_objectness: 0.1280 (0.1312)  loss_rpn_box_reg: 0.0553 (0.0673)  time: 0.8164  data: 0.2830  max mem: 6140\n",
      "Training Epoch: [14]  [ 30/250]  eta: 0:03:02  lr: 0.000300  loss: 0.7717 (0.7484)  loss_box_reg: 0.5693 (0.5481)  loss_objectness: 0.1322 (0.1334)  loss_rpn_box_reg: 0.0624 (0.0669)  time: 0.8272  data: 0.2841  max mem: 6140\n",
      "Training Epoch: [14]  [ 40/250]  eta: 0:02:53  lr: 0.000300  loss: 0.8332 (0.7686)  loss_box_reg: 0.6084 (0.5655)  loss_objectness: 0.1372 (0.1354)  loss_rpn_box_reg: 0.0639 (0.0677)  time: 0.8233  data: 0.2850  max mem: 6140\n",
      "Training Epoch: [14]  [ 50/250]  eta: 0:02:44  lr: 0.000300  loss: 0.8332 (0.7756)  loss_box_reg: 0.6084 (0.5698)  loss_objectness: 0.1356 (0.1376)  loss_rpn_box_reg: 0.0672 (0.0682)  time: 0.8131  data: 0.2875  max mem: 6140\n",
      "Training Epoch: [14]  [ 60/250]  eta: 0:02:36  lr: 0.000300  loss: 0.7754 (0.7785)  loss_box_reg: 0.5329 (0.5697)  loss_objectness: 0.1387 (0.1389)  loss_rpn_box_reg: 0.0625 (0.0699)  time: 0.8155  data: 0.2848  max mem: 6140\n",
      "Training Epoch: [14]  [ 70/250]  eta: 0:02:27  lr: 0.000300  loss: 0.8402 (0.7900)  loss_box_reg: 0.5811 (0.5788)  loss_objectness: 0.1452 (0.1409)  loss_rpn_box_reg: 0.0650 (0.0703)  time: 0.8061  data: 0.2862  max mem: 6140\n",
      "Training Epoch: [14]  [ 80/250]  eta: 0:02:19  lr: 0.000300  loss: 0.8754 (0.8006)  loss_box_reg: 0.6435 (0.5875)  loss_objectness: 0.1417 (0.1412)  loss_rpn_box_reg: 0.0742 (0.0718)  time: 0.8068  data: 0.2881  max mem: 6140\n",
      "Training Epoch: [14]  [ 90/250]  eta: 0:02:11  lr: 0.000300  loss: 0.8762 (0.8148)  loss_box_reg: 0.6435 (0.6016)  loss_objectness: 0.1384 (0.1404)  loss_rpn_box_reg: 0.0769 (0.0728)  time: 0.8257  data: 0.2840  max mem: 6140\n",
      "Training Epoch: [14]  [100/250]  eta: 0:02:02  lr: 0.000300  loss: 0.8260 (0.8152)  loss_box_reg: 0.6182 (0.6030)  loss_objectness: 0.1305 (0.1396)  loss_rpn_box_reg: 0.0713 (0.0726)  time: 0.8131  data: 0.2780  max mem: 6140\n",
      "Training Epoch: [14]  [110/250]  eta: 0:01:54  lr: 0.000300  loss: 0.7994 (0.8122)  loss_box_reg: 0.5990 (0.6003)  loss_objectness: 0.1322 (0.1400)  loss_rpn_box_reg: 0.0635 (0.0719)  time: 0.7919  data: 0.2794  max mem: 6140\n",
      "Training Epoch: [14]  [120/250]  eta: 0:01:46  lr: 0.000300  loss: 0.7902 (0.8144)  loss_box_reg: 0.5468 (0.6022)  loss_objectness: 0.1402 (0.1403)  loss_rpn_box_reg: 0.0635 (0.0720)  time: 0.8108  data: 0.2852  max mem: 6140\n",
      "Training Epoch: [14]  [130/250]  eta: 0:01:37  lr: 0.000300  loss: 0.8074 (0.8192)  loss_box_reg: 0.5659 (0.6050)  loss_objectness: 0.1437 (0.1408)  loss_rpn_box_reg: 0.0797 (0.0735)  time: 0.8210  data: 0.2858  max mem: 6140\n",
      "Training Epoch: [14]  [140/250]  eta: 0:01:29  lr: 0.000300  loss: 0.7996 (0.8242)  loss_box_reg: 0.5747 (0.6095)  loss_objectness: 0.1438 (0.1411)  loss_rpn_box_reg: 0.0743 (0.0736)  time: 0.7927  data: 0.2851  max mem: 6140\n",
      "Training Epoch: [14]  [150/250]  eta: 0:01:21  lr: 0.000300  loss: 0.7673 (0.8237)  loss_box_reg: 0.5747 (0.6093)  loss_objectness: 0.1449 (0.1413)  loss_rpn_box_reg: 0.0711 (0.0731)  time: 0.7919  data: 0.2850  max mem: 6140\n",
      "Training Epoch: [14]  [160/250]  eta: 0:01:13  lr: 0.000300  loss: 0.7658 (0.8225)  loss_box_reg: 0.5562 (0.6085)  loss_objectness: 0.1378 (0.1413)  loss_rpn_box_reg: 0.0697 (0.0727)  time: 0.8155  data: 0.2866  max mem: 6140\n",
      "Training Epoch: [14]  [170/250]  eta: 0:01:05  lr: 0.000300  loss: 0.7620 (0.8183)  loss_box_reg: 0.5498 (0.6042)  loss_objectness: 0.1404 (0.1417)  loss_rpn_box_reg: 0.0685 (0.0724)  time: 0.8139  data: 0.2870  max mem: 6140\n",
      "Training Epoch: [14]  [180/250]  eta: 0:00:56  lr: 0.000300  loss: 0.8323 (0.8206)  loss_box_reg: 0.5937 (0.6074)  loss_objectness: 0.1380 (0.1409)  loss_rpn_box_reg: 0.0689 (0.0722)  time: 0.8163  data: 0.2845  max mem: 6140\n",
      "Training Epoch: [14]  [190/250]  eta: 0:00:48  lr: 0.000300  loss: 0.8586 (0.8258)  loss_box_reg: 0.6581 (0.6131)  loss_objectness: 0.1268 (0.1407)  loss_rpn_box_reg: 0.0654 (0.0720)  time: 0.8359  data: 0.2855  max mem: 6140\n",
      "Training Epoch: [14]  [200/250]  eta: 0:00:40  lr: 0.000300  loss: 0.8202 (0.8277)  loss_box_reg: 0.6581 (0.6152)  loss_objectness: 0.1306 (0.1406)  loss_rpn_box_reg: 0.0654 (0.0720)  time: 0.8257  data: 0.2854  max mem: 6140\n",
      "Training Epoch: [14]  [210/250]  eta: 0:00:32  lr: 0.000300  loss: 0.8202 (0.8263)  loss_box_reg: 0.5897 (0.6124)  loss_objectness: 0.1494 (0.1416)  loss_rpn_box_reg: 0.0721 (0.0723)  time: 0.8178  data: 0.2878  max mem: 6140\n",
      "Training Epoch: [14]  [220/250]  eta: 0:00:24  lr: 0.000300  loss: 0.8261 (0.8311)  loss_box_reg: 0.5897 (0.6167)  loss_objectness: 0.1557 (0.1417)  loss_rpn_box_reg: 0.0766 (0.0726)  time: 0.8264  data: 0.2905  max mem: 6140\n",
      "Training Epoch: [14]  [230/250]  eta: 0:00:16  lr: 0.000300  loss: 0.8364 (0.8339)  loss_box_reg: 0.6757 (0.6197)  loss_objectness: 0.1424 (0.1418)  loss_rpn_box_reg: 0.0757 (0.0724)  time: 0.8147  data: 0.2840  max mem: 6140\n",
      "Training Epoch: [14]  [240/250]  eta: 0:00:08  lr: 0.000300  loss: 0.8364 (0.8334)  loss_box_reg: 0.6207 (0.6182)  loss_objectness: 0.1450 (0.1425)  loss_rpn_box_reg: 0.0756 (0.0726)  time: 0.8084  data: 0.2862  max mem: 6140\n",
      "Training Epoch: [14]  [249/250]  eta: 0:00:00  lr: 0.000300  loss: 0.8545 (0.8355)  loss_box_reg: 0.6207 (0.6188)  loss_objectness: 0.1537 (0.1434)  loss_rpn_box_reg: 0.0756 (0.0733)  time: 0.7927  data: 0.2901  max mem: 6140\n",
      "Training Epoch: [14] Total time: 0:03:23 (0.8138 s / it)\n",
      "Testing Epoch: [14]  [ 0/62]  eta: 0:00:49  lr: 0.000300  loss: 0.8075 (0.8075)  loss_box_reg: 0.5599 (0.5599)  loss_objectness: 0.1564 (0.1564)  loss_rpn_box_reg: 0.0912 (0.0912)  time: 0.7996  data: 0.3137  max mem: 6140\n",
      "Testing Epoch: [14]  [61/62]  eta: 0:00:00  lr: 0.000300  loss: 0.9252 (0.9375)  loss_box_reg: 0.7319 (0.7254)  loss_objectness: 0.1286 (0.1318)  loss_rpn_box_reg: 0.0625 (0.0803)  time: 0.7857  data: 0.3272  max mem: 6143\n",
      "Testing Epoch: [14] Total time: 0:00:47 (0.7722 s / it)\n",
      "Training Epoch: [15]  [  0/250]  eta: 0:04:38  lr: 0.000300  loss: 0.7130 (0.7130)  loss_box_reg: 0.4582 (0.4582)  loss_objectness: 0.1643 (0.1643)  loss_rpn_box_reg: 0.0905 (0.0905)  time: 1.1132  data: 0.2975  max mem: 6143\n",
      "Training Epoch: [15]  [ 10/250]  eta: 0:03:21  lr: 0.000300  loss: 0.8446 (0.8879)  loss_box_reg: 0.6517 (0.6666)  loss_objectness: 0.1466 (0.1460)  loss_rpn_box_reg: 0.0731 (0.0753)  time: 0.8383  data: 0.2867  max mem: 6143\n",
      "Training Epoch: [15]  [ 20/250]  eta: 0:03:10  lr: 0.000300  loss: 0.8446 (0.8722)  loss_box_reg: 0.6290 (0.6437)  loss_objectness: 0.1408 (0.1441)  loss_rpn_box_reg: 0.0731 (0.0844)  time: 0.8131  data: 0.2856  max mem: 6143\n",
      "Training Epoch: [15]  [ 30/250]  eta: 0:03:00  lr: 0.000300  loss: 0.8292 (0.8586)  loss_box_reg: 0.6287 (0.6383)  loss_objectness: 0.1394 (0.1425)  loss_rpn_box_reg: 0.0696 (0.0779)  time: 0.8076  data: 0.2856  max mem: 6143\n",
      "Training Epoch: [15]  [ 40/250]  eta: 0:02:53  lr: 0.000300  loss: 0.8131 (0.8467)  loss_box_reg: 0.6287 (0.6308)  loss_objectness: 0.1254 (0.1404)  loss_rpn_box_reg: 0.0665 (0.0755)  time: 0.8233  data: 0.2843  max mem: 6143\n",
      "Training Epoch: [15]  [ 50/250]  eta: 0:02:44  lr: 0.000300  loss: 0.8969 (0.8690)  loss_box_reg: 0.6354 (0.6496)  loss_objectness: 0.1325 (0.1420)  loss_rpn_box_reg: 0.0738 (0.0774)  time: 0.8285  data: 0.2869  max mem: 6143\n",
      "Training Epoch: [15]  [ 60/250]  eta: 0:02:36  lr: 0.000300  loss: 0.9351 (0.8802)  loss_box_reg: 0.7210 (0.6593)  loss_objectness: 0.1405 (0.1423)  loss_rpn_box_reg: 0.0883 (0.0786)  time: 0.8140  data: 0.2909  max mem: 6143\n",
      "Training Epoch: [15]  [ 70/250]  eta: 0:02:27  lr: 0.000300  loss: 0.9351 (0.8844)  loss_box_reg: 0.7210 (0.6672)  loss_objectness: 0.1393 (0.1411)  loss_rpn_box_reg: 0.0603 (0.0761)  time: 0.8061  data: 0.2893  max mem: 6143\n",
      "Training Epoch: [15]  [ 80/250]  eta: 0:02:18  lr: 0.000300  loss: 0.9242 (0.8915)  loss_box_reg: 0.7093 (0.6720)  loss_objectness: 0.1360 (0.1415)  loss_rpn_box_reg: 0.0702 (0.0780)  time: 0.8049  data: 0.2896  max mem: 6143\n",
      "Training Epoch: [15]  [ 90/250]  eta: 0:02:11  lr: 0.000300  loss: 0.8641 (0.8845)  loss_box_reg: 0.6256 (0.6668)  loss_objectness: 0.1368 (0.1406)  loss_rpn_box_reg: 0.0785 (0.0771)  time: 0.8322  data: 0.2880  max mem: 6143\n",
      "Training Epoch: [15]  [100/250]  eta: 0:02:03  lr: 0.000300  loss: 0.7771 (0.8697)  loss_box_reg: 0.5884 (0.6534)  loss_objectness: 0.1284 (0.1401)  loss_rpn_box_reg: 0.0659 (0.0762)  time: 0.8620  data: 0.3000  max mem: 6143\n",
      "Training Epoch: [15]  [110/250]  eta: 0:01:56  lr: 0.000300  loss: 0.7504 (0.8710)  loss_box_reg: 0.5606 (0.6551)  loss_objectness: 0.1350 (0.1402)  loss_rpn_box_reg: 0.0632 (0.0756)  time: 0.9027  data: 0.3201  max mem: 6143\n",
      "Training Epoch: [15]  [120/250]  eta: 0:01:49  lr: 0.000300  loss: 0.8120 (0.8679)  loss_box_reg: 0.5763 (0.6524)  loss_objectness: 0.1340 (0.1400)  loss_rpn_box_reg: 0.0632 (0.0755)  time: 0.9048  data: 0.3136  max mem: 6143\n",
      "Training Epoch: [15]  [130/250]  eta: 0:01:40  lr: 0.000300  loss: 0.7284 (0.8555)  loss_box_reg: 0.4967 (0.6403)  loss_objectness: 0.1335 (0.1400)  loss_rpn_box_reg: 0.0666 (0.0752)  time: 0.8735  data: 0.3071  max mem: 6143\n",
      "Training Epoch: [15]  [140/250]  eta: 0:01:32  lr: 0.000300  loss: 0.7225 (0.8537)  loss_box_reg: 0.4954 (0.6374)  loss_objectness: 0.1445 (0.1410)  loss_rpn_box_reg: 0.0647 (0.0753)  time: 0.8808  data: 0.3104  max mem: 6143\n",
      "Training Epoch: [15]  [150/250]  eta: 0:01:24  lr: 0.000300  loss: 0.8626 (0.8584)  loss_box_reg: 0.6155 (0.6399)  loss_objectness: 0.1512 (0.1424)  loss_rpn_box_reg: 0.0677 (0.0762)  time: 0.8811  data: 0.3076  max mem: 6143\n",
      "Training Epoch: [15]  [160/250]  eta: 0:01:16  lr: 0.000300  loss: 0.8130 (0.8512)  loss_box_reg: 0.5984 (0.6333)  loss_objectness: 0.1556 (0.1425)  loss_rpn_box_reg: 0.0669 (0.0755)  time: 0.8485  data: 0.3031  max mem: 6143\n",
      "Training Epoch: [15]  [170/250]  eta: 0:01:07  lr: 0.000300  loss: 0.7423 (0.8459)  loss_box_reg: 0.5100 (0.6268)  loss_objectness: 0.1517 (0.1434)  loss_rpn_box_reg: 0.0695 (0.0757)  time: 0.8525  data: 0.3065  max mem: 6143\n",
      "Training Epoch: [15]  [180/250]  eta: 0:00:59  lr: 0.000300  loss: 0.7423 (0.8438)  loss_box_reg: 0.5284 (0.6252)  loss_objectness: 0.1477 (0.1431)  loss_rpn_box_reg: 0.0714 (0.0756)  time: 0.8780  data: 0.3048  max mem: 6143\n",
      "Training Epoch: [15]  [190/250]  eta: 0:00:51  lr: 0.000300  loss: 0.7329 (0.8399)  loss_box_reg: 0.5550 (0.6219)  loss_objectness: 0.1323 (0.1429)  loss_rpn_box_reg: 0.0689 (0.0750)  time: 0.8809  data: 0.3016  max mem: 6143\n",
      "Training Epoch: [15]  [200/250]  eta: 0:00:42  lr: 0.000300  loss: 0.7915 (0.8392)  loss_box_reg: 0.5993 (0.6214)  loss_objectness: 0.1361 (0.1431)  loss_rpn_box_reg: 0.0689 (0.0748)  time: 0.8877  data: 0.3075  max mem: 6143\n",
      "Training Epoch: [15]  [210/250]  eta: 0:00:34  lr: 0.000300  loss: 0.8491 (0.8393)  loss_box_reg: 0.6112 (0.6217)  loss_objectness: 0.1375 (0.1429)  loss_rpn_box_reg: 0.0702 (0.0747)  time: 0.8784  data: 0.3049  max mem: 6143\n",
      "Training Epoch: [15]  [220/250]  eta: 0:00:25  lr: 0.000300  loss: 0.8172 (0.8396)  loss_box_reg: 0.6216 (0.6224)  loss_objectness: 0.1375 (0.1426)  loss_rpn_box_reg: 0.0692 (0.0746)  time: 0.8734  data: 0.3031  max mem: 6143\n",
      "Training Epoch: [15]  [230/250]  eta: 0:00:17  lr: 0.000300  loss: 0.8102 (0.8394)  loss_box_reg: 0.6210 (0.6225)  loss_objectness: 0.1270 (0.1423)  loss_rpn_box_reg: 0.0705 (0.0746)  time: 0.8781  data: 0.3024  max mem: 6143\n",
      "Training Epoch: [15]  [240/250]  eta: 0:00:08  lr: 0.000300  loss: 0.7605 (0.8354)  loss_box_reg: 0.5516 (0.6192)  loss_objectness: 0.1305 (0.1421)  loss_rpn_box_reg: 0.0706 (0.0741)  time: 0.8589  data: 0.3012  max mem: 6143\n",
      "Training Epoch: [15]  [249/250]  eta: 0:00:00  lr: 0.000300  loss: 0.7746 (0.8363)  loss_box_reg: 0.5575 (0.6202)  loss_objectness: 0.1411 (0.1421)  loss_rpn_box_reg: 0.0695 (0.0741)  time: 0.8534  data: 0.3033  max mem: 6143\n",
      "Training Epoch: [15] Total time: 0:03:33 (0.8558 s / it)\n",
      "creating index...\n",
      "index created!\n",
      "Test:  [ 0/62]  eta: 0:01:02  model_time: 0.5395 (0.5395)  evaluator_time: 0.0402 (0.0402)  time: 1.0099  data: 0.4119  max mem: 6143\n",
      "Test:  [61/62]  eta: 0:00:00  model_time: 0.3200 (0.3229)  evaluator_time: 0.0249 (0.0284)  time: 0.6675  data: 0.3179  max mem: 6143\n",
      "Test: Total time: 0:00:41 (0.6753 s / it)\n",
      "Averaged stats: model_time: 0.3200 (0.3229)  evaluator_time: 0.0249 (0.0284)\n",
      "Accumulating evaluation results...\n",
      "DONE (t=0.64s).\n",
      "IoU metric: bbox\n",
      " Average Precision  (AP) @[ IoU=0.50:0.95 | area=   all | maxDets=100 ] = 0.012\n",
      " Average Precision  (AP) @[ IoU=0.50      | area=   all | maxDets=100 ] = 0.044\n",
      " Average Precision  (AP) @[ IoU=0.75      | area=   all | maxDets=100 ] = 0.003\n",
      " Average Precision  (AP) @[ IoU=0.50:0.95 | area= small | maxDets=100 ] = 0.002\n",
      " Average Precision  (AP) @[ IoU=0.50:0.95 | area=medium | maxDets=100 ] = 0.003\n",
      " Average Precision  (AP) @[ IoU=0.50:0.95 | area= large | maxDets=100 ] = 0.023\n",
      " Average Recall     (AR) @[ IoU=0.50:0.95 | area=   all | maxDets=  1 ] = 0.023\n",
      " Average Recall     (AR) @[ IoU=0.50:0.95 | area=   all | maxDets= 10 ] = 0.039\n",
      " Average Recall     (AR) @[ IoU=0.50:0.95 | area=   all | maxDets=100 ] = 0.039\n",
      " Average Recall     (AR) @[ IoU=0.50:0.95 | area= small | maxDets=100 ] = 0.002\n",
      " Average Recall     (AR) @[ IoU=0.50:0.95 | area=medium | maxDets=100 ] = 0.006\n",
      " Average Recall     (AR) @[ IoU=0.50:0.95 | area= large | maxDets=100 ] = 0.070\n",
      "Testing Epoch: [15]  [ 0/62]  eta: 0:00:51  lr: 0.000300  loss: 0.8996 (0.8996)  loss_box_reg: 0.6568 (0.6568)  loss_objectness: 0.1570 (0.1570)  loss_rpn_box_reg: 0.0858 (0.0858)  time: 0.8300  data: 0.3252  max mem: 6143\n",
      "Testing Epoch: [15]  [61/62]  eta: 0:00:00  lr: 0.000300  loss: 0.9905 (0.9774)  loss_box_reg: 0.8377 (0.7660)  loss_objectness: 0.1231 (0.1288)  loss_rpn_box_reg: 0.0701 (0.0826)  time: 0.7985  data: 0.3246  max mem: 6143\n",
      "Testing Epoch: [15] Total time: 0:00:49 (0.8044 s / it)\n",
      "Training Epoch: [16]  [  0/250]  eta: 0:04:52  lr: 0.000300  loss: 0.9004 (0.9004)  loss_box_reg: 0.7357 (0.7357)  loss_objectness: 0.1331 (0.1331)  loss_rpn_box_reg: 0.0316 (0.0316)  time: 1.1698  data: 0.3000  max mem: 6143\n",
      "Training Epoch: [16]  [ 10/250]  eta: 0:03:25  lr: 0.000300  loss: 0.9004 (0.8778)  loss_box_reg: 0.7003 (0.6779)  loss_objectness: 0.1336 (0.1336)  loss_rpn_box_reg: 0.0648 (0.0663)  time: 0.8573  data: 0.3041  max mem: 6143\n",
      "Training Epoch: [16]  [ 20/250]  eta: 0:03:22  lr: 0.000300  loss: 0.8930 (0.8835)  loss_box_reg: 0.6445 (0.6720)  loss_objectness: 0.1396 (0.1391)  loss_rpn_box_reg: 0.0648 (0.0724)  time: 0.8664  data: 0.3036  max mem: 6143\n",
      "Training Epoch: [16]  [ 30/250]  eta: 0:03:12  lr: 0.000300  loss: 0.8930 (0.8732)  loss_box_reg: 0.6479 (0.6676)  loss_objectness: 0.1396 (0.1358)  loss_rpn_box_reg: 0.0615 (0.0698)  time: 0.8831  data: 0.3020  max mem: 6143\n",
      "Training Epoch: [16]  [ 40/250]  eta: 0:03:02  lr: 0.000300  loss: 0.9287 (0.8774)  loss_box_reg: 0.7024 (0.6683)  loss_objectness: 0.1281 (0.1373)  loss_rpn_box_reg: 0.0654 (0.0718)  time: 0.8549  data: 0.3022  max mem: 6143\n",
      "Training Epoch: [16]  [ 50/250]  eta: 0:02:54  lr: 0.000300  loss: 0.8772 (0.8521)  loss_box_reg: 0.6362 (0.6434)  loss_objectness: 0.1434 (0.1388)  loss_rpn_box_reg: 0.0665 (0.0699)  time: 0.8657  data: 0.3048  max mem: 6143\n",
      "Training Epoch: [16]  [ 60/250]  eta: 0:02:45  lr: 0.000300  loss: 0.8561 (0.8559)  loss_box_reg: 0.6006 (0.6465)  loss_objectness: 0.1368 (0.1386)  loss_rpn_box_reg: 0.0682 (0.0708)  time: 0.8720  data: 0.3058  max mem: 6143\n",
      "Training Epoch: [16]  [ 70/250]  eta: 0:02:36  lr: 0.000300  loss: 0.8689 (0.8609)  loss_box_reg: 0.6175 (0.6486)  loss_objectness: 0.1357 (0.1396)  loss_rpn_box_reg: 0.0760 (0.0727)  time: 0.8610  data: 0.3092  max mem: 6143\n",
      "Training Epoch: [16]  [ 80/250]  eta: 0:02:27  lr: 0.000300  loss: 0.8468 (0.8625)  loss_box_reg: 0.5942 (0.6513)  loss_objectness: 0.1392 (0.1394)  loss_rpn_box_reg: 0.0744 (0.0718)  time: 0.8685  data: 0.3058  max mem: 6143\n",
      "Training Epoch: [16]  [ 90/250]  eta: 0:02:19  lr: 0.000300  loss: 0.8270 (0.8509)  loss_box_reg: 0.5969 (0.6404)  loss_objectness: 0.1381 (0.1389)  loss_rpn_box_reg: 0.0651 (0.0716)  time: 0.8745  data: 0.3011  max mem: 6143\n",
      "Training Epoch: [16]  [100/250]  eta: 0:02:10  lr: 0.000300  loss: 0.7929 (0.8470)  loss_box_reg: 0.5969 (0.6375)  loss_objectness: 0.1354 (0.1390)  loss_rpn_box_reg: 0.0630 (0.0705)  time: 0.8775  data: 0.3036  max mem: 6143\n",
      "Training Epoch: [16]  [110/250]  eta: 0:02:02  lr: 0.000300  loss: 0.8167 (0.8463)  loss_box_reg: 0.6045 (0.6388)  loss_objectness: 0.1315 (0.1379)  loss_rpn_box_reg: 0.0628 (0.0696)  time: 0.8890  data: 0.3027  max mem: 6143\n",
      "Training Epoch: [16]  [120/250]  eta: 0:01:53  lr: 0.000300  loss: 0.8260 (0.8430)  loss_box_reg: 0.6408 (0.6353)  loss_objectness: 0.1373 (0.1386)  loss_rpn_box_reg: 0.0613 (0.0690)  time: 0.8775  data: 0.3054  max mem: 6143\n",
      "Training Epoch: [16]  [130/250]  eta: 0:01:44  lr: 0.000300  loss: 0.8075 (0.8384)  loss_box_reg: 0.5685 (0.6299)  loss_objectness: 0.1452 (0.1389)  loss_rpn_box_reg: 0.0691 (0.0697)  time: 0.8595  data: 0.3074  max mem: 6143\n",
      "Training Epoch: [16]  [140/250]  eta: 0:01:35  lr: 0.000300  loss: 0.8069 (0.8380)  loss_box_reg: 0.5353 (0.6289)  loss_objectness: 0.1374 (0.1391)  loss_rpn_box_reg: 0.0769 (0.0700)  time: 0.8735  data: 0.3074  max mem: 6143\n",
      "Training Epoch: [16]  [150/250]  eta: 0:01:27  lr: 0.000300  loss: 0.8130 (0.8387)  loss_box_reg: 0.6150 (0.6291)  loss_objectness: 0.1374 (0.1391)  loss_rpn_box_reg: 0.0759 (0.0704)  time: 0.8685  data: 0.3063  max mem: 6143\n",
      "Training Epoch: [16]  [160/250]  eta: 0:01:18  lr: 0.000300  loss: 0.8130 (0.8374)  loss_box_reg: 0.5929 (0.6273)  loss_objectness: 0.1439 (0.1393)  loss_rpn_box_reg: 0.0761 (0.0708)  time: 0.8552  data: 0.3073  max mem: 6143\n",
      "Training Epoch: [16]  [170/250]  eta: 0:01:09  lr: 0.000300  loss: 0.7728 (0.8388)  loss_box_reg: 0.5388 (0.6283)  loss_objectness: 0.1408 (0.1393)  loss_rpn_box_reg: 0.0710 (0.0712)  time: 0.8775  data: 0.3098  max mem: 6143\n",
      "Training Epoch: [16]  [180/250]  eta: 0:01:00  lr: 0.000300  loss: 0.7974 (0.8409)  loss_box_reg: 0.6059 (0.6306)  loss_objectness: 0.1318 (0.1391)  loss_rpn_box_reg: 0.0634 (0.0712)  time: 0.8797  data: 0.3050  max mem: 6143\n",
      "Training Epoch: [16]  [190/250]  eta: 0:00:52  lr: 0.000300  loss: 0.8328 (0.8452)  loss_box_reg: 0.6200 (0.6340)  loss_objectness: 0.1332 (0.1391)  loss_rpn_box_reg: 0.0832 (0.0720)  time: 0.8571  data: 0.3022  max mem: 6143\n",
      "Training Epoch: [16]  [200/250]  eta: 0:00:43  lr: 0.000300  loss: 0.8328 (0.8436)  loss_box_reg: 0.6212 (0.6319)  loss_objectness: 0.1439 (0.1395)  loss_rpn_box_reg: 0.0816 (0.0722)  time: 0.8595  data: 0.3066  max mem: 6143\n",
      "Training Epoch: [16]  [210/250]  eta: 0:00:34  lr: 0.000300  loss: 0.8259 (0.8465)  loss_box_reg: 0.6212 (0.6337)  loss_objectness: 0.1473 (0.1402)  loss_rpn_box_reg: 0.0789 (0.0726)  time: 0.8524  data: 0.3050  max mem: 6143\n",
      "Training Epoch: [16]  [220/250]  eta: 0:00:26  lr: 0.000300  loss: 0.8126 (0.8467)  loss_box_reg: 0.5738 (0.6341)  loss_objectness: 0.1447 (0.1404)  loss_rpn_box_reg: 0.0648 (0.0722)  time: 0.8625  data: 0.3014  max mem: 6143\n",
      "Training Epoch: [16]  [230/250]  eta: 0:00:17  lr: 0.000300  loss: 0.8328 (0.8469)  loss_box_reg: 0.6099 (0.6328)  loss_objectness: 0.1460 (0.1412)  loss_rpn_box_reg: 0.0711 (0.0728)  time: 0.8810  data: 0.3079  max mem: 6143\n",
      "Training Epoch: [16]  [240/250]  eta: 0:00:08  lr: 0.000300  loss: 0.8765 (0.8485)  loss_box_reg: 0.6428 (0.6346)  loss_objectness: 0.1489 (0.1410)  loss_rpn_box_reg: 0.0769 (0.0730)  time: 0.8640  data: 0.3052  max mem: 6143\n",
      "Training Epoch: [16]  [249/250]  eta: 0:00:00  lr: 0.000300  loss: 0.9063 (0.8494)  loss_box_reg: 0.6899 (0.6356)  loss_objectness: 0.1359 (0.1409)  loss_rpn_box_reg: 0.0638 (0.0729)  time: 0.8651  data: 0.3017  max mem: 6143\n",
      "Training Epoch: [16] Total time: 0:03:37 (0.8688 s / it)\n",
      "Testing Epoch: [16]  [ 0/62]  eta: 0:00:50  lr: 0.000300  loss: 0.8481 (0.8481)  loss_box_reg: 0.6104 (0.6104)  loss_objectness: 0.1605 (0.1605)  loss_rpn_box_reg: 0.0773 (0.0773)  time: 0.8203  data: 0.3121  max mem: 6143\n",
      "Testing Epoch: [16]  [61/62]  eta: 0:00:00  lr: 0.000300  loss: 0.9777 (0.9880)  loss_box_reg: 0.7950 (0.7831)  loss_objectness: 0.1193 (0.1260)  loss_rpn_box_reg: 0.0688 (0.0789)  time: 0.8040  data: 0.3266  max mem: 6143\n",
      "Testing Epoch: [16] Total time: 0:00:49 (0.8040 s / it)\n",
      "Training Epoch: [17]  [  0/250]  eta: 0:04:23  lr: 0.000300  loss: 0.7403 (0.7403)  loss_box_reg: 0.5318 (0.5318)  loss_objectness: 0.1389 (0.1389)  loss_rpn_box_reg: 0.0696 (0.0696)  time: 1.0535  data: 0.2977  max mem: 6143\n",
      "Training Epoch: [17]  [ 10/250]  eta: 0:03:28  lr: 0.000300  loss: 0.7698 (0.7784)  loss_box_reg: 0.5318 (0.5645)  loss_objectness: 0.1373 (0.1401)  loss_rpn_box_reg: 0.0795 (0.0738)  time: 0.8667  data: 0.3064  max mem: 6143\n",
      "Training Epoch: [17]  [ 20/250]  eta: 0:03:21  lr: 0.000300  loss: 0.8046 (0.8164)  loss_box_reg: 0.5771 (0.6081)  loss_objectness: 0.1352 (0.1370)  loss_rpn_box_reg: 0.0763 (0.0713)  time: 0.8650  data: 0.3115  max mem: 6143\n",
      "Training Epoch: [17]  [ 30/250]  eta: 0:03:11  lr: 0.000300  loss: 0.8195 (0.8076)  loss_box_reg: 0.6054 (0.5975)  loss_objectness: 0.1352 (0.1388)  loss_rpn_box_reg: 0.0758 (0.0713)  time: 0.8745  data: 0.3122  max mem: 6143\n",
      "Training Epoch: [17]  [ 40/250]  eta: 0:03:01  lr: 0.000300  loss: 0.8195 (0.8201)  loss_box_reg: 0.6054 (0.6092)  loss_objectness: 0.1375 (0.1399)  loss_rpn_box_reg: 0.0658 (0.0709)  time: 0.8505  data: 0.3067  max mem: 6143\n",
      "Training Epoch: [17]  [ 50/250]  eta: 0:02:52  lr: 0.000300  loss: 0.8249 (0.8274)  loss_box_reg: 0.6232 (0.6171)  loss_objectness: 0.1336 (0.1385)  loss_rpn_box_reg: 0.0627 (0.0718)  time: 0.8503  data: 0.3050  max mem: 6143\n",
      "Training Epoch: [17]  [ 60/250]  eta: 0:02:44  lr: 0.000300  loss: 0.8273 (0.8354)  loss_box_reg: 0.6629 (0.6251)  loss_objectness: 0.1282 (0.1367)  loss_rpn_box_reg: 0.0610 (0.0736)  time: 0.8768  data: 0.3022  max mem: 6143\n",
      "Training Epoch: [17]  [ 70/250]  eta: 0:02:36  lr: 0.000300  loss: 0.8356 (0.8357)  loss_box_reg: 0.6154 (0.6261)  loss_objectness: 0.1295 (0.1367)  loss_rpn_box_reg: 0.0610 (0.0728)  time: 0.8768  data: 0.3019  max mem: 6143\n",
      "Training Epoch: [17]  [ 80/250]  eta: 0:02:28  lr: 0.000300  loss: 0.8356 (0.8361)  loss_box_reg: 0.6154 (0.6270)  loss_objectness: 0.1369 (0.1372)  loss_rpn_box_reg: 0.0587 (0.0719)  time: 0.8884  data: 0.3055  max mem: 6143\n",
      "Training Epoch: [17]  [ 90/250]  eta: 0:02:19  lr: 0.000300  loss: 0.7664 (0.8266)  loss_box_reg: 0.5885 (0.6179)  loss_objectness: 0.1385 (0.1374)  loss_rpn_box_reg: 0.0604 (0.0713)  time: 0.8912  data: 0.3044  max mem: 6143\n",
      "Training Epoch: [17]  [100/250]  eta: 0:02:10  lr: 0.000300  loss: 0.8069 (0.8289)  loss_box_reg: 0.6203 (0.6204)  loss_objectness: 0.1385 (0.1376)  loss_rpn_box_reg: 0.0604 (0.0709)  time: 0.8655  data: 0.3033  max mem: 6143\n",
      "Training Epoch: [17]  [110/250]  eta: 0:02:01  lr: 0.000300  loss: 0.8815 (0.8305)  loss_box_reg: 0.6573 (0.6200)  loss_objectness: 0.1436 (0.1387)  loss_rpn_box_reg: 0.0683 (0.0719)  time: 0.8540  data: 0.3039  max mem: 6143\n",
      "Training Epoch: [17]  [120/250]  eta: 0:01:53  lr: 0.000300  loss: 0.8815 (0.8332)  loss_box_reg: 0.6573 (0.6222)  loss_objectness: 0.1530 (0.1390)  loss_rpn_box_reg: 0.0683 (0.0720)  time: 0.8622  data: 0.3052  max mem: 6143\n",
      "Training Epoch: [17]  [130/250]  eta: 0:01:44  lr: 0.000300  loss: 0.8790 (0.8349)  loss_box_reg: 0.6465 (0.6230)  loss_objectness: 0.1400 (0.1395)  loss_rpn_box_reg: 0.0713 (0.0725)  time: 0.8847  data: 0.3035  max mem: 6143\n",
      "Training Epoch: [17]  [140/250]  eta: 0:01:36  lr: 0.000300  loss: 0.7605 (0.8282)  loss_box_reg: 0.5609 (0.6175)  loss_objectness: 0.1342 (0.1385)  loss_rpn_box_reg: 0.0762 (0.0722)  time: 0.8963  data: 0.3003  max mem: 6143\n",
      "Training Epoch: [17]  [150/250]  eta: 0:01:27  lr: 0.000300  loss: 0.7393 (0.8233)  loss_box_reg: 0.5504 (0.6126)  loss_objectness: 0.1318 (0.1386)  loss_rpn_box_reg: 0.0765 (0.0721)  time: 0.8778  data: 0.3042  max mem: 6143\n",
      "Training Epoch: [17]  [160/250]  eta: 0:01:18  lr: 0.000300  loss: 0.7868 (0.8240)  loss_box_reg: 0.5504 (0.6114)  loss_objectness: 0.1356 (0.1390)  loss_rpn_box_reg: 0.0805 (0.0735)  time: 0.8605  data: 0.3051  max mem: 6143\n",
      "Training Epoch: [17]  [170/250]  eta: 0:01:09  lr: 0.000300  loss: 0.8052 (0.8205)  loss_box_reg: 0.5447 (0.6076)  loss_objectness: 0.1442 (0.1392)  loss_rpn_box_reg: 0.0825 (0.0738)  time: 0.8630  data: 0.3047  max mem: 6143\n",
      "Training Epoch: [17]  [180/250]  eta: 0:01:01  lr: 0.000300  loss: 0.7808 (0.8204)  loss_box_reg: 0.5447 (0.6069)  loss_objectness: 0.1453 (0.1395)  loss_rpn_box_reg: 0.0746 (0.0740)  time: 0.8745  data: 0.3189  max mem: 6143\n",
      "Training Epoch: [17]  [190/250]  eta: 0:00:52  lr: 0.000300  loss: 0.7808 (0.8190)  loss_box_reg: 0.5595 (0.6051)  loss_objectness: 0.1453 (0.1399)  loss_rpn_box_reg: 0.0729 (0.0740)  time: 0.9000  data: 0.3349  max mem: 6143\n",
      "Training Epoch: [17]  [200/250]  eta: 0:00:43  lr: 0.000300  loss: 0.7896 (0.8214)  loss_box_reg: 0.5763 (0.6069)  loss_objectness: 0.1428 (0.1404)  loss_rpn_box_reg: 0.0729 (0.0741)  time: 0.9030  data: 0.3278  max mem: 6143\n",
      "Training Epoch: [17]  [210/250]  eta: 0:00:35  lr: 0.000300  loss: 0.8369 (0.8238)  loss_box_reg: 0.6049 (0.6085)  loss_objectness: 0.1436 (0.1410)  loss_rpn_box_reg: 0.0755 (0.0744)  time: 0.8875  data: 0.3156  max mem: 6143\n",
      "Training Epoch: [17]  [220/250]  eta: 0:00:26  lr: 0.000300  loss: 0.8269 (0.8215)  loss_box_reg: 0.6049 (0.6067)  loss_objectness: 0.1437 (0.1409)  loss_rpn_box_reg: 0.0734 (0.0739)  time: 0.8770  data: 0.3152  max mem: 6143\n",
      "Training Epoch: [17]  [230/250]  eta: 0:00:17  lr: 0.000300  loss: 0.8407 (0.8252)  loss_box_reg: 0.6013 (0.6103)  loss_objectness: 0.1319 (0.1408)  loss_rpn_box_reg: 0.0642 (0.0741)  time: 0.8670  data: 0.3159  max mem: 6143\n",
      "Training Epoch: [17]  [240/250]  eta: 0:00:08  lr: 0.000300  loss: 0.8407 (0.8221)  loss_box_reg: 0.5945 (0.6082)  loss_objectness: 0.1319 (0.1404)  loss_rpn_box_reg: 0.0660 (0.0735)  time: 0.8695  data: 0.3141  max mem: 6143\n",
      "Training Epoch: [17]  [249/250]  eta: 0:00:00  lr: 0.000300  loss: 0.8082 (0.8230)  loss_box_reg: 0.5894 (0.6096)  loss_objectness: 0.1290 (0.1402)  loss_rpn_box_reg: 0.0552 (0.0732)  time: 0.8670  data: 0.3115  max mem: 6143\n",
      "Training Epoch: [17] Total time: 0:03:38 (0.8750 s / it)\n",
      "Testing Epoch: [17]  [ 0/62]  eta: 0:00:58  lr: 0.000300  loss: 0.8240 (0.8240)  loss_box_reg: 0.5814 (0.5814)  loss_objectness: 0.1597 (0.1597)  loss_rpn_box_reg: 0.0829 (0.0829)  time: 0.9499  data: 0.4402  max mem: 6143\n",
      "Testing Epoch: [17]  [61/62]  eta: 0:00:00  lr: 0.000300  loss: 0.9347 (0.9718)  loss_box_reg: 0.7555 (0.7665)  loss_objectness: 0.1181 (0.1246)  loss_rpn_box_reg: 0.0663 (0.0807)  time: 0.8110  data: 0.3369  max mem: 6143\n",
      "Testing Epoch: [17] Total time: 0:00:50 (0.8108 s / it)\n",
      "Training Epoch: [18]  [  0/250]  eta: 0:04:40  lr: 0.000300  loss: 0.8826 (0.8826)  loss_box_reg: 0.6646 (0.6646)  loss_objectness: 0.1334 (0.1334)  loss_rpn_box_reg: 0.0846 (0.0846)  time: 1.1220  data: 0.2999  max mem: 6143\n",
      "Training Epoch: [18]  [ 10/250]  eta: 0:03:29  lr: 0.000300  loss: 0.8856 (0.8388)  loss_box_reg: 0.6646 (0.6356)  loss_objectness: 0.1334 (0.1397)  loss_rpn_box_reg: 0.0661 (0.0636)  time: 0.8709  data: 0.3090  max mem: 6143\n",
      "Training Epoch: [18]  [ 20/250]  eta: 0:03:17  lr: 0.000300  loss: 0.8856 (0.8466)  loss_box_reg: 0.6737 (0.6471)  loss_objectness: 0.1323 (0.1355)  loss_rpn_box_reg: 0.0650 (0.0641)  time: 0.8444  data: 0.3077  max mem: 6143\n",
      "Training Epoch: [18]  [ 30/250]  eta: 0:03:10  lr: 0.000300  loss: 0.8600 (0.8468)  loss_box_reg: 0.6569 (0.6439)  loss_objectness: 0.1359 (0.1388)  loss_rpn_box_reg: 0.0664 (0.0640)  time: 0.8615  data: 0.3029  max mem: 6143\n",
      "Training Epoch: [18]  [ 40/250]  eta: 0:03:01  lr: 0.000300  loss: 0.8478 (0.8445)  loss_box_reg: 0.6303 (0.6426)  loss_objectness: 0.1283 (0.1364)  loss_rpn_box_reg: 0.0673 (0.0656)  time: 0.8685  data: 0.3024  max mem: 6143\n",
      "Training Epoch: [18]  [ 50/250]  eta: 0:02:53  lr: 0.000300  loss: 0.8812 (0.8468)  loss_box_reg: 0.6422 (0.6424)  loss_objectness: 0.1272 (0.1361)  loss_rpn_box_reg: 0.0740 (0.0683)  time: 0.8729  data: 0.3038  max mem: 6143\n",
      "Training Epoch: [18]  [ 60/250]  eta: 0:02:45  lr: 0.000300  loss: 0.7952 (0.8303)  loss_box_reg: 0.6120 (0.6282)  loss_objectness: 0.1325 (0.1349)  loss_rpn_box_reg: 0.0740 (0.0673)  time: 0.8839  data: 0.3016  max mem: 6143\n",
      "Training Epoch: [18]  [ 70/250]  eta: 0:02:37  lr: 0.000300  loss: 0.7368 (0.8223)  loss_box_reg: 0.5347 (0.6193)  loss_objectness: 0.1269 (0.1352)  loss_rpn_box_reg: 0.0627 (0.0678)  time: 0.8854  data: 0.3018  max mem: 6143\n",
      "Training Epoch: [18]  [ 80/250]  eta: 0:02:28  lr: 0.000300  loss: 0.8512 (0.8416)  loss_box_reg: 0.6521 (0.6382)  loss_objectness: 0.1266 (0.1348)  loss_rpn_box_reg: 0.0641 (0.0686)  time: 0.8787  data: 0.3025  max mem: 6143\n",
      "Training Epoch: [18]  [ 90/250]  eta: 0:02:19  lr: 0.000300  loss: 0.9487 (0.8516)  loss_box_reg: 0.7037 (0.6458)  loss_objectness: 0.1327 (0.1362)  loss_rpn_box_reg: 0.0642 (0.0696)  time: 0.8820  data: 0.3024  max mem: 6143\n",
      "Training Epoch: [18]  [100/250]  eta: 0:02:11  lr: 0.000300  loss: 0.8213 (0.8388)  loss_box_reg: 0.5909 (0.6321)  loss_objectness: 0.1327 (0.1363)  loss_rpn_box_reg: 0.0747 (0.0703)  time: 0.8888  data: 0.3069  max mem: 6143\n",
      "Training Epoch: [18]  [110/250]  eta: 0:02:02  lr: 0.000300  loss: 0.7781 (0.8388)  loss_box_reg: 0.5813 (0.6326)  loss_objectness: 0.1352 (0.1362)  loss_rpn_box_reg: 0.0675 (0.0700)  time: 0.8700  data: 0.3085  max mem: 6143\n",
      "Training Epoch: [18]  [120/250]  eta: 0:01:53  lr: 0.000300  loss: 0.7840 (0.8355)  loss_box_reg: 0.6154 (0.6302)  loss_objectness: 0.1389 (0.1362)  loss_rpn_box_reg: 0.0655 (0.0691)  time: 0.8504  data: 0.3075  max mem: 6143\n",
      "Training Epoch: [18]  [130/250]  eta: 0:01:44  lr: 0.000300  loss: 0.7549 (0.8328)  loss_box_reg: 0.5601 (0.6267)  loss_objectness: 0.1418 (0.1366)  loss_rpn_box_reg: 0.0665 (0.0696)  time: 0.8665  data: 0.3072  max mem: 6143\n",
      "Training Epoch: [18]  [140/250]  eta: 0:01:36  lr: 0.000300  loss: 0.7549 (0.8297)  loss_box_reg: 0.5497 (0.6234)  loss_objectness: 0.1418 (0.1369)  loss_rpn_box_reg: 0.0685 (0.0694)  time: 0.8893  data: 0.3065  max mem: 6143\n",
      "Training Epoch: [18]  [150/250]  eta: 0:01:27  lr: 0.000300  loss: 0.7574 (0.8256)  loss_box_reg: 0.5448 (0.6193)  loss_objectness: 0.1393 (0.1372)  loss_rpn_box_reg: 0.0620 (0.0691)  time: 0.8853  data: 0.3041  max mem: 6143\n",
      "Training Epoch: [18]  [160/250]  eta: 0:01:18  lr: 0.000300  loss: 0.7784 (0.8267)  loss_box_reg: 0.5775 (0.6198)  loss_objectness: 0.1352 (0.1373)  loss_rpn_box_reg: 0.0706 (0.0696)  time: 0.8765  data: 0.3016  max mem: 6143\n",
      "Training Epoch: [18]  [170/250]  eta: 0:01:09  lr: 0.000300  loss: 0.8337 (0.8286)  loss_box_reg: 0.5839 (0.6197)  loss_objectness: 0.1359 (0.1380)  loss_rpn_box_reg: 0.0775 (0.0710)  time: 0.8745  data: 0.3047  max mem: 6143\n",
      "Training Epoch: [18]  [180/250]  eta: 0:01:01  lr: 0.000300  loss: 0.7917 (0.8280)  loss_box_reg: 0.5417 (0.6181)  loss_objectness: 0.1447 (0.1391)  loss_rpn_box_reg: 0.0755 (0.0708)  time: 0.8845  data: 0.3074  max mem: 6143\n",
      "Training Epoch: [18]  [190/250]  eta: 0:00:52  lr: 0.000300  loss: 0.7917 (0.8299)  loss_box_reg: 0.5702 (0.6196)  loss_objectness: 0.1496 (0.1394)  loss_rpn_box_reg: 0.0630 (0.0709)  time: 0.8850  data: 0.3067  max mem: 6143\n",
      "Training Epoch: [18]  [200/250]  eta: 0:00:43  lr: 0.000300  loss: 0.7606 (0.8272)  loss_box_reg: 0.5702 (0.6168)  loss_objectness: 0.1349 (0.1394)  loss_rpn_box_reg: 0.0689 (0.0709)  time: 0.8683  data: 0.3034  max mem: 6143\n",
      "Training Epoch: [18]  [210/250]  eta: 0:00:34  lr: 0.000300  loss: 0.7570 (0.8267)  loss_box_reg: 0.5772 (0.6167)  loss_objectness: 0.1270 (0.1392)  loss_rpn_box_reg: 0.0662 (0.0708)  time: 0.8439  data: 0.3004  max mem: 6143\n",
      "Training Epoch: [18]  [220/250]  eta: 0:00:26  lr: 0.000300  loss: 0.8058 (0.8308)  loss_box_reg: 0.6084 (0.6202)  loss_objectness: 0.1311 (0.1391)  loss_rpn_box_reg: 0.0711 (0.0715)  time: 0.8500  data: 0.3007  max mem: 6143\n",
      "Training Epoch: [18]  [230/250]  eta: 0:00:17  lr: 0.000300  loss: 0.8256 (0.8305)  loss_box_reg: 0.6217 (0.6182)  loss_objectness: 0.1464 (0.1402)  loss_rpn_box_reg: 0.0775 (0.0721)  time: 0.8544  data: 0.3085  max mem: 6143\n",
      "Training Epoch: [18]  [240/250]  eta: 0:00:08  lr: 0.000300  loss: 0.8031 (0.8286)  loss_box_reg: 0.5544 (0.6159)  loss_objectness: 0.1527 (0.1405)  loss_rpn_box_reg: 0.0700 (0.0722)  time: 0.8620  data: 0.3120  max mem: 6143\n",
      "Training Epoch: [18]  [249/250]  eta: 0:00:00  lr: 0.000300  loss: 0.8041 (0.8264)  loss_box_reg: 0.5479 (0.6135)  loss_objectness: 0.1468 (0.1408)  loss_rpn_box_reg: 0.0635 (0.0721)  time: 0.8620  data: 0.3075  max mem: 6143\n",
      "Training Epoch: [18] Total time: 0:03:37 (0.8702 s / it)\n",
      "Testing Epoch: [18]  [ 0/62]  eta: 0:00:50  lr: 0.000300  loss: 0.7540 (0.7540)  loss_box_reg: 0.5188 (0.5188)  loss_objectness: 0.1559 (0.1559)  loss_rpn_box_reg: 0.0793 (0.0793)  time: 0.8201  data: 0.3101  max mem: 6143\n",
      "Testing Epoch: [18]  [61/62]  eta: 0:00:00  lr: 0.000300  loss: 0.8855 (0.9276)  loss_box_reg: 0.7025 (0.7203)  loss_objectness: 0.1161 (0.1266)  loss_rpn_box_reg: 0.0684 (0.0808)  time: 0.7985  data: 0.3256  max mem: 6143\n",
      "Testing Epoch: [18] Total time: 0:00:49 (0.7995 s / it)\n",
      "Training Epoch: [19]  [  0/250]  eta: 0:05:04  lr: 0.000300  loss: 0.5597 (0.5597)  loss_box_reg: 0.3718 (0.3718)  loss_objectness: 0.1312 (0.1312)  loss_rpn_box_reg: 0.0567 (0.0567)  time: 1.2199  data: 0.3119  max mem: 6143\n",
      "Training Epoch: [19]  [ 10/250]  eta: 0:03:35  lr: 0.000300  loss: 0.8246 (0.8230)  loss_box_reg: 0.6473 (0.5969)  loss_objectness: 0.1382 (0.1413)  loss_rpn_box_reg: 0.0945 (0.0848)  time: 0.9000  data: 0.3030  max mem: 6143\n",
      "Training Epoch: [19]  [ 20/250]  eta: 0:03:19  lr: 0.000300  loss: 0.8246 (0.8102)  loss_box_reg: 0.6475 (0.6071)  loss_objectness: 0.1305 (0.1344)  loss_rpn_box_reg: 0.0613 (0.0687)  time: 0.8500  data: 0.3021  max mem: 6143\n",
      "Training Epoch: [19]  [ 30/250]  eta: 0:03:11  lr: 0.000300  loss: 0.8189 (0.8128)  loss_box_reg: 0.6269 (0.6029)  loss_objectness: 0.1324 (0.1382)  loss_rpn_box_reg: 0.0613 (0.0718)  time: 0.8565  data: 0.3110  max mem: 6143\n",
      "Training Epoch: [19]  [ 40/250]  eta: 0:03:04  lr: 0.000300  loss: 0.7386 (0.8111)  loss_box_reg: 0.4919 (0.6033)  loss_objectness: 0.1491 (0.1392)  loss_rpn_box_reg: 0.0674 (0.0687)  time: 0.8900  data: 0.3128  max mem: 6143\n",
      "Training Epoch: [19]  [ 50/250]  eta: 0:02:55  lr: 0.000300  loss: 0.7119 (0.7905)  loss_box_reg: 0.4899 (0.5852)  loss_objectness: 0.1401 (0.1386)  loss_rpn_box_reg: 0.0510 (0.0668)  time: 0.8820  data: 0.3041  max mem: 6143\n",
      "Training Epoch: [19]  [ 60/250]  eta: 0:02:46  lr: 0.000300  loss: 0.6888 (0.7849)  loss_box_reg: 0.4915 (0.5803)  loss_objectness: 0.1344 (0.1372)  loss_rpn_box_reg: 0.0551 (0.0674)  time: 0.8705  data: 0.3056  max mem: 6143\n",
      "Training Epoch: [19]  [ 70/250]  eta: 0:02:38  lr: 0.000300  loss: 0.8039 (0.7981)  loss_box_reg: 0.6107 (0.5920)  loss_objectness: 0.1354 (0.1372)  loss_rpn_box_reg: 0.0702 (0.0689)  time: 0.8944  data: 0.3065  max mem: 6143\n",
      "Training Epoch: [19]  [ 80/250]  eta: 0:02:29  lr: 0.000300  loss: 0.8409 (0.8003)  loss_box_reg: 0.6346 (0.5919)  loss_objectness: 0.1396 (0.1377)  loss_rpn_box_reg: 0.0809 (0.0707)  time: 0.8865  data: 0.3075  max mem: 6143\n",
      "Training Epoch: [19]  [ 90/250]  eta: 0:02:21  lr: 0.000300  loss: 0.8141 (0.8072)  loss_box_reg: 0.5599 (0.5984)  loss_objectness: 0.1340 (0.1382)  loss_rpn_box_reg: 0.0767 (0.0706)  time: 0.8847  data: 0.3131  max mem: 6143\n",
      "Training Epoch: [19]  [100/250]  eta: 0:02:12  lr: 0.000300  loss: 0.8347 (0.8044)  loss_box_reg: 0.5753 (0.5963)  loss_objectness: 0.1342 (0.1382)  loss_rpn_box_reg: 0.0652 (0.0699)  time: 0.8915  data: 0.3122  max mem: 6143\n",
      "Training Epoch: [19]  [110/250]  eta: 0:02:03  lr: 0.000300  loss: 0.7685 (0.7996)  loss_box_reg: 0.5560 (0.5916)  loss_objectness: 0.1351 (0.1382)  loss_rpn_box_reg: 0.0646 (0.0698)  time: 0.8734  data: 0.3067  max mem: 6143\n",
      "Training Epoch: [19]  [120/250]  eta: 0:01:54  lr: 0.000300  loss: 0.8218 (0.8080)  loss_box_reg: 0.6178 (0.5988)  loss_objectness: 0.1323 (0.1387)  loss_rpn_box_reg: 0.0658 (0.0704)  time: 0.8660  data: 0.3068  max mem: 6143\n",
      "Training Epoch: [19]  [130/250]  eta: 0:01:45  lr: 0.000300  loss: 0.8479 (0.8096)  loss_box_reg: 0.6356 (0.6002)  loss_objectness: 0.1383 (0.1388)  loss_rpn_box_reg: 0.0720 (0.0706)  time: 0.8716  data: 0.3076  max mem: 6143\n",
      "Training Epoch: [19]  [140/250]  eta: 0:01:36  lr: 0.000300  loss: 0.8207 (0.8119)  loss_box_reg: 0.6198 (0.6018)  loss_objectness: 0.1383 (0.1396)  loss_rpn_box_reg: 0.0720 (0.0705)  time: 0.8475  data: 0.3027  max mem: 6143\n",
      "Training Epoch: [19]  [150/250]  eta: 0:01:27  lr: 0.000300  loss: 0.8087 (0.8114)  loss_box_reg: 0.5994 (0.6012)  loss_objectness: 0.1355 (0.1395)  loss_rpn_box_reg: 0.0670 (0.0706)  time: 0.8484  data: 0.3042  max mem: 6143\n",
      "Training Epoch: [19]  [160/250]  eta: 0:01:18  lr: 0.000300  loss: 0.7829 (0.8115)  loss_box_reg: 0.5666 (0.6024)  loss_objectness: 0.1348 (0.1390)  loss_rpn_box_reg: 0.0621 (0.0701)  time: 0.8600  data: 0.3032  max mem: 6143\n",
      "Training Epoch: [19]  [170/250]  eta: 0:01:09  lr: 0.000300  loss: 0.7725 (0.8110)  loss_box_reg: 0.5694 (0.6023)  loss_objectness: 0.1314 (0.1388)  loss_rpn_box_reg: 0.0611 (0.0699)  time: 0.8540  data: 0.2987  max mem: 6143\n",
      "Training Epoch: [19]  [180/250]  eta: 0:01:01  lr: 0.000300  loss: 0.7728 (0.8122)  loss_box_reg: 0.5694 (0.6032)  loss_objectness: 0.1380 (0.1390)  loss_rpn_box_reg: 0.0615 (0.0700)  time: 0.8670  data: 0.3000  max mem: 6143\n",
      "Training Epoch: [19]  [190/250]  eta: 0:00:52  lr: 0.000300  loss: 0.7947 (0.8142)  loss_box_reg: 0.6004 (0.6047)  loss_objectness: 0.1344 (0.1388)  loss_rpn_box_reg: 0.0695 (0.0707)  time: 0.8800  data: 0.3055  max mem: 6143\n",
      "Training Epoch: [19]  [200/250]  eta: 0:00:43  lr: 0.000300  loss: 0.8026 (0.8162)  loss_box_reg: 0.6004 (0.6077)  loss_objectness: 0.1230 (0.1377)  loss_rpn_box_reg: 0.0736 (0.0708)  time: 0.9030  data: 0.3082  max mem: 6143\n",
      "Training Epoch: [19]  [210/250]  eta: 0:00:35  lr: 0.000300  loss: 0.8629 (0.8176)  loss_box_reg: 0.6515 (0.6082)  loss_objectness: 0.1231 (0.1384)  loss_rpn_box_reg: 0.0736 (0.0711)  time: 0.9115  data: 0.3029  max mem: 6143\n",
      "Training Epoch: [19]  [220/250]  eta: 0:00:26  lr: 0.000300  loss: 0.8722 (0.8193)  loss_box_reg: 0.6515 (0.6093)  loss_objectness: 0.1404 (0.1386)  loss_rpn_box_reg: 0.0785 (0.0714)  time: 0.9097  data: 0.3083  max mem: 6143\n",
      "Training Epoch: [19]  [230/250]  eta: 0:00:17  lr: 0.000300  loss: 0.8525 (0.8204)  loss_box_reg: 0.6278 (0.6099)  loss_objectness: 0.1397 (0.1387)  loss_rpn_box_reg: 0.0798 (0.0718)  time: 0.8850  data: 0.3121  max mem: 6143\n",
      "Training Epoch: [19]  [240/250]  eta: 0:00:08  lr: 0.000300  loss: 0.8257 (0.8200)  loss_box_reg: 0.6096 (0.6096)  loss_objectness: 0.1395 (0.1387)  loss_rpn_box_reg: 0.0776 (0.0717)  time: 0.8692  data: 0.3070  max mem: 6143\n",
      "Training Epoch: [19]  [249/250]  eta: 0:00:00  lr: 0.000300  loss: 0.7354 (0.8175)  loss_box_reg: 0.5090 (0.6064)  loss_objectness: 0.1415 (0.1391)  loss_rpn_box_reg: 0.0762 (0.0720)  time: 0.8664  data: 0.3066  max mem: 6143\n",
      "Training Epoch: [19] Total time: 0:03:39 (0.8767 s / it)\n",
      "Testing Epoch: [19]  [ 0/62]  eta: 0:00:53  lr: 0.000300  loss: 0.7118 (0.7118)  loss_box_reg: 0.4648 (0.4648)  loss_objectness: 0.1572 (0.1572)  loss_rpn_box_reg: 0.0897 (0.0897)  time: 0.8660  data: 0.3261  max mem: 6143\n",
      "Testing Epoch: [19]  [61/62]  eta: 0:00:00  lr: 0.000300  loss: 0.9296 (0.9618)  loss_box_reg: 0.7834 (0.7553)  loss_objectness: 0.1106 (0.1242)  loss_rpn_box_reg: 0.0642 (0.0823)  time: 0.8125  data: 0.3297  max mem: 6143\n",
      "Testing Epoch: [19] Total time: 0:00:50 (0.8170 s / it)\n",
      "Training Epoch: [20]  [  0/250]  eta: 0:04:12  lr: 0.000300  loss: 0.7462 (0.7462)  loss_box_reg: 0.5895 (0.5895)  loss_objectness: 0.1042 (0.1042)  loss_rpn_box_reg: 0.0524 (0.0524)  time: 1.0095  data: 0.3003  max mem: 6143\n",
      "Training Epoch: [20]  [ 10/250]  eta: 0:03:35  lr: 0.000300  loss: 0.7531 (0.8038)  loss_box_reg: 0.5862 (0.6205)  loss_objectness: 0.1213 (0.1204)  loss_rpn_box_reg: 0.0547 (0.0629)  time: 0.8981  data: 0.3093  max mem: 6143\n",
      "Training Epoch: [20]  [ 20/250]  eta: 0:03:19  lr: 0.000300  loss: 0.7706 (0.7987)  loss_box_reg: 0.5785 (0.6034)  loss_objectness: 0.1232 (0.1270)  loss_rpn_box_reg: 0.0609 (0.0683)  time: 0.8625  data: 0.3050  max mem: 6143\n",
      "Training Epoch: [20]  [ 30/250]  eta: 0:03:12  lr: 0.000300  loss: 0.7706 (0.7913)  loss_box_reg: 0.5785 (0.5961)  loss_objectness: 0.1268 (0.1271)  loss_rpn_box_reg: 0.0627 (0.0681)  time: 0.8620  data: 0.3094  max mem: 6143\n",
      "Training Epoch: [20]  [ 40/250]  eta: 0:03:02  lr: 0.000300  loss: 0.7987 (0.7958)  loss_box_reg: 0.6057 (0.5989)  loss_objectness: 0.1268 (0.1282)  loss_rpn_box_reg: 0.0582 (0.0687)  time: 0.8720  data: 0.3134  max mem: 6143\n",
      "Training Epoch: [20]  [ 50/250]  eta: 0:02:54  lr: 0.000300  loss: 0.7829 (0.7786)  loss_box_reg: 0.5711 (0.5793)  loss_objectness: 0.1353 (0.1308)  loss_rpn_box_reg: 0.0542 (0.0685)  time: 0.8675  data: 0.3103  max mem: 6143\n",
      "Training Epoch: [20]  [ 60/250]  eta: 0:02:45  lr: 0.000300  loss: 0.7717 (0.7869)  loss_box_reg: 0.5700 (0.5863)  loss_objectness: 0.1357 (0.1322)  loss_rpn_box_reg: 0.0582 (0.0684)  time: 0.8675  data: 0.3090  max mem: 6143\n",
      "Training Epoch: [20]  [ 70/250]  eta: 0:02:36  lr: 0.000300  loss: 0.8094 (0.7900)  loss_box_reg: 0.5708 (0.5889)  loss_objectness: 0.1356 (0.1329)  loss_rpn_box_reg: 0.0591 (0.0682)  time: 0.8725  data: 0.3093  max mem: 6143\n",
      "Training Epoch: [20]  [ 80/250]  eta: 0:02:28  lr: 0.000300  loss: 0.8497 (0.8009)  loss_box_reg: 0.6374 (0.5968)  loss_objectness: 0.1468 (0.1354)  loss_rpn_box_reg: 0.0683 (0.0688)  time: 0.8740  data: 0.3074  max mem: 6143\n",
      "Training Epoch: [20]  [ 90/250]  eta: 0:02:19  lr: 0.000300  loss: 0.8791 (0.8053)  loss_box_reg: 0.6410 (0.5978)  loss_objectness: 0.1445 (0.1363)  loss_rpn_box_reg: 0.0838 (0.0712)  time: 0.8780  data: 0.3026  max mem: 6143\n",
      "Training Epoch: [20]  [100/250]  eta: 0:02:11  lr: 0.000300  loss: 0.8594 (0.8085)  loss_box_reg: 0.5791 (0.5997)  loss_objectness: 0.1399 (0.1363)  loss_rpn_box_reg: 0.0932 (0.0725)  time: 0.8910  data: 0.3048  max mem: 6143\n",
      "Training Epoch: [20]  [110/250]  eta: 0:02:02  lr: 0.000300  loss: 0.7905 (0.8084)  loss_box_reg: 0.5929 (0.6013)  loss_objectness: 0.1300 (0.1357)  loss_rpn_box_reg: 0.0641 (0.0714)  time: 0.8655  data: 0.3093  max mem: 6143\n",
      "Training Epoch: [20]  [120/250]  eta: 0:01:53  lr: 0.000300  loss: 0.7905 (0.8106)  loss_box_reg: 0.5929 (0.6024)  loss_objectness: 0.1406 (0.1364)  loss_rpn_box_reg: 0.0599 (0.0717)  time: 0.8615  data: 0.3104  max mem: 6143\n",
      "Training Epoch: [20]  [130/250]  eta: 0:01:44  lr: 0.000300  loss: 0.7857 (0.8070)  loss_box_reg: 0.5365 (0.5992)  loss_objectness: 0.1406 (0.1371)  loss_rpn_box_reg: 0.0585 (0.0707)  time: 0.8565  data: 0.3067  max mem: 6143\n",
      "Training Epoch: [20]  [140/250]  eta: 0:01:35  lr: 0.000300  loss: 0.7541 (0.8100)  loss_box_reg: 0.5658 (0.6021)  loss_objectness: 0.1354 (0.1370)  loss_rpn_box_reg: 0.0603 (0.0709)  time: 0.8450  data: 0.3041  max mem: 6143\n",
      "Training Epoch: [20]  [150/250]  eta: 0:01:26  lr: 0.000300  loss: 0.8273 (0.8162)  loss_box_reg: 0.6084 (0.6083)  loss_objectness: 0.1316 (0.1369)  loss_rpn_box_reg: 0.0714 (0.0711)  time: 0.8552  data: 0.3047  max mem: 6143\n",
      "Training Epoch: [20]  [160/250]  eta: 0:01:18  lr: 0.000300  loss: 0.7887 (0.8159)  loss_box_reg: 0.6189 (0.6065)  loss_objectness: 0.1368 (0.1378)  loss_rpn_box_reg: 0.0786 (0.0716)  time: 0.8750  data: 0.3092  max mem: 6143\n",
      "Training Epoch: [20]  [170/250]  eta: 0:01:09  lr: 0.000300  loss: 0.7144 (0.8100)  loss_box_reg: 0.5028 (0.6006)  loss_objectness: 0.1441 (0.1381)  loss_rpn_box_reg: 0.0719 (0.0713)  time: 0.8908  data: 0.3081  max mem: 6143\n",
      "Training Epoch: [20]  [180/250]  eta: 0:01:00  lr: 0.000300  loss: 0.7314 (0.8099)  loss_box_reg: 0.5315 (0.6003)  loss_objectness: 0.1426 (0.1383)  loss_rpn_box_reg: 0.0677 (0.0714)  time: 0.8845  data: 0.3062  max mem: 6143\n",
      "Training Epoch: [20]  [190/250]  eta: 0:00:52  lr: 0.000300  loss: 0.8030 (0.8137)  loss_box_reg: 0.6079 (0.6042)  loss_objectness: 0.1336 (0.1381)  loss_rpn_box_reg: 0.0686 (0.0714)  time: 0.8890  data: 0.3051  max mem: 6143\n",
      "Training Epoch: [20]  [200/250]  eta: 0:00:43  lr: 0.000300  loss: 0.8622 (0.8182)  loss_box_reg: 0.6562 (0.6065)  loss_objectness: 0.1482 (0.1393)  loss_rpn_box_reg: 0.0719 (0.0724)  time: 0.8800  data: 0.3080  max mem: 6143\n",
      "Training Epoch: [20]  [210/250]  eta: 0:00:34  lr: 0.000300  loss: 0.8495 (0.8200)  loss_box_reg: 0.6489 (0.6088)  loss_objectness: 0.1387 (0.1390)  loss_rpn_box_reg: 0.0752 (0.0722)  time: 0.8811  data: 0.3123  max mem: 6143\n",
      "Training Epoch: [20]  [220/250]  eta: 0:00:26  lr: 0.000300  loss: 0.8364 (0.8188)  loss_box_reg: 0.6230 (0.6067)  loss_objectness: 0.1375 (0.1395)  loss_rpn_box_reg: 0.0738 (0.0726)  time: 0.9014  data: 0.3096  max mem: 6143\n",
      "Training Epoch: [20]  [230/250]  eta: 0:00:17  lr: 0.000300  loss: 0.8328 (0.8197)  loss_box_reg: 0.6021 (0.6071)  loss_objectness: 0.1432 (0.1397)  loss_rpn_box_reg: 0.0725 (0.0729)  time: 0.8887  data: 0.3085  max mem: 6143\n",
      "Training Epoch: [20]  [240/250]  eta: 0:00:08  lr: 0.000300  loss: 0.8328 (0.8213)  loss_box_reg: 0.6309 (0.6085)  loss_objectness: 0.1377 (0.1399)  loss_rpn_box_reg: 0.0725 (0.0729)  time: 0.8620  data: 0.3055  max mem: 6143\n",
      "Training Epoch: [20]  [249/250]  eta: 0:00:00  lr: 0.000300  loss: 0.7206 (0.8199)  loss_box_reg: 0.5394 (0.6076)  loss_objectness: 0.1361 (0.1399)  loss_rpn_box_reg: 0.0595 (0.0724)  time: 0.8633  data: 0.3040  max mem: 6143\n",
      "Training Epoch: [20] Total time: 0:03:38 (0.8736 s / it)\n",
      "creating index...\n",
      "index created!\n",
      "Test:  [ 0/62]  eta: 0:01:02  model_time: 0.6476 (0.6476)  evaluator_time: 0.0380 (0.0380)  time: 1.0037  data: 0.3021  max mem: 6143\n",
      "Test:  [61/62]  eta: 0:00:00  model_time: 0.3171 (0.3230)  evaluator_time: 0.0260 (0.0320)  time: 0.6681  data: 0.3114  max mem: 6143\n",
      "Test: Total time: 0:00:41 (0.6753 s / it)\n",
      "Averaged stats: model_time: 0.3171 (0.3230)  evaluator_time: 0.0260 (0.0320)\n",
      "Accumulating evaluation results...\n",
      "DONE (t=0.64s).\n",
      "IoU metric: bbox\n",
      " Average Precision  (AP) @[ IoU=0.50:0.95 | area=   all | maxDets=100 ] = 0.013\n",
      " Average Precision  (AP) @[ IoU=0.50      | area=   all | maxDets=100 ] = 0.051\n",
      " Average Precision  (AP) @[ IoU=0.75      | area=   all | maxDets=100 ] = 0.003\n",
      " Average Precision  (AP) @[ IoU=0.50:0.95 | area= small | maxDets=100 ] = 0.002\n",
      " Average Precision  (AP) @[ IoU=0.50:0.95 | area=medium | maxDets=100 ] = 0.010\n",
      " Average Precision  (AP) @[ IoU=0.50:0.95 | area= large | maxDets=100 ] = 0.022\n",
      " Average Recall     (AR) @[ IoU=0.50:0.95 | area=   all | maxDets=  1 ] = 0.023\n",
      " Average Recall     (AR) @[ IoU=0.50:0.95 | area=   all | maxDets= 10 ] = 0.040\n",
      " Average Recall     (AR) @[ IoU=0.50:0.95 | area=   all | maxDets=100 ] = 0.041\n",
      " Average Recall     (AR) @[ IoU=0.50:0.95 | area= small | maxDets=100 ] = 0.004\n",
      " Average Recall     (AR) @[ IoU=0.50:0.95 | area=medium | maxDets=100 ] = 0.020\n",
      " Average Recall     (AR) @[ IoU=0.50:0.95 | area= large | maxDets=100 ] = 0.069\n",
      "Testing Epoch: [20]  [ 0/62]  eta: 0:00:51  lr: 0.000300  loss: 0.8009 (0.8009)  loss_box_reg: 0.5466 (0.5466)  loss_objectness: 0.1648 (0.1648)  loss_rpn_box_reg: 0.0895 (0.0895)  time: 0.8262  data: 0.3181  max mem: 6143\n",
      "Testing Epoch: [20]  [61/62]  eta: 0:00:00  lr: 0.000300  loss: 0.9422 (0.9273)  loss_box_reg: 0.7149 (0.7169)  loss_objectness: 0.1189 (0.1292)  loss_rpn_box_reg: 0.0657 (0.0812)  time: 0.7969  data: 0.3223  max mem: 6143\n",
      "Testing Epoch: [20] Total time: 0:00:49 (0.8006 s / it)\n",
      "Training Epoch: [21]  [  0/250]  eta: 0:04:45  lr: 0.000300  loss: 1.2089 (1.2089)  loss_box_reg: 1.0212 (1.0212)  loss_objectness: 0.1136 (0.1136)  loss_rpn_box_reg: 0.0740 (0.0740)  time: 1.1433  data: 0.3021  max mem: 6143\n",
      "Training Epoch: [21]  [ 10/250]  eta: 0:03:32  lr: 0.000300  loss: 0.8483 (0.8416)  loss_box_reg: 0.6330 (0.6419)  loss_objectness: 0.1274 (0.1352)  loss_rpn_box_reg: 0.0605 (0.0645)  time: 0.8844  data: 0.3076  max mem: 6143\n",
      "Training Epoch: [21]  [ 20/250]  eta: 0:03:21  lr: 0.000300  loss: 0.7975 (0.7979)  loss_box_reg: 0.6224 (0.5976)  loss_objectness: 0.1274 (0.1356)  loss_rpn_box_reg: 0.0605 (0.0646)  time: 0.8619  data: 0.3058  max mem: 6143\n",
      "Training Epoch: [21]  [ 30/250]  eta: 0:03:13  lr: 0.000300  loss: 0.7819 (0.7877)  loss_box_reg: 0.5052 (0.5846)  loss_objectness: 0.1290 (0.1349)  loss_rpn_box_reg: 0.0666 (0.0682)  time: 0.8775  data: 0.3084  max mem: 6143\n",
      "Training Epoch: [21]  [ 40/250]  eta: 0:03:04  lr: 0.000300  loss: 0.7819 (0.7810)  loss_box_reg: 0.5362 (0.5767)  loss_objectness: 0.1325 (0.1356)  loss_rpn_box_reg: 0.0711 (0.0687)  time: 0.8856  data: 0.3186  max mem: 6143\n",
      "Training Epoch: [21]  [ 50/250]  eta: 0:02:54  lr: 0.000300  loss: 0.7763 (0.7809)  loss_box_reg: 0.6023 (0.5791)  loss_objectness: 0.1225 (0.1337)  loss_rpn_box_reg: 0.0602 (0.0681)  time: 0.8588  data: 0.3102  max mem: 6143\n",
      "Training Epoch: [21]  [ 60/250]  eta: 0:02:45  lr: 0.000300  loss: 0.7025 (0.7691)  loss_box_reg: 0.5172 (0.5694)  loss_objectness: 0.1245 (0.1334)  loss_rpn_box_reg: 0.0602 (0.0664)  time: 0.8491  data: 0.3063  max mem: 6143\n",
      "Training Epoch: [21]  [ 70/250]  eta: 0:02:36  lr: 0.000300  loss: 0.7250 (0.7773)  loss_box_reg: 0.5250 (0.5763)  loss_objectness: 0.1282 (0.1331)  loss_rpn_box_reg: 0.0607 (0.0679)  time: 0.8615  data: 0.3107  max mem: 6143\n"
     ]
    }
   ],
   "source": [
    "MODEL_TYPE='CLIP-FRCNN'\n",
    "# CLIP-Backbone-FRCNN creates a FRCNN using CLIP features as the model backbone\n",
    "# CLIP-FRCNN creates a FRCNN using CLIP features as the model backbone, and embeds the rois using CLIP's embedding\n",
    "# Fully custom vanilla uses a pre-trained resnet50 backbone, and generates new anchor generator and roi pooling\n",
    "# Custom-Vanilla uses the pre-trained FRCNN from pytorch and replaces the roi heads only\n",
    "#\n",
    "import clip\n",
    "text_tokens = clip.tokenize([\"This is \" + desc for desc in item_list]).cuda()\n",
    "\n",
    "model = create_model(MODEL_TYPE, text_tokens)\n",
    "test = False\n",
    "\n",
    "# print(model)\n",
    "# print(f'rpn nms thresh: {model.rpn.nms_thresh}')\n",
    "\n",
    "if test:\n",
    "    train_model(model, evaluation_dataset, evaluation_dataset, num_epochs=config.NUM_EPOCHS, MODEL_TYPE=MODEL_TYPE, batch_size=2)\n",
    "else:\n",
    "    train_model(model, train_dataset, evaluation_dataset, num_epochs=config.NUM_EPOCHS, MODEL_TYPE=MODEL_TYPE, batch_size=16, CONTINUE_TRAINING=False)\n",
    "\n",
    "#started at 0941 on 22 March 2022"
   ],
   "metadata": {
    "collapsed": false,
    "pycharm": {
     "name": "#%%\n",
     "is_executing": true
    }
   }
  },
  {
   "cell_type": "code",
   "execution_count": null,
   "metadata": {
    "pycharm": {
     "name": "#%%\n",
     "is_executing": true
    }
   },
   "outputs": [],
   "source": [
    "MODEL_TYPE='CLIP-Backbone-FRCNN'\n",
    "\n",
    "model = create_model(MODEL_TYPE, classes=item_list)\n",
    "test = True\n",
    "\n",
    "if test:\n",
    "    train_model(model, evaluation_dataset, evaluation_dataset, num_epochs=config.NUM_EPOCHS, MODEL_TYPE=MODEL_TYPE, batch_size=2)\n",
    "else:\n",
    "    train_model(model, train_dataset, evaluation_dataset, num_epochs=config.NUM_EPOCHS, MODEL_TYPE=MODEL_TYPE, batch_size=16)"
   ]
  },
  {
   "cell_type": "code",
   "execution_count": null,
   "metadata": {
    "colab": {
     "base_uri": "https://localhost:8080/",
     "height": 103,
     "referenced_widgets": [
      "acbb3df601244291b8b2fb9ea1137573",
      "32b6ec3046e64d04b4134553dc434fe0",
      "d8c6a316609d4ca5bfee139b93177ef5",
      "a1645bdfb02b42fba268f7000f183639",
      "4a4788a4fd6841788b20cfbf54a3d10b",
      "5d836b94d13e459d82429606496e4d4f",
      "a410071b34034a91aeda7ef1114969c2",
      "c063e7d90f6a4027b53d1b70c8c07742"
     ]
    },
    "id": "bHa6KRbEWuxz",
    "outputId": "3b4ebd0b-aa69-4a4d-b73c-b8cf24d8b461",
    "pycharm": {
     "is_executing": true
    }
   },
   "outputs": [],
   "source": [
    "#train a custom vanilla model so that we can compare and make sure the CLIP FRCNN is comparable\n",
    "# Fully-Custom-Vanilla is most appropriate as it generates the model in a similar fashion\n",
    "MODEL_TYPE = 'Fully-Custom-Vanilla'\n",
    "\n",
    "vanilla_model = create_model(MODEL_TYPE, classes=item_list)\n",
    "train_model(vanilla_model, train_dataset, evaluation_dataset, num_epochs=10, MODEL_TYPE=MODEL_TYPE)"
   ]
  },
  {
   "cell_type": "markdown",
   "metadata": {
    "id": "Lj3vLT1eXFnk"
   },
   "source": [
    "### Evaluate the model"
   ]
  },
  {
   "cell_type": "code",
   "execution_count": null,
   "metadata": {
    "colab": {
     "base_uri": "https://localhost:8080/"
    },
    "id": "CkzG1i3AW1O7",
    "outputId": "ec7971c3-66ef-4a57-e710-248cb53dee8e",
    "pycharm": {
     "is_executing": true
    }
   },
   "outputs": [],
   "source": [
    "add_detections(model, evaluation_dataset, fo_dataset, field_name=\"predictions\")\n",
    "\n",
    "results = fo.evaluate_detections(\n",
    "    test_view,\n",
    "    \"predictions\",\n",
    "    classes=item_list,\n",
    "    eval_key=\"eval\",\n",
    "    compute_mAP=True\n",
    ")"
   ]
  },
  {
   "cell_type": "code",
   "execution_count": null,
   "metadata": {
    "colab": {
     "base_uri": "https://localhost:8080/"
    },
    "id": "7uYdXrhgYdJ_",
    "outputId": "2eb792e9-342f-4dc8-f6c0-e1503d8bf193",
    "pycharm": {
     "is_executing": true
    }
   },
   "outputs": [],
   "source": [
    "results.mAP()"
   ]
  },
  {
   "cell_type": "code",
   "execution_count": null,
   "metadata": {
    "colab": {
     "base_uri": "https://localhost:8080/"
    },
    "id": "VcJBOM76aJPR",
    "outputId": "ac452527-7608-4e8d-f57e-18a0470acd30",
    "pycharm": {
     "is_executing": true
    }
   },
   "outputs": [],
   "source": [
    "results.print_report()"
   ]
  },
  {
   "cell_type": "markdown",
   "metadata": {
    "id": "nddFfGSnXo7i"
   },
   "source": [
    "By default, objects are only matched with other objects of the same class. In order to get an interesting confusion matrix, we need to match interclass objects by setting `classwise=False`."
   ]
  },
  {
   "cell_type": "code",
   "execution_count": null,
   "metadata": {
    "colab": {
     "base_uri": "https://localhost:8080/"
    },
    "id": "4_53aCMna2Vt",
    "outputId": "4db71f31-73e3-4036-f623-efd8e2ac85bf",
    "pycharm": {
     "is_executing": true
    }
   },
   "outputs": [],
   "source": [
    "results_interclass = fo.evaluate_detections(\n",
    "    test_view, \n",
    "    \"predictions\", \n",
    "    classes=item_list,\n",
    "    compute_mAP=True, \n",
    "    classwise=False\n",
    ")"
   ]
  },
  {
   "cell_type": "code",
   "execution_count": null,
   "metadata": {
    "pycharm": {
     "name": "#%%\n",
     "is_executing": true
    }
   },
   "outputs": [],
   "source": [
    "plot = results.plot_pr_curves(classes=item_list)\n",
    "plot.show()"
   ]
  },
  {
   "cell_type": "code",
   "execution_count": null,
   "metadata": {
    "colab": {
     "base_uri": "https://localhost:8080/",
     "height": 297
    },
    "id": "Nbqf-NuAZ7Ps",
    "outputId": "571cd947-c94a-4b9a-ed93-2330fbddea7e",
    "pycharm": {
     "is_executing": true
    }
   },
   "outputs": [],
   "source": [
    "results_interclass.plot_confusion_matrix(classes=item_list, include_other=False, include_missing=False)"
   ]
  },
  {
   "cell_type": "markdown",
   "metadata": {
    "id": "ElSV7tTbYKLr"
   },
   "source": [
    "The [detection evaluation](https://voxel51.com/docs/fiftyone/user_guide/evaluation.html#detections) also added the attributes `eval_fp`, `eval_tp`, and `eval_fn` to every predicted detection indicating if it is a false positive, true positive, or false negative. \n",
    "Let's create a view to find the worst samples by sorting by `eval_fp` using the [FiftyOne App](https://voxel51.com/docs/fiftyone/user_guide/app.html) to visualize the results. "
   ]
  },
  {
   "cell_type": "code",
   "execution_count": null,
   "metadata": {
    "colab": {
     "base_uri": "https://localhost:8080/",
     "height": 786,
     "resources": {
      "https://localhost:5151/polling?sessionId=de0b710e-15f8-4c57-ba46-ae7955f716b1": {
       "data": "eyJtZXNzYWdlcyI6IFtdfQ==",
       "headers": [
        [
         "access-control-allow-headers",
         "x-requested-with"
        ],
        [
         "content-type",
         "text/html; charset=UTF-8"
        ]
       ],
       "ok": true,
       "status": 200,
       "status_text": ""
      }
     }
    },
    "id": "Pm4Z52rd8AC1",
    "outputId": "62d39076-7ef3-4fe3-95ae-500d0f8f8a3f",
    "pycharm": {
     "is_executing": true
    }
   },
   "outputs": [],
   "source": [
    "session.view = test_view.sort_by(\"eval_fp\", reverse=True)"
   ]
  },
  {
   "cell_type": "code",
   "execution_count": null,
   "metadata": {
    "colab": {
     "base_uri": "https://localhost:8080/",
     "height": 786,
     "resources": {
      "https://localhost:5151/polling?sessionId=ebbc318d-3578-4fb1-9ae7-68596117572b": {
       "data": "eyJtZXNzYWdlcyI6IFtdfQ==",
       "headers": [
        [
         "access-control-allow-headers",
         "x-requested-with"
        ],
        [
         "content-type",
         "text/html; charset=UTF-8"
        ]
       ],
       "ok": true,
       "status": 200,
       "status_text": ""
      }
     }
    },
    "id": "njLG0l5K-ucV",
    "outputId": "bda6f02d-d8fe-49be-d212-31e0e70779e3",
    "pycharm": {
     "is_executing": true
    }
   },
   "outputs": [],
   "source": [
    "session.view = test_view.sort_by(\"eval_fp\", reverse=True)"
   ]
  },
  {
   "cell_type": "markdown",
   "metadata": {
    "id": "ReXDVFgLZLtf"
   },
   "source": [
    "It would be best to get this [data reannotated to fix these mistakes](https://towardsdatascience.com/managing-annotation-mistakes-with-fiftyone-and-labelbox-fc6e87b51102), but in the meantime, we can easily remedy this by simply creating a new view that remaps the labels `car`, `truck`, and `bus` all to `vehicle` and then retraining the model with that. This is only possible because we are backing our data in FiftyOne and loading views into PyTorch as needed. Without FiftyOne, the PyTorch dataset class or the underlying data would need to be changed to remap these classes."
   ]
  },
  {
   "cell_type": "code",
   "execution_count": null,
   "metadata": {
    "pycharm": {
     "name": "#%%\n",
     "is_executing": true
    }
   },
   "outputs": [],
   "source": [
    "# map labels to single vehicle class\n",
    "vehicle_list = ['car', 'bus', 'truck']\n",
    "vehicles_map = {c: \"vehicle\" for c in vehicle_list}\n",
    "\n",
    "train_map_view = train_view.map_labels(\"ground_truth\", vehicles_map)\n",
    "test_map_view = test_view.map_labels(\"ground_truth\", vehicles_map)\n",
    "\n",
    "# use our dataset and defined transformations\n",
    "torch_map_dataset = FiftyOneTorchDataset(train_map_view, train_transforms)\n",
    "torch_map_dataset_test = FiftyOneTorchDataset(test_map_view, test_transforms)"
   ]
  },
  {
   "cell_type": "code",
   "execution_count": null,
   "metadata": {
    "id": "ynRCHQv8XB_v",
    "pycharm": {
     "is_executing": true
    }
   },
   "outputs": [],
   "source": [
    "# Only 2 classes (background and vehicle)\n",
    "MODEL_TYPE = 'Vanilla-FRCNN'\n",
    "vehicle_model = create_model(MODEL_TYPE, num_classes=(len(vehicles_map)+1))\n",
    "train_model(vehicle_model, torch_map_dataset, torch_map_dataset_test, num_epochs=2, MODEL_TYPE=MODEL_TYPE)"
   ]
  },
  {
   "cell_type": "code",
   "execution_count": null,
   "metadata": {
    "colab": {
     "base_uri": "https://localhost:8080/"
    },
    "id": "Y-mrVOl4XFbp",
    "outputId": "6d8bec76-ebe8-4a36-959a-52bb1aab8498",
    "pycharm": {
     "is_executing": true
    }
   },
   "outputs": [],
   "source": [
    "add_detections(vehicle_model, torch_map_dataset_test, test_map_view, field_name=\"vehicle_predictions\")"
   ]
  },
  {
   "cell_type": "code",
   "execution_count": null,
   "metadata": {
    "colab": {
     "base_uri": "https://localhost:8080/"
    },
    "id": "hfd3xvhaXhl_",
    "outputId": "d9c4a2fe-538a-4979-c3f8-f5ede0c98aa1",
    "pycharm": {
     "is_executing": true
    }
   },
   "outputs": [],
   "source": [
    "vehicle_results = fo.evaluate_detections(\n",
    "    test_map_view, \n",
    "    \"vehicle_predictions\", \n",
    "    classes=[\"vehicle\"], \n",
    "    eval_key=\"vehicle_eval\", \n",
    "    compute_mAP=True\n",
    ")"
   ]
  },
  {
   "cell_type": "code",
   "execution_count": null,
   "metadata": {
    "colab": {
     "base_uri": "https://localhost:8080/"
    },
    "id": "kFvddH3rk0NR",
    "outputId": "59572ba2-f9ad-4dd2-e9ac-90877190ff99",
    "pycharm": {
     "is_executing": true
    }
   },
   "outputs": [],
   "source": [
    "vehicle_results.mAP()"
   ]
  },
  {
   "cell_type": "code",
   "execution_count": null,
   "metadata": {
    "colab": {
     "base_uri": "https://localhost:8080/"
    },
    "id": "rwbhq18sk1PL",
    "outputId": "d6985867-5049-4678-cc88-d5041a0079ed",
    "pycharm": {
     "is_executing": true
    }
   },
   "outputs": [],
   "source": [
    "vehicle_results.print_report()"
   ]
  },
  {
   "cell_type": "markdown",
   "metadata": {
    "id": "gJMAkJbWZ_u1",
    "pycharm": {
     "name": "#%% md\n"
    }
   },
   "source": [
    "Due to our ability to easily visualize and manage our dataset with FiftyOne, we were able to spot and take action on a dataset issue that would otherwise have gone unnoticed if we only concerned ourselves with dataset-wide evaluation metrics and fixed dataset representations. Through these efforts, we managed to increase the mAP of the model to 43%.\n",
    "\n",
    "Even though this example workflow may not work in all situations, this kind of class-merging strategy can be effective in cases where more fine-grained discrimination is not called for."
   ]
  }
 ],
 "metadata": {
  "accelerator": "GPU",
  "colab": {
   "name": "fiftyone_pytorch_training.ipynb",
   "provenance": []
  },
  "kernelspec": {
   "name": "torch-frcnn",
   "language": "python",
   "display_name": "torch-frcnn"
  },
  "language_info": {
   "codemirror_mode": {
    "name": "ipython",
    "version": 3
   },
   "file_extension": ".py",
   "mimetype": "text/x-python",
   "name": "python",
   "nbconvert_exporter": "python",
   "pygments_lexer": "ipython3",
   "version": "3.8.12"
  },
  "widgets": {
   "application/vnd.jupyter.widget-state+json": {
    "32b6ec3046e64d04b4134553dc434fe0": {
     "model_module": "@jupyter-widgets/base",
     "model_module_version": "1.2.0",
     "model_name": "LayoutModel",
     "state": {
      "_model_module": "@jupyter-widgets/base",
      "_model_module_version": "1.2.0",
      "_model_name": "LayoutModel",
      "_view_count": null,
      "_view_module": "@jupyter-widgets/base",
      "_view_module_version": "1.2.0",
      "_view_name": "LayoutView",
      "align_content": null,
      "align_items": null,
      "align_self": null,
      "border": null,
      "bottom": null,
      "display": null,
      "flex": null,
      "flex_flow": null,
      "grid_area": null,
      "grid_auto_columns": null,
      "grid_auto_flow": null,
      "grid_auto_rows": null,
      "grid_column": null,
      "grid_gap": null,
      "grid_row": null,
      "grid_template_areas": null,
      "grid_template_columns": null,
      "grid_template_rows": null,
      "height": null,
      "justify_content": null,
      "justify_items": null,
      "left": null,
      "margin": null,
      "max_height": null,
      "max_width": null,
      "min_height": null,
      "min_width": null,
      "object_fit": null,
      "object_position": null,
      "order": null,
      "overflow": null,
      "overflow_x": null,
      "overflow_y": null,
      "padding": null,
      "right": null,
      "top": null,
      "visibility": null,
      "width": null
     }
    },
    "4a4788a4fd6841788b20cfbf54a3d10b": {
     "model_module": "@jupyter-widgets/controls",
     "model_module_version": "1.5.0",
     "model_name": "ProgressStyleModel",
     "state": {
      "_model_module": "@jupyter-widgets/controls",
      "_model_module_version": "1.5.0",
      "_model_name": "ProgressStyleModel",
      "_view_count": null,
      "_view_module": "@jupyter-widgets/base",
      "_view_module_version": "1.2.0",
      "_view_name": "StyleView",
      "bar_color": null,
      "description_width": "initial"
     }
    },
    "5d836b94d13e459d82429606496e4d4f": {
     "model_module": "@jupyter-widgets/base",
     "model_module_version": "1.2.0",
     "model_name": "LayoutModel",
     "state": {
      "_model_module": "@jupyter-widgets/base",
      "_model_module_version": "1.2.0",
      "_model_name": "LayoutModel",
      "_view_count": null,
      "_view_module": "@jupyter-widgets/base",
      "_view_module_version": "1.2.0",
      "_view_name": "LayoutView",
      "align_content": null,
      "align_items": null,
      "align_self": null,
      "border": null,
      "bottom": null,
      "display": null,
      "flex": null,
      "flex_flow": null,
      "grid_area": null,
      "grid_auto_columns": null,
      "grid_auto_flow": null,
      "grid_auto_rows": null,
      "grid_column": null,
      "grid_gap": null,
      "grid_row": null,
      "grid_template_areas": null,
      "grid_template_columns": null,
      "grid_template_rows": null,
      "height": null,
      "justify_content": null,
      "justify_items": null,
      "left": null,
      "margin": null,
      "max_height": null,
      "max_width": null,
      "min_height": null,
      "min_width": null,
      "object_fit": null,
      "object_position": null,
      "order": null,
      "overflow": null,
      "overflow_x": null,
      "overflow_y": null,
      "padding": null,
      "right": null,
      "top": null,
      "visibility": null,
      "width": null
     }
    },
    "a1645bdfb02b42fba268f7000f183639": {
     "model_module": "@jupyter-widgets/controls",
     "model_module_version": "1.5.0",
     "model_name": "HTMLModel",
     "state": {
      "_dom_classes": [],
      "_model_module": "@jupyter-widgets/controls",
      "_model_module_version": "1.5.0",
      "_model_name": "HTMLModel",
      "_view_count": null,
      "_view_module": "@jupyter-widgets/controls",
      "_view_module_version": "1.5.0",
      "_view_name": "HTMLView",
      "description": "",
      "description_tooltip": null,
      "layout": "IPY_MODEL_c063e7d90f6a4027b53d1b70c8c07742",
      "placeholder": "​",
      "style": "IPY_MODEL_a410071b34034a91aeda7ef1114969c2",
      "value": " 160M/160M [01:05&lt;00:00, 2.55MB/s]"
     }
    },
    "a410071b34034a91aeda7ef1114969c2": {
     "model_module": "@jupyter-widgets/controls",
     "model_module_version": "1.5.0",
     "model_name": "DescriptionStyleModel",
     "state": {
      "_model_module": "@jupyter-widgets/controls",
      "_model_module_version": "1.5.0",
      "_model_name": "DescriptionStyleModel",
      "_view_count": null,
      "_view_module": "@jupyter-widgets/base",
      "_view_module_version": "1.2.0",
      "_view_name": "StyleView",
      "description_width": ""
     }
    },
    "acbb3df601244291b8b2fb9ea1137573": {
     "model_module": "@jupyter-widgets/controls",
     "model_module_version": "1.5.0",
     "model_name": "HBoxModel",
     "state": {
      "_dom_classes": [],
      "_model_module": "@jupyter-widgets/controls",
      "_model_module_version": "1.5.0",
      "_model_name": "HBoxModel",
      "_view_count": null,
      "_view_module": "@jupyter-widgets/controls",
      "_view_module_version": "1.5.0",
      "_view_name": "HBoxView",
      "box_style": "",
      "children": [
       "IPY_MODEL_d8c6a316609d4ca5bfee139b93177ef5",
       "IPY_MODEL_a1645bdfb02b42fba268f7000f183639"
      ],
      "layout": "IPY_MODEL_32b6ec3046e64d04b4134553dc434fe0"
     }
    },
    "c063e7d90f6a4027b53d1b70c8c07742": {
     "model_module": "@jupyter-widgets/base",
     "model_module_version": "1.2.0",
     "model_name": "LayoutModel",
     "state": {
      "_model_module": "@jupyter-widgets/base",
      "_model_module_version": "1.2.0",
      "_model_name": "LayoutModel",
      "_view_count": null,
      "_view_module": "@jupyter-widgets/base",
      "_view_module_version": "1.2.0",
      "_view_name": "LayoutView",
      "align_content": null,
      "align_items": null,
      "align_self": null,
      "border": null,
      "bottom": null,
      "display": null,
      "flex": null,
      "flex_flow": null,
      "grid_area": null,
      "grid_auto_columns": null,
      "grid_auto_flow": null,
      "grid_auto_rows": null,
      "grid_column": null,
      "grid_gap": null,
      "grid_row": null,
      "grid_template_areas": null,
      "grid_template_columns": null,
      "grid_template_rows": null,
      "height": null,
      "justify_content": null,
      "justify_items": null,
      "left": null,
      "margin": null,
      "max_height": null,
      "max_width": null,
      "min_height": null,
      "min_width": null,
      "object_fit": null,
      "object_position": null,
      "order": null,
      "overflow": null,
      "overflow_x": null,
      "overflow_y": null,
      "padding": null,
      "right": null,
      "top": null,
      "visibility": null,
      "width": null
     }
    },
    "d8c6a316609d4ca5bfee139b93177ef5": {
     "model_module": "@jupyter-widgets/controls",
     "model_module_version": "1.5.0",
     "model_name": "FloatProgressModel",
     "state": {
      "_dom_classes": [],
      "_model_module": "@jupyter-widgets/controls",
      "_model_module_version": "1.5.0",
      "_model_name": "FloatProgressModel",
      "_view_count": null,
      "_view_module": "@jupyter-widgets/controls",
      "_view_module_version": "1.5.0",
      "_view_name": "ProgressView",
      "bar_style": "success",
      "description": "100%",
      "description_tooltip": null,
      "layout": "IPY_MODEL_5d836b94d13e459d82429606496e4d4f",
      "max": 167502836,
      "min": 0,
      "orientation": "horizontal",
      "style": "IPY_MODEL_4a4788a4fd6841788b20cfbf54a3d10b",
      "value": 167502836
     }
    }
   }
  }
 },
 "nbformat": 4,
 "nbformat_minor": 1
}