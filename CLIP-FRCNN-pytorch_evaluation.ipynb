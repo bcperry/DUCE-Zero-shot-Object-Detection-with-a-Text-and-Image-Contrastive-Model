{
 "cells": [
  {
   "cell_type": "markdown",
   "metadata": {},
   "source": [
    "###  Imports"
   ]
  },
  {
   "cell_type": "code",
   "execution_count": null,
   "metadata": {
    "colab": {
     "base_uri": "https://localhost:8080/"
    },
    "id": "pZ2cvwpPWXBt",
    "outputId": "6444f42e-7465-4625-e4b1-3c207385fce9",
    "pycharm": {
     "is_executing": true
    }
   },
   "outputs": [],
   "source": [
    "import torch\n",
    "\n",
    "import fiftyone as fo\n",
    "import fiftyone.zoo as foz\n",
    "from fiftyone import ViewField as F\n",
    "\n",
    "from dataset import FiftyOneTorchDataset\n",
    "from model import create_model\n",
    "from util import add_detections, get_transforms\n",
    "\n",
    "import config\n",
    "import pickle\n",
    "\n",
    "torch.manual_seed(1)"
   ]
  },
  {
   "cell_type": "code",
   "execution_count": null,
   "outputs": [],
   "source": [
    "# dataset_name = \"coco-2017-validation\"\n",
    "dataset_name = \"ImageNet_validation\"\n",
    "\n",
    "# The directory containing the dataset to import\n",
    "dataset_dir = \"C:/Data_drive/Data/Imagenet/ImageNet/imagenet_val_dataset/imagenet_val_dataset\""
   ],
   "metadata": {
    "collapsed": false,
    "pycharm": {
     "name": "#%%\n",
     "is_executing": true
    }
   }
  },
  {
   "cell_type": "code",
   "execution_count": null,
   "outputs": [],
   "source": [
    "#fo.core.dataset.delete_non_persistent_datasets()"
   ],
   "metadata": {
    "collapsed": false,
    "pycharm": {
     "name": "#%%\n",
     "is_executing": true
    }
   }
  },
  {
   "cell_type": "code",
   "execution_count": null,
   "outputs": [],
   "source": [
    "# Check if the datasets exist on this machine\n",
    "if fo.core.dataset.dataset_exists(dataset_name):\n",
    "\n",
    "    fo_dataset = fo.load_dataset(dataset_name) # if the dataset  exists, load it\n",
    "else:\n",
    "    if dataset_name == \"coco-2017-validation\":\n",
    "        fo_dataset = foz.load_zoo_dataset(\"coco-2017\", \"validation\")\n",
    "    else: # if the dataset isnt coco, we will load it from the machine\n",
    "        fo_dataset = fo.Dataset.from_dir(\n",
    "        dataset_dir=dataset_dir,\n",
    "        dataset_type=fo.types.VOCDetectionDataset,\n",
    "        name=dataset_name,\n",
    "        )\n",
    "\n",
    "\n",
    "\n",
    "if dataset_name == \"ImageNet_validation\":\n",
    "    with open('dataset_analysis/imagenet_dict_mapping.pkl', 'rb') as f:\n",
    "                imagenet_class_mapping = pickle.load(f)\n",
    "    fo_dataset = fo_dataset.map_labels(\"ground_truth\", imagenet_class_mapping)\n",
    "\n",
    "\n",
    "#needed to calculate image height and width\n",
    "fo_dataset.compute_metadata()\n",
    "#create the session to view the dataset\n",
    "session = fo.launch_app(fo_dataset)"
   ],
   "metadata": {
    "collapsed": false,
    "pycharm": {
     "name": "#%%\n",
     "is_executing": true
    }
   }
  },
  {
   "cell_type": "code",
   "execution_count": null,
   "outputs": [],
   "source": [
    "# create the list of labels needed for evaluation, if evaluating on all labels, leave empty\n",
    "\n",
    "known_unknowns = ['lizard', 'turtle', 'pen', 'cowboy hat', 'tank']\n",
    "known_knowns = ['clock', 'vase', 'toaster', 'microwave', 'mouse', 'potted plant', 'sports ball', 'zebra', 'dog', 'bird', 'bench', 'parking meter', 'airplane', 'bicycle']\n",
    "\n",
    "\n",
    "\n",
    "dataset_class_labels = known_knowns + known_unknowns\n",
    "\n",
    "model_class_labels = known_knowns + known_unknowns\n"
   ],
   "metadata": {
    "collapsed": false,
    "pycharm": {
     "name": "#%%\n",
     "is_executing": true
    }
   }
  },
  {
   "cell_type": "code",
   "execution_count": null,
   "outputs": [],
   "source": [
    "#get the transformations needed for the images\n",
    "_, test_transforms = get_transforms()\n",
    "\n",
    "if len(dataset_class_labels) > 0:\n",
    "\n",
    "    item_view = fo_dataset.filter_labels(\"ground_truth\",\n",
    "            F(\"label\").is_in(dataset_class_labels))\n",
    "\n",
    "    # find the class with the fewest examples\n",
    "    class_count = item_view.count_values(\"ground_truth.detections.label\")\n",
    "    smallest_class = min(class_count, key=class_count.get) # find the key of the smallest class\n",
    "\n",
    "    id = set() # create a set to contain the image ids\n",
    "\n",
    "    for dataset_class in item_view.distinct(\"ground_truth.detections.label\"): # loop through all of the class labels\n",
    "        class_view = item_view.filter_labels(\"ground_truth\",\n",
    "            F(\"label\").is_in(dataset_class)) # create a view from which to sample the class\n",
    "        sample_ids = class_view.take(class_count[smallest_class], seed = 51) # take the number of classes based on the smallest class\n",
    "\n",
    "        for sample in sample_ids:\n",
    "            id.add(sample.id) # add the image ids to the set\n",
    "    item_view = item_view.select(id) # create a view based on these images\n",
    "\n",
    "    known_view = item_view.filter_labels(\"ground_truth\",\n",
    "            F(\"label\").is_in(known_knowns))\n",
    "\n",
    "\n",
    "    unknown_view = item_view.filter_labels(\"ground_truth\",\n",
    "            F(\"label\").is_in(known_unknowns))\n",
    "\n",
    "\n",
    "    # use our dataset and defined transformations\n",
    "    known_evaluation_dataset = FiftyOneTorchDataset(known_view, test_transforms,\n",
    "        classes=known_knowns)\n",
    "\n",
    "    # use our dataset and defined transformations\n",
    "    unknown_evaluation_dataset = FiftyOneTorchDataset(unknown_view, test_transforms,\n",
    "        classes=known_unknowns)\n",
    "\n",
    "    print(f'Evaluating on {len(known_evaluation_dataset)} known samples')\n",
    "    print(f'Evaluating on {len(unknown_evaluation_dataset)} unknown samples')\n",
    "else: # if we do not provide labels of interest\n",
    "    item_view = fo_dataset\n",
    "\n",
    "    #create an item list for use later\n",
    "    dataset_class_labels = fo_dataset.distinct(\"ground_truth.detections.label\")\n",
    "\n",
    "\n",
    "print(f'Evaluating on {len(item_view)} samples')\n",
    "\n",
    "\n",
    "\n",
    "# use our dataset and defined transformations\n",
    "evaluation_dataset = FiftyOneTorchDataset(item_view, test_transforms,\n",
    "        classes=dataset_class_labels)\n",
    "\n",
    "session.view = item_view\n",
    "\n",
    "# add a blank line dropped during classification\n",
    "if model_class_labels[0] != 'background':\n",
    "     model_class_labels.insert(0,'background')"
   ],
   "metadata": {
    "collapsed": false,
    "pycharm": {
     "name": "#%%\n",
     "is_executing": true
    }
   }
  },
  {
   "cell_type": "code",
   "execution_count": null,
   "outputs": [],
   "source": [
    "# for some items, CLIP may do better with different textual descriptions\n",
    "\n",
    "replacements = {\n",
    "    'mouse': 'computer mouse',\n",
    "}\n",
    "\n",
    "for k, v in replacements.items():\n",
    "    CLIP_list = [v if item == k else item for item in model_class_labels]\n",
    "\n",
    "print(CLIP_list)"
   ],
   "metadata": {
    "collapsed": false,
    "pycharm": {
     "name": "#%%\n",
     "is_executing": true
    }
   }
  },
  {
   "cell_type": "code",
   "execution_count": null,
   "outputs": [],
   "source": [
    "# a helper funciton to evaluate the model on certain datasets\n",
    "def evaluate_model(model , field_name, evaluation_dataset, fiftyone_Dataset, classes = dataset_class_labels, BCC=False, iou=0.5, eps = 35, labelmap=dataset_class_labels):\n",
    "    # model - the object detection model\n",
    "    # field_name - the name used to add the model to FiftyOne\n",
    "    # evaluation_dataset - the FiftyOne view on which to calculate the data\n",
    "    # fiftyone_Dataset - the full FiftyOne dataset\n",
    "    # Classes - the class list on which to evaluate the model\n",
    "    # BCC - use Bounding box Clustering and Consolidation\n",
    "    # iou - the iou threshold for nms\n",
    "    # eps - the eps_neighborhood parameter from DBSCAN\n",
    "    # labelmap - the mapping of model class number to dataset class number\n",
    "\n",
    "    add_detections(model, evaluation_dataset, fiftyone_Dataset, field_name=field_name, PRED_CLUSTERING=BCC, labelmap = labelmap, eps = eps)\n",
    "\n",
    "    evaluation = fo.evaluate_detections(\n",
    "        item_view,\n",
    "        field_name,\n",
    "        classes=classes,\n",
    "        eval_key=field_name,\n",
    "        compute_mAP=True,\n",
    "        iou=iou,\n",
    "    )\n",
    "\n",
    "    return evaluation"
   ],
   "metadata": {
    "collapsed": false,
    "pycharm": {
     "name": "#%%\n",
     "is_executing": true
    }
   }
  },
  {
   "cell_type": "markdown",
   "source": [
    "# Check CLIP RPN performance"
   ],
   "metadata": {
    "collapsed": false
   }
  },
  {
   "cell_type": "code",
   "execution_count": null,
   "outputs": [],
   "source": [
    "# test out the trained CLIP-FRCNN\n",
    "MODEL_TYPE = 'CLIP-RPN'\n",
    "WEIGHTS_NAME='CLIP-RPN_rpn_full_training epoch_30.pth'\n",
    "\n",
    "# tokenize item list for CLIP\n",
    "import clip\n",
    "_, preprocess = clip.load(\"RN50\", device=config.DEVICE)\n",
    "\n",
    "# create the model\n",
    "clip_frcnn_model = create_model(MODEL_TYPE, classes=CLIP_list)\n",
    "\n",
    "# load the pre-trained model\n",
    "checkpoint = torch.load(WEIGHTS_NAME)\n",
    "clip_frcnn_model.load_state_dict(checkpoint['model_state_dict'])\n",
    "epoch = checkpoint['epoch']\n",
    "\n",
    "print(f'loaded checkpoint at epoch {epoch}')\n",
    "\n",
    "# set to evaluation mode\n",
    "clip_frcnn_model.eval()"
   ],
   "metadata": {
    "collapsed": false,
    "pycharm": {
     "name": "#%%\n",
     "is_executing": true
    }
   }
  },
  {
   "cell_type": "code",
   "execution_count": null,
   "outputs": [],
   "source": [
    "# find performance without clustering\n",
    "\n",
    "iou = .1\n",
    "known_no_cluster_evaluation = evaluate_model(clip_frcnn_model,\n",
    "                                       evaluation_dataset = known_evaluation_dataset,\n",
    "                                       field_name = \"clip_RPN_predictions_no_clustering\",\n",
    "                                       fiftyone_Dataset = fo_dataset,\n",
    "                                       classes = known_knowns,\n",
    "                                       BCC=False,\n",
    "                                       iou=iou,\n",
    "                                       labelmap=dataset_class_labels,\n",
    "                                       )\n",
    "unknown_no_cluster_evaluation = evaluate_model(clip_frcnn_model,\n",
    "                                       evaluation_dataset = unknown_evaluation_dataset,\n",
    "                                       field_name = \"clip_RPN_predictions_no_clustering\",\n",
    "                                       fiftyone_Dataset = fo_dataset,\n",
    "                                       classes = known_unknowns,\n",
    "                                       BCC=False,\n",
    "                                       iou=iou,\n",
    "                                       labelmap=dataset_class_labels,\n",
    "                                       )\n",
    "\n",
    "print(f'Known mAP (no BCC): {known_no_cluster_evaluation.mAP()}')\n",
    "known_no_cluster_evaluation.print_report()\n",
    "print(f'Unknown mAP (no BCC): {unknown_no_cluster_evaluation.mAP()}')\n",
    "unknown_no_cluster_evaluation.print_report()"
   ],
   "metadata": {
    "collapsed": false,
    "pycharm": {
     "name": "#%%\n",
     "is_executing": true
    }
   }
  },
  {
   "cell_type": "code",
   "execution_count": null,
   "outputs": [],
   "source": [
    "# find performance without clustering\n",
    "\n",
    "iou = .5\n",
    "known_no_cluster_evaluation = evaluate_model(clip_frcnn_model,\n",
    "                                       evaluation_dataset = known_evaluation_dataset,\n",
    "                                       field_name = \"clip_RPN_predictions_no_clustering\",\n",
    "                                       fiftyone_Dataset = fo_dataset,\n",
    "                                       classes = known_knowns,\n",
    "                                       BCC=False,\n",
    "                                       iou=iou,\n",
    "                                       labelmap=dataset_class_labels,\n",
    "                                       )\n",
    "unknown_no_cluster_evaluation = evaluate_model(clip_frcnn_model,\n",
    "                                       evaluation_dataset = unknown_evaluation_dataset,\n",
    "                                       field_name = \"clip_RPN_predictions_no_clustering\",\n",
    "                                       fiftyone_Dataset = fo_dataset,\n",
    "                                       classes = known_unknowns,\n",
    "                                       BCC=False,\n",
    "                                       iou=iou,\n",
    "                                       labelmap=dataset_class_labels,\n",
    "                                       )\n",
    "\n",
    "print(f'Known mAP (no BCC): {known_no_cluster_evaluation.mAP()}')\n",
    "known_no_cluster_evaluation.print_report()\n",
    "print(f'Unknown mAP (no BCC): {unknown_no_cluster_evaluation.mAP()}')\n",
    "unknown_no_cluster_evaluation.print_report()"
   ],
   "metadata": {
    "collapsed": false,
    "pycharm": {
     "name": "#%%\n",
     "is_executing": true
    }
   }
  },
  {
   "cell_type": "markdown",
   "source": [
    "## Find performance with clustering"
   ],
   "metadata": {
    "collapsed": false,
    "pycharm": {
     "name": "#%% md\n"
    }
   }
  },
  {
   "cell_type": "code",
   "execution_count": null,
   "outputs": [],
   "source": [
    "eps = 35\n",
    "iou = .1\n",
    "\n",
    "BCC_evaluation = evaluate_model(clip_frcnn_model,\n",
    "                                evaluation_dataset = evaluation_dataset,\n",
    "                                field_name = f\"clip_RPN_predictions_eps_{eps}\",\n",
    "                                fiftyone_Dataset = fo_dataset,\n",
    "                                BCC=True,\n",
    "                                iou=iou,\n",
    "                                eps= eps\n",
    "                                )\n",
    "\n",
    "map = BCC_evaluation.mAP()\n",
    "print(f'mAP = {map}')\n",
    "BCC_evaluation.print_report()"
   ],
   "metadata": {
    "collapsed": false,
    "pycharm": {
     "name": "#%%\n",
     "is_executing": true
    }
   }
  },
  {
   "cell_type": "code",
   "execution_count": null,
   "outputs": [],
   "source": [
    "eps = 35\n",
    "iou=0.5\n",
    "BCC_evaluation = evaluate_model(clip_frcnn_model,\n",
    "                                evaluation_dataset = evaluation_dataset,\n",
    "                                field_name = f\"clip_RPN_predictions_eps_{eps}\",\n",
    "                                fiftyone_Dataset = fo_dataset,\n",
    "                                BCC=True,\n",
    "                                iou=iou,\n",
    "                                eps= eps\n",
    "                                )\n",
    "\n",
    "map = BCC_evaluation.mAP()\n",
    "print(f'mAP = {map}')\n",
    "BCC_evaluation.print_report()"
   ],
   "metadata": {
    "collapsed": false,
    "pycharm": {
     "name": "#%%\n",
     "is_executing": true
    }
   }
  },
  {
   "cell_type": "code",
   "execution_count": null,
   "outputs": [],
   "source": [
    "# Test on small objects only\n",
    "# Bboxes are in [top-left-x, top-left-y, width, height] format\n",
    "bbox_area = F(\"bounding_box\")[2] * F(\"bounding_box\")[3]\n",
    "\n",
    "small_view = item_view.filter_labels(\"ground_truth\", bbox_area < 0.2)\n",
    "# use our dataset and defined transformations\n",
    "small_object_dataset = FiftyOneTorchDataset(small_view, test_transforms,\n",
    "        classes=dataset_class_labels)\n",
    "iou=0.5\n",
    "eps = 35\n",
    "BCC_evaluation = evaluate_model(clip_frcnn_model,\n",
    "                                evaluation_dataset = small_object_dataset,\n",
    "                                field_name = f\"clip_RPN_small_predictions_eps_{eps}\",\n",
    "                                fiftyone_Dataset = fo_dataset,\n",
    "                                BCC=True,\n",
    "                                iou=iou,\n",
    "                                eps= eps\n",
    "                                )\n",
    "\n",
    "map = BCC_evaluation.mAP()\n",
    "print(f'mAP = {map}')\n",
    "BCC_evaluation.print_report()"
   ],
   "metadata": {
    "collapsed": false,
    "pycharm": {
     "name": "#%%\n",
     "is_executing": true
    }
   }
  },
  {
   "cell_type": "code",
   "execution_count": null,
   "outputs": [],
   "source": [
    "# Test on large objects only\n",
    "# Bboxes are in [top-left-x, top-left-y, width, height] format\n",
    "bbox_area = F(\"bounding_box\")[2] * F(\"bounding_box\")[3]\n",
    "\n",
    "large_view = item_view.filter_labels(\"ground_truth\", bbox_area > 0.2)\n",
    "# use our dataset and defined transformations\n",
    "large_object_dataset = FiftyOneTorchDataset(large_view, test_transforms,\n",
    "        classes=dataset_class_labels)\n",
    "\n",
    "iou=0.5\n",
    "eps = 35\n",
    "\n",
    "BCC_evaluation = evaluate_model(clip_frcnn_model,\n",
    "                                evaluation_dataset = large_object_dataset,\n",
    "                                field_name = f\"clip_RPN_large_predictions_eps_{eps}\",\n",
    "                                fiftyone_Dataset = fo_dataset,\n",
    "                                BCC=True,\n",
    "                                iou=iou,\n",
    "                                eps= eps\n",
    "                                )\n",
    "\n",
    "map = BCC_evaluation.mAP()\n",
    "print(f'mAP = {map}')\n",
    "BCC_evaluation.print_report()"
   ],
   "metadata": {
    "collapsed": false,
    "pycharm": {
     "name": "#%%\n",
     "is_executing": true
    }
   }
  },
  {
   "cell_type": "markdown",
   "source": [
    "#### Sensitivity Study"
   ],
   "metadata": {
    "collapsed": false
   }
  },
  {
   "cell_type": "code",
   "execution_count": null,
   "outputs": [],
   "source": [
    "# find performance with clustering\n",
    "\n",
    "results = []\n",
    "best_map = 0\n",
    "\n",
    "for eps in range(5, 50, 5):\n",
    "    print(f'epsilon = {eps}')\n",
    "\n",
    "    evaluation = evaluate_model(clip_frcnn_model,\n",
    "                                evaluation_dataset = evaluation_dataset,\n",
    "                                field_name = f\"clip_RPN_predictions_eps_{eps}\",\n",
    "                                fiftyone_Dataset = fo_dataset,\n",
    "                                BCC=True,\n",
    "                                iou=0.5,\n",
    "                                eps= eps\n",
    "                                )\n",
    "\n",
    "    map = evaluation.mAP()\n",
    "    print(f'mAP = {map}')\n",
    "\n",
    "    results.append([eps, map])\n",
    "    if map > best_map:\n",
    "        best_eps = eps\n",
    "        best_map = map\n",
    "        best_eval = evaluation\n",
    "\n",
    "print(f'best_mAP = {best_map}')\n",
    "print(f'best_eps = {best_eps}')\n",
    "best_eval.print_report()"
   ],
   "metadata": {
    "collapsed": false,
    "pycharm": {
     "name": "#%%\n",
     "is_executing": true
    }
   }
  },
  {
   "cell_type": "code",
   "execution_count": null,
   "outputs": [],
   "source": [
    "# importing the required module\n",
    "import matplotlib.pyplot as plt\n",
    "import pandas as pd\n",
    "res = pd.DataFrame(results)\n",
    "# plotting the points\n",
    "plt.plot(res[0], res[1])\n",
    "\n",
    "# naming the x axis\n",
    "plt.xlabel('DBSCAN eps')\n",
    "# naming the y axis\n",
    "plt.ylabel('mean Average Precision')\n",
    "\n",
    "# giving a title to my graph\n",
    "plt.title('Box Clustering and Consolidation Sensitivity')\n",
    "\n",
    "# function to show the plot\n",
    "\n",
    "plt.savefig('Box Clustering and Consolidation Sensitivity.jpg')"
   ],
   "metadata": {
    "collapsed": false,
    "pycharm": {
     "name": "#%%\n",
     "is_executing": true
    }
   }
  },
  {
   "cell_type": "markdown",
   "source": [
    "# Test against Faster-RCNN"
   ],
   "metadata": {
    "collapsed": false
   }
  },
  {
   "cell_type": "code",
   "execution_count": null,
   "outputs": [],
   "source": [
    "# create the labelmap for the coco dataset\n",
    "coco_labels = open(\"dataset_analysis/coco_labels.txt\", \"r\")\n",
    "coco_list = coco_labels.read().splitlines() # read each line in as a value in a list\n",
    "coco_list.insert(0,'background') # add the background class\n",
    "coco_id = [0, 1, 2, 3, 4, 5, 6, 7, 8, 9, 10, 11, 13, 14, 15, 16, 17, 18, 19, 20, 21, 22, 23, 24, 25, 27, 28, 31, 32, 33, 34,\n",
    "          35, 36, 37, 38, 39, 40, 41, 42, 43, 44, 46, 47, 48, 49, 50, 51, 52, 53, 54, 55, 56, 57, 58, 59, 60, 61, 62, 63,\n",
    "          64, 65, 67, 70, 72, 73, 74, 75, 76, 77, 78, 79, 80, 81, 82, 84, 85, 86, 87, 88, 89, 90, 91] # annoyingly, COCO has 90 class ids but only 80 labels\n",
    "coco = dict(zip(coco_id, coco_list)) # convert it to a dict"
   ],
   "metadata": {
    "collapsed": false,
    "pycharm": {
     "name": "#%%\n",
     "is_executing": true
    }
   }
  },
  {
   "cell_type": "markdown",
   "source": [
    "## Calculate metrics from the FRCNN using iou 0.1"
   ],
   "metadata": {
    "collapsed": false,
    "pycharm": {
     "name": "#%% md\n"
    }
   }
  },
  {
   "cell_type": "code",
   "execution_count": null,
   "outputs": [],
   "source": [
    "import torchvision\n",
    "# load a model pre-trained on COCO\n",
    "model = torchvision.models.detection.fasterrcnn_resnet50_fpn(pretrained=True)\n",
    "\n",
    "iou=.1\n",
    "pre_trained_known_evaluation = evaluate_model(model,\n",
    "                                evaluation_dataset = known_evaluation_dataset,\n",
    "                                field_name = \"FRCNN_known_predictions\",\n",
    "                                fiftyone_Dataset = fo_dataset,\n",
    "                                classes = known_knowns,\n",
    "                                iou=iou,\n",
    "                                labelmap=coco\n",
    "                                )\n",
    "pre_trained_unknown_evaluation = evaluate_model(model,\n",
    "                                evaluation_dataset = unknown_evaluation_dataset,\n",
    "                                field_name = \"FRCNN_unknown_predictions\",\n",
    "                                fiftyone_Dataset = fo_dataset,\n",
    "                                classes = known_unknowns,\n",
    "                                iou=iou,\n",
    "                                labelmap=coco\n",
    "                                )\n",
    "\n",
    "print(f'mAP: {pre_trained_known_evaluation.mAP()}')\n",
    "pre_trained_known_evaluation.print_report()\n",
    "\n",
    "print(f'mAP: {pre_trained_unknown_evaluation.mAP()}')\n",
    "pre_trained_unknown_evaluation.print_report()"
   ],
   "metadata": {
    "collapsed": false,
    "pycharm": {
     "name": "#%%\n",
     "is_executing": true
    }
   }
  },
  {
   "cell_type": "code",
   "execution_count": null,
   "outputs": [],
   "source": [
    "iou=.5\n",
    "pre_trained_known_evaluation = evaluate_model(model,\n",
    "                                evaluation_dataset = known_evaluation_dataset,\n",
    "                                field_name = \"FRCNN_known_predictions\",\n",
    "                                fiftyone_Dataset = fo_dataset,\n",
    "                                classes = known_knowns,\n",
    "                                iou=iou,\n",
    "                                labelmap=coco\n",
    "                                )\n",
    "pre_trained_unknown_evaluation = evaluate_model(model,\n",
    "                                evaluation_dataset = unknown_evaluation_dataset,\n",
    "                                field_name = \"FRCNN_unknown_predictions\",\n",
    "                                fiftyone_Dataset = fo_dataset,\n",
    "                                classes = known_unknowns,\n",
    "                                iou=iou,\n",
    "                                labelmap=coco\n",
    "                                )\n",
    "\n",
    "print(f'mAP: {pre_trained_known_evaluation.mAP()}')\n",
    "pre_trained_known_evaluation.print_report()\n",
    "\n",
    "print(f'mAP: {pre_trained_unknown_evaluation.mAP()}')\n",
    "pre_trained_unknown_evaluation.print_report()"
   ],
   "metadata": {
    "collapsed": false,
    "pycharm": {
     "name": "#%%\n",
     "is_executing": true
    }
   }
  },
  {
   "cell_type": "code",
   "execution_count": null,
   "outputs": [],
   "source": [
    "plot = pre_trained_known_evaluation.plot_pr_curves(classes=known_knowns)\n",
    "plot.show()"
   ],
   "metadata": {
    "collapsed": false,
    "pycharm": {
     "name": "#%%\n",
     "is_executing": true
    }
   }
  },
  {
   "cell_type": "code",
   "execution_count": null,
   "outputs": [],
   "source": [
    "plot2 = BCC_evaluation.plot_pr_curves(classes=known_unknowns)\n",
    "plot2.show()"
   ],
   "metadata": {
    "collapsed": false,
    "pycharm": {
     "name": "#%%\n",
     "is_executing": true
    }
   }
  },
  {
   "cell_type": "markdown",
   "source": [
    "## Yolov5"
   ],
   "metadata": {
    "collapsed": false,
    "pycharm": {
     "name": "#%% md\n"
    }
   }
  },
  {
   "cell_type": "code",
   "execution_count": null,
   "outputs": [],
   "source": [
    "model = torch.hub.load('ultralytics/yolov5', 'yolov5s', pretrained=True)"
   ],
   "metadata": {
    "collapsed": false,
    "pycharm": {
     "name": "#%%\n",
     "is_executing": true
    }
   }
  },
  {
   "cell_type": "code",
   "execution_count": null,
   "outputs": [],
   "source": [],
   "metadata": {
    "collapsed": false,
    "pycharm": {
     "name": "#%%\n",
     "is_executing": true
    }
   }
  },
  {
   "cell_type": "code",
   "execution_count": null,
   "outputs": [],
   "source": [
    "iou=.5\n",
    "pre_trained_known_evaluation = evaluate_model(model,\n",
    "                                evaluation_dataset = known_evaluation_dataset,\n",
    "                                field_name = \"YOLO_known_predictions\",\n",
    "                                fiftyone_Dataset = fo_dataset,\n",
    "                                classes = known_knowns,\n",
    "                                iou=iou,\n",
    "                                labelmap=coco\n",
    "                                )\n",
    "pre_trained_unknown_evaluation = evaluate_model(model,\n",
    "                                evaluation_dataset = unknown_evaluation_dataset,\n",
    "                                field_name = \"YOLO_unknown_predictions\",\n",
    "                                fiftyone_Dataset = fo_dataset,\n",
    "                                classes = known_unknowns,\n",
    "                                iou=iou,\n",
    "                                labelmap=coco\n",
    "                                )\n",
    "\n",
    "print(f'mAP: {pre_trained_known_evaluation.mAP()}')\n",
    "pre_trained_known_evaluation.print_report()\n",
    "\n",
    "print(f'mAP: {pre_trained_unknown_evaluation.mAP()}')\n",
    "pre_trained_unknown_evaluation.print_report()"
   ],
   "metadata": {
    "collapsed": false,
    "pycharm": {
     "name": "#%%\n",
     "is_executing": true
    }
   }
  },
  {
   "cell_type": "code",
   "execution_count": null,
   "outputs": [],
   "source": [
    "\n",
    "session.view = item_view"
   ],
   "metadata": {
    "collapsed": false,
    "pycharm": {
     "name": "#%%\n",
     "is_executing": true
    }
   }
  }
 ],
 "metadata": {
  "accelerator": "GPU",
  "colab": {
   "name": "fiftyone_pytorch_training.ipynb",
   "provenance": []
  },
  "kernelspec": {
   "name": "torch-frcnn",
   "language": "python",
   "display_name": "torch-frcnn"
  },
  "language_info": {
   "codemirror_mode": {
    "name": "ipython",
    "version": 3
   },
   "file_extension": ".py",
   "mimetype": "text/x-python",
   "name": "python",
   "nbconvert_exporter": "python",
   "pygments_lexer": "ipython3",
   "version": "3.8.12"
  },
  "widgets": {
   "application/vnd.jupyter.widget-state+json": {
    "32b6ec3046e64d04b4134553dc434fe0": {
     "model_module": "@jupyter-widgets/base",
     "model_module_version": "1.2.0",
     "model_name": "LayoutModel",
     "state": {
      "_model_module": "@jupyter-widgets/base",
      "_model_module_version": "1.2.0",
      "_model_name": "LayoutModel",
      "_view_count": null,
      "_view_module": "@jupyter-widgets/base",
      "_view_module_version": "1.2.0",
      "_view_name": "LayoutView",
      "align_content": null,
      "align_items": null,
      "align_self": null,
      "border": null,
      "bottom": null,
      "display": null,
      "flex": null,
      "flex_flow": null,
      "grid_area": null,
      "grid_auto_columns": null,
      "grid_auto_flow": null,
      "grid_auto_rows": null,
      "grid_column": null,
      "grid_gap": null,
      "grid_row": null,
      "grid_template_areas": null,
      "grid_template_columns": null,
      "grid_template_rows": null,
      "height": null,
      "justify_content": null,
      "justify_items": null,
      "left": null,
      "margin": null,
      "max_height": null,
      "max_width": null,
      "min_height": null,
      "min_width": null,
      "object_fit": null,
      "object_position": null,
      "order": null,
      "overflow": null,
      "overflow_x": null,
      "overflow_y": null,
      "padding": null,
      "right": null,
      "top": null,
      "visibility": null,
      "width": null
     }
    },
    "4a4788a4fd6841788b20cfbf54a3d10b": {
     "model_module": "@jupyter-widgets/controls",
     "model_module_version": "1.5.0",
     "model_name": "ProgressStyleModel",
     "state": {
      "_model_module": "@jupyter-widgets/controls",
      "_model_module_version": "1.5.0",
      "_model_name": "ProgressStyleModel",
      "_view_count": null,
      "_view_module": "@jupyter-widgets/base",
      "_view_module_version": "1.2.0",
      "_view_name": "StyleView",
      "bar_color": null,
      "description_width": "initial"
     }
    },
    "5d836b94d13e459d82429606496e4d4f": {
     "model_module": "@jupyter-widgets/base",
     "model_module_version": "1.2.0",
     "model_name": "LayoutModel",
     "state": {
      "_model_module": "@jupyter-widgets/base",
      "_model_module_version": "1.2.0",
      "_model_name": "LayoutModel",
      "_view_count": null,
      "_view_module": "@jupyter-widgets/base",
      "_view_module_version": "1.2.0",
      "_view_name": "LayoutView",
      "align_content": null,
      "align_items": null,
      "align_self": null,
      "border": null,
      "bottom": null,
      "display": null,
      "flex": null,
      "flex_flow": null,
      "grid_area": null,
      "grid_auto_columns": null,
      "grid_auto_flow": null,
      "grid_auto_rows": null,
      "grid_column": null,
      "grid_gap": null,
      "grid_row": null,
      "grid_template_areas": null,
      "grid_template_columns": null,
      "grid_template_rows": null,
      "height": null,
      "justify_content": null,
      "justify_items": null,
      "left": null,
      "margin": null,
      "max_height": null,
      "max_width": null,
      "min_height": null,
      "min_width": null,
      "object_fit": null,
      "object_position": null,
      "order": null,
      "overflow": null,
      "overflow_x": null,
      "overflow_y": null,
      "padding": null,
      "right": null,
      "top": null,
      "visibility": null,
      "width": null
     }
    },
    "a1645bdfb02b42fba268f7000f183639": {
     "model_module": "@jupyter-widgets/controls",
     "model_module_version": "1.5.0",
     "model_name": "HTMLModel",
     "state": {
      "_dom_classes": [],
      "_model_module": "@jupyter-widgets/controls",
      "_model_module_version": "1.5.0",
      "_model_name": "HTMLModel",
      "_view_count": null,
      "_view_module": "@jupyter-widgets/controls",
      "_view_module_version": "1.5.0",
      "_view_name": "HTMLView",
      "description": "",
      "description_tooltip": null,
      "layout": "IPY_MODEL_c063e7d90f6a4027b53d1b70c8c07742",
      "placeholder": "​",
      "style": "IPY_MODEL_a410071b34034a91aeda7ef1114969c2",
      "value": " 160M/160M [01:05&lt;00:00, 2.55MB/s]"
     }
    },
    "a410071b34034a91aeda7ef1114969c2": {
     "model_module": "@jupyter-widgets/controls",
     "model_module_version": "1.5.0",
     "model_name": "DescriptionStyleModel",
     "state": {
      "_model_module": "@jupyter-widgets/controls",
      "_model_module_version": "1.5.0",
      "_model_name": "DescriptionStyleModel",
      "_view_count": null,
      "_view_module": "@jupyter-widgets/base",
      "_view_module_version": "1.2.0",
      "_view_name": "StyleView",
      "description_width": ""
     }
    },
    "acbb3df601244291b8b2fb9ea1137573": {
     "model_module": "@jupyter-widgets/controls",
     "model_module_version": "1.5.0",
     "model_name": "HBoxModel",
     "state": {
      "_dom_classes": [],
      "_model_module": "@jupyter-widgets/controls",
      "_model_module_version": "1.5.0",
      "_model_name": "HBoxModel",
      "_view_count": null,
      "_view_module": "@jupyter-widgets/controls",
      "_view_module_version": "1.5.0",
      "_view_name": "HBoxView",
      "box_style": "",
      "children": [
       "IPY_MODEL_d8c6a316609d4ca5bfee139b93177ef5",
       "IPY_MODEL_a1645bdfb02b42fba268f7000f183639"
      ],
      "layout": "IPY_MODEL_32b6ec3046e64d04b4134553dc434fe0"
     }
    },
    "c063e7d90f6a4027b53d1b70c8c07742": {
     "model_module": "@jupyter-widgets/base",
     "model_module_version": "1.2.0",
     "model_name": "LayoutModel",
     "state": {
      "_model_module": "@jupyter-widgets/base",
      "_model_module_version": "1.2.0",
      "_model_name": "LayoutModel",
      "_view_count": null,
      "_view_module": "@jupyter-widgets/base",
      "_view_module_version": "1.2.0",
      "_view_name": "LayoutView",
      "align_content": null,
      "align_items": null,
      "align_self": null,
      "border": null,
      "bottom": null,
      "display": null,
      "flex": null,
      "flex_flow": null,
      "grid_area": null,
      "grid_auto_columns": null,
      "grid_auto_flow": null,
      "grid_auto_rows": null,
      "grid_column": null,
      "grid_gap": null,
      "grid_row": null,
      "grid_template_areas": null,
      "grid_template_columns": null,
      "grid_template_rows": null,
      "height": null,
      "justify_content": null,
      "justify_items": null,
      "left": null,
      "margin": null,
      "max_height": null,
      "max_width": null,
      "min_height": null,
      "min_width": null,
      "object_fit": null,
      "object_position": null,
      "order": null,
      "overflow": null,
      "overflow_x": null,
      "overflow_y": null,
      "padding": null,
      "right": null,
      "top": null,
      "visibility": null,
      "width": null
     }
    },
    "d8c6a316609d4ca5bfee139b93177ef5": {
     "model_module": "@jupyter-widgets/controls",
     "model_module_version": "1.5.0",
     "model_name": "FloatProgressModel",
     "state": {
      "_dom_classes": [],
      "_model_module": "@jupyter-widgets/controls",
      "_model_module_version": "1.5.0",
      "_model_name": "FloatProgressModel",
      "_view_count": null,
      "_view_module": "@jupyter-widgets/controls",
      "_view_module_version": "1.5.0",
      "_view_name": "ProgressView",
      "bar_style": "success",
      "description": "100%",
      "description_tooltip": null,
      "layout": "IPY_MODEL_5d836b94d13e459d82429606496e4d4f",
      "max": 167502836,
      "min": 0,
      "orientation": "horizontal",
      "style": "IPY_MODEL_4a4788a4fd6841788b20cfbf54a3d10b",
      "value": 167502836
     }
    }
   }
  }
 },
 "nbformat": 4,
 "nbformat_minor": 1
}